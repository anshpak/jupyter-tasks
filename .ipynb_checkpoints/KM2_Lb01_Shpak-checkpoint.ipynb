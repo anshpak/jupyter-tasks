{
 "cells": [
  {
   "cell_type": "markdown",
   "id": "6b1dff85-8bd1-45d5-ae20-ce35b8cc96f5",
   "metadata": {},
   "source": [
    "# Лабораторная работа 1\n",
    "# Траектория движения тела. Графики функций"
   ]
  },
  {
   "cell_type": "markdown",
   "id": "937152d5-1767-4a2b-bfad-fd455bb5d174",
   "metadata": {},
   "source": [
    "Шпак Андрей Валерьевич, 15.07.2022"
   ]
  },
  {
   "cell_type": "markdown",
   "id": "e3a6b3b8-2797-48f7-a11f-7921cded91dc",
   "metadata": {
    "tags": []
   },
   "source": [
    "## Задание 1.1. Движение тела под действием силы тяжести"
   ]
  },
  {
   "cell_type": "markdown",
   "id": "515433bb-b125-4403-85d4-77fb68837900",
   "metadata": {},
   "source": [
    "## Задание 1.2. Графики функций"
   ]
  },
  {
   "cell_type": "markdown",
   "id": "cbacadd4-c3e3-4670-b06d-66433cc0d21e",
   "metadata": {},
   "source": [
    "## Задание 1.3. Секущая и касательная к графику функции"
   ]
  },
  {
   "cell_type": "markdown",
   "id": "05e90fce-4f2b-45c9-9709-a84040c1d268",
   "metadata": {},
   "source": [
    "## Задание 1.4. Момент времени падения тела"
   ]
  },
  {
   "cell_type": "code",
   "execution_count": null,
   "id": "8a36b2f2-05af-46ab-9349-d0b0e60f4b34",
   "metadata": {},
   "outputs": [],
   "source": []
  }
 ],
 "metadata": {
  "kernelspec": {
   "display_name": "Python 3 (ipykernel)",
   "language": "python",
   "name": "python3"
  },
  "language_info": {
   "codemirror_mode": {
    "name": "ipython",
    "version": 3
   },
   "file_extension": ".py",
   "mimetype": "text/x-python",
   "name": "python",
   "nbconvert_exporter": "python",
   "pygments_lexer": "ipython3",
   "version": "3.10.5"
  }
 },
 "nbformat": 4,
 "nbformat_minor": 5
}
