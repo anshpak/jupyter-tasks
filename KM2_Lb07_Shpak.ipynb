{
 "cells": [
  {
   "cell_type": "markdown",
   "id": "d14e166a-0c6a-4240-8222-0acd0c4a7e72",
   "metadata": {},
   "source": [
    "# Лабораторная работа 7\n",
    "# Выравнивание списка, состоящего из итерируемых объектов. Рекурсивные функции"
   ]
  },
  {
   "cell_type": "markdown",
   "id": "b12e421f-c0e3-4f2e-919b-d8128889d3d6",
   "metadata": {},
   "source": [
    "Шпак Андрей Валерьевич, 03.08.2022"
   ]
  },
  {
   "cell_type": "markdown",
   "id": "ba4a034c-b3f3-468f-8b82-1c062f333c74",
   "metadata": {},
   "source": [
    "# Задание 7.1"
   ]
  },
  {
   "cell_type": "markdown",
   "id": "ce5ecfa6-bd09-41b9-857e-1bf1e4da8fb8",
   "metadata": {},
   "source": [
    "$\\color{red}{Напишите}$ пользовательскую функцию выравнивания списка <code>flatten_it(nested_obj, gen)</code> $\\textit{на основе рекурсии}$, которая для списка <code>nested_obj</code>, содержащего различные итерируемые объекты, возвращает либо список из всех элементов итерируемых объектов без сохранения структуры итерируемого объекта, если <code>gen=False</code>, либо функция возвращает генераторный объект, если <code>gen=True</code>, который генерирует по запросу элементы итерируемых объектов без сохранения их структуры.\n",
    "\n",
    "- Если вложенным итерируемым объектом является $\\textbf{список}$ или $\\textbf{кортеж}$, то функция <code>flatten_it</code> возвращает список, состоящий из элементов списка или кортежа без сохранения структуры вложенности для элементов. Например, <code>flatten_it([1,(2,[3]),[[4]]], gen=False)</code> возвращает <code>[1,2,3,4]</code>.\n",
    "\n",
    "- Если вложенным итерируемым объектом является $\\textbf{строка}$, то функция <code>flatten_it</code> оставляет строку без изменений, не итерируя ее по символам. Например, <code>flatten_it([\"abc\",[\"de\"]], gen=False)</code> возвращает <code>[\"abc\",\"de\"]</code>.\n",
    "\n",
    "- Если вложенным итерируемым объектом является $\\textbf{генераторный объект}$, то функция <code>flatten_it</code> сохраняет в результирующем списке сгенерированные элементы. Например, <code>flatten_it([[[range(5)]]]</code>, gen=False) возвращает <code>[0,1,2,3,4]</code>.\n",
    "\n",
    "- Если вложенным итерируемым объектом является $\\textbf{словарь}$, то функция <code>flatten_it</code> сохраняет ключи и соответствующие им объекты в качестве элементов результирующего списка. Например, <code>flatten_it([{1: {2,3}, 4: 5}], gen=False)</code> возвращает <code>[1,2,3,4,5]</code>."
   ]
  },
  {
   "cell_type": "markdown",
   "id": "2d8fa89c-01b8-4485-8773-0235465f9e48",
   "metadata": {},
   "source": [
    "## Выполнение задания 7.1"
   ]
  },
  {
   "cell_type": "markdown",
   "id": "db69c99a-eaa2-40d8-a27f-6b30e6fdd06a",
   "metadata": {},
   "source": [
    "### Этап 1. Выравнивание вложенных списков"
   ]
  },
  {
   "cell_type": "markdown",
   "id": "c4cc8176-132a-4303-ad26-c2a2064ff996",
   "metadata": {},
   "source": [
    "Предположим, что нам нужно выровнять вложенный список"
   ]
  },
  {
   "cell_type": "code",
   "execution_count": 1,
   "id": "cf074ac4-64fd-4e28-aed6-5d5d736af6a4",
   "metadata": {},
   "outputs": [],
   "source": [
    "it_list = [[1], [2, [3]], [[[[[4]]]]], 5, 6]"
   ]
  },
  {
   "cell_type": "markdown",
   "id": "d41c1a8c-c397-487b-af80-a6d6745285de",
   "metadata": {},
   "source": [
    "Напишем $\\textit{рекурсивную функцию}$ <code>flatten_list1(nested_obj)</code>, которая выравнивает вложенный список <code>nested_obj</code> и возвращает список, содержащий только элементы без сохранения структуры исходного списка.\n",
    "\n",
    "- Для проверки, является ли текущий объект <coed>obj</code> списком или нет, будем использовать функцию <code>isinstance(obj, list)</code>\n",
    "\n",
    "- Для формирования результирующего списка <code>result<code> будем использовать оператором дополненного присваивания <code>+=<code>"
   ]
  },
  {
   "cell_type": "code",
   "execution_count": 8,
   "id": "e47ac784-3d56-4131-849a-ea4362ad0a6e",
   "metadata": {},
   "outputs": [],
   "source": [
    "def flatten_list1(nested_obj):\n",
    "    result = []                            # каждый вызов функции содержит локальную переменную result\n",
    "    if isinstance(nested_obj, list): \n",
    "        for item in nested_obj:            # текущий элемент является списком\n",
    "            result += flatten_list1(item)\n",
    "    else:\n",
    "        result += [nested_obj]             # текущий элемент не является списком\n",
    "    return result "
   ]
  },
  {
   "cell_type": "markdown",
   "id": "72e8f058-67b0-43d4-80f4-47ec05c241a3",
   "metadata": {},
   "source": [
    "Протестируем функцию flatten_list1"
   ]
  },
  {
   "cell_type": "code",
   "execution_count": 9,
   "id": "f58651fc-69a7-4335-ae38-2bac86fd8dc4",
   "metadata": {},
   "outputs": [
    {
     "data": {
      "text/plain": [
       "[1, 2, 3, 4, 5, 6]"
      ]
     },
     "execution_count": 9,
     "metadata": {},
     "output_type": "execute_result"
    }
   ],
   "source": [
    "flatten_list1(it_list)"
   ]
  },
  {
   "cell_type": "markdown",
   "id": "654596ce-5b70-480d-9381-bb973b2643c1",
   "metadata": {},
   "source": [
    "На основе функции <code>flatten_list1</code> напишем генераторную функцию <code>flatten_list2(nested_obj)</code>, которая выравнивает вложенный список и возвращает генератнорый объект для элементов вложенного списка.\n",
    "\n",
    "Реализация генераторной функции <code>flatten_list2</code> будет проще реализации функции <code>flatten_list1</code>, так как не нужно объединять все объекты в единый результирующий список."
   ]
  },
  {
   "cell_type": "code",
   "execution_count": 23,
   "id": "fd93fc33-e3da-4eae-9e98-22cab8956690",
   "metadata": {},
   "outputs": [],
   "source": [
    "def flatten_list2(nested_obj):\n",
    "    if isinstance(nested_obj, list):\n",
    "        for item in nested_obj:\n",
    "            yield from flatten_list2(item)\n",
    "    else:\n",
    "        yield nested_obj\n",
    "            \n",
    "# ВОПРОС: почему тут используется yield from?"
   ]
  },
  {
   "cell_type": "markdown",
   "id": "e2673586-ca11-47c3-aae5-c58bf0a2bd3f",
   "metadata": {},
   "source": [
    "Напомним, что альтернативой вызова оператора <code>yield from iterable</code> является вызов <code>for i in iterable: yield i</code>.\n",
    "\n",
    "Протестируем функцию <code>flatten_list2</code>"
   ]
  },
  {
   "cell_type": "code",
   "execution_count": 24,
   "id": "278270b1-f65e-4e79-86d6-b66459222b64",
   "metadata": {},
   "outputs": [
    {
     "data": {
      "text/plain": [
       "[1, 2, 3, 4, 5, 6]"
      ]
     },
     "execution_count": 24,
     "metadata": {},
     "output_type": "execute_result"
    }
   ],
   "source": [
    "[x for x in flatten_list2(it_list)]"
   ]
  },
  {
   "cell_type": "markdown",
   "id": "538c0d69-afcf-407a-ad47-c245f53903c7",
   "metadata": {},
   "source": [
    "$\\color{red}{Объедините}$ две пользовательские функции <code>flatten_list1</code> и <code>flatten_list2</code> в одну пользовательскую функцию <code>flatten_list(nested_obj, gen)</code>, которая возвращает либо список из элементов вложенных списков без сохранения структуры, если <code>gen=False</code>, либо возвращает генераторный объект, если <code>gen=True</code>. По умолчанию <code>gen=False</code>.\n",
    "\n",
    "$\\color{red}{Напишите}$ строки документации для функции <code>flatten_list</code>. $\\color{red}{Напишите}$ комментарии для каждой строки кода функции <coed>flatten_list</code>.\n",
    "\n",
    "$\\color{red}{Протестируйте}$ функцию <code>flatten_list</code> для различных значений аргументов в предположении, что корректность вводимых данных гарантируется."
   ]
  },
  {
   "cell_type": "code",
   "execution_count": 25,
   "id": "6458c698-dc2f-499b-9ad7-4be44789d781",
   "metadata": {},
   "outputs": [],
   "source": [
    "# не придумал лучше варианта, чем с объчным if/else\n",
    "# может как-то можно мспользовать функцию-замыкание....\n",
    "        \n",
    "def flatten_list(nested_obj, gen=False):\n",
    "    # строки документации\n",
    "    \"\"\"возвращает либо список из элементов вложенных списков без сохранения структуры, если gen=False, \n",
    "    либо возвращает генераторный объект, если gen=True.\n",
    "    \n",
    "    Arguments:\n",
    "    \n",
    "    nested_obj: список, содержащий различные итерируемые объекты.\n",
    "    gen: флаг, указывающий возвращать списов (gen=False) или генераторный объект (gen=True). gen=False по умолчанию.\n",
    "    \n",
    "    Returns: список или генераторный объект\n",
    "    \"\"\"\n",
    "    # проверяю флаг gen: усли gen=True, то начинаю выполнять часть кода, возвращающую генераторный объект для вложенного списка\n",
    "    if gen:\n",
    "        # сравниваю: если передаваемый в функцию объект - это список, то буду проходить по каждому элементу этого списка nested_obj\n",
    "        if isinstance(nested_obj, list):\n",
    "            # собственно цикл for по списку nested_obj\n",
    "            for item in nested_obj:\n",
    "                # тут используется форма yield from + генераторное выражение, которое работает как return,\n",
    "                # но засчет возврата генераторного объекта тело функции останавливает выполнение на \n",
    "                # очередном вызове yeld from, во время итерации по списку nested_obj;\n",
    "                # конкретно почему тут используется именно yield from, а не просто yield, мне не совсем понятно\n",
    "                # я пробовал оставить просто yield, но тогда возвращается генераторный объект, содержащий генераторные объекты,\n",
    "                # а не то, что нужно\n",
    "                # так что, видимо, это связано с рекурсивным вызовом;\n",
    "                # генераторное выражение представляет собой вызов функции самой себя - рекурсию, с флагом gen = True\n",
    "                # рекурсия работает для каждого элемента nested_obj\n",
    "                yield from flatten_list(item, True)\n",
    "        # если передаваемый в функцию элемент (объект) - это не список, тогда просто его возвращаю\n",
    "        else:\n",
    "            yield nested_obj\n",
    "    # флаг gen = False, то есть нужно вернуть простой список для вложенного \n",
    "    else:\n",
    "        # переменная заранее, в которой будут храниться вложенные элементы списка nested_obj\n",
    "        result = []                            # каждый вызов функции содержит локальную переменную result\n",
    "        # проверяю, является ли текущий элемент (объект) списком\n",
    "        if isinstance(nested_obj, list): \n",
    "            # если текущий объект - список, то проожу по этому списку\n",
    "            for item in nested_obj:            # текущий элемент является списком\n",
    "                # для каждого элемента списка рекурсивно вызываю flatten_list\n",
    "                result += flatten_list(item)\n",
    "        # текущий элемент - не список, добавляю его в реультирующий список\n",
    "        else:\n",
    "            result += [nested_obj]             # текущий элемент не является списком\n",
    "        # возвращаю список с элементами, не являющимися списками\n",
    "        return result"
   ]
  },
  {
   "cell_type": "code",
   "execution_count": null,
   "id": "8e8bc783-3611-463a-a177-57d4b90bf508",
   "metadata": {},
   "outputs": [],
   "source": []
  }
 ],
 "metadata": {
  "kernelspec": {
   "display_name": "Python 3 (ipykernel)",
   "language": "python",
   "name": "python3"
  },
  "language_info": {
   "codemirror_mode": {
    "name": "ipython",
    "version": 3
   },
   "file_extension": ".py",
   "mimetype": "text/x-python",
   "name": "python",
   "nbconvert_exporter": "python",
   "pygments_lexer": "ipython3",
   "version": "3.10.5"
  }
 },
 "nbformat": 4,
 "nbformat_minor": 5
}
