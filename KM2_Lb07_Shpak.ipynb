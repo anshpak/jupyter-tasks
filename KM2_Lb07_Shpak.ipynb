{
 "cells": [
  {
   "cell_type": "markdown",
   "id": "d14e166a-0c6a-4240-8222-0acd0c4a7e72",
   "metadata": {},
   "source": [
    "# Лабораторная работа 7\n",
    "# Выравнивание списка, состоящего из итерируемых объектов. Рекурсивные функции"
   ]
  },
  {
   "cell_type": "markdown",
   "id": "b12e421f-c0e3-4f2e-919b-d8128889d3d6",
   "metadata": {},
   "source": [
    "Шпак Андрей Валерьевич, 03.08.2022"
   ]
  },
  {
   "cell_type": "markdown",
   "id": "ba4a034c-b3f3-468f-8b82-1c062f333c74",
   "metadata": {},
   "source": [
    "# Задание 7.1"
   ]
  },
  {
   "cell_type": "markdown",
   "id": "ce5ecfa6-bd09-41b9-857e-1bf1e4da8fb8",
   "metadata": {},
   "source": [
    "$\\color{red}{Напишите}$ пользовательскую функцию выравнивания списка <code>flatten_it(nested_obj, gen)</code> $\\textit{на основе рекурсии}$, которая для списка <code>nested_obj</code>, содержащего различные итерируемые объекты, возвращает либо список из всех элементов итерируемых объектов без сохранения структуры итерируемого объекта, если <code>gen=False</code>, либо функция возвращает генераторный объект, если <code>gen=True</code>, который генерирует по запросу элементы итерируемых объектов без сохранения их структуры.\n",
    "\n",
    "- Если вложенным итерируемым объектом является $\\textbf{список}$ или $\\textbf{кортеж}$, то функция <code>flatten_it</code> возвращает список, состоящий из элементов списка или кортежа без сохранения структуры вложенности для элементов. Например, <code>flatten_it([1,(2,[3]),[[4]]], gen=False)</code> возвращает <code>[1,2,3,4]</code>.\n",
    "\n",
    "- Если вложенным итерируемым объектом является $\\textbf{строка}$, то функция <code>flatten_it</code> оставляет строку без изменений, не итерируя ее по символам. Например, <code>flatten_it([\"abc\",[\"de\"]], gen=False)</code> возвращает <code>[\"abc\",\"de\"]</code>.\n",
    "\n",
    "- Если вложенным итерируемым объектом является $\\textbf{генераторный объект}$, то функция <code>flatten_it</code> сохраняет в результирующем списке сгенерированные элементы. Например, <code>flatten_it([[[range(5)]]]</code>, gen=False) возвращает <code>[0,1,2,3,4]</code>.\n",
    "\n",
    "- Если вложенным итерируемым объектом является $\\textbf{словарь}$, то функция <code>flatten_it</code> сохраняет ключи и соответствующие им объекты в качестве элементов результирующего списка. Например, <code>flatten_it([{1: {2,3}, 4: 5}], gen=False)</code> возвращает <code>[1,2,3,4,5]</code>."
   ]
  },
  {
   "cell_type": "markdown",
   "id": "2d8fa89c-01b8-4485-8773-0235465f9e48",
   "metadata": {},
   "source": [
    "## Выполнение задания 7.1"
   ]
  },
  {
   "cell_type": "markdown",
   "id": "db69c99a-eaa2-40d8-a27f-6b30e6fdd06a",
   "metadata": {},
   "source": [
    "### Этап 1. Выравнивание вложенных списков"
   ]
  },
  {
   "cell_type": "markdown",
   "id": "c4cc8176-132a-4303-ad26-c2a2064ff996",
   "metadata": {},
   "source": [
    "Предположим, что нам нужно выровнять вложенный список"
   ]
  },
  {
   "cell_type": "code",
   "execution_count": 1,
   "id": "cf074ac4-64fd-4e28-aed6-5d5d736af6a4",
   "metadata": {},
   "outputs": [],
   "source": [
    "it_list = [[1], [2, [3]], [[[[[4]]]]], 5, 6]"
   ]
  },
  {
   "cell_type": "markdown",
   "id": "d41c1a8c-c397-487b-af80-a6d6745285de",
   "metadata": {},
   "source": [
    "Напишем $\\textit{рекурсивную функцию}$ <code>flatten_list1(nested_obj)</code>, которая выравнивает вложенный список <code>nested_obj</code> и возвращает список, содержащий только элементы без сохранения структуры исходного списка.\n",
    "\n",
    "- Для проверки, является ли текущий объект <coed>obj</code> списком или нет, будем использовать функцию <code>isinstance(obj, list)</code>\n",
    "\n",
    "- Для формирования результирующего списка <code>result<code> будем использовать оператором дополненного присваивания <code>+=<code>"
   ]
  },
  {
   "cell_type": "code",
   "execution_count": 8,
   "id": "e47ac784-3d56-4131-849a-ea4362ad0a6e",
   "metadata": {},
   "outputs": [],
   "source": [
    "def flatten_list1(nested_obj):\n",
    "    result = []                            # каждый вызов функции содержит локальную переменную result\n",
    "    if isinstance(nested_obj, list): \n",
    "        for item in nested_obj:            # текущий элемент является списком\n",
    "            result += flatten_list1(item)\n",
    "    else:\n",
    "        result += [nested_obj]             # текущий элемент не является списком\n",
    "    return result "
   ]
  },
  {
   "cell_type": "markdown",
   "id": "72e8f058-67b0-43d4-80f4-47ec05c241a3",
   "metadata": {},
   "source": [
    "Протестируем функцию flatten_list1"
   ]
  },
  {
   "cell_type": "code",
   "execution_count": 9,
   "id": "f58651fc-69a7-4335-ae38-2bac86fd8dc4",
   "metadata": {},
   "outputs": [
    {
     "data": {
      "text/plain": [
       "[1, 2, 3, 4, 5, 6]"
      ]
     },
     "execution_count": 9,
     "metadata": {},
     "output_type": "execute_result"
    }
   ],
   "source": [
    "flatten_list1(it_list)"
   ]
  },
  {
   "cell_type": "markdown",
   "id": "654596ce-5b70-480d-9381-bb973b2643c1",
   "metadata": {},
   "source": [
    "На основе функции <code>flatten_list1</code> напишем генераторную функцию <code>flatten_list2(nested_obj)</code>, которая выравнивает вложенный список и возвращает генератнорый объект для элементов вложенного списка.\n",
    "\n",
    "Реализация генераторной функции <code>flatten_list2</code> будет проще реализации функции <code>flatten_list1</code>, так как не нужно объединять все объекты в единый результирующий список."
   ]
  },
  {
   "cell_type": "code",
   "execution_count": 23,
   "id": "fd93fc33-e3da-4eae-9e98-22cab8956690",
   "metadata": {},
   "outputs": [],
   "source": [
    "def flatten_list2(nested_obj):\n",
    "    if isinstance(nested_obj, list):\n",
    "        for item in nested_obj:\n",
    "            yield from flatten_list2(item)\n",
    "    else:\n",
    "        yield nested_obj\n",
    "            \n",
    "# ВОПРОС: почему тут используется yield from?"
   ]
  },
  {
   "cell_type": "markdown",
   "id": "e2673586-ca11-47c3-aae5-c58bf0a2bd3f",
   "metadata": {},
   "source": [
    "Напомним, что альтернативой вызова оператора <code>yield from iterable</code> является вызов <code>for i in iterable: yield i</code>.\n",
    "\n",
    "Протестируем функцию <code>flatten_list2</code>"
   ]
  },
  {
   "cell_type": "code",
   "execution_count": 24,
   "id": "278270b1-f65e-4e79-86d6-b66459222b64",
   "metadata": {},
   "outputs": [
    {
     "data": {
      "text/plain": [
       "[1, 2, 3, 4, 5, 6]"
      ]
     },
     "execution_count": 24,
     "metadata": {},
     "output_type": "execute_result"
    }
   ],
   "source": [
    "[x for x in flatten_list2(it_list)]"
   ]
  },
  {
   "cell_type": "markdown",
   "id": "538c0d69-afcf-407a-ad47-c245f53903c7",
   "metadata": {},
   "source": [
    "$\\color{red}{Объедините}$ две пользовательские функции <code>flatten_list1</code> и <code>flatten_list2</code> в одну пользовательскую функцию <code>flatten_list(nested_obj, gen)</code>, которая возвращает либо список из элементов вложенных списков без сохранения структуры, если <code>gen=False</code>, либо возвращает генераторный объект, если <code>gen=True</code>. По умолчанию <code>gen=False</code>.\n",
    "\n",
    "$\\color{red}{Напишите}$ строки документации для функции <code>flatten_list</code>. $\\color{red}{Напишите}$ комментарии для каждой строки кода функции <coed>flatten_list</code>.\n",
    "\n",
    "$\\color{red}{Протестируйте}$ функцию <code>flatten_list</code> для различных значений аргументов в предположении, что корректность вводимых данных гарантируется."
   ]
  },
  {
   "cell_type": "code",
   "execution_count": 75,
   "id": "6458c698-dc2f-499b-9ad7-4be44789d781",
   "metadata": {},
   "outputs": [],
   "source": [
    "# не придумал лучше варианта, чем с объчным if/else\n",
    "        \n",
    "def flatten_list(nested_obj, gen=False):\n",
    "    # строки документации\n",
    "    \"\"\"возвращает либо список из элементов вложенных списков без сохранения структуры, если gen=False, \n",
    "    либо возвращает генераторный объект, если gen=True.\n",
    "    \n",
    "    Arguments:\n",
    "    \n",
    "    nested_obj: список, содержащий различные итерируемые объекты.\n",
    "    gen: флаг, указывающий возвращать списов (gen=False) или генераторный объект (gen=True). gen=False по умолчанию.\n",
    "    \n",
    "    Returns: список или генераторный объект\n",
    "    \"\"\"\n",
    "    # проверяю флаг gen: усли gen=True, то начинаю выполнять часть кода, возвращающую генераторный объект для вложенного списка\n",
    "    if gen:\n",
    "        # сравниваю: если передаваемый в функцию объект - это список, то буду проходить по каждому элементу этого списка nested_obj\n",
    "        if isinstance(nested_obj, list):\n",
    "            # собственно цикл for по списку nested_obj\n",
    "            for item in nested_obj:\n",
    "                # тут используется форма yield from + генераторное выражение, которое работает как return,\n",
    "                # но засчет возврата генераторного объекта тело функции останавливает выполнение на \n",
    "                # очередном вызове yeld from, во время итерации по списку nested_obj;\n",
    "                # конкретно почему тут используется именно yield from, а не просто yield, мне не совсем понятно\n",
    "                # я пробовал оставить просто yield, но тогда возвращается генераторный объект, содержащий генераторные объекты,\n",
    "                # а не то, что нужно\n",
    "                # так что, видимо, это связано с рекурсивным вызовом;\n",
    "                # генераторное выражение представляет собой вызов функции самой себя - рекурсию, с флагом gen = True\n",
    "                # рекурсия работает для каждого элемента nested_obj\n",
    "                yield from flatten_list(item, True)\n",
    "        # если передаваемый в функцию элемент (объект) - это не список, тогда просто его возвращаю\n",
    "        else:\n",
    "            yield nested_obj\n",
    "    # флаг gen = False, то есть нужно вернуть простой список для вложенного \n",
    "    else:\n",
    "        # переменная заранее, в которой будут храниться вложенные элементы списка nested_obj\n",
    "        result = []                            # каждый вызов функции содержит локальную переменную result\n",
    "        # проверяю, является ли текущий элемент (объект) списком\n",
    "        if isinstance(nested_obj, list): \n",
    "            # если текущий объект - список, то проожу по этому списку\n",
    "            for item in nested_obj:            # текущий элемент является списком\n",
    "                # для каждого элемента списка рекурсивно вызываю flatten_list\n",
    "                result += flatten_list(item)\n",
    "        # текущий элемент - не список, добавляю его в реультирующий список\n",
    "        else:\n",
    "            result += [nested_obj]             # текущий элемент не является списком\n",
    "        # возвращаю список с элементами, не являющимися списками\n",
    "        return result"
   ]
  },
  {
   "cell_type": "code",
   "execution_count": 76,
   "id": "8e8bc783-3611-463a-a177-57d4b90bf508",
   "metadata": {},
   "outputs": [
    {
     "data": {
      "text/plain": [
       "[]"
      ]
     },
     "execution_count": 76,
     "metadata": {},
     "output_type": "execute_result"
    }
   ],
   "source": [
    "[x for x in flatten_list([1, 2, 3])]"
   ]
  },
  {
   "cell_type": "code",
   "execution_count": 33,
   "id": "e6c820b8-7128-4e93-9e9a-9b41c0339424",
   "metadata": {},
   "outputs": [],
   "source": [
    "# пытаясь объединить две функции в одну, столкнулся с проблемой: как?\n",
    "# с помощью самого простого варианта с if была проблема: по какой-то причине \n",
    "# не возвращался список return, вместо него возвращался генераторный объект,\n",
    "# что уже интересно, но пустой\n",
    "# я решил проверить на простом варианте\n",
    "\n",
    "def my_f(n, flag=False):\n",
    "    if flag:\n",
    "        for i in range(n):\n",
    "            yield i ** 2\n",
    "    else:\n",
    "        return n"
   ]
  },
  {
   "cell_type": "code",
   "execution_count": 39,
   "id": "d87abcc2-f0a5-4fe5-aeed-81a98dabfde2",
   "metadata": {},
   "outputs": [
    {
     "name": "stdout",
     "output_type": "stream",
     "text": [
      "[]\n",
      "[0, 1, 4, 9, 16]\n"
     ]
    }
   ],
   "source": [
    "res1 = [x for x in my_f(5)]\n",
    "res2 = [x for x in my_f(5, True)]\n",
    "print(res1)\n",
    "print(res2)\n",
    "\n",
    "# и действительно - пустой список"
   ]
  },
  {
   "cell_type": "code",
   "execution_count": 40,
   "id": "81bd5d33-de65-4dae-b9a4-583d4a6c6353",
   "metadata": {},
   "outputs": [
    {
     "data": {
      "text/plain": [
       "<generator object my_f at 0x000001B8D27B5540>"
      ]
     },
     "execution_count": 40,
     "metadata": {},
     "output_type": "execute_result"
    }
   ],
   "source": [
    "my_f(5)\n",
    "\n",
    "# но все же генераторный объект"
   ]
  },
  {
   "cell_type": "code",
   "execution_count": 69,
   "id": "749413cd-1e23-4a0c-af5d-54111cbd7db9",
   "metadata": {},
   "outputs": [],
   "source": [
    "# насколько я понял, python считает, что мой flatten_list - это генераторная функция\n",
    "# а оператор return эквивалентен возникновению исключения StopIteration\n",
    "# и, что бы он ни возвращал, это будет генераторный объект, пустой\n",
    "# ищу другие пути\n",
    "\n",
    "def my_new_f(n, flag=False):\n",
    "    \n",
    "    def my_f1(n):\n",
    "        for i in range(n):\n",
    "            yield i ** 2\n",
    "    \n",
    "    def my_f2(n):\n",
    "        return list(range(n))\n",
    "    \n",
    "    if flag:\n",
    "        return my_f1(n)\n",
    "    else:\n",
    "        return my_f2(n)"
   ]
  },
  {
   "cell_type": "code",
   "execution_count": 70,
   "id": "de3f805c-e895-4288-9b74-d9793e374edc",
   "metadata": {},
   "outputs": [
    {
     "data": {
      "text/plain": [
       "[0, 1, 4, 9, 16, 25]"
      ]
     },
     "execution_count": 70,
     "metadata": {},
     "output_type": "execute_result"
    }
   ],
   "source": [
    "[x for x in my_new_f(6, True)]"
   ]
  },
  {
   "cell_type": "code",
   "execution_count": 71,
   "id": "6d176692-1701-4c7a-9378-4a0b3644eeb4",
   "metadata": {},
   "outputs": [
    {
     "data": {
      "text/plain": [
       "[0, 1, 2, 3, 4, 5]"
      ]
     },
     "execution_count": 71,
     "metadata": {},
     "output_type": "execute_result"
    }
   ],
   "source": [
    "my_new_f(6)"
   ]
  },
  {
   "cell_type": "code",
   "execution_count": 77,
   "id": "8d91a903-47d1-4006-8e91-a7a201470fe1",
   "metadata": {},
   "outputs": [],
   "source": [
    "# переписываю функцию\n",
    "# комментарии добавлять не буду, они уже есть в варианте выше\n",
    "\n",
    "def flatten_list(nested_obj, gen=False):\n",
    "    \n",
    "    def flatten_list1(nested_obj):\n",
    "        result = []                            # каждый вызов функции содержит локальную переменную result\n",
    "        if isinstance(nested_obj, list): \n",
    "            for item in nested_obj:            # текущий элемент является списком\n",
    "                result += flatten_list1(item)\n",
    "        else:\n",
    "            result += [nested_obj]             # текущий элемент не является списком\n",
    "        return result\n",
    "    \n",
    "    def flatten_list2(nested_obj):\n",
    "        if isinstance(nested_obj, list):\n",
    "            for item in nested_obj:\n",
    "                yield from flatten_list2(item)\n",
    "        else:\n",
    "            yield nested_obj\n",
    "    \n",
    "    if gen:\n",
    "        return flatten_list2(nested_obj)\n",
    "    else:\n",
    "        return flatten_list1(nested_obj)"
   ]
  },
  {
   "cell_type": "code",
   "execution_count": 79,
   "id": "d345fdd8-569e-42d0-9897-9d0bdd42e5d1",
   "metadata": {},
   "outputs": [
    {
     "data": {
      "text/plain": [
       "[1, 2, 3]"
      ]
     },
     "execution_count": 79,
     "metadata": {},
     "output_type": "execute_result"
    }
   ],
   "source": [
    "flatten_list([1, 2, 3])"
   ]
  },
  {
   "cell_type": "code",
   "execution_count": 81,
   "id": "93c6d486-aae2-42cb-99eb-3d715fceeeeb",
   "metadata": {},
   "outputs": [
    {
     "data": {
      "text/plain": [
       "[1, 2, 3]"
      ]
     },
     "execution_count": 81,
     "metadata": {},
     "output_type": "execute_result"
    }
   ],
   "source": [
    "[x for x in flatten_list([1, 2, 3], True)]"
   ]
  },
  {
   "cell_type": "code",
   "execution_count": 89,
   "id": "0c835a52-c604-4cc6-a554-ef39e51ff9aa",
   "metadata": {},
   "outputs": [
    {
     "name": "stdout",
     "output_type": "stream",
     "text": [
      "[1, 2, 3, 4, 5, 6]\n",
      "1 2 3 4 5 6 "
     ]
    }
   ],
   "source": [
    "# все работает\n",
    "\n",
    "res1 = flatten_list(it_list)\n",
    "print(res1)\n",
    "\n",
    "res2 = flatten_list(it_list, True)\n",
    "\n",
    "for i in res2:\n",
    "    print(i, end=' ')"
   ]
  },
  {
   "cell_type": "code",
   "execution_count": 91,
   "id": "f75b6285-a13c-43cb-b593-050ca0e9b32b",
   "metadata": {},
   "outputs": [
    {
     "name": "stdout",
     "output_type": "stream",
     "text": [
      "[1]\n",
      "1 "
     ]
    }
   ],
   "source": [
    "#другие тесты\n",
    "\n",
    "res3 = flatten_list(1)\n",
    "print(res3)\n",
    "\n",
    "res4 = flatten_list(1, True)\n",
    "\n",
    "for i in res4:\n",
    "    print(i, end=' ')"
   ]
  },
  {
   "cell_type": "code",
   "execution_count": 93,
   "id": "3867f7ff-0868-49c6-81aa-0030f569e250",
   "metadata": {},
   "outputs": [
    {
     "name": "stdout",
     "output_type": "stream",
     "text": [
      "[1]\n",
      "1 "
     ]
    }
   ],
   "source": [
    "res5 = flatten_list([[[[[1]]]]])\n",
    "print(res5)\n",
    "\n",
    "res6 = flatten_list([[[[[1]]]]], True)\n",
    "\n",
    "for i in res6:\n",
    "    print(i, end=' ')"
   ]
  },
  {
   "cell_type": "code",
   "execution_count": 94,
   "id": "e157deae-3139-4677-b43c-3ab7943f551b",
   "metadata": {},
   "outputs": [
    {
     "name": "stdout",
     "output_type": "stream",
     "text": [
      "[100, 1, 3, 2]\n",
      "100 1 3 2 "
     ]
    }
   ],
   "source": [
    "res7 = flatten_list([[[[[[[[[100]]]]]]]], [[[[1]], 3], 2]])\n",
    "print(res7)\n",
    "\n",
    "res8 = flatten_list([[[[[[[[[100]]]]]]]], [[[[1]], 3], 2]], True)\n",
    "\n",
    "for i in res8:\n",
    "    print(i, end=' ')"
   ]
  },
  {
   "cell_type": "markdown",
   "id": "ad0a41b2-1d1e-42af-8ddd-38fae0184c67",
   "metadata": {},
   "source": [
    "### Этап 2. Выравнивание итерируемых объектов произвольного типа, но не словарей"
   ]
  },
  {
   "cell_type": "markdown",
   "id": "35d86e40-2f48-490b-8e56-ad580c6da314",
   "metadata": {},
   "source": [
    "Создадим различные итерируемые объекты: список, кортеж, строка, словарь, генераторный объект, файловый объект. Затем объединим их в общий список"
   ]
  },
  {
   "cell_type": "code",
   "execution_count": 28,
   "id": "f6c63e20-a46b-462b-ab8f-57e4fc70c3e5",
   "metadata": {},
   "outputs": [
    {
     "data": {
      "text/plain": [
       "[[1], [2, [3]], [[[[[4]]]]], 5, 6]"
      ]
     },
     "execution_count": 28,
     "metadata": {},
     "output_type": "execute_result"
    }
   ],
   "source": [
    "it_list"
   ]
  },
  {
   "cell_type": "code",
   "execution_count": 29,
   "id": "19dec493-f9f9-44ba-a5fd-03b348bac895",
   "metadata": {},
   "outputs": [],
   "source": [
    "it_tuple = (((7), (8)), (9), 10)"
   ]
  },
  {
   "cell_type": "code",
   "execution_count": 30,
   "id": "c1ddcf92-2f8c-413a-9a28-fa3a87c7b0af",
   "metadata": {},
   "outputs": [],
   "source": [
    "it_str = \"abcdefgh\""
   ]
  },
  {
   "cell_type": "code",
   "execution_count": 31,
   "id": "255fe6c4-1b7d-42d0-ac4e-517056d80cce",
   "metadata": {},
   "outputs": [],
   "source": [
    "it_dict = {\"key1\": 11, \"key2\": {\"key3\": 12}}"
   ]
  },
  {
   "cell_type": "code",
   "execution_count": 32,
   "id": "c44bca62-1bf5-400a-bcf7-c90c848e0f5f",
   "metadata": {},
   "outputs": [],
   "source": [
    "it_gen = ([i, i] for i in range(5))"
   ]
  },
  {
   "cell_type": "code",
   "execution_count": 33,
   "id": "e8fb95f7-e616-4395-b7ef-9ff8278cdc2c",
   "metadata": {},
   "outputs": [],
   "source": [
    "it_file = open(\"flatten_file.txt\")"
   ]
  },
  {
   "cell_type": "markdown",
   "id": "0fe69997-2c24-472c-b3b5-307d3c603188",
   "metadata": {},
   "source": [
    "Объединим все итерируемые объекты в список"
   ]
  },
  {
   "cell_type": "code",
   "execution_count": 34,
   "id": "61785aff-3cbe-4d1d-9384-05c6fcb591e7",
   "metadata": {},
   "outputs": [],
   "source": [
    "it = [it_list, it_tuple, it_str, it_dict, it_gen, it_file]"
   ]
  },
  {
   "cell_type": "markdown",
   "id": "2d456fe4-0a1e-4cf2-bbea-567cb9cea194",
   "metadata": {},
   "source": [
    "Все итерируемые объекты имеют метод <code>__ iter __</code> для создания объекта итератора"
   ]
  },
  {
   "cell_type": "code",
   "execution_count": 24,
   "id": "9086a258-eb62-48b5-94bc-b275d94238a9",
   "metadata": {},
   "outputs": [
    {
     "data": {
      "text/plain": [
       "[True, True, True, True, True, True]"
      ]
     },
     "execution_count": 24,
     "metadata": {},
     "output_type": "execute_result"
    }
   ],
   "source": [
    "['__iter__' in dir(x) for x in it]"
   ]
  },
  {
   "cell_type": "code",
   "execution_count": 25,
   "id": "467874ad-743e-41e5-8230-c5badaabc845",
   "metadata": {},
   "outputs": [
    {
     "data": {
      "text/plain": [
       "[True, True, True, True, True, True]"
      ]
     },
     "execution_count": 25,
     "metadata": {},
     "output_type": "execute_result"
    }
   ],
   "source": [
    "[hasattr(x, '__iter__') for x in it]"
   ]
  },
  {
   "cell_type": "markdown",
   "id": "d93ad77b-b28f-46f1-b8fb-52b690da1c3e",
   "metadata": {},
   "source": [
    "На основе функции <code>flatten_list1(nested_obj)</code> напишем пользовательскую функцию <code>flatten_it1(nested_obj)</code> одного аргумента, которая выравнивает вложенную структуру из различных итерируемых объектов и возвращает список, содержащий только элементы без сохранения структуры.\n",
    "\n",
    "Для этого вместо проверки <code>isinstance(nested_obj, list)</code> будем использовать проверку на итерируемость объекта <code>hasattr(nested_obj, '__ iter __')</code>.\n",
    "\n",
    "При этом дополнительно учтем, что если итерируемым объектом является\n",
    "\n",
    "- строка, то ее мы не итерируем;\n",
    "- словарь, то для его итерирования нужно выполнить дополнительные преобразования, которые будут определены позже."
   ]
  },
  {
   "cell_type": "code",
   "execution_count": 13,
   "id": "7ad39399-59b5-49ab-831e-2f7c5580e5a0",
   "metadata": {},
   "outputs": [],
   "source": [
    "def flatten_it1(nested_obj):\n",
    "    result = []                                 \n",
    "    if hasattr(nested_obj, '__iter__'):         # проверка на итерируемость текущего элемента\n",
    "        if isinstance(nested_obj, str):         \n",
    "            result += [nested_obj]              # итерируемый объект является строкой\n",
    "        elif isinstance(nested_obj, dict):      \n",
    "            ...                                 # итерируемый объект является словарем\n",
    "        else:\n",
    "            for item in nested_obj:\n",
    "                result += flatten_it1(item)\n",
    "    else:                                      \n",
    "        result += [nested_obj]                  # текущий элемент не является итерируемым\n",
    "    return result"
   ]
  },
  {
   "cell_type": "code",
   "execution_count": 14,
   "id": "65437257-ae78-467e-aa49-4f7009cfd248",
   "metadata": {},
   "outputs": [
    {
     "name": "stdout",
     "output_type": "stream",
     "text": [
      "[1, 2, 3, 4, 5, 6, 7, 8, 9, 10, 'abcdefgh', 0, 0, 1, 1, 2, 2, 3, 3, 4, 4, '12\\n', '34\\n', '56\\n', '78\\n', '\\n']\n"
     ]
    }
   ],
   "source": [
    "print(flatten_it1(it))"
   ]
  },
  {
   "cell_type": "markdown",
   "id": "65442d5a-b54d-4e22-8fde-030cf2d5ae7d",
   "metadata": {},
   "source": [
    "На основе функций <code>flatten_it1</code> и <code>flatten_list2</code> $\\color{red}{напишите}$ пользовательскую функцию <code>flatten_it2(nested_obj)</code>, которая выравнивает вложенную структуру из различных итерируемых объектов и возвращает генератнорый объект элементов без сохранения структуры. Обработку словаря пока выполнять не нужно.\n",
    "\n",
    "$\\color{red}{Объедините}$ две пользовательские функции <code>flatten_it1</code> и <code>flatten_it2</code> в одну функцию <code>flatten_it(nested_obj, gen)</code>, которая возвращает либо список из элементов вложенных объектов без сохранения структуры, если <code>gen=False</code>, либо возвращает генераторный объект, если <code>gen=True</code>. По умолчанию <code>gen=False</code>.\n",
    "\n",
    "$\\color{red}{Протестируйте}$ функцию <code>flatten_it<> для различных значений аргументов в предположении, что корректность вводимых данных гарантируется."
   ]
  },
  {
   "cell_type": "code",
   "execution_count": 15,
   "id": "928fcf0a-cfc6-4464-8fbe-d3e6f1ebb03d",
   "metadata": {},
   "outputs": [],
   "source": [
    "def flatten_it2(nested_obj):\n",
    "    if hasattr(nested_obj, '__iter__'):\n",
    "        if isinstance(nested_obj, str):\n",
    "            yield nested_obj\n",
    "        elif isinstance(nested_obj, dict):\n",
    "            ...\n",
    "        else:\n",
    "            for item in nested_obj:\n",
    "                yield from flatten_it2(item)\n",
    "    else:\n",
    "        yield nested_obj"
   ]
  },
  {
   "cell_type": "code",
   "execution_count": 35,
   "id": "2de0a776-e50c-4b9a-90d4-7c2bd8868a0c",
   "metadata": {},
   "outputs": [
    {
     "data": {
      "text/plain": [
       "[1,\n",
       " 2,\n",
       " 3,\n",
       " 4,\n",
       " 5,\n",
       " 6,\n",
       " 7,\n",
       " 8,\n",
       " 9,\n",
       " 10,\n",
       " 'abcdefgh',\n",
       " 0,\n",
       " 0,\n",
       " 1,\n",
       " 1,\n",
       " 2,\n",
       " 2,\n",
       " 3,\n",
       " 3,\n",
       " 4,\n",
       " 4,\n",
       " '12\\n',\n",
       " '34\\n',\n",
       " '56\\n',\n",
       " '78\\n',\n",
       " '\\n']"
      ]
     },
     "execution_count": 35,
     "metadata": {},
     "output_type": "execute_result"
    }
   ],
   "source": [
    "[i for i in flatten_it2(it)]"
   ]
  },
  {
   "cell_type": "code",
   "execution_count": null,
   "id": "f39a12ce-a3b4-4464-8d6d-ce971f95b1f0",
   "metadata": {},
   "outputs": [],
   "source": []
  }
 ],
 "metadata": {
  "kernelspec": {
   "display_name": "Python 3 (ipykernel)",
   "language": "python",
   "name": "python3"
  },
  "language_info": {
   "codemirror_mode": {
    "name": "ipython",
    "version": 3
   },
   "file_extension": ".py",
   "mimetype": "text/x-python",
   "name": "python",
   "nbconvert_exporter": "python",
   "pygments_lexer": "ipython3",
   "version": "3.10.5"
  }
 },
 "nbformat": 4,
 "nbformat_minor": 5
}
