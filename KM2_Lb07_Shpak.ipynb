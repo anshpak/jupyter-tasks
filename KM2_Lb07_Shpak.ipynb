{
 "cells": [
  {
   "cell_type": "markdown",
   "id": "d14e166a-0c6a-4240-8222-0acd0c4a7e72",
   "metadata": {},
   "source": [
    "# Лабораторная работа 7\n",
    "# Выравнивание списка, состоящего из итерируемых объектов. Рекурсивные функции"
   ]
  },
  {
   "cell_type": "markdown",
   "id": "b12e421f-c0e3-4f2e-919b-d8128889d3d6",
   "metadata": {},
   "source": [
    "Шпак Андрей Валерьевич, 03.08.2022"
   ]
  },
  {
   "cell_type": "markdown",
   "id": "ba4a034c-b3f3-468f-8b82-1c062f333c74",
   "metadata": {},
   "source": [
    "# Задание 7.1"
   ]
  },
  {
   "cell_type": "markdown",
   "id": "ce5ecfa6-bd09-41b9-857e-1bf1e4da8fb8",
   "metadata": {},
   "source": [
    "$\\color{red}{Напишите}$ пользовательскую функцию выравнивания списка <code>flatten_it(nested_obj, gen)</code> $\\textit{на основе рекурсии}$, которая для списка <code>nested_obj</code>, содержащего различные итерируемые объекты, возвращает либо список из всех элементов итерируемых объектов без сохранения структуры итерируемого объекта, если <code>gen=False</code>, либо функция возвращает генераторный объект, если <code>gen=True</code>, который генерирует по запросу элементы итерируемых объектов без сохранения их структуры.\n",
    "\n",
    "- Если вложенным итерируемым объектом является $\\textbf{список}$ или $\\textbf{кортеж}$, то функция <code>flatten_it</code> возвращает список, состоящий из элементов списка или кортежа без сохранения структуры вложенности для элементов. Например, <code>flatten_it([1,(2,[3]),[[4]]], gen=False)</code> возвращает <code>[1,2,3,4]</code>.\n",
    "\n",
    "- Если вложенным итерируемым объектом является $\\textbf{строка}$, то функция <code>flatten_it</code> оставляет строку без изменений, не итерируя ее по символам. Например, <code>flatten_it([\"abc\",[\"de\"]], gen=False)</code> возвращает <code>[\"abc\",\"de\"]</code>.\n",
    "\n",
    "- Если вложенным итерируемым объектом является $\\textbf{генераторный объект}$, то функция <code>flatten_it</code> сохраняет в результирующем списке сгенерированные элементы. Например, <code>flatten_it([[[range(5)]]]</code>, gen=False) возвращает <code>[0,1,2,3,4]</code>.\n",
    "\n",
    "- Если вложенным итерируемым объектом является $\\textbf{словарь}$, то функция <code>flatten_it</code> сохраняет ключи и соответствующие им объекты в качестве элементов результирующего списка. Например, <code>flatten_it([{1: {2,3}, 4: 5}], gen=False)</code> возвращает <code>[1,2,3,4,5]</code>."
   ]
  },
  {
   "cell_type": "markdown",
   "id": "2d8fa89c-01b8-4485-8773-0235465f9e48",
   "metadata": {},
   "source": [
    "## Выполнение задания 7.1"
   ]
  },
  {
   "cell_type": "markdown",
   "id": "db69c99a-eaa2-40d8-a27f-6b30e6fdd06a",
   "metadata": {},
   "source": [
    "### Этап 1. Выравнивание вложенных списков"
   ]
  },
  {
   "cell_type": "markdown",
   "id": "c4cc8176-132a-4303-ad26-c2a2064ff996",
   "metadata": {},
   "source": [
    "Предположим, что нам нужно выровнять вложенный список"
   ]
  },
  {
   "cell_type": "code",
   "execution_count": 1,
   "id": "cf074ac4-64fd-4e28-aed6-5d5d736af6a4",
   "metadata": {},
   "outputs": [],
   "source": [
    "it_list = [[1], [2, [3]], [[[[[4]]]]], 5, 6]"
   ]
  },
  {
   "cell_type": "code",
   "execution_count": null,
   "id": "c4f36df1-6b2d-4020-8ffc-3bc918b8c559",
   "metadata": {},
   "outputs": [],
   "source": []
  }
 ],
 "metadata": {
  "kernelspec": {
   "display_name": "Python 3 (ipykernel)",
   "language": "python",
   "name": "python3"
  },
  "language_info": {
   "codemirror_mode": {
    "name": "ipython",
    "version": 3
   },
   "file_extension": ".py",
   "mimetype": "text/x-python",
   "name": "python",
   "nbconvert_exporter": "python",
   "pygments_lexer": "ipython3",
   "version": "3.10.5"
  }
 },
 "nbformat": 4,
 "nbformat_minor": 5
}
