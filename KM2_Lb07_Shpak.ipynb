{
 "cells": [
  {
   "cell_type": "markdown",
   "id": "d14e166a-0c6a-4240-8222-0acd0c4a7e72",
   "metadata": {},
   "source": [
    "# Лабораторная работа 7\n",
    "# Выравнивание списка, состоящего из итерируемых объектов. Рекурсивные функции"
   ]
  },
  {
   "cell_type": "markdown",
   "id": "b12e421f-c0e3-4f2e-919b-d8128889d3d6",
   "metadata": {},
   "source": [
    "Шпак Андрей Валерьевич, 03.08.2022"
   ]
  },
  {
   "cell_type": "code",
   "execution_count": null,
   "id": "1c349ee6-e8ef-4004-a3f7-082bb6fbc338",
   "metadata": {},
   "outputs": [],
   "source": []
  }
 ],
 "metadata": {
  "kernelspec": {
   "display_name": "Python 3 (ipykernel)",
   "language": "python",
   "name": "python3"
  },
  "language_info": {
   "codemirror_mode": {
    "name": "ipython",
    "version": 3
   },
   "file_extension": ".py",
   "mimetype": "text/x-python",
   "name": "python",
   "nbconvert_exporter": "python",
   "pygments_lexer": "ipython3",
   "version": "3.10.5"
  }
 },
 "nbformat": 4,
 "nbformat_minor": 5
}
