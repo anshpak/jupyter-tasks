{
 "cells": [
  {
   "cell_type": "markdown",
   "id": "01cd194e-62fd-4d90-941c-dac8e09da4d3",
   "metadata": {},
   "source": [
    "# Лабораторная работа 9\n",
    "# Обход бинарного дерева поиска. Поиск максимального и минимального значений"
   ]
  },
  {
   "cell_type": "markdown",
   "id": "34b50608-a770-422e-8b96-5e0bdf7a321e",
   "metadata": {},
   "source": [
    "Шпак Андрей Валерьевич, 08.08.2022"
   ]
  },
  {
   "cell_type": "markdown",
   "id": "419b70c5-e7f3-4e33-a02d-0ea7699ec79a",
   "metadata": {},
   "source": [
    "## Задание 9.1 (Центрированный обход бинарного дерева поиска)"
   ]
  },
  {
   "cell_type": "markdown",
   "id": "4764f346-1816-45c9-a180-7a52e16e890d",
   "metadata": {},
   "source": [
    "$\\color{red}{Доопределите}$ $\\color{red}{или}$ $\\color{red}{переопределите}$ классы <code>BinaryTree</code>, <code>BinaryNode</code>, <code>EmptyNode</code> из Лабораторной работы 8 за счет определения нового метода <code>lcr(self)</code>, реализующего центрированный обход бинарного дерева поиска. Рекомендации по выполнению представлены в лекции к теме $\\textit{Бинарное дерево поиска. Реализация на основе ООП}$.\n",
    "\n",
    "Результатом вызова метода <code>lcr</code> для экземпляра класса <code>BinaryTree</code> должен быть список значений вершин дерева, отсортированных по возрастанию.\n",
    "\n",
    "$\\color{red}{Создайте}$ список source_data из $10^3$ случайных чисел, равномерно распределенных на отрезке $\\left[ 0, 100 \\right]$. $\\color{red}{Постройте}$ бинарное дерево поиска по списку случайных чисел и $\\color{red}{Выполнитк}$ центрированный обход дерева с помощью метода <code>lcr</code>.\n",
    "\n",
    "$\\color{red}{Постройте}$ график по точкам, ординаты которых заданы списком <code>source_data</code>. В этой же графической области $\\color{red}{изобразите}$ график по точкам, одинаты которых заданы списком, результатом центрированного обхода бинарного дерева поиска."
   ]
  },
  {
   "cell_type": "markdown",
   "id": "d05832a0-9bde-423b-bd65-c7c767616809",
   "metadata": {},
   "source": [
    "### Выполнение Задания 9.1"
   ]
  },
  {
   "cell_type": "code",
   "execution_count": 1,
   "id": "cc1b9412-5655-4439-9881-b80e1e627c73",
   "metadata": {},
   "outputs": [],
   "source": [
    "# метод lcr класса BinaryTree вызывает метод lcr для корневой вершины\n",
    "\n",
    "class BinaryTree:\n",
    "    def __init__(self):\n",
    "        self.root = EmptyNode()\n",
    "    \n",
    "    def __repr__(self):\n",
    "        return repr(self.root)\n",
    "    \n",
    "    def insert(self, value):\n",
    "        self.root = self.root.insert(value)\n",
    "        \n",
    "    def __contains__(self, value):\n",
    "        return value in self.root\n",
    "    \n",
    "    def __len__(self):\n",
    "        return len(self.root)\n",
    "    \n",
    "    def lcr(self):\n",
    "        return self.root.lcr()"
   ]
  },
  {
   "cell_type": "code",
   "execution_count": 2,
   "id": "36cb18b7-f85d-408e-8916-5ef18f200fe4",
   "metadata": {},
   "outputs": [],
   "source": [
    "# метод lcr класса EmptyNode возвращает пустой список\n",
    "\n",
    "class EmptyNode:\n",
    "    def __repr__(self):\n",
    "        return \"*\"\n",
    "    \n",
    "    def insert(self, value):\n",
    "        return BinaryNode(self, value, self)\n",
    "    \n",
    "    def __contains__(self, value):\n",
    "        return False\n",
    "    \n",
    "    def __len__(self):\n",
    "        return 0\n",
    "    \n",
    "    def lcr(self):\n",
    "        return []"
   ]
  },
  {
   "cell_type": "code",
   "execution_count": 3,
   "id": "6e3f2eae-3b9e-4345-88de-ae00a7edcff6",
   "metadata": {},
   "outputs": [],
   "source": [
    "class BinaryNode():\n",
    "    \n",
    "    count = 0\n",
    "    \n",
    "    def __init__(self, left, value, right): \n",
    "        self.left = left\n",
    "        self.value = value\n",
    "        self.right = right\n",
    "        BinaryNode.count += 1\n",
    "        \n",
    "    def __repr__(self): \n",
    "        return \"(%s, %s, %s)\" % (repr(self.left), repr(self.value), repr(self.right))\n",
    "    \n",
    "    def insert(self, value):\n",
    "        if value < self.value:\n",
    "            self.left = self.left.insert(value)\n",
    "        else:\n",
    "            self.right = self.right.insert(value)\n",
    "        return self\n",
    "    \n",
    "    def __contains__(self, value):\n",
    "        if value == self.value:\n",
    "            return True\n",
    "        elif value < self.value:\n",
    "            return value in self.left\n",
    "        else:\n",
    "            return value in self.right\n",
    "        \n",
    "    def __len__(self):\n",
    "        return self.count\n",
    "    \n",
    "    def lcr(self):\n",
    "        result = []\n",
    "        result += self.left.lcr() + [self.value]\n",
    "        result += self.right.lcr()\n",
    "        return result"
   ]
  },
  {
   "cell_type": "code",
   "execution_count": 4,
   "id": "5f6480e5-c4b0-4912-8ced-299a4ea6f278",
   "metadata": {},
   "outputs": [],
   "source": [
    "import matplotlib.pyplot as plt"
   ]
  },
  {
   "cell_type": "code",
   "execution_count": 5,
   "id": "ab615456-af60-4a41-bd0d-c232126acdb6",
   "metadata": {},
   "outputs": [],
   "source": [
    "import random as rnd"
   ]
  },
  {
   "cell_type": "markdown",
   "id": "146cd492-3510-442a-984d-ea77e1830f04",
   "metadata": {},
   "source": [
    "Cоздадим список из $10^3$ случайных чисел, равномерно распределенных на отрезке $\\left[ 0, 100 \\right]$ с помощью функции <code>uniform</code> из модуля <code>random</code>"
   ]
  },
  {
   "cell_type": "code",
   "execution_count": 6,
   "id": "be874221-ad58-4ac9-8be3-120cb336bda8",
   "metadata": {},
   "outputs": [],
   "source": [
    "source_data = [rnd.uniform(0, 100) for _ in range(10 ** 3)]"
   ]
  },
  {
   "cell_type": "markdown",
   "id": "e4459611-9206-467b-9953-25793cf5f600",
   "metadata": {},
   "source": [
    "Построим бинарное дерево поиска на основе списка <code>source_data</code>"
   ]
  },
  {
   "cell_type": "code",
   "execution_count": 33,
   "id": "0e251631-f273-4110-b81f-dacf1c0ebe9d",
   "metadata": {},
   "outputs": [],
   "source": [
    "tree = BinaryTree()\n",
    "for i in source_data:\n",
    "    tree.insert(i)"
   ]
  },
  {
   "cell_type": "markdown",
   "id": "6ee0cae6-0692-46d9-bfc8-3da66484793a",
   "metadata": {},
   "source": [
    "Вызовем метод <code>lcr</code> для экземпляра <code>tree</code>"
   ]
  },
  {
   "cell_type": "code",
   "execution_count": 8,
   "id": "fceed51b-7fe2-44ea-9815-d134942a1700",
   "metadata": {},
   "outputs": [],
   "source": [
    "sorted_data = tree.lcr()"
   ]
  },
  {
   "cell_type": "code",
   "execution_count": 10,
   "id": "f0bfdc55-4409-4b47-a79f-5ce9679da000",
   "metadata": {},
   "outputs": [],
   "source": [
    "sorted_data;\n",
    "\n",
    "# ура, получилось с первого раза"
   ]
  },
  {
   "cell_type": "markdown",
   "id": "a29a8d56-ea86-48ba-a565-7b4d1fca7de6",
   "metadata": {},
   "source": [
    "Для проверки корректности обхода изобразим в одной графической области значения исходного списка и результирующего списка после обхода дерева"
   ]
  },
  {
   "cell_type": "code",
   "execution_count": 20,
   "id": "d8968324-84c8-43e7-a235-051b34536610",
   "metadata": {},
   "outputs": [
    {
     "data": {
      "text/plain": [
       "<matplotlib.legend.Legend at 0x285f8c5acb0>"
      ]
     },
     "execution_count": 20,
     "metadata": {},
     "output_type": "execute_result"
    },
    {
     "data": {
      "image/png": "[encoded data removed]",
      "text/plain": [
       "<Figure size 432x288 with 1 Axes>"
      ]
     },
     "metadata": {
      "needs_background": "light"
     },
     "output_type": "display_data"
    }
   ],
   "source": [
    "plt.plot(source_data, 'r.', label='Initial data')\n",
    "plt.plot(sorted_data, color='blue', label='Sorted data')\n",
    "plt.title('Sequences of numbers')\n",
    "plt.legend()"
   ]
  },
  {
   "cell_type": "markdown",
   "id": "9bcec6d4-70f2-4032-b868-4293a809841c",
   "metadata": {},
   "source": [
    "## Задание 9.2 (Нахождение минимального и максимального значения)"
   ]
  },
  {
   "cell_type": "markdown",
   "id": "3d60158d-a662-4cc3-b18d-3a9c9645a0c3",
   "metadata": {},
   "source": [
    "$\\color{red}{Доопределите}$ $\\color{red}{или}$ $\\color{red}{переопределите}$ классы <code>BinaryTree</code>, <code>BinaryNode</code>, <code>EmptyNode</code> за счет определения метода <code>min(self)</code> и <code>max(self)</code> для нахождения минимального и максимального значений в дереве, соответственно. Рекомендации по выполнению представлены в лекции к теме $\\textit{Бинарное дерево поиска. Реализация на основе ООП}$.\n",
    "\n",
    "$\\color{red}{Протестируйте}$ корректность выполнения методов <code>min</code> и <code>max</code> для ранее созданного дерева <code>tree</code>."
   ]
  },
  {
   "cell_type": "code",
   "execution_count": 22,
   "id": "5872e81f-8740-4940-89a8-6505d5bffde0",
   "metadata": {},
   "outputs": [],
   "source": [
    "# ВОПРОС: в чем разница между доопределить и переопределить"
   ]
  },
  {
   "cell_type": "markdown",
   "id": "8bf01801-0e3b-4a5c-8dc2-0bf806211289",
   "metadata": {},
   "source": [
    "## Задание 9.3 (Создание модуля)"
   ]
  },
  {
   "cell_type": "markdown",
   "id": "1a748602-dd26-46b0-bae0-2f64ca3444be",
   "metadata": {},
   "source": [
    "$\\color{red}{Напишите}$ модуль <code>binaryTree.py</code> на основе созданных классов.\n",
    "\n",
    "$\\color{red}{Напишите}$ строки документации для классов <code>BinaryTree</code>, <code>BinaryNode</code>, <code>EmptyNode</code> и для каждого метода классов.\n",
    "\n",
    "$\\color{red}{Протестируйте}$ работу созданного модуля на примерах."
   ]
  },
  {
   "cell_type": "code",
   "execution_count": 29,
   "id": "c0a89296-2d1c-47ea-ba64-2b0f419eeadf",
   "metadata": {},
   "outputs": [],
   "source": [
    "# метод min класса BinaryTree вызывает метод min для корневой вершины\n",
    "\n",
    "class BinaryTree:\n",
    "    def __init__(self):\n",
    "        self.root = EmptyNode()\n",
    "    \n",
    "    def __repr__(self):\n",
    "        return repr(self.root)\n",
    "    \n",
    "    def insert(self, value):\n",
    "        self.root = self.root.insert(value)\n",
    "        \n",
    "    def __contains__(self, value):\n",
    "        return value in self.root\n",
    "    \n",
    "    def __len__(self):\n",
    "        return len(self.root)\n",
    "    \n",
    "    def lcr(self):\n",
    "        return self.root.lcr()\n",
    "    \n",
    "    def min(self):\n",
    "        return self.root.min()"
   ]
  },
  {
   "cell_type": "code",
   "execution_count": 30,
   "id": "53053f4a-95d9-4f8e-8a7c-ed37cbca8c99",
   "metadata": {},
   "outputs": [],
   "source": [
    "# метод min класса EmptyNode возвращает None\n",
    "\n",
    "class EmptyNode:\n",
    "    def __repr__(self):\n",
    "        return \"*\"\n",
    "    \n",
    "    def insert(self, value):\n",
    "        return BinaryNode(self, value, self)\n",
    "    \n",
    "    def __contains__(self, value):\n",
    "        return False\n",
    "    \n",
    "    def __len__(self):\n",
    "        return 0\n",
    "    \n",
    "    def lcr(self):\n",
    "        return []\n",
    "    \n",
    "    def min(self):\n",
    "        return None"
   ]
  },
  {
   "cell_type": "code",
   "execution_count": 31,
   "id": "4777f820-f3e4-448e-a6f5-e003b1b02111",
   "metadata": {},
   "outputs": [],
   "source": [
    "# метод min класса BinaryNode анализирует только левое поддерево для экземпляра класса BinaryNode\n",
    "\n",
    "class BinaryNode():\n",
    "    \n",
    "    count = 0\n",
    "    \n",
    "    def __init__(self, left, value, right): \n",
    "        self.left = left\n",
    "        self.value = value\n",
    "        self.right = right\n",
    "        BinaryNode.count += 1\n",
    "        \n",
    "    def __repr__(self): \n",
    "        return \"(%s, %s, %s)\" % (repr(self.left), repr(self.value), repr(self.right))\n",
    "    \n",
    "    def insert(self, value):\n",
    "        if value < self.value:\n",
    "            self.left = self.left.insert(value)\n",
    "        else:\n",
    "            self.right = self.right.insert(value)\n",
    "        return self\n",
    "    \n",
    "    def __contains__(self, value):\n",
    "        if value == self.value:\n",
    "            return True\n",
    "        elif value < self.value:\n",
    "            return value in self.left\n",
    "        else:\n",
    "            return value in self.right\n",
    "        \n",
    "    def __len__(self):\n",
    "        return self.count\n",
    "    \n",
    "    def lcr(self):\n",
    "        result = []\n",
    "        result += self.left.lcr() + [self.value]\n",
    "        result += self.right.lcr()\n",
    "        return result\n",
    "    \n",
    "    def min(self):\n",
    "        if isinstance(self.left, EmptyNode):\n",
    "            return self.value\n",
    "        else:\n",
    "            return self.left.min()"
   ]
  },
  {
   "cell_type": "code",
   "execution_count": 35,
   "id": "40fbea4a-fcf3-471e-b1e5-5ec3da6ebdb6",
   "metadata": {},
   "outputs": [
    {
     "data": {
      "text/plain": [
       "(0.1434064409822744, True)"
      ]
     },
     "execution_count": 35,
     "metadata": {},
     "output_type": "execute_result"
    }
   ],
   "source": [
    "tree.min(), tree.min() == sorted_data[0]"
   ]
  },
  {
   "cell_type": "code",
   "execution_count": null,
   "id": "2d239f82-ca64-4d41-861c-277f1d324aa1",
   "metadata": {},
   "outputs": [],
   "source": []
  }
 ],
 "metadata": {
  "kernelspec": {
   "display_name": "Python 3 (ipykernel)",
   "language": "python",
   "name": "python3"
  },
  "language_info": {
   "codemirror_mode": {
    "name": "ipython",
    "version": 3
   },
   "file_extension": ".py",
   "mimetype": "text/x-python",
   "name": "python",
   "nbconvert_exporter": "python",
   "pygments_lexer": "ipython3",
   "version": "3.10.5"
  }
 },
 "nbformat": 4,
 "nbformat_minor": 5
}
