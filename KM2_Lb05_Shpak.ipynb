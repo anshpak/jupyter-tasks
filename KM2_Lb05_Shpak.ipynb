{
 "cells": [
  {
   "cell_type": "markdown",
   "id": "278ef371-1d7e-4fe9-a8c1-f8e4d1429216",
   "metadata": {},
   "source": [
    "# Лабораторная работа 5\n",
    "# Анимация качения треугольника Рело по квадрату. Векторизация вычислений в numpy"
   ]
  },
  {
   "cell_type": "markdown",
   "id": "7e57ef91-fb1f-4dfd-a624-9f06eb9afb87",
   "metadata": {},
   "source": [
    "Шпак Андрей Валерьевич, 29.07.2022"
   ]
  },
  {
   "cell_type": "markdown",
   "id": "38133ef4-4a46-4a55-8f1d-1d5b1fe79a38",
   "metadata": {},
   "source": [
    "## Определения и свойства"
   ]
  },
  {
   "cell_type": "markdown",
   "id": "12d5c095-a8bb-4ad5-a609-12364918ae89",
   "metadata": {},
   "source": [
    "$\\textbf{Треугольник Рело}$ представляет собой область пересечения трех кругов радиуса $r$ с центрами в вершинах равностороннего треугольника с длиной стороны $r$.\n",
    "\n",
    "Так как треугольник Рело является фигурой постоянной ширины, то его можно вписать в квадрат с длиной стороны, равной $r$ таким образом, что треугольник Рело будет касаться всех сторон квадрата. Это связано с тем, что противоположные стороны квадрата, расстояние между которыми равно $r$, располагаются на опорных прямых к треугольнику Рело.\n",
    "\n",
    "$\\textit{Поступательное движение}$ &mdash; это движение, при котором траектории движения всех точек тела одинаковы. $\\textit{Вращательное движение}$ &mdash; это движение, при котором траектории движения точек тела представляют собой окружности (или дуги окружностей) с центрами, лежащими в одной точке.\n",
    "\n",
    "$\\textbf{Качение треугольника Рело по квадрату}$ &mdash; это вращательное движение треугольника относительно своего центра с дополнительным поступательным движением треугольника по траектории, близкой к окружности, чтобы обеспечить касание всех сторон квадрата при движении треугольника Рело."
   ]
  },
  {
   "cell_type": "markdown",
   "id": "96d296e2-6fdb-452d-a3c8-8ef24a7c6c45",
   "metadata": {},
   "source": [
    "# Задание 5.1"
   ]
  },
  {
   "cell_type": "markdown",
   "id": "1c83b4ef-c6e7-49fe-9541-25b9393d0607",
   "metadata": {},
   "source": [
    "$\\color{red}{Создайте}$  анимацию качения треугольника Рело с шириной $r$ по квадрату с длиной стороны, равной $r$, против часовой стрелки.\n",
    "\n",
    "Центр квадрата с длиной стороны $r$ располагаем в начале координат.\n",
    "\n",
    "Качение треугольника Рело происходит за счет его одновременного поступательного и вращательного движения:\n",
    "\n",
    "1. Полагаем, что при качении по квадрату центр треугольника Рело совершает поступательное движение по окружности с центром в начале координат и заданным радиусом, который необходимо найти. Движение центра треугольника Рело по окружности осуществляется против часовой стрелки.\n",
    "2. Треугольник Рело совершает также вращательное движение ПО часовой стрелке. Поступательное и вращательные движения согласованы таким образом, что полный оборот центра треугольника Рело на угол $2 \\pi$ соответствует вращению треугольника Рело на угол $2 \\pi / 3$"
   ]
  },
  {
   "cell_type": "markdown",
   "id": "1082248d-6453-450f-81bf-4ff19facef8c",
   "metadata": {},
   "source": [
    "## Реализация задания 5.1"
   ]
  },
  {
   "cell_type": "code",
   "execution_count": 56,
   "id": "9b0e7342-9cdb-4d20-80fc-ec0562ddd798",
   "metadata": {},
   "outputs": [],
   "source": [
    "import math\n",
    "import numpy as np\n",
    "import matplotlib.pyplot as plt\n",
    "import relo_polygon\n",
    "\n",
    "# для JupyterLab предварительно нужно установить пакет ipympl\n",
    "# import matplotlib.animation as anim\n",
    "# %matplotlib widget"
   ]
  },
  {
   "cell_type": "markdown",
   "id": "a05642da-5025-46fc-a51f-7d1158355a32",
   "metadata": {},
   "source": [
    "### Этап 1. Изображение начального положения треугольника Рело и квадрата в одной графической области"
   ]
  },
  {
   "cell_type": "markdown",
   "id": "a24424a5-8a79-4dcc-8593-caff669a9baa",
   "metadata": {},
   "source": [
    "Определим исходные данные для построения треугольника Рело.\n",
    "\n",
    "Для построения матрицы <code>relo_matrix</code> координат точек-границ треугольника Рело используем функцию <code>regular_polygon_Relo(n, center, r, N)</code> из модуля <code>relo_polygon</code>, созданного в Лабораторной работе 4."
   ]
  },
  {
   "cell_type": "code",
   "execution_count": 66,
   "id": "fac7d7b6-182a-4ac1-b10f-44a9fba978ae",
   "metadata": {},
   "outputs": [],
   "source": [
    "n = 3 # количество вершин треугольника Рело\n",
    "center = np.array([0.,0.]) # центр треугольника Рело\n",
    "r = 10 # ширина треугольника Рело\n",
    "N = 100 # количество точек для описания стороны треугольника Рело\n",
    "\n",
    "# ВОПРОС: почему вызов именно такой?\n",
    "# с такими аргументами (r=r, center=center, N=N)\n",
    "# ОТВЕТ: вызов именно такой, чтобы было понятно, какие значения используются по умолчанию\n",
    "relo_matrix = relo_polygon.regular_polygon_Relo_from_module(r=r, center=center, N=N)"
   ]
  },
  {
   "cell_type": "markdown",
   "id": "2f7ce97a-7dc2-45c1-bccc-0997c0af906c",
   "metadata": {},
   "source": [
    "$\\color{red}{Постройте}$ матрицу <code>square</code> для покоординатного описания границы квадрата с длиной стороны $r$ и центром в начале координат\n",
    "\n",
    "$\\color{red}{Изобразите}$ в одной системе координат квадрат, треугольник Рело и точку центра треугольника Рело"
   ]
  },
  {
   "cell_type": "code",
   "execution_count": 58,
   "id": "b22f9213-6d9c-4806-9131-ba239ff8cc3d",
   "metadata": {},
   "outputs": [
    {
     "data": {
      "text/plain": [
       "array([[-5., -5.],\n",
       "       [-5.,  5.],\n",
       "       [ 5.,  5.],\n",
       "       [ 5., -5.],\n",
       "       [-5., -5.]])"
      ]
     },
     "execution_count": 58,
     "metadata": {},
     "output_type": "execute_result"
    }
   ],
   "source": [
    "square = np.array([[- r / 2, - r / 2], [- r / 2, r / 2], [r / 2, r / 2], [r / 2, - r / 2], [- r / 2, - r / 2]])\n",
    "square"
   ]
  },
  {
   "cell_type": "code",
   "execution_count": 59,
   "id": "468d30f6-dacd-4d28-8ac8-c6e063c54a01",
   "metadata": {},
   "outputs": [
    {
     "data": {
      "text/plain": [
       "(-5.538675134594813, 6.312177826491073, -5.5, 5.500000000000001)"
      ]
     },
     "execution_count": 59,
     "metadata": {},
     "output_type": "execute_result"
    },
    {
     "data": {
      "image/png": "[encoded data removed]",
      "text/plain": [
       "<Figure size 432x288 with 1 Axes>"
      ]
     },
     "metadata": {
      "needs_background": "light"
     },
     "output_type": "display_data"
    }
   ],
   "source": [
    "plt.plot(center[0], center[1], 'r.', markersize=5)\n",
    "plt.plot(square[:,0], square[:,1], 'y-')\n",
    "plt.plot(relo_matrix[:,0], relo_matrix[:,1], 'b-')\n",
    "plt.axis('equal')"
   ]
  },
  {
   "cell_type": "markdown",
   "id": "791b6cba-d183-48ae-97ec-e211069a4de3",
   "metadata": {},
   "source": [
    "Треугольник Рело необходимо сдвинуть влево таким образом, чтобы он оказался вписанным в квадрат. Величину вектора сдвига <code>shift</code> $\\color{red}{определите}$ $\\color{red}{самостоятельно}$."
   ]
  },
  {
   "cell_type": "code",
   "execution_count": 67,
   "id": "72de220c-3ebf-44bc-967f-81cb3c006bd0",
   "metadata": {},
   "outputs": [
    {
     "data": {
      "text/plain": [
       "array([0.77350269, 0.        ])"
      ]
     },
     "execution_count": 67,
     "metadata": {},
     "output_type": "execute_result"
    }
   ],
   "source": [
    "# посчитал shift как разность координаты радиуса описанной около треугольника окружности и половины стороны квадрата\n",
    "# чтобы получить координату x смещения\n",
    "\n",
    "shift = np.array([r / (2 * math.sin(math.pi / n)) - r / 2, 0])\n",
    "shift"
   ]
  },
  {
   "cell_type": "code",
   "execution_count": 70,
   "id": "6918dbc3-aeee-4d4e-973b-07a4d54c846e",
   "metadata": {},
   "outputs": [],
   "source": [
    "center -= shift\n",
    "relo_matrix_shifted = relo_matrix - shift"
   ]
  },
  {
   "cell_type": "code",
   "execution_count": 62,
   "id": "dbc3b354-8f1c-4547-a4bd-5c9741a854cd",
   "metadata": {},
   "outputs": [
    {
     "data": {
      "text/plain": [
       "(-5.5, 5.500000000000002, -5.5, 5.500000000000001)"
      ]
     },
     "execution_count": 62,
     "metadata": {},
     "output_type": "execute_result"
    },
    {
     "data": {
      "image/png": "[encoded data removed]",
      "text/plain": [
       "<Figure size 432x288 with 1 Axes>"
      ]
     },
     "metadata": {
      "needs_background": "light"
     },
     "output_type": "display_data"
    }
   ],
   "source": [
    "plt.plot(center[0], center[1], 'r.', markersize=5)\n",
    "plt.plot(square[:,0], square[:,1], 'y-')\n",
    "plt.plot(relo_matrix_shifted[:,0], relo_matrix_shifted[:,1], 'b-')\n",
    "plt.axis('equal')"
   ]
  },
  {
   "cell_type": "markdown",
   "id": "5283bf9d-517c-4480-98b3-4292bd49bf49",
   "metadata": {},
   "source": [
    "### Этап 2. Анимация поступательного движения треугольника Рело по заданной траектории"
   ]
  },
  {
   "cell_type": "markdown",
   "id": "04b44228-420a-494e-be40-dae642ad3c99",
   "metadata": {},
   "source": [
    "Полагаем, что при качении треугольника Рело по квадрату центр треугольника Рело совершает поступательное движение по окружности с центром в начале координат и радиусом, равным <code>shift[0]</code>, против часовой стрелки.\n",
    "\n",
    "Зададим количество кадров анимации, необходимое для прохождения центром треугольника Рело полного оборота по окружности"
   ]
  },
  {
   "cell_type": "code",
   "execution_count": 63,
   "id": "ac352e55-822c-4d2e-b3df-a3ccce01eea0",
   "metadata": {},
   "outputs": [],
   "source": [
    "N_frames = 100"
   ]
  },
  {
   "cell_type": "markdown",
   "id": "d343616a-dd9a-4416-9d51-6fb22aae884e",
   "metadata": {},
   "source": [
    "Создадим матрицу <code>center_frame</code> из <code>N_frames</code> строк двух столбцов для описания координат точек окружности с центром в начале координат и радиусом <code>shift[0]</code> при обходе окружности против часовой стрелки от $- \\pi$ до $\\pi$. В первом столбце матрицы расположены $x$-координаты точек, во втором столбце &mdash; $y$ координаты."
   ]
  },
  {
   "cell_type": "code",
   "execution_count": 64,
   "id": "e0b918b5-6a71-47c9-8723-dca5a2799188",
   "metadata": {},
   "outputs": [],
   "source": [
    "# обращаю внимание на векторизацию вычислений с массивами без использования циклов\n",
    "t_center = np.linspace(- np.pi, np.pi, N_frames)\n",
    "center_frame = shift[0] * np.transpose([np.cos(t_center), np.sin(t_center)])"
   ]
  },
  {
   "cell_type": "markdown",
   "id": "b7e2b578-8c17-4257-a9b6-40afbad5c3d1",
   "metadata": {},
   "source": [
    "Изобразим первый кадр анимации. Для этого в одной графической области изображаем квадрат (сплошная линия синего цвета), вписанный треугольник Рело (сплошная линия красного цвета), центр треугольника Рело (линия по точкам красного цвета) и окружность, по которой будет двигаться центр треугольника Рело (пунктирная линия черного цвета)."
   ]
  },
  {
   "cell_type": "code",
   "execution_count": 72,
   "id": "45043bbd-a38d-4c49-9dea-9fa29eb3fba8",
   "metadata": {},
   "outputs": [
    {
     "data": {
      "text/plain": [
       "(-5.5, 5.500000000000002, -5.5, 5.500000000000001)"
      ]
     },
     "execution_count": 72,
     "metadata": {},
     "output_type": "execute_result"
    },
    {
     "data": {
      "image/png": "[encoded data removed]",
      "text/plain": [
       "<Figure size 432x288 with 1 Axes>"
      ]
     },
     "metadata": {
      "needs_background": "light"
     },
     "output_type": "display_data"
    }
   ],
   "source": [
    "frame = 0\n",
    "relo_matrix_shifted = relo_matrix + center_frame[frame]\n",
    "\n",
    "plt.figure()\n",
    "plt.plot(square[:,0], square[:,1], 'b-')\n",
    "plt.plot(relo_matrix_shifted[:,0], relo_matrix_shifted[:,1], 'r-')\n",
    "plt.plot(center_frame[frame,0], center_frame[frame,1], 'r.', markersize=10)\n",
    "plt.plot(center_frame[:,0], center_frame[:,1], 'k--')\n",
    "plt.axis('equal')"
   ]
  },
  {
   "cell_type": "markdown",
   "id": "004eb0d5-b21d-4621-b7e6-2b88465f67f9",
   "metadata": {},
   "source": [
    "$\\color{red}{Напишите}$ $\\color{red}{пользовательскую}$ $\\color{red}{функцию}$ трех аргументов <code>draw_frame(r, N_frames, frame)</code>, которая изображает кадр с номером <code>frame</code> для анимации поступательного движения треугольника Рело. Переменные из глобальной области видимости в теле функции использовать нельзя!\n",
    "\n",
    "- Аргумент <code>r</code> задает ширину треугольника Рело\n",
    "- Аргумент <code>N_frames</code> задает количества кадров для прохождения центром треугольника Рело полной окружности\n",
    "- Аргумент <code>frame</code> задает номер кадра. По умолчанию frame=0\n",
    "- функция осуществляет визуализацию и не возвращает объекты"
   ]
  },
  {
   "cell_type": "code",
   "execution_count": 81,
   "id": "e636fea8-0276-4834-8b2c-0f10d1ac43ae",
   "metadata": {},
   "outputs": [],
   "source": [
    "def draw_frame(r, N_frames, frame=0):\n",
    "    \"\"\"\n",
    "    \n",
    "    \"\"\"\n",
    "    n = 3 # количество вершин треугольника Рело\n",
    "    center = np.array([0.,0.]) # центр треугольника Рело\n",
    "    r = 10 # ширина треугольника Рело\n",
    "    N = 100 # количество точек для описания стороны треугольника Рело\n",
    "    relo_matrix = relo_polygon.regular_polygon_Relo_from_module(r=r, center=center, N=N)\n",
    "    square = np.array([[- r / 2, - r / 2], [- r / 2, r / 2], [r / 2, r / 2], [r / 2, - r / 2], [- r / 2, - r / 2]])\n",
    "                                                                                                \n",
    "    shift = np.array([r / (2 * math.sin(math.pi / n)) - r / 2, 0])\n",
    "                                                                                                \n",
    "    center -= shift    \n",
    "    \n",
    "    t_center = np.linspace(- np.pi, np.pi, N_frames)\n",
    "    center_frame = shift[0] * np.transpose([np.cos(t_center), np.sin(t_center)])\n",
    "                                                                                                \n",
    "    relo_matrix_shifted = relo_matrix + center_frame[frame]\n",
    "\n",
    "    plt.plot(square[:,0], square[:,1], 'b-')\n",
    "    plt.plot(relo_matrix_shifted[:,0], relo_matrix_shifted[:,1], 'r-')\n",
    "    plt.plot(center_frame[frame,0], center_frame[frame,1], 'r.', markersize=10)\n",
    "    plt.plot(center_frame[:,0], center_frame[:,1], 'k--')\n",
    "    plt.axis('equal')\n",
    "    \n",
    "    return None"
   ]
  },
  {
   "cell_type": "code",
   "execution_count": 84,
   "id": "69f0dfd0-3fed-4a1a-8c08-e6922c240ab2",
   "metadata": {},
   "outputs": [
    {
     "data": {
      "image/png": "[encoded data removed]",
      "text/plain": [
       "<Figure size 432x288 with 3 Axes>"
      ]
     },
     "metadata": {
      "needs_background": "light"
     },
     "output_type": "display_data"
    }
   ],
   "source": [
    "plt.figure()\n",
    "r = 10\n",
    "N_frames = 100\n",
    "\n",
    "# функция subplot() ожидает три параметра:\n",
    "# количество строк в графике;\n",
    "# количество столбцов в графике;\n",
    "# номер ячейки, куда будут выводиться графики, после вызова этой функции\n",
    "# ячейки нумеруются построчно, начиная с 1\n",
    "\n",
    "plt.subplot(1, 3, 1)\n",
    "draw_frame(r=r, N_frames=N_frames)\n",
    "\n",
    "plt.subplot(1, 3, 2)\n",
    "draw_frame(r=r, N_frames=N_frames, frame=20)\n",
    "\n",
    "plt.subplot(1, 3, 3)\n",
    "draw_frame(r=r, N_frames=N_frames, frame=40)"
   ]
  },
  {
   "cell_type": "code",
   "execution_count": null,
   "id": "8994e910-c9dd-4bf0-b0a2-8c9f88792559",
   "metadata": {},
   "outputs": [],
   "source": []
  }
 ],
 "metadata": {
  "kernelspec": {
   "display_name": "Python 3 (ipykernel)",
   "language": "python",
   "name": "python3"
  },
  "language_info": {
   "codemirror_mode": {
    "name": "ipython",
    "version": 3
   },
   "file_extension": ".py",
   "mimetype": "text/x-python",
   "name": "python",
   "nbconvert_exporter": "python",
   "pygments_lexer": "ipython3",
   "version": "3.10.5"
  }
 },
 "nbformat": 4,
 "nbformat_minor": 5
}
