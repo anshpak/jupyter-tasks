{
 "cells": [
  {
   "cell_type": "markdown",
   "id": "278ef371-1d7e-4fe9-a8c1-f8e4d1429216",
   "metadata": {},
   "source": [
    "# Лабораторная работа 5\n",
    "# Анимация качения треугольника Рело по квадрату. Векторизация вычислений в numpy"
   ]
  },
  {
   "cell_type": "markdown",
   "id": "7e57ef91-fb1f-4dfd-a624-9f06eb9afb87",
   "metadata": {},
   "source": [
    "Шпак Андрей Валерьевич, 29.07.2022"
   ]
  },
  {
   "cell_type": "markdown",
   "id": "38133ef4-4a46-4a55-8f1d-1d5b1fe79a38",
   "metadata": {},
   "source": [
    "## Определения и свойства"
   ]
  },
  {
   "cell_type": "markdown",
   "id": "12d5c095-a8bb-4ad5-a609-12364918ae89",
   "metadata": {},
   "source": [
    "$\\textbf{Треугольник Рело}$ представляет собой область пересечения трех кругов радиуса $r$ с центрами в вершинах равностороннего треугольника с длиной стороны $r$.\n",
    "\n",
    "Так как треугольник Рело является фигурой постоянной ширины, то его можно вписать в квадрат с длиной стороны, равной $r$ таким образом, что треугольник Рело будет касаться всех сторон квадрата. Это связано с тем, что противоположные стороны квадрата, расстояние между которыми равно $r$, располагаются на опорных прямых к треугольнику Рело.\n",
    "\n",
    "$\\textit{Поступательное движение}$ &mdash; это движение, при котором траектории движения всех точек тела одинаковы. $\\textit{Вращательное движение}$ &mdash; это движение, при котором траектории движения точек тела представляют собой окружности (или дуги окружностей) с центрами, лежащими в одной точке.\n",
    "\n",
    "$\\textbf{Качение треугольника Рело по квадрату}$ &mdash; это вращательное движение треугольника относительно своего центра с дополнительным поступательным движением треугольника по траектории, близкой к окружности, чтобы обеспечить касание всех сторон квадрата при движении треугольника Рело."
   ]
  },
  {
   "cell_type": "markdown",
   "id": "96d296e2-6fdb-452d-a3c8-8ef24a7c6c45",
   "metadata": {},
   "source": [
    "# Задание 5.1"
   ]
  },
  {
   "cell_type": "markdown",
   "id": "1c83b4ef-c6e7-49fe-9541-25b9393d0607",
   "metadata": {},
   "source": [
    "$\\color{red}{Создайте}$  анимацию качения треугольника Рело с шириной $r$ по квадрату с длиной стороны, равной $r$, против часовой стрелки.\n",
    "\n",
    "Центр квадрата с длиной стороны $r$ располагаем в начале координат.\n",
    "\n",
    "Качение треугольника Рело происходит за счет его одновременного поступательного и вращательного движения:\n",
    "\n",
    "1. Полагаем, что при качении по квадрату центр треугольника Рело совершает поступательное движение по окружности с центром в начале координат и заданным радиусом, который необходимо найти. Движение центра треугольника Рело по окружности осуществляется против часовой стрелки.\n",
    "2. Треугольник Рело совершает также вращательное движение ПО часовой стрелке. Поступательное и вращательные движения согласованы таким образом, что полный оборот центра треугольника Рело на угол $2 \\pi$ соответствует вращению треугольника Рело на угол $2 \\pi / 3$"
   ]
  },
  {
   "cell_type": "markdown",
   "id": "1082248d-6453-450f-81bf-4ff19facef8c",
   "metadata": {},
   "source": [
    "## Реализация задания 5.1"
   ]
  },
  {
   "cell_type": "code",
   "execution_count": 2,
   "id": "9b0e7342-9cdb-4d20-80fc-ec0562ddd798",
   "metadata": {},
   "outputs": [],
   "source": [
    "import math\n",
    "import numpy as np\n",
    "import matplotlib.pyplot as plt\n",
    "import relo_polygon\n",
    "\n",
    "# для JupyterLab предварительно нужно установить пакет ipympl\n",
    "# import matplotlib.animation as anim\n",
    "# %matplotlib widget"
   ]
  },
  {
   "cell_type": "markdown",
   "id": "a05642da-5025-46fc-a51f-7d1158355a32",
   "metadata": {},
   "source": [
    "### Этап 1. Изображение начального положения треугольника Рело и квадрата в одной графической области"
   ]
  },
  {
   "cell_type": "markdown",
   "id": "a24424a5-8a79-4dcc-8593-caff669a9baa",
   "metadata": {},
   "source": [
    "Определим исходные данные для построения треугольника Рело.\n",
    "\n",
    "Для построения матрицы <code>relo_matrix</code> координат точек-границ треугольника Рело используем функцию <code>regular_polygon_Relo(n, center, r, N)</code> из модуля <code>relo_polygon</code>, созданного в Лабораторной работе 4."
   ]
  },
  {
   "cell_type": "code",
   "execution_count": 4,
   "id": "fac7d7b6-182a-4ac1-b10f-44a9fba978ae",
   "metadata": {},
   "outputs": [],
   "source": [
    "n = 3 # количество вершин треугольника Рело\n",
    "center = np.array([0.,0.]) # центр треугольника Рело\n",
    "r = 10 # ширина треугольника Рело\n",
    "N = 100 # количество точек для описания стороны треугольника Рело\n",
    "\n",
    "# ВОПРОС: почему вызов именно такой?\n",
    "# с такими аргументами (r=r, center=center, N=N)\n",
    "relo_matrix = relo_polygon.regular_polygon_Relo_from_module(r=r, center=center, N=N)"
   ]
  },
  {
   "cell_type": "markdown",
   "id": "2f7ce97a-7dc2-45c1-bccc-0997c0af906c",
   "metadata": {},
   "source": [
    "$\\color{red}{Постройте}$ матрицу <code>square</code> для покоординатного описания границы квадрата с длиной стороны $r$ и центром в начале координат\n",
    "\n",
    "$\\color{red}{Изобразите}$ в одной системе координат квадрат, треугольник Рело и точку центра треугольника Рело"
   ]
  },
  {
   "cell_type": "code",
   "execution_count": 44,
   "id": "b22f9213-6d9c-4806-9131-ba239ff8cc3d",
   "metadata": {},
   "outputs": [
    {
     "data": {
      "text/plain": [
       "array([[-5., -5.],\n",
       "       [-5.,  5.],\n",
       "       [ 5.,  5.],\n",
       "       [ 5., -5.],\n",
       "       [-5., -5.]])"
      ]
     },
     "execution_count": 44,
     "metadata": {},
     "output_type": "execute_result"
    }
   ],
   "source": [
    "square = np.array([[- r / 2, - r / 2], [- r / 2, r / 2], [r / 2, r / 2], [r / 2, - r / 2], [- r / 2, - r / 2]])\n",
    "square"
   ]
  },
  {
   "cell_type": "code",
   "execution_count": 45,
   "id": "468d30f6-dacd-4d28-8ac8-c6e063c54a01",
   "metadata": {},
   "outputs": [
    {
     "data": {
      "text/plain": [
       "(-5.538675134594813, 6.312177826491073, -5.5, 5.500000000000001)"
      ]
     },
     "execution_count": 45,
     "metadata": {},
     "output_type": "execute_result"
    },
    {
     "data": {
      "image/png": "[encoded data removed]",
      "text/plain": [
       "<Figure size 432x288 with 1 Axes>"
      ]
     },
     "metadata": {
      "needs_background": "light"
     },
     "output_type": "display_data"
    }
   ],
   "source": [
    "plt.plot(center[0], center[1], 'r.', markersize=5)\n",
    "plt.plot(relo_matrix[:,0], relo_matrix[:,1], 'b-')\n",
    "plt.plot(square[:,0], square[:,1], 'y-')\n",
    "plt.axis('equal')"
   ]
  },
  {
   "cell_type": "code",
   "execution_count": null,
   "id": "2d3e9893-4173-4f1e-98b9-0df273975cd0",
   "metadata": {},
   "outputs": [],
   "source": []
  },
  {
   "cell_type": "code",
   "execution_count": null,
   "id": "72de220c-3ebf-44bc-967f-81cb3c006bd0",
   "metadata": {},
   "outputs": [],
   "source": []
  },
  {
   "cell_type": "code",
   "execution_count": null,
   "id": "6918dbc3-aeee-4d4e-973b-07a4d54c846e",
   "metadata": {},
   "outputs": [],
   "source": []
  },
  {
   "cell_type": "code",
   "execution_count": null,
   "id": "dbc3b354-8f1c-4547-a4bd-5c9741a854cd",
   "metadata": {},
   "outputs": [],
   "source": []
  },
  {
   "cell_type": "code",
   "execution_count": null,
   "id": "69a53524-cde0-4363-8357-1caf638e257f",
   "metadata": {},
   "outputs": [],
   "source": []
  },
  {
   "cell_type": "code",
   "execution_count": null,
   "id": "5ad5bde4-4bf3-481a-ab71-50e3c89d7ad9",
   "metadata": {},
   "outputs": [],
   "source": []
  },
  {
   "cell_type": "code",
   "execution_count": null,
   "id": "ac352e55-822c-4d2e-b3df-a3ccce01eea0",
   "metadata": {},
   "outputs": [],
   "source": []
  },
  {
   "cell_type": "code",
   "execution_count": null,
   "id": "af390a2a-dc7d-44c9-8959-0938603198b6",
   "metadata": {},
   "outputs": [],
   "source": []
  },
  {
   "cell_type": "code",
   "execution_count": null,
   "id": "e0b918b5-6a71-47c9-8723-dca5a2799188",
   "metadata": {},
   "outputs": [],
   "source": []
  },
  {
   "cell_type": "code",
   "execution_count": null,
   "id": "08c27370-3317-4049-98ae-04a736ed03d1",
   "metadata": {},
   "outputs": [],
   "source": []
  },
  {
   "cell_type": "code",
   "execution_count": null,
   "id": "45043bbd-a38d-4c49-9dea-9fa29eb3fba8",
   "metadata": {},
   "outputs": [],
   "source": []
  }
 ],
 "metadata": {
  "kernelspec": {
   "display_name": "Python 3 (ipykernel)",
   "language": "python",
   "name": "python3"
  },
  "language_info": {
   "codemirror_mode": {
    "name": "ipython",
    "version": 3
   },
   "file_extension": ".py",
   "mimetype": "text/x-python",
   "name": "python",
   "nbconvert_exporter": "python",
   "pygments_lexer": "ipython3",
   "version": "3.10.5"
  }
 },
 "nbformat": 4,
 "nbformat_minor": 5
}
