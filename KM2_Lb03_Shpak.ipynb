{
 "cells": [
  {
   "cell_type": "markdown",
   "id": "df077389-7ed9-4dd6-b429-5c03dcc1f7c9",
   "metadata": {},
   "source": [
    "# Лабораторная работа 1\n",
    "# Анимация движения секущей прямой к заданной кривой"
   ]
  },
  {
   "cell_type": "markdown",
   "id": "95d56dd0-349e-4be2-8bd7-e3f6fb13926b",
   "metadata": {},
   "source": [
    "Шпак Андрей Валерьевич, 26.07.2022"
   ]
  },
  {
   "cell_type": "markdown",
   "id": "6c03fb4b-dce6-46ab-9af8-be8b6ac0d18f",
   "metadata": {
    "tags": []
   },
   "source": [
    "# Задание 3.1 (Анимация построения графика аналитически заданной функции)"
   ]
  },
  {
   "cell_type": "markdown",
   "id": "01695cee-f694-435e-8568-f2c2a5636198",
   "metadata": {},
   "source": [
    "$\\color{red}{Создайте анимацию}$ построения графика некоторой явно заданной аналитической функции $y = y \\left( x \\right)$ по значениям $x$, последовательно изменяющимся от $x_{min}$ до ${x_max}$ с шагом $step$.\n",
    "\n",
    "Выполните задание при $y \\left( x \\right) = \\left( x - 5 \\right)^2$, $x_{min} = 0$, $x_{max} = 10$, $step = 0.1$.\n",
    "\n",
    "Выполните задание для произвольной, Вами выбранной, нелинейной аналитической функции $y = y \\left( x \\right)$, $x_{min} = k$, $x_{max} = k + 5$, $step = 0.01k$, где $k$ номер Вашего варианта."
   ]
  },
  {
   "cell_type": "markdown",
   "id": "92f43bf0-9f02-41d4-a99d-087a3a3cea9f",
   "metadata": {},
   "source": [
    "# Реализация задания 3.1"
   ]
  },
  {
   "cell_type": "code",
   "execution_count": null,
   "id": "f67eda28-c502-496b-a7b0-98daee3db0ae",
   "metadata": {},
   "outputs": [],
   "source": []
  },
  {
   "cell_type": "code",
   "execution_count": null,
   "id": "63a3f108-d566-42b2-a433-0998a745c658",
   "metadata": {},
   "outputs": [],
   "source": []
  },
  {
   "cell_type": "code",
   "execution_count": 3,
   "id": "b99adadf-ec37-4e14-8fc7-438a2cd7a667",
   "metadata": {},
   "outputs": [],
   "source": [
    "import ipympl\n",
    "# в условии лабораторной было написано, что импортировать модуль ipympl в блокноте JN не нужно"
   ]
  },
  {
   "cell_type": "code",
   "execution_count": null,
   "id": "243bf730-dc0a-4f8a-a8e0-1a585014f165",
   "metadata": {},
   "outputs": [],
   "source": []
  },
  {
   "cell_type": "code",
   "execution_count": null,
   "id": "2952c7db-64f9-4979-8380-8e9412ee1ae5",
   "metadata": {},
   "outputs": [],
   "source": []
  },
  {
   "cell_type": "code",
   "execution_count": null,
   "id": "b3469599-3c07-448f-b477-b04c8ca2a697",
   "metadata": {},
   "outputs": [],
   "source": []
  },
  {
   "cell_type": "code",
   "execution_count": null,
   "id": "8fdd4646-1424-454a-b175-33c308beabcc",
   "metadata": {},
   "outputs": [],
   "source": []
  },
  {
   "cell_type": "code",
   "execution_count": null,
   "id": "c7843607-6b7c-4d80-bb9e-30c096871334",
   "metadata": {},
   "outputs": [],
   "source": []
  },
  {
   "cell_type": "code",
   "execution_count": null,
   "id": "b6032ad5-f97d-43b7-89ba-748d49ae5e62",
   "metadata": {},
   "outputs": [],
   "source": []
  }
 ],
 "metadata": {
  "kernelspec": {
   "display_name": "Python 3 (ipykernel)",
   "language": "python",
   "name": "python3"
  },
  "language_info": {
   "codemirror_mode": {
    "name": "ipython",
    "version": 3
   },
   "file_extension": ".py",
   "mimetype": "text/x-python",
   "name": "python",
   "nbconvert_exporter": "python",
   "pygments_lexer": "ipython3",
   "version": "3.10.5"
  }
 },
 "nbformat": 4,
 "nbformat_minor": 5
}
