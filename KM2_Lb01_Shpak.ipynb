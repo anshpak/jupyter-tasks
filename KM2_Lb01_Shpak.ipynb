{
 "cells": [
  {
   "cell_type": "markdown",
   "id": "6b1dff85-8bd1-45d5-ae20-ce35b8cc96f5",
   "metadata": {},
   "source": [
    "# Лабораторная работа 1\n",
    "# Траектория движения тела. Графики функций"
   ]
  },
  {
   "cell_type": "markdown",
   "id": "937152d5-1767-4a2b-bfad-fd455bb5d174",
   "metadata": {},
   "source": [
    "Шпак Андрей Валерьевич, 15.07.2022"
   ]
  },
  {
   "cell_type": "markdown",
   "id": "e3a6b3b8-2797-48f7-a11f-7921cded91dc",
   "metadata": {
    "tags": []
   },
   "source": [
    "## Задание 1.1. (Траектория движения тела)"
   ]
  },
  {
   "cell_type": "markdown",
   "id": "00f53d3c-0d8c-4cf2-8ec2-fcd3eb3f44a8",
   "metadata": {},
   "source": [
    "Тело запущено под углом $\\alpha$ к горизонту на высоте $h_{start}$ и через время $t=T$ достигает другое тело, расположенное на расстоянии $s_{end}$ и высоте $h_{end}$. Начальный момент времени движения тела полагаем равным нулю $t=0$.\n",
    "\n",
    "Движение запущенного тела осуществляется только под действием силы тяжести\n",
    "$$\\textbf{F}=m(0,-g),$$ \n",
    "где $m$ &mdash; масса тела, $g$ &mdash; ускорение свободного падения.\n",
    "\n",
    "Тело будем считать материальной точкой массы $m$. Начальный момент времени движения тела полагаем равным нулю $t=0$. Сопротивлением среды пренебрегаем.\n",
    "\n",
    "$\\color{red}{Определите}$ функцию перемещения тела $\\left( s_{x}\\left( t \\right), s_{y} \\left( t \\right) \\right)$ под действием силы тяжести, где $\\left( s_{x}\\left( t \\right), s_{y} \\left( t \\right) \\right)$ &mdash; горизонтальная и вертикальная составляющая положения тела в момент времени t, соответственно.\n",
    "\n",
    "$\\color{red}{Найдите}$ угол запуска тела $\\alpha$.\n",
    "\n",
    "$\\color{red}{Постройте}$ график траектории движения тела $\\left( s_{x}\\left( t \\right), s_{y} \\left( t \\right) \\right)$ для $t \\in [0,T]$\n",
    "\n",
    "Выполните задание при $h_{start}=10$ m,$T=2.5s,s_{end}=55$ m, $h_{end}=12 $m, $g \\approx 9.807$ $m / s^2.$\n",
    "\n",
    "$\\textbf{Комментарии:}$\n",
    "* Не знаю, как в Латехе сделать дробь типа $$m / s^2.$$"
   ]
  },
  {
   "cell_type": "markdown",
   "id": "e67cb61b-cf4c-41f9-8dab-82f3ad9ad8a8",
   "metadata": {},
   "source": [
    "## Реализация Задания 1.1 \n",
    "## Этап 1. Подключения модулей"
   ]
  },
  {
   "cell_type": "code",
   "execution_count": 4,
   "id": "f12ebddd-6446-4616-9c30-5f3df6c59b10",
   "metadata": {},
   "outputs": [],
   "source": [
    "import math"
   ]
  },
  {
   "cell_type": "code",
   "execution_count": 5,
   "id": "ae3901cc-0906-49ea-a051-1ece5fa35351",
   "metadata": {},
   "outputs": [
    {
     "data": {
      "text/plain": [
       "1.0"
      ]
     },
     "execution_count": 5,
     "metadata": {},
     "output_type": "execute_result"
    }
   ],
   "source": [
    "math.sin(math.pi/2)"
   ]
  },
  {
   "cell_type": "code",
   "execution_count": 9,
   "id": "fca595c2-23e2-4525-9025-4f578a16778a",
   "metadata": {},
   "outputs": [],
   "source": [
    "import matplotlib.pyplot as plt\n",
    "import numpy as np\n",
    "import scipy.constants as const\n",
    "import sympy"
   ]
  },
  {
   "cell_type": "code",
   "execution_count": 10,
   "id": "7a14827d-91ac-44fb-aa32-d78fba6faef7",
   "metadata": {},
   "outputs": [
    {
     "data": {
      "text/plain": [
       "9.80665"
      ]
     },
     "execution_count": 10,
     "metadata": {},
     "output_type": "execute_result"
    }
   ],
   "source": [
    "g=const.g\n",
    "g"
   ]
  },
  {
   "cell_type": "code",
   "execution_count": 11,
   "id": "0ff06506-53c6-4829-bd43-5ef279105442",
   "metadata": {},
   "outputs": [
    {
     "data": {
      "text/plain": [
       "'m s^-2'"
      ]
     },
     "execution_count": 11,
     "metadata": {},
     "output_type": "execute_result"
    }
   ],
   "source": [
    "const.unit('standard acceleration of gravity')"
   ]
  },
  {
   "cell_type": "markdown",
   "id": "62525166-fecd-4bba-9130-4474620afdac",
   "metadata": {},
   "source": [
    "## Этап 2. Определение переменных"
   ]
  },
  {
   "cell_type": "code",
   "execution_count": 12,
   "id": "76b4e22d-43c3-4741-825e-647f42395a50",
   "metadata": {},
   "outputs": [],
   "source": [
    "h_start = 10 # вертикальная составляющая положения тела в момент запуска\n",
    "T = 2.5 # время полета\n",
    "s_end = 5.5e1 # горизонтальное перемещение тела за время полета\n",
    "h_end = 1.2E+1 # вертикальная составляющая положения тела в конечный момент движения\n",
    "g = 9.807 # ускорение свободного падения\n",
    "vars = h_start, T, s_end, h_end, g"
   ]
  },
  {
   "cell_type": "code",
   "execution_count": 13,
   "id": "33c62c34-a04e-4fa1-96cf-948090bcd2cb",
   "metadata": {},
   "outputs": [
    {
     "data": {
      "text/plain": [
       "[int, float, float, float, float]"
      ]
     },
     "execution_count": 13,
     "metadata": {},
     "output_type": "execute_result"
    }
   ],
   "source": [
    "[type(x) for x in vars] # синтаксис спискового включения для создания списка\n",
    "# ВОПРОС: что такое int и float в выводе? Сами по себе типы? Или же это строки, как было бы в других языках программирования?\n",
    "# Склоняюсь к тому, что это имеено объекты - встроенные типы сами по себе"
   ]
  },
  {
   "cell_type": "code",
   "execution_count": 14,
   "id": "1c02c05f-0e50-4795-8ce2-ff4699c1aaf7",
   "metadata": {},
   "outputs": [
    {
     "data": {
      "text/plain": [
       "(10, 2.5, 55.0, 12.0, 9.807)"
      ]
     },
     "execution_count": 14,
     "metadata": {},
     "output_type": "execute_result"
    }
   ],
   "source": [
    "g # переменная не отобразится\n",
    "vars # переменная отобразится"
   ]
  },
  {
   "cell_type": "code",
   "execution_count": 15,
   "id": "d0c80922-ef2f-4d71-b7b1-49cb68e1af2d",
   "metadata": {},
   "outputs": [
    {
     "name": "stdout",
     "output_type": "stream",
     "text": [
      "9.807 (10, 2.5, 55.0, 12.0, 9.807) 2.5\n"
     ]
    }
   ],
   "source": [
    "print(g, vars, T)"
   ]
  },
  {
   "cell_type": "code",
   "execution_count": 26,
   "id": "4cbdac4b-b5e7-4545-9935-625fad34b7ec",
   "metadata": {},
   "outputs": [
    {
     "data": {
      "text/plain": [
       "(list, numpy.ndarray)"
      ]
     },
     "execution_count": 26,
     "metadata": {},
     "output_type": "execute_result"
    }
   ],
   "source": [
    "step = 0.01\n",
    "t_list = [0 + i * step for i in range(int(T/0.01))]\n",
    "# здесь я создал список - по секундам с шагом 0.01 с помощью списка\n",
    "t_array = np.arange(0, T, step)\n",
    "# на основе массива из расширения numpy\n",
    "# интервалы получились полуоткрытые, включающие начало, исключающие конец\n",
    "type(t_list), type(t_array)"
   ]
  },
  {
   "cell_type": "code",
   "execution_count": 20,
   "id": "cfd91e82-0498-400c-be5d-87a63b44115c",
   "metadata": {},
   "outputs": [
    {
     "data": {
      "text/plain": [
       "(250, 250)"
      ]
     },
     "execution_count": 20,
     "metadata": {},
     "output_type": "execute_result"
    }
   ],
   "source": [
    "len(t_list), len(t_array)"
   ]
  },
  {
   "cell_type": "code",
   "execution_count": 27,
   "id": "0ef7c39e-1254-44d4-b65f-d3479eb494c1",
   "metadata": {},
   "outputs": [
    {
     "data": {
      "text/plain": [
       "251"
      ]
     },
     "execution_count": 27,
     "metadata": {},
     "output_type": "execute_result"
    }
   ],
   "source": [
    "# после создания списка, его размер изменить можно, после создания массива - нельзя\n",
    "t_list.append(t_list[-1] + step)\n",
    "len(t_list)"
   ]
  },
  {
   "cell_type": "markdown",
   "id": "6e7cb728-59dc-42ad-b852-cc5ba5f4620f",
   "metadata": {},
   "source": [
    "## Этап 3. Аналитический вид функции перемещения"
   ]
  },
  {
   "cell_type": "markdown",
   "id": "8050f692-7943-4ea4-b205-35e146e3af34",
   "metadata": {},
   "source": [
    "Помещаю начало прямоугольной декартовой системы координат на уровне земли, тогда в начальный момент движения тела $t = 0$ имею \n",
    "$$s_x \\left( 0 \\right) = 0,$$ \n",
    "$$s_y \\left( 0 \\right) = h_{start}.$$ \n",
    "Для построения функции перемещения \n",
    "$\\left( s_{x}\\left( t \\right), s_{y} \\left( t \\right) \\right)$ \n",
    "воспользуюсь вторым законом Ньютона \n",
    "$$m \\textbf{a} = \\textbf{F},$$ \n",
    "где $m$ &mdash; масса тела, ускорение движения тела \n",
    "$\\textbf{a} = \\left( s_{x}^\"\\left( t \\right), s_{y}^\" \\left( t \\right) \\right)$ \n",
    "и приложенная сила \n",
    "$\\textbf{F} = m \\left( 0, -g \\right)$. \n",
    "В результате имеем, что \n",
    "$$s_{x}^\"\\left( t \\right) = 0$$ \n",
    "$$s_{y}^\"\\left( t \\right) = -g.$$\n",
    "На основании уравнений можно записать аналитический вид для функций $s_{x}\\left( t \\right)$ и $s_{y} \\left( t \\right)$\n",
    "$$s_{x}\\left( t \\right) = s_{x}\\left( 0 \\right) + v 0_{x} t = 0 + v 0_{x} t,$$\n",
    "$$s_{y}\\left( t \\right) = s_{y}\\left( 0 \\right) + v 0_{x} t - \\dfrac{g}{2} t^2 = h_{start} + v 0_{x} t - \\dfrac{g}{2} t^2,$$\n",
    "где $\\textbf{v0} = \\left( v0_x, v0_y \\right)$ обозначает неизвестную скорость движения тела в начальный момент времени $t = 0.$"
   ]
  },
  {
   "cell_type": "code",
   "execution_count": null,
   "id": "175bcf4d-f097-46ef-96a1-70f3279fe6aa",
   "metadata": {},
   "outputs": [],
   "source": []
  },
  {
   "cell_type": "code",
   "execution_count": null,
   "id": "f7600363-0c22-43b3-b69f-67ca002b38f4",
   "metadata": {},
   "outputs": [],
   "source": []
  },
  {
   "cell_type": "code",
   "execution_count": null,
   "id": "55d42b42-5318-41be-aee5-e0aca712943e",
   "metadata": {},
   "outputs": [],
   "source": []
  },
  {
   "cell_type": "markdown",
   "id": "515433bb-b125-4403-85d4-77fb68837900",
   "metadata": {},
   "source": [
    "## Задание 1.2. (Графики функций в полярной и декартовой системах координат)"
   ]
  },
  {
   "cell_type": "markdown",
   "id": "92a714ba-9d15-43a2-a62d-0dbffbb0c954",
   "metadata": {},
   "source": [
    "$\\color{red}{Постройте}$ графики функций по координатам точек согласно варианту. Функция задана:\n",
    "\n",
    "а) в полярной системе координат $\\left( \\varphi, \\rho \\right)$ полярным уравнением $\\rho = \\rho \\left( \\varphi \\right)$;\n",
    "\n",
    "б) в декартовой системе координат $\\left( x, y \\right)$ параметрическими уравнениями $\\mathit{x} = x \\left( t \\right)$, $y = y \\left( t \\right)$.\n",
    "\n",
    "1. а) $\\textit{Декартов лист}$ $\\rho = \\dfrac{3a \\sin{\\varphi} \\cos{\\varphi}}{\\sin^3 \\varphi + \\cos^3 \\varphi}, a \\in \\mathbb{R}$\n",
    "\n",
    "   б) $x = \\dfrac{3t^2 + 1}{3t^3}, y = \\sin \\left( \\dfrac{t^3}{3} + t \\right)$\n",
    "\n",
    "$\\textbf{Комментарии:}$"
   ]
  },
  {
   "cell_type": "markdown",
   "id": "cbacadd4-c3e3-4670-b06d-66433cc0d21e",
   "metadata": {},
   "source": [
    "## Задание 1.3. (Секущая и касательная к заданной функции)"
   ]
  },
  {
   "cell_type": "markdown",
   "id": "03a51d0e-b3aa-4879-ada9-42939030b8ce",
   "metadata": {},
   "source": [
    "$\\color{red}{Постройте}$ в одной графической области\n",
    "* график движения тела $(s_{x}(t),s_{y}(t))$ для $t \\in [0,T]$,\n",
    "* график секущей прямой, проходящей через начальную и конечную точки траектории движения тела,\n",
    "* график касательной прямой к траектории движения тела в начальный момент времени"
   ]
  },
  {
   "cell_type": "markdown",
   "id": "05e90fce-4f2b-45c9-9709-a84040c1d268",
   "metadata": {},
   "source": [
    "## Задание 1.4. (Определение времени, когда запущенное тело коснется земли)"
   ]
  },
  {
   "cell_type": "markdown",
   "id": "06eaf93c-2b34-4689-af9e-82945880671d",
   "metadata": {},
   "source": [
    "Для задачи о падении тела определите время касания телом земли (время нахождения тела в воздухе).\n",
    "$\\color{red}{Реализацию осуществите двумя способами.}$\n",
    "1. $\\textbf{Точное решение:}$ время касания находится из решения квадратного уравнения $s_y \\left( t \\right) = 0;$\n",
    "2. $\\textbf{Приближенное решение:}$\n",
    "    * Постройте последовательность $s_y$ на временное отрезке $\\left[ 0, t_{stop} \\right]$, чтобы момент касания тела земли $t^*$ попадал в выбранный отрезок $t^* \\in \\left[ 0, t_{stop} \\right]$. Отметим, что $t_{stop}>T$.\n",
    "    * Найдите в построенной последовательности $s_y$ два соседних элемента последовательности, значения которых меняют знак, т. е. $s_y \\left[ k \\right] s_y \\left[ k + 1 \\right] < 0$. Это означает, что $0 \\in \\left( s_y \\left[ k \\right], s_y \\left[ k + 1 \\right] \\right)$.\n",
    "    * Осуществите линейную интерполяцию по двум точкам $\\left( t \\left[ k \\right], s_y \\left[ k \\right] \\right)$ и $\\left( t \\left[ k + 1 \\right], s_y \\left[ k + 1 \\right] \\right)$ для нахождения времени $t^* \\in \\left( t \\left[ k \\right], t \\left[ k + 1\\right] \\right)$ из условия $s_y \\left( t^* \\right) \\approx 0$. Другими словами, по координатам двух точек необходимо построить отрезок и найти на этом отрезке координаты точки $ \\left( t^*, 0 \\right)$.\n",
    "    \n",
    "$\\color{red}{Сравните}$ точное решение (решение квадратного уравнения) и приближенное решение $t^*$."
   ]
  },
  {
   "cell_type": "code",
   "execution_count": null,
   "id": "cc1149f8-94e7-47bc-a721-07c851c209b4",
   "metadata": {},
   "outputs": [],
   "source": []
  }
 ],
 "metadata": {
  "kernelspec": {
   "display_name": "Python 3 (ipykernel)",
   "language": "python",
   "name": "python3"
  },
  "language_info": {
   "codemirror_mode": {
    "name": "ipython",
    "version": 3
   },
   "file_extension": ".py",
   "mimetype": "text/x-python",
   "name": "python",
   "nbconvert_exporter": "python",
   "pygments_lexer": "ipython3",
   "version": "3.10.5"
  }
 },
 "nbformat": 4,
 "nbformat_minor": 5
}
