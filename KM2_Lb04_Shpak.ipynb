{
 "cells": [
  {
   "cell_type": "markdown",
   "id": "5508f8fd-819c-4c57-bf51-331d88f0cfb2",
   "metadata": {},
   "source": [
    "# Лабораторная работа 4\n",
    "# Правильный многоугольник Рело. Векторизация вычислений в numpy"
   ]
  },
  {
   "cell_type": "markdown",
   "id": "d1526084-3378-421f-ad42-e8b36061fa64",
   "metadata": {},
   "source": [
    "Шпак Андрей Валерьевич, 26.07.2022"
   ]
  },
  {
   "cell_type": "markdown",
   "id": "868a9a8f-51b2-41a5-87c6-c9abd218389a",
   "metadata": {},
   "source": [
    "# Определения и свойства"
   ]
  },
  {
   "cell_type": "markdown",
   "id": "d5a41c38-872d-4eaf-abaf-8d695dc78b10",
   "metadata": {},
   "source": [
    "$\\textbf{Треугольник Рело}$ представляет собой область пересечения трех кругов радуса $r$ с центрами в вершинах равностороннего треугольника с длиной $r$.\n",
    "\n",
    "$\\textbf{Правильный}$ $n$ $\\textbf{-угольник Рело}$ представляет собой область пересечения $n$ кругов радуса $r$ с центрами в вершинах правильного $n$-угольника с $\\textit{нечетным числом}$ сторон длины $l$. Радиус круга $r$ согласован с длиной стороны $l$ правильного многоугольника таким образом, чтобы окружность радиуса $r$ проходила через две соседние вершины правильного n-угольника.\n",
    "\n",
    "Правильный многоугольник Рело и круг являются примерами $\\textbf{фигур постоянной ширины}$. Для фигуры постоянной ширины можно построить пары параллельных опорных прямых, которые касаются фигуры, но не пересекают ее, и, независимо от выбора пары опорных прямых, расстояние между прямыми будет всегда одинаковым.\n",
    "\n",
    "Расстояние между опорными прямыми называется $\\textbf{шириной фигуры}$. Ширина правильного многоугольника Рело равна радиусу $r$ пересекающихся кругов. Ширина круга равна диаметру круга. Среди всех фигур постоянной ширины треугольник Рело имеет наименьшую площадь, круг имеет наибольшую площадь."
   ]
  },
  {
   "cell_type": "markdown",
   "id": "dfd44dca-dcf4-4c6d-9177-0890f7102681",
   "metadata": {},
   "source": [
    "# Задание 4.1 (Правильный многоугольник Рело)"
   ]
  },
  {
   "cell_type": "markdown",
   "id": "1f8f0d11-d366-45b3-a2bc-8aaf83c9442c",
   "metadata": {},
   "source": [
    "$\\color{red}{Напишите}$ пользовательскую функцию $\\textbf{regular_polygon_Relo(n, center, r, N)}$, которая возвращает матрицу, каждая строка которой содержит координаты точек, описывающих границу правильного многоугольника Рело.\n",
    "\n",
    "Аргументы пользовательской функции имеют следующий смысл:\n",
    "\n",
    "- $\\textbf{n}$: количество вершин правильного многоугольника Рело; является нечетным целым числом большим $2$; стандартное значение $n = 3$\n",
    "- $\\textbf{center}$: массив координат центра правильного многоугольника Рело; стандартнное значение $center = np.array([0, 0])$;\n",
    "- $\\textbf{r}$: ширина правильного многоугольника Рело; является положительным числом; стандартное значение $r = 1$;\n",
    "- $\\textbf{N}$: количество точек для описания одной стороны правильного многоугольника Рело; является натуральным числом; стандартное значение $N = 100$."
   ]
  },
  {
   "cell_type": "markdown",
   "id": "da4056a1-66ff-4f6f-9a7e-80346c8fbd08",
   "metadata": {},
   "source": [
    "# Реализация задания 4.1"
   ]
  },
  {
   "cell_type": "code",
   "execution_count": 2,
   "id": "c40db261-5c5e-40fd-a19c-646b7b8b653e",
   "metadata": {},
   "outputs": [],
   "source": [
    "import math\n",
    "import numpy as np\n",
    "import matplotlib.pyplot as plt"
   ]
  },
  {
   "cell_type": "markdown",
   "id": "cc99bbaa-097d-47e9-aeef-025f54662df3",
   "metadata": {},
   "source": [
    "## Этап 1. Построение треугольника Рело"
   ]
  },
  {
   "cell_type": "markdown",
   "id": "4e8521ee-09b4-4229-be41-52c437400089",
   "metadata": {},
   "source": [
    "### 1. Определение переменных"
   ]
  },
  {
   "cell_type": "code",
   "execution_count": 3,
   "id": "993443a5-10fd-4cbe-8efe-95339dd304cb",
   "metadata": {},
   "outputs": [],
   "source": [
    "n = 3 # количество вершин треугольника Рело\n",
    "center = np.array([0, 0]) # координаты центра треугольника Рело\n",
    "r = 10. # ширина треугольника Рело\n",
    "N = 100 # количество точек для описания стороны треугольника Рело"
   ]
  },
  {
   "cell_type": "markdown",
   "id": "12e60721-c820-4f0b-957d-48efca53c5eb",
   "metadata": {},
   "source": [
    "### 2. Вычисление координат вершин правильного треугольника"
   ]
  },
  {
   "cell_type": "markdown",
   "id": "649c00df-03da-49ad-ad8b-51d7d4a4d46b",
   "metadata": {},
   "source": [
    "Вершины правильного многоугольника расположены на окружности, описанной вокруг многоугольника. Радиус $R$ окружности, описанной вокруг правильного $n$-угольника с длиной стороны $l$, вычисляется по формуле\n",
    "$$R = \\dfrac{l}{2 \\sin \\pi / n}$$\n",
    "Длина стороны $l$ правильного треугольника, на котором будем строить треугольник Рело, совпадает с шириной треугольника Рело $r$"
   ]
  },
  {
   "cell_type": "code",
   "execution_count": 4,
   "id": "e1c4341f-d16c-406f-800d-2aa3d40fa581",
   "metadata": {},
   "outputs": [],
   "source": [
    "l = r # равенство справедливо только для треугольника Рело"
   ]
  },
  {
   "cell_type": "markdown",
   "id": "f9879d3a-31a5-41d0-9bd6-e34b146a735e",
   "metadata": {},
   "source": [
    "Вычислим радиус $R$ описанной окружности"
   ]
  },
  {
   "cell_type": "code",
   "execution_count": 11,
   "id": "b0b16c8f-4a45-4bf1-9022-3d91ddbb606e",
   "metadata": {},
   "outputs": [],
   "source": [
    "R = l / (2 * math.sin(math.pi / n))"
   ]
  },
  {
   "cell_type": "markdown",
   "id": "6ce37fd5-8d1a-4f52-bb06-917b5b3e4064",
   "metadata": {},
   "source": [
    "Введем прямоугольную декартову систему координат. Построим матрицу с координатами вершин правильного треугольника. Центр треуголника размещаем в точке $center$, радиус описанной окружности полагаем равным $R$"
   ]
  },
  {
   "cell_type": "code",
   "execution_count": 33,
   "id": "6622bd9c-72e2-40d6-a58e-df774da129db",
   "metadata": {},
   "outputs": [
    {
     "name": "stdout",
     "output_type": "stream",
     "text": [
      "[0.        2.0943951 4.1887902]\n",
      "[ 1.  -0.5 -0.5]\n",
      "[ 0.         0.8660254 -0.8660254]\n"
     ]
    },
    {
     "data": {
      "text/plain": [
       "array([[ 5.77350269,  0.        ],\n",
       "       [-2.88675135,  5.        ],\n",
       "       [-2.88675135, -5.        ]])"
      ]
     },
     "execution_count": 33,
     "metadata": {},
     "output_type": "execute_result"
    }
   ],
   "source": [
    "t = np.arange(0, 2 * np.pi, 2 * np.pi / n)\n",
    "# ВОПРОС: в чем смысл разбиения промежутка [0, 2 * pi)?\n",
    "# ОТВЕТ: смысл разбиения промежутка [0, 2 * pi) в том, что около этого самого треугольника описана окружность\n",
    "# и я ищу точки этого треугольника на окружности\n",
    "# треугольник правильный, поэтому разбиваю тригонометрический круг на равные части\n",
    "print(t)\n",
    "# эквиваленты такому разбиению - это\n",
    "# [0, 2 * pi / 3, 4 * pi / 3]\n",
    "# сам искал!\n",
    "\n",
    "# обращаю внимание на векторизацию вычислений с массивами без использования циклов\n",
    "\n",
    "# ВОПРОС: в чем смысл нахождения cos(t) и sin(t)?\n",
    "# ОТВЕТ: смысл нахождения cos(t) и sin(t) в том, что так я узнаю координаты точек - вершин треугольника\n",
    "# перед этим я нашел радианные меры углов\n",
    "# можно на листике отметить эти углы на тригонометрической окружности как точки\n",
    "# теперь нетрудно вывести координаты этих точек с помощью sin и cos, опустив перпендикуляры и радиус r = c:\n",
    "# (c * cos(beta); c * sin(beta))\n",
    "# beta - острый угол между радиусом и осью, нетружно доказать, что cos(острого угла beta) = cos(тупого угла)\n",
    "print(np.cos(t))\n",
    "print(np.sin(t))\n",
    "\n",
    "# ВОПРОС: в чем математический смысл следующей строчки?\n",
    "# ОТВЕТ:математический смысл следующей строчки в том, что\n",
    "# я транспонирую матрицу, состоящую из двух строк:\n",
    "# косинусы точек (углов) и синусы точек (углов)\n",
    "# таким образом получаю координаты каждой точки, но не совсем\n",
    "# чтобы получить именно координаты, умножаю на радиус описанной окружности\n",
    "# и просто прибавляю координаты центра, то есть сдвигаю в нужное место, вот и все\n",
    "\n",
    "vertices = center + R * np.transpose([np.cos(t), np.sin(t)])\n",
    "vertices"
   ]
  },
  {
   "cell_type": "code",
   "execution_count": 34,
   "id": "a0613cb2-5821-4cbc-8dbf-a48f8e0d486a",
   "metadata": {},
   "outputs": [
    {
     "data": {
      "text/plain": [
       "(-3.3197640478403514, 6.206515393788478, -5.499999999999999, 5.500000000000001)"
      ]
     },
     "execution_count": 34,
     "metadata": {},
     "output_type": "execute_result"
    },
    {
     "data": {
      "image/png": "[encoded data removed]",
      "text/plain": [
       "<Figure size 432x288 with 1 Axes>"
      ]
     },
     "metadata": {
      "needs_background": "light"
     },
     "output_type": "display_data"
    }
   ],
   "source": [
    "plt.plot(vertices[:,0], vertices[:,1], 'r.', markersize = 20)\n",
    "plt.axis('equal')\n",
    "# changes limits of x or y axis so that equal increments of x and y have the same length; a circle is circular\n",
    "# для корректного отображения"
   ]
  },
  {
   "cell_type": "markdown",
   "id": "c6581955-dbc2-4785-b385-32ca43b3da62",
   "metadata": {},
   "source": [
    "### 3. Представление одной стороны треугольника Рело"
   ]
  },
  {
   "cell_type": "markdown",
   "id": "ce35e545-205f-450b-98c9-5b2a84d79d1e",
   "metadata": {},
   "source": [
    "Обозначим через $\\alpha$ центральный угол, соответствующий стороне правильного $n$-угольника. Тогда\n",
    "$$\\alpha = 2 \\pi / n.$$\n",
    "Обозначим через $\\beta$ центральный угол, соответствующий стороне правильного многоугольника Рело, когда центр окружности расположен в вершине правильного многоугольника. Тогда\n",
    "$$\\beta = \\alpha / 2.$$\n",
    "Построим матрицу с координатами точек, описывающих сторону треугольника Рело относительно вершины vertices[0]. Сторона представляет собой дугу окружности радиуса $r$ с центром в точке vertices[0] и значением угла $\\left[ \\pi - \\beta / 2, \\pi + \\beta / 2 \\right]$.\n",
    "\n",
    "Вычислим значения введенных величин"
   ]
  },
  {
   "cell_type": "code",
   "execution_count": 36,
   "id": "0e5bc8bb-c409-43dc-9871-58524c8eea98",
   "metadata": {},
   "outputs": [],
   "source": [
    "# ВОПРОС: почему берется именно такое значение угла?\n",
    "# НЕУВЕРЕННЫЙ ОТВЕТ: потому что\n",
    "# можно было взять [2 * pi - beta / 2 ; 2 * pi + beta / 2]\n",
    "# можно еще какой-то\n",
    "alpha = 2 * math.pi / n\n",
    "beta = alpha / 2"
   ]
  },
  {
   "cell_type": "markdown",
   "id": "cdeb881f-eca0-46cc-9383-b0b3d8ea4a02",
   "metadata": {},
   "source": [
    "Введем вспомогательную последовательность значений угла для построения координат точек стороны треугольника Рело"
   ]
  },
  {
   "cell_type": "code",
   "execution_count": 37,
   "id": "8f8d2008-d212-4949-828e-9a71d2fac855",
   "metadata": {},
   "outputs": [],
   "source": [
    "angle = np.linspace(-beta / 2, beta / 2, N)\n",
    "# возвращает равномерно распределенные числа в течение заданного интервала\n",
    "# ВОПРОС: почему не np.arange?\n",
    "# ОТВЕТ: так удобней по синтаксису, так как есть известное число точек N\n",
    "# а еще когда мы используем аргументы с плавающей запятой в np.arange, это может привести к потере точности, \n",
    "# что может вызвать непредсказуемый результат"
   ]
  },
  {
   "cell_type": "markdown",
   "id": "baa31dd1-f6aa-409c-b2d1-054e843c2efd",
   "metadata": {},
   "source": [
    "Строим матрицу с координатами точек первой стороны"
   ]
  },
  {
   "cell_type": "code",
   "execution_count": 26,
   "id": "d137c83f-ef32-481b-ab99-f4d955a6b129",
   "metadata": {},
   "outputs": [],
   "source": [
    "# обращаю внимание на векторизацию вычислений с массивами без использования циклов\n",
    "side0 = vertices[0] + r * np.transpose([np.cos(angle + np.pi), np.sin(angle + np.pi)])"
   ]
  },
  {
   "cell_type": "code",
   "execution_count": 27,
   "id": "35bd8d4d-97c5-47d8-bcf1-43e3d190ca21",
   "metadata": {},
   "outputs": [
    {
     "data": {
      "text/plain": [
       "(-4.726350454318064, 6.273495698858845, -5.499999999999999, 5.500000000000001)"
      ]
     },
     "execution_count": 27,
     "metadata": {},
     "output_type": "execute_result"
    },
    {
     "data": {
      "image/png": "[encoded data removed]",
      "text/plain": [
       "<Figure size 432x288 with 1 Axes>"
      ]
     },
     "metadata": {
      "needs_background": "light"
     },
     "output_type": "display_data"
    }
   ],
   "source": [
    "plt.plot(vertices[:,0], vertices[:,1], 'r.', markersize=20)\n",
    "plt.plot(side0[:,0], side0[:,1], 'b-', markersize=20)\n",
    "plt.axis('equal')"
   ]
  },
  {
   "cell_type": "markdown",
   "id": "c859797c-bd72-46a0-91e7-5f0f25625d02",
   "metadata": {},
   "source": [
    "Построим матрицу с координатами точек, описывающих сторону треугольника Рело относительно второй вершины vertices[1]. Сторона представляет собой дугу окружности радиуса $r$ с центром в точке vertices[1] и значением угла $\\left[ \\pi + \\alpha - \\beta / 2, \\pi + \\alpha + \\beta / 2 \\right]$"
   ]
  },
  {
   "cell_type": "code",
   "execution_count": 38,
   "id": "b34d8a87-f2a5-4dad-ab35-f9c411bfb572",
   "metadata": {},
   "outputs": [],
   "source": [
    "# обращаю внимание на векторизацию вычислений с массивами без использования циклов\n",
    "side1 = vertices[1] + r * np.transpose([np.cos(angle + np.pi + alpha), np.sin(angle + np.pi + alpha)])"
   ]
  },
  {
   "cell_type": "code",
   "execution_count": 44,
   "id": "23fdc310-5329-4ecb-86a2-2bd4d5ed21a0",
   "metadata": {},
   "outputs": [
    {
     "data": {
      "text/plain": [
       "(-4.726350454318064, 6.273495698858845, -5.499999999999999, 5.500000000000001)"
      ]
     },
     "execution_count": 44,
     "metadata": {},
     "output_type": "execute_result"
    },
    {
     "data": {
      "image/png": "[encoded data removed]",
      "text/plain": [
       "<Figure size 432x288 with 1 Axes>"
      ]
     },
     "metadata": {
      "needs_background": "light"
     },
     "output_type": "display_data"
    }
   ],
   "source": [
    "plt.plot(vertices[:,0], vertices[:,1], 'r.', markersize=20)\n",
    "plt.plot(side0[:,0], side0[:,1], 'b-', markersize=20)\n",
    "plt.plot(side1[:,0], side1[:,1], 'g-', markersize=20)\n",
    "plt.axis('equal')"
   ]
  },
  {
   "cell_type": "code",
   "execution_count": null,
   "id": "1fe0e37c-5a87-4259-a8d1-e1d7cdc06b35",
   "metadata": {},
   "outputs": [],
   "source": []
  }
 ],
 "metadata": {
  "kernelspec": {
   "display_name": "Python 3 (ipykernel)",
   "language": "python",
   "name": "python3"
  },
  "language_info": {
   "codemirror_mode": {
    "name": "ipython",
    "version": 3
   },
   "file_extension": ".py",
   "mimetype": "text/x-python",
   "name": "python",
   "nbconvert_exporter": "python",
   "pygments_lexer": "ipython3",
   "version": "3.10.5"
  }
 },
 "nbformat": 4,
 "nbformat_minor": 5
}
