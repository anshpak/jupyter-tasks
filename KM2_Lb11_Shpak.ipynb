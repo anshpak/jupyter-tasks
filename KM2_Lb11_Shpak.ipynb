{
 "cells": [
  {
   "cell_type": "markdown",
   "id": "64f38d54-4666-4313-a51a-45d2205e967c",
   "metadata": {},
   "source": [
    "# Лабораторная работа 11\n",
    "# Пакет matplotlib для графического представления данных"
   ]
  },
  {
   "cell_type": "markdown",
   "id": "909cf5a6-dca4-4249-b91f-d700c52c8b30",
   "metadata": {},
   "source": [
    "Шпак Андрей Валерьевич, 09.08.2022"
   ]
  },
  {
   "cell_type": "markdown",
   "id": "40479050-7cd6-4349-8a9c-36c9c2ab7ec7",
   "metadata": {},
   "source": [
    "# Задание 1"
   ]
  },
  {
   "cell_type": "markdown",
   "id": "09857595-2769-4e95-ad5c-3937c4974072",
   "metadata": {},
   "source": [
    "Проработайте любой <a href=\"[1, раздел IV Showcase scientific-visualizationbook/code/showcases at master · rougier/scientific-visualization-book · GitHub]\">пример</a>. \n",
    "\n",
    "Приведите описание примера, а также комментарии для каждой строки кода."
   ]
  },
  {
   "cell_type": "markdown",
   "id": "5aace0f4-15b2-4b1b-8aed-1069367e1001",
   "metadata": {},
   "source": [
    "## Выполнение задания 1"
   ]
  },
  {
   "cell_type": "markdown",
   "id": "f999b13a-be56-4446-a59a-5646df3a8bd3",
   "metadata": {},
   "source": [
    "Создайте блокнот $\\textrm{Jupyter Notebook}$, который содержит:\n",
    "- описание примера;\n",
    "- пошаговую реализацию примера в отдельных ячейках кода с выделением этапов построения изображения;\n",
    "- комментарии к приведенному коду. "
   ]
  },
  {
   "cell_type": "code",
   "execution_count": null,
   "id": "41c7a085-31e4-4150-9fe3-774ae792f2ad",
   "metadata": {},
   "outputs": [],
   "source": []
  },
  {
   "cell_type": "code",
   "execution_count": null,
   "id": "92b82fe4-5d8f-4d71-9cac-8c1edbe36cb7",
   "metadata": {},
   "outputs": [],
   "source": []
  },
  {
   "cell_type": "code",
   "execution_count": null,
   "id": "f8e94a93-30aa-450c-903b-c3b7669ec9ce",
   "metadata": {},
   "outputs": [],
   "source": []
  },
  {
   "cell_type": "markdown",
   "id": "718f6c21-41f8-4f1f-9572-9f5e4de391c8",
   "metadata": {},
   "source": [
    "# Задание 2"
   ]
  },
  {
   "cell_type": "markdown",
   "id": "09d6e50d-781b-432d-b779-2ba0962daa1f",
   "metadata": {},
   "source": [
    "Дополните пример, выполненный в Задании 1, собственным аналогичным примером и прокомментируйте внесенные Вами изменения в коде."
   ]
  },
  {
   "cell_type": "code",
   "execution_count": null,
   "id": "eaf7dbdb-38b2-45bc-9ab1-8f2f29406945",
   "metadata": {},
   "outputs": [],
   "source": []
  },
  {
   "cell_type": "code",
   "execution_count": null,
   "id": "b38586e2-f98f-45e4-a84a-1683ca06d77e",
   "metadata": {},
   "outputs": [],
   "source": []
  },
  {
   "cell_type": "code",
   "execution_count": null,
   "id": "72e84175-fdcf-4d50-9461-0cf39229de4e",
   "metadata": {},
   "outputs": [],
   "source": []
  },
  {
   "cell_type": "code",
   "execution_count": null,
   "id": "2a807a20-e13f-4376-b370-d34261eee954",
   "metadata": {},
   "outputs": [],
   "source": []
  }
 ],
 "metadata": {
  "kernelspec": {
   "display_name": "Python 3 (ipykernel)",
   "language": "python",
   "name": "python3"
  },
  "language_info": {
   "codemirror_mode": {
    "name": "ipython",
    "version": 3
   },
   "file_extension": ".py",
   "mimetype": "text/x-python",
   "name": "python",
   "nbconvert_exporter": "python",
   "pygments_lexer": "ipython3",
   "version": "3.10.5"
  }
 },
 "nbformat": 4,
 "nbformat_minor": 5
}
