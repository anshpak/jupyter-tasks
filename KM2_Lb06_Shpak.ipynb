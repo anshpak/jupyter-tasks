{
 "cells": [
  {
   "cell_type": "markdown",
   "id": "282ea4f4-b6c0-4f55-b8d6-cf84f3e93346",
   "metadata": {},
   "source": [
    "# Лабораторная работа 6\n",
    "# Функции в Python. Инструменты функционального программирования"
   ]
  },
  {
   "cell_type": "markdown",
   "id": "dd1a4646-61e9-4289-afb2-97d75fbd79f9",
   "metadata": {},
   "source": [
    "# Задание 6"
   ]
  },
  {
   "cell_type": "markdown",
   "id": "80aa3a29-327a-4f12-8224-6d568d07838e",
   "metadata": {},
   "source": [
    "Проработайте материал четырех лекций, представленный в файлах\n",
    "- 2022_KM2_T4_Functions.html,\n",
    "- 2022_KM2_T5_IterableObjects.html,\n",
    "- 2022_KM2_T6_FunctionalProgramming.html\n",
    "\n",
    "Перенесите в свой блокнот Jupyter Notebook информационную структуру лекций, с указанием номера и темы раздела.\n",
    "\n",
    "Дополните каждый пример из лекционного материала кратким комментарием к нему."
   ]
  },
  {
   "cell_type": "markdown",
   "id": "85b89e9c-03c7-4979-9d55-c910a6195006",
   "metadata": {},
   "source": [
    "## Реализация задания 6"
   ]
  },
  {
   "cell_type": "markdown",
   "id": "1c43cb9d-0eb1-4d8a-abcd-b61b5474d23d",
   "metadata": {},
   "source": [
    "# Тема 4. Функция. Область видимости переменной"
   ]
  },
  {
   "cell_type": "markdown",
   "id": "e8f7eaa2-9ba5-434e-ba9b-4839e608449b",
   "metadata": {},
   "source": [
    "## 4.1 Определение функции, вызов функции, объект функции"
   ]
  },
  {
   "cell_type": "markdown",
   "id": "bef1a5a0-be51-4f55-8b33-75bb7d8c7c39",
   "metadata": {},
   "source": [
    "### Определение функции"
   ]
  },
  {
   "cell_type": "code",
   "execution_count": 5,
   "id": "3106e8a5-c809-429f-abff-36fff4f3f8e1",
   "metadata": {},
   "outputs": [
    {
     "data": {
      "text/plain": [
       "(1, None)"
      ]
     },
     "execution_count": 5,
     "metadata": {},
     "output_type": "execute_result"
    }
   ],
   "source": [
    "def f(x):\n",
    "    return x\n",
    "\n",
    "def g(x):\n",
    "    x = 10\n",
    "\n",
    "f(1), g(1)\n",
    "\n",
    "# посредством оператора return посылается результат вызова функции: объект-значение\n",
    "# если оператор return отсутствует в теле функции, результатом вызова является объект None\\"
   ]
  },
  {
   "cell_type": "code",
   "execution_count": 7,
   "id": "2237bd4e-ac01-4649-b48a-d795b0f37115",
   "metadata": {},
   "outputs": [
    {
     "name": "stdout",
     "output_type": "stream",
     "text": [
      "last line of the function body\n"
     ]
    },
    {
     "data": {
      "text/plain": [
       "(1, None)"
      ]
     },
     "execution_count": 7,
     "metadata": {},
     "output_type": "execute_result"
    }
   ],
   "source": [
    "def f(x):\n",
    "    return x\n",
    "    x = \"new value\"\n",
    "\n",
    "def g(x):\n",
    "    x = 10\n",
    "    print(\"last line of the function body\")\n",
    "\n",
    "f(1), g(1)\n",
    "\n",
    "# выход из тела функции осуществляется сразу после выполнения оператора return\n",
    "# если же оператор return в теле функции отсутствует, то выод из тела функции осуществится при достижении конца тела функции и\n",
    "# вернется объект None"
   ]
  },
  {
   "cell_type": "code",
   "execution_count": 8,
   "id": "900e67d9-deb1-49ec-a403-ae54335d32f8",
   "metadata": {},
   "outputs": [
    {
     "data": {
      "text/plain": [
       "('Return value:', 1)"
      ]
     },
     "execution_count": 8,
     "metadata": {},
     "output_type": "execute_result"
    }
   ],
   "source": [
    "def f(x):\n",
    "    return \"Return value:\", x\n",
    "\n",
    "f(1)\n",
    "\n",
    "# если нужно вернуть несколько объектов-значений, их можно возвращать как элементы кортежа"
   ]
  },
  {
   "cell_type": "code",
   "execution_count": 9,
   "id": "1f67dfe9-0dc3-4dd4-b0cd-defe8ab6d49a",
   "metadata": {},
   "outputs": [
    {
     "name": "stdout",
     "output_type": "stream",
     "text": [
      "1 between 2 between 3\n"
     ]
    }
   ],
   "source": [
    "print(1, 2, 3, sep=' between ')\n",
    "\n",
    "# пример вызова функции с позиционными и ключевыми аргументами\n",
    "# позиционные указываются вначале, после уже идут ключевые\n",
    "# позиционные передаются в строгом виде - таком же, котором и были определены в заголовке функции"
   ]
  },
  {
   "cell_type": "markdown",
   "id": "089b85fb-981d-49ea-b0d0-e7eedd52678b",
   "metadata": {},
   "source": [
    "### Вызов функции"
   ]
  },
  {
   "cell_type": "code",
   "execution_count": 10,
   "id": "d34f5884-7482-410b-88e7-d71c377f38f8",
   "metadata": {},
   "outputs": [
    {
     "name": "stdout",
     "output_type": "stream",
     "text": [
      "1 2\n",
      "2 {1}\n",
      "first second\n",
      "3 4\n"
     ]
    }
   ],
   "source": [
    "def f(arg1, arg2):\n",
    "    print(arg1, arg2)\n",
    "\n",
    "f(1, 2)                   # все аргументы позиционные\n",
    "f(arg1=2, arg2={1})       # все аргументы ключевые\n",
    "f(arg2='second', arg1='first') # порядок ключевых аргументов не важен\n",
    "f(3, arg2=4)              # сначала позиционный аргумент, затем ключевой\n",
    "\n",
    "# в лекционных комментариях все очень хорошо описано, добавить нечего"
   ]
  },
  {
   "cell_type": "code",
   "execution_count": 12,
   "id": "d4d7d8a1-d156-4fea-91a7-8e1e9dbb7367",
   "metadata": {},
   "outputs": [],
   "source": [
    "# некорректные вызовы\n",
    "# f()                       должно быть два аргумента\n",
    "# f(arg1=2, {1})            позиционный аргумент должен указываться до ключевого аргумента\n",
    "# f('second', arg1='first') одному позиционному аргументу соответствуют два значения\n",
    "# f(3, arg3=4)              неизвестный ключевой аргумент"
   ]
  },
  {
   "cell_type": "markdown",
   "id": "28b6c8b5-21db-4686-a419-74355e2c3cb3",
   "metadata": {},
   "source": [
    "### Определение функции со значениями по умолчанию для аргументов"
   ]
  },
  {
   "cell_type": "code",
   "execution_count": 13,
   "id": "020681da-8985-4bb8-945e-00f8e2f6c493",
   "metadata": {},
   "outputs": [
    {
     "data": {
      "text/plain": [
       "((100, 2, 3, 4, 5), (100, 0, 3, 4, 5))"
      ]
     },
     "execution_count": 13,
     "metadata": {},
     "output_type": "execute_result"
    }
   ],
   "source": [
    "def f(arg1, arg2=2, arg3=3, arg4=4, arg5=5):\n",
    "    return arg1, arg2, arg3, arg4, arg5\n",
    "\n",
    "f(100), f(100, 0)\n",
    "\n",
    "# пример вызова функции со значениями по умолчанию или \n",
    "# стандартными значениями\n",
    "# аргументы, имеющие стандартные значения являются не обязательными и при отсутствии в выове функции заменяются"
   ]
  },
  {
   "cell_type": "code",
   "execution_count": 14,
   "id": "aa56ad5b-4ed6-470c-8f10-e3d937e3616c",
   "metadata": {},
   "outputs": [
    {
     "name": "stdout",
     "output_type": "stream",
     "text": [
      "100 2 3 4 5\n",
      "100 0 3 4 5\n"
     ]
    }
   ],
   "source": [
    "def f(arg1, arg2=2, arg3=3, arg4=4, arg5=5):\n",
    "    print(arg1, arg2, arg3, arg4, arg5)\n",
    "\n",
    "f(100)\n",
    "f(100, 0)\n",
    "\n",
    "# еще один пример с стандартными значениями\n",
    "# отмечу, что стандартные значения идут не вначале, а после указания обычных аргументов"
   ]
  },
  {
   "cell_type": "markdown",
   "id": "fb7624e6-1cf4-469f-9ee5-1a380281366a",
   "metadata": {},
   "source": [
    "### Определение функции с произвольным количеством аргументов"
   ]
  },
  {
   "cell_type": "code",
   "execution_count": 58,
   "id": "b911a582-71a1-4dea-9034-041831d8e721",
   "metadata": {},
   "outputs": [
    {
     "name": "stdout",
     "output_type": "stream",
     "text": [
      "(1, 2, 3)\n",
      "(1, 2, 3, 4, 5, 6)\n"
     ]
    }
   ],
   "source": [
    "def f(*pargs):\n",
    "    print(pargs)\n",
    "\n",
    "f(1,2,3)\n",
    "f(1,2,3,4,5,6)\n",
    "\n",
    "# указание символа * перед именем аргумента позволяет передавть произвольное количество позиционных аргументов в функцию\n",
    "# в теле функции все аргументы доступны как элементы кортежа (имя аргумента)"
   ]
  },
  {
   "cell_type": "code",
   "execution_count": 16,
   "id": "8cc592df-960e-4716-8988-557f88c564c3",
   "metadata": {},
   "outputs": [
    {
     "data": {
      "text/plain": [
       "(21, 'word1word2word3', [1, 2, 3, 4])"
      ]
     },
     "execution_count": 16,
     "metadata": {},
     "output_type": "execute_result"
    }
   ],
   "source": [
    "def adder(*pargs):\n",
    "    \"\"\" применяет операцию сложения ко всем аргументам и возвращает результат операции\"\"\"\n",
    "    s = pargs[0] \n",
    "    for i in pargs[1:]:\n",
    "        s += i \n",
    "    return(s)\n",
    "\n",
    "adder(1,2,3,4,5,6), adder('word1', 'word2', 'word3'), adder([1],[2],[3],[4])\n",
    "\n",
    "# пример функции с произвольным количеством аргументов"
   ]
  },
  {
   "cell_type": "code",
   "execution_count": 20,
   "id": "16d60cda-dbe4-461c-a7a4-cd4c0554f6b9",
   "metadata": {},
   "outputs": [
    {
     "name": "stdout",
     "output_type": "stream",
     "text": [
      "10 {'arg1': 1, 'arg2': 2, 'arg3': 3}\n",
      "1 {'x1': 2, 'x2': 3, 'x3': 4, 'x5': 5, 'x6': 6}\n"
     ]
    }
   ],
   "source": [
    "def f(x,**kargs):\n",
    "    print(x, kargs)\n",
    "\n",
    "f(10, arg1=1, arg2=2, arg3=3)\n",
    "f(1, x1=2, x2=3, x3=4, x5=5, x6=6)\n",
    "\n",
    "# указание символа ** перед именем аргумента позволяет передавть произвольное количество ключевых аргументов в функцию\n",
    "# в теле функции все аргументы доступны как элементы словаря (имя аргумента)"
   ]
  },
  {
   "cell_type": "markdown",
   "id": "9b4f87d6-c282-4e71-8a4f-2f60bf11bba3",
   "metadata": {},
   "source": [
    "### Определение функции. Порядок следования аргументов"
   ]
  },
  {
   "cell_type": "code",
   "execution_count": 24,
   "id": "5b320b82-d25f-4ff3-8495-421db56a4ee9",
   "metadata": {},
   "outputs": [
    {
     "name": "stdout",
     "output_type": "stream",
     "text": [
      "1 2 3\n"
     ]
    }
   ],
   "source": [
    "def f(a, *, b, c):\n",
    "    print(a, b, c)\n",
    "    \n",
    "f(1, b=2, c=3)\n",
    "\n",
    "# если при определении функции в заголовке оператора def указать символ * без аргумента, то \n",
    "# все следующие за ним аргументы должны быть заданы ключевыми"
   ]
  },
  {
   "cell_type": "code",
   "execution_count": 27,
   "id": "6620f514-29b7-47c6-9289-70e7892770f1",
   "metadata": {},
   "outputs": [
    {
     "data": {
      "text/plain": [
       "\u001b[1;31mInit signature:\u001b[0m\n",
       "\u001b[0mFuncAnimation\u001b[0m\u001b[1;33m(\u001b[0m\u001b[1;33m\n",
       "\u001b[0m    \u001b[0mfig\u001b[0m\u001b[1;33m,\u001b[0m\u001b[1;33m\n",
       "\u001b[0m    \u001b[0mfunc\u001b[0m\u001b[1;33m,\u001b[0m\u001b[1;33m\n",
       "\u001b[0m    \u001b[0mframes\u001b[0m\u001b[1;33m=\u001b[0m\u001b[1;32mNone\u001b[0m\u001b[1;33m,\u001b[0m\u001b[1;33m\n",
       "\u001b[0m    \u001b[0minit_func\u001b[0m\u001b[1;33m=\u001b[0m\u001b[1;32mNone\u001b[0m\u001b[1;33m,\u001b[0m\u001b[1;33m\n",
       "\u001b[0m    \u001b[0mfargs\u001b[0m\u001b[1;33m=\u001b[0m\u001b[1;32mNone\u001b[0m\u001b[1;33m,\u001b[0m\u001b[1;33m\n",
       "\u001b[0m    \u001b[0msave_count\u001b[0m\u001b[1;33m=\u001b[0m\u001b[1;32mNone\u001b[0m\u001b[1;33m,\u001b[0m\u001b[1;33m\n",
       "\u001b[0m    \u001b[1;33m*\u001b[0m\u001b[1;33m,\u001b[0m\u001b[1;33m\n",
       "\u001b[0m    \u001b[0mcache_frame_data\u001b[0m\u001b[1;33m=\u001b[0m\u001b[1;32mTrue\u001b[0m\u001b[1;33m,\u001b[0m\u001b[1;33m\n",
       "\u001b[0m    \u001b[1;33m**\u001b[0m\u001b[0mkwargs\u001b[0m\u001b[1;33m,\u001b[0m\u001b[1;33m\n",
       "\u001b[0m\u001b[1;33m)\u001b[0m\u001b[1;33m\u001b[0m\u001b[1;33m\u001b[0m\u001b[0m\n",
       "\u001b[1;31mDocstring:\u001b[0m     \n",
       "Makes an animation by repeatedly calling a function *func*.\n",
       "\n",
       ".. note::\n",
       "\n",
       "    You must store the created Animation in a variable that lives as long\n",
       "    as the animation should run. Otherwise, the Animation object will be\n",
       "    garbage-collected and the animation stops.\n",
       "\n",
       "Parameters\n",
       "----------\n",
       "fig : `~matplotlib.figure.Figure`\n",
       "    The figure object used to get needed events, such as draw or resize.\n",
       "\n",
       "func : callable\n",
       "    The function to call at each frame.  The first argument will\n",
       "    be the next value in *frames*.   Any additional positional\n",
       "    arguments can be supplied via the *fargs* parameter.\n",
       "\n",
       "    The required signature is::\n",
       "\n",
       "        def func(frame, *fargs) -> iterable_of_artists\n",
       "\n",
       "    If ``blit == True``, *func* must return an iterable of all artists\n",
       "    that were modified or created. This information is used by the blitting\n",
       "    algorithm to determine which parts of the figure have to be updated.\n",
       "    The return value is unused if ``blit == False`` and may be omitted in\n",
       "    that case.\n",
       "\n",
       "frames : iterable, int, generator function, or None, optional\n",
       "    Source of data to pass *func* and each frame of the animation\n",
       "\n",
       "    - If an iterable, then simply use the values provided.  If the\n",
       "      iterable has a length, it will override the *save_count* kwarg.\n",
       "\n",
       "    - If an integer, then equivalent to passing ``range(frames)``\n",
       "\n",
       "    - If a generator function, then must have the signature::\n",
       "\n",
       "         def gen_function() -> obj\n",
       "\n",
       "    - If *None*, then equivalent to passing ``itertools.count``.\n",
       "\n",
       "    In all of these cases, the values in *frames* is simply passed through\n",
       "    to the user-supplied *func* and thus can be of any type.\n",
       "\n",
       "init_func : callable, optional\n",
       "    A function used to draw a clear frame. If not given, the results of\n",
       "    drawing from the first item in the frames sequence will be used. This\n",
       "    function will be called once before the first frame.\n",
       "\n",
       "    The required signature is::\n",
       "\n",
       "        def init_func() -> iterable_of_artists\n",
       "\n",
       "    If ``blit == True``, *init_func* must return an iterable of artists\n",
       "    to be re-drawn. This information is used by the blitting algorithm to\n",
       "    determine which parts of the figure have to be updated.  The return\n",
       "    value is unused if ``blit == False`` and may be omitted in that case.\n",
       "\n",
       "fargs : tuple or None, optional\n",
       "    Additional arguments to pass to each call to *func*.\n",
       "\n",
       "save_count : int, default: 100\n",
       "    Fallback for the number of values from *frames* to cache. This is\n",
       "    only used if the number of frames cannot be inferred from *frames*,\n",
       "    i.e. when it's an iterator without length or a generator.\n",
       "\n",
       "interval : int, default: 200\n",
       "    Delay between frames in milliseconds.\n",
       "\n",
       "repeat_delay : int, default: 0\n",
       "    The delay in milliseconds between consecutive animation runs, if\n",
       "    *repeat* is True.\n",
       "\n",
       "repeat : bool, default: True\n",
       "    Whether the animation repeats when the sequence of frames is completed.\n",
       "\n",
       "blit : bool, default: False\n",
       "    Whether blitting is used to optimize drawing.  Note: when using\n",
       "    blitting, any animated artists will be drawn according to their zorder;\n",
       "    however, they will be drawn on top of any previous artists, regardless\n",
       "    of their zorder.\n",
       "\n",
       "cache_frame_data : bool, default: True\n",
       "    Whether frame data is cached.  Disabling cache might be helpful when\n",
       "    frames contain large objects.\n",
       "\u001b[1;31mFile:\u001b[0m           c:\\users\\andrey\\appdata\\local\\programs\\python\\python310\\lib\\site-packages\\matplotlib\\animation.py\n",
       "\u001b[1;31mType:\u001b[0m           type\n",
       "\u001b[1;31mSubclasses:\u001b[0m     \n"
      ]
     },
     "metadata": {},
     "output_type": "display_data"
    }
   ],
   "source": [
    "from matplotlib.animation import FuncAnimation\n",
    "FuncAnimation?\n",
    "\n",
    "# при определении функции сначала указываются поиционные аргументы, затем аргументы со стандартными значениями, \n",
    "# затем *pargs (просто *), затем аргументы с передачей только по ключу, затем **kargs"
   ]
  },
  {
   "cell_type": "code",
   "execution_count": 30,
   "id": "0685366e-df0d-4f23-bf95-7114a85c0f04",
   "metadata": {},
   "outputs": [
    {
     "name": "stdout",
     "output_type": "stream",
     "text": [
      "1 2 (3, 4, 5) 10 {'x': 1, 'y': 2}\n"
     ]
    }
   ],
   "source": [
    "def f(a, b=5, *pargs, c=50, **kargs):\n",
    "    print(a, b, pargs, c, kargs)\n",
    "\n",
    "f(1, 2, 3, 4, 5, c=10, x=1, y=2)\n",
    "\n",
    "# как видно, у аргумента с передачей по ключу тоже может быть стандартное значение"
   ]
  },
  {
   "cell_type": "code",
   "execution_count": 34,
   "id": "de7c6d19-954a-4959-a88a-6167502bd648",
   "metadata": {},
   "outputs": [
    {
     "name": "stdout",
     "output_type": "stream",
     "text": [
      "1 2 10 {'x': 1, 'y': 2}\n"
     ]
    }
   ],
   "source": [
    "def f(a, b=5, *, c=50, **kargs):\n",
    "    print(a, b, c, kargs)\n",
    "\n",
    "f(1, 2, c=10, x=1, y=2)\n",
    "\n",
    "# сначала я подумал, что просто символ * тоже позволяет передавать призвольное количество позиционных аргументов,\n",
    "# но это предположение ошибочное"
   ]
  },
  {
   "cell_type": "markdown",
   "id": "607ea5f2-dcd2-4b1c-beb1-b2b1d09291ba",
   "metadata": {},
   "source": [
    "### Объект функции"
   ]
  },
  {
   "cell_type": "code",
   "execution_count": 37,
   "id": "fc64298d-e85d-4faf-bdf2-8a5731fd6b82",
   "metadata": {},
   "outputs": [
    {
     "data": {
      "text/plain": [
       "<function __main__.f(x)>"
      ]
     },
     "execution_count": 37,
     "metadata": {},
     "output_type": "execute_result"
    }
   ],
   "source": [
    "def f(x):\n",
    "    ...\n",
    "    return \"function f is called\"\n",
    "f\n",
    "\n",
    "# имя функции становится ссылкой на объект функции благодаря автоматическому неявному присваиванию\n",
    "# объекта функции имени функции при выполнении оператора def"
   ]
  },
  {
   "cell_type": "code",
   "execution_count": 39,
   "id": "7e02bca1-807e-44af-be72-b71438a65ea6",
   "metadata": {},
   "outputs": [
    {
     "data": {
      "text/plain": [
       "('function f is called', [1, <function __main__.f(x)>, 'string'])"
      ]
     },
     "execution_count": 39,
     "metadata": {},
     "output_type": "execute_result"
    }
   ],
   "source": [
    "g = f; \n",
    "g(f), [1, f, \"string\"] \n",
    "\n",
    "# с объектами функций можно работать так же, как и с объектами встроенных  типов:\n",
    "# присваивать другим переменным\n",
    "# передавать другим функциям как аргумент\n",
    "# использовать в коллекциях  и так далее"
   ]
  },
  {
   "cell_type": "code",
   "execution_count": 42,
   "id": "f20bf097-b906-44a5-912b-e6d01504210c",
   "metadata": {},
   "outputs": [
    {
     "data": {
      "text/plain": [
       "(1, ('x',))"
      ]
     },
     "execution_count": 42,
     "metadata": {},
     "output_type": "execute_result"
    }
   ],
   "source": [
    "f.__code__.co_argcount, f.__code__.co_varnames\n",
    "\n",
    "# с помощью атрибута __code__ можно получить, в частности, информацию об аргументах функции"
   ]
  },
  {
   "cell_type": "markdown",
   "id": "b54100af-ac03-4599-bc82-a9c90ece5d23",
   "metadata": {},
   "source": [
    "### lambda-функция"
   ]
  },
  {
   "cell_type": "code",
   "execution_count": 43,
   "id": "612f8eb7-2142-4b05-9e4f-a1ba8099a569",
   "metadata": {},
   "outputs": [
    {
     "data": {
      "text/plain": [
       "<function __main__.<lambda>(x)>"
      ]
     },
     "execution_count": 43,
     "metadata": {},
     "output_type": "execute_result"
    }
   ],
   "source": [
    "def f(x):                # объект функции создан и неявно присвоен переменной f\n",
    "    return (x-5)**2\n",
    "\n",
    "lambda x: (x-5)**2       # объект функции создан\n",
    "\n",
    "# показывается разница между обычной функцией и lambda-функцией\n",
    "# выражение lambda-функции возвращает объект функции без присваивания объекта функции имени функции\n",
    "# тело lambda-функции является одиночным выражением и не может содержать операторы"
   ]
  },
  {
   "cell_type": "code",
   "execution_count": 44,
   "id": "27e12ae1-b9aa-49d5-ab1d-f07793a56337",
   "metadata": {},
   "outputs": [
    {
     "data": {
      "text/plain": [
       "[<function __main__.<lambda>(x)>, <function __main__.<lambda>(x)>]"
      ]
     },
     "execution_count": 44,
     "metadata": {},
     "output_type": "execute_result"
    }
   ],
   "source": [
    "[lambda x: (x-5)**2, lambda x: abs(x)]\n",
    "\n",
    "# lambda-функция является выражением, а не оператором\n",
    "# она может находиться в местах, где оператор def не разрешен синтаксисом языка Python, \n",
    "# например, внутри коллекций или в качестве аргументов при вызове функции"
   ]
  },
  {
   "cell_type": "code",
   "execution_count": 47,
   "id": "be7a8e06-6c34-41c6-a537-5cdf18cc7b66",
   "metadata": {},
   "outputs": [
    {
     "data": {
      "text/plain": [
       "[1, 2, 5, 10, 17, 26, 37, 50, 65, 82]"
      ]
     },
     "execution_count": 47,
     "metadata": {},
     "output_type": "execute_result"
    }
   ],
   "source": [
    "list(map((lambda x: x**2+1), range(10)))\n",
    "\n",
    "# еще один пример"
   ]
  },
  {
   "cell_type": "code",
   "execution_count": 51,
   "id": "423483cd-109d-4009-a7db-040e4a3ea9b8",
   "metadata": {},
   "outputs": [
    {
     "data": {
      "text/plain": [
       "(['BCA', 'abC', 'zzz'], ['abC', 'BCA', 'zzz'])"
      ]
     },
     "execution_count": 51,
     "metadata": {},
     "output_type": "execute_result"
    }
   ],
   "source": [
    "z = ['abC','BCA',\"zzz\"]\n",
    "sorted(z), sorted(z, key=lambda x: x.lower())\n",
    "\n",
    "# и еще один пример"
   ]
  },
  {
   "cell_type": "code",
   "execution_count": 50,
   "id": "068b809b-0b7c-4404-a013-e147ba36735a",
   "metadata": {},
   "outputs": [
    {
     "data": {
      "text/plain": [
       "[6, 7, 8, 9]"
      ]
     },
     "execution_count": 50,
     "metadata": {},
     "output_type": "execute_result"
    }
   ],
   "source": [
    "list(filter((lambda x: x>5), range(10)))\n",
    "\n",
    "# lambda-функция позволяет встраивать определение функции внутрь кода, где осуществляется применение функции"
   ]
  },
  {
   "cell_type": "markdown",
   "id": "f743cc3d-7714-4ff6-8be5-320a60c30d25",
   "metadata": {},
   "source": [
    "## 4.2 Передача значений аргументов при вызове функции"
   ]
  },
  {
   "cell_type": "code",
   "execution_count": 52,
   "id": "e761dfad-476c-464e-9feb-1f023f5a5000",
   "metadata": {},
   "outputs": [],
   "source": [
    "def f(arg1, arg2):\n",
    "    ...\n",
    "\n",
    "f(1, 2) # неявные присваивания arg1 = 1 и arg2 = 2\n",
    "\n",
    "# неявное присваивание происходит автоматически при вызове функции"
   ]
  },
  {
   "cell_type": "code",
   "execution_count": 54,
   "id": "b6716002-0307-4b08-b053-504f56ab7ac3",
   "metadata": {},
   "outputs": [
    {
     "name": "stdout",
     "output_type": "stream",
     "text": [
      "[1, 2] {2, 3}\n"
     ]
    }
   ],
   "source": [
    "def f(arg1):\n",
    "    arg1.pop()\n",
    "\n",
    "list1 = [1,2,3]; set1 = set(list1)    \n",
    "f(list1); f(set1)\n",
    "print(list1, set1)\n",
    "\n",
    "# изменяемые объекты, передаваемые в функцию, могут быть изменены внутри функции"
   ]
  },
  {
   "cell_type": "code",
   "execution_count": 55,
   "id": "122f2f37-bb06-45f6-9f01-652c3488d556",
   "metadata": {},
   "outputs": [
    {
     "name": "stdout",
     "output_type": "stream",
     "text": [
      "[1, 2, 3]\n"
     ]
    }
   ],
   "source": [
    "def f(arg1):\n",
    "    arg1 = arg1[:] # создание копии списка\n",
    "    arg1.pop()\n",
    "\n",
    "list1 = [1,2,3]   \n",
    "f(list1)           # вызов функции со списком в качестве аргумента\n",
    "print(list1) \n",
    "\n",
    "# работаю с копией, чтобы не изменять объект, передаваемый при вызове в функцию"
   ]
  },
  {
   "cell_type": "markdown",
   "id": "be01915b-6b51-4fbe-9283-3aa143df2508",
   "metadata": {},
   "source": [
    "### Режимы сопоставления объектов-значений и аргументов-переменных при вызове функции"
   ]
  },
  {
   "cell_type": "code",
   "execution_count": 56,
   "id": "2652e2a9-433f-4ea2-a620-53ddaf3855ed",
   "metadata": {},
   "outputs": [],
   "source": [
    "def f(arg1, arg2, arg3, arg4, arg5):\n",
    "    ...\n",
    "\n",
    "f(1, 2, 3, 4, 5) # arg1 = 1, arg2 = 2, arg3 = 3, arg4 = 4, arg5 = 5\n",
    "\n",
    "# позиционный режим сопоставления при вызове функции только с позиционными аргументами -\n",
    "# автоматическое неявное присваивание аргументам-переменным объектов-значений по позиции слева направо"
   ]
  },
  {
   "cell_type": "code",
   "execution_count": 57,
   "id": "e2681781-17e3-42a1-aff2-990fb6873722",
   "metadata": {},
   "outputs": [
    {
     "name": "stdout",
     "output_type": "stream",
     "text": [
      "1 2 3 4 5\n",
      "1 2 s t 5\n"
     ]
    }
   ],
   "source": [
    "def f(arg1, arg2, arg3, arg4, arg5):\n",
    "    print(arg1, arg2, arg3, arg4, arg5)\n",
    "\n",
    "f(*range(1,6)) # arg1 = 1, arg2 = 2, arg3 = 3, arg4 = 4, arg5 = 5\n",
    "# совмещение позиционных режимов с распаковкой и без распаковки\n",
    "f(1, 2, *\"st\", 5) \n",
    "\n",
    "# позиционный режим сопоставления с распаковкой последовательностей: \n",
    "# когда при вызове функции только с позиционными аргументами указывается символ * перед последовательностью с \n",
    "# объектами-значениями, то происходит распаковка последовательности на элементы и \n",
    "# автоматическое неявное присваивание объектов-значений из последовательности аргументам-переменным по позиции слева направо"
   ]
  },
  {
   "cell_type": "code",
   "execution_count": 59,
   "id": "f92c4abc-35e6-4103-8e94-a86dfb261798",
   "metadata": {},
   "outputs": [
    {
     "name": "stdout",
     "output_type": "stream",
     "text": [
      "3 4 2 5 1\n",
      "1 2 3 4 5\n"
     ]
    }
   ],
   "source": [
    "def f(arg1, arg2, arg3, arg4, arg5):\n",
    "    print(arg1, arg2, arg3, arg4, arg5)\n",
    "\n",
    "f(arg5=1, arg3=2, arg1=3, arg2=4, arg4=5) # arg1 = 3, arg2 = 4, arg3 = 2, arg4 = 5, arg5 = 1\n",
    "# совмещение ключевого и позиционного режимов\n",
    "f(1, 2, 3, arg5=5, arg4=4)\n",
    "\n",
    "# ключевой режим сопоставления, когда при вызове функции явно указывается связь \n",
    "# между аргументом и передаваемым значением аргумент = значение"
   ]
  },
  {
   "cell_type": "code",
   "execution_count": 60,
   "id": "bdfe3d61-18a2-4497-967b-e7fc9606a186",
   "metadata": {},
   "outputs": [
    {
     "name": "stdout",
     "output_type": "stream",
     "text": [
      "100 2 3 4 5\n"
     ]
    }
   ],
   "source": [
    "def f(arg1, arg2, arg3, arg4, arg5):\n",
    "    print(arg1, arg2, arg3, arg4, arg5)\n",
    "\n",
    "myDict = {'arg2':2,'arg3':3,'arg5':5,'arg4':4}\n",
    "\n",
    "f(**myDict, arg1=100)\n",
    "\n",
    "# ключевой режим сопоставления с распаковкой словарей: когда при вызове функции указывается ** \n",
    "# перед словарем с элементами аргумент: значение, то происходит автоматическое неявное \n",
    "# присваивание аргументам, указанным ключами словаря, соответствующих объектов-значений из словаря"
   ]
  },
  {
   "cell_type": "markdown",
   "id": "d8986556-9466-41d4-8467-13ad1a5e5d5b",
   "metadata": {},
   "source": [
    "## 4.3 Область видимости переменной"
   ]
  },
  {
   "cell_type": "markdown",
   "id": "049a1b55-7c8b-4254-990a-fc9ecd0e6b74",
   "metadata": {},
   "source": [
    "### Типы областей видимости"
   ]
  },
  {
   "cell_type": "code",
   "execution_count": 61,
   "id": "6bd4b117-4f70-4475-a637-e573f32a7dad",
   "metadata": {},
   "outputs": [
    {
     "ename": "NameError",
     "evalue": "name 'new_variable' is not defined",
     "output_type": "error",
     "traceback": [
      "\u001b[1;31m---------------------------------------------------------------------------\u001b[0m",
      "\u001b[1;31mNameError\u001b[0m                                 Traceback (most recent call last)",
      "Input \u001b[1;32mIn [61]\u001b[0m, in \u001b[0;36m<cell line: 1>\u001b[1;34m()\u001b[0m\n\u001b[1;32m----> 1\u001b[0m \u001b[43mnew_variable\u001b[49m\n",
      "\u001b[1;31mNameError\u001b[0m: name 'new_variable' is not defined"
     ]
    }
   ],
   "source": [
    "new_variable\n",
    "\n",
    "# ошибка, потому что переменную найти не удалось ни в одной из областей LEGB\n",
    "# локальная область видимости (Local)\n",
    "# областИ видимости объемлющих функций (Enclosing)\n",
    "# глобальная область видимости (Global)\n",
    "# встроенная область видимости (Built-in)"
   ]
  },
  {
   "cell_type": "markdown",
   "id": "aeca684b-d861-404c-b2c6-61a184e2db7e",
   "metadata": {},
   "source": [
    "### Локальная область видимости (Local)"
   ]
  },
  {
   "cell_type": "code",
   "execution_count": 64,
   "id": "eebc5cf4-ee33-42a5-858e-ff0d8e20628b",
   "metadata": {},
   "outputs": [
    {
     "data": {
      "text/plain": [
       "(2, 11)"
      ]
     },
     "execution_count": 64,
     "metadata": {},
     "output_type": "execute_result"
    }
   ],
   "source": [
    "x = 1\n",
    "x += 1 # поиск только в областях видимости G и В\n",
    "\n",
    "def f():    \n",
    "    x = 10 \n",
    "    x += 1 # локальная переменная x\n",
    "    return x \n",
    "\n",
    "x, f()\n",
    "\n",
    "# пример показывает, что локальная переменная не конфликтует с переменными за пределами области видимости\n",
    "# использование локальных переменных за пределами области видимости невозможно\n",
    "# локальные переменные существуют в памяти только в период, когда функция выполняется"
   ]
  },
  {
   "cell_type": "markdown",
   "id": "e2138dc2-b97d-4378-a306-71b745ff57fe",
   "metadata": {},
   "source": [
    "### Глобальная область видимости (Global)"
   ]
  },
  {
   "cell_type": "code",
   "execution_count": 66,
   "id": "9d019ead-0e39-4c62-bf67-eb78d96703b7",
   "metadata": {},
   "outputs": [
    {
     "data": {
      "text/plain": [
       "(2, 110)"
      ]
     },
     "execution_count": 66,
     "metadata": {},
     "output_type": "execute_result"
    }
   ],
   "source": [
    "x = 1; y = 100\n",
    "x += 1 \n",
    "\n",
    "def f():    \n",
    "    x = 10 + y # y расположена в глобальной области видимости\n",
    "    return x  \n",
    "x, f()\n",
    "\n",
    "# можно ссылаться на переменные из области видимости объемлющих функций \n",
    "# и из глобальной области видимости, но изменять их значения нельзя"
   ]
  },
  {
   "cell_type": "markdown",
   "id": "4a5e395d-c21d-45e5-a708-822c8b6bd348",
   "metadata": {},
   "source": [
    "### Операторы объявления global и nonlocal"
   ]
  },
  {
   "cell_type": "code",
   "execution_count": 70,
   "id": "4c8e5e3c-bc20-4c1f-bf91-59a17f0682bd",
   "metadata": {},
   "outputs": [
    {
     "data": {
      "text/plain": [
       "(2, 110, 110)"
      ]
     },
     "execution_count": 70,
     "metadata": {},
     "output_type": "execute_result"
    }
   ],
   "source": [
    "x = 1; y = 100\n",
    "x += 1 \n",
    "\n",
    "def f(): \n",
    "    global x, z  # переменная x будет глобальной\n",
    "    x = 10 + y \n",
    "    return x  \n",
    "\n",
    "x, f(), x\n",
    "\n",
    "# x - глобальная переменная\n",
    "# x поменял значение после вызова функции\n",
    "# такую возможность предоставляет оператор global\n",
    "# x был объявлен внутри функции как глобальная переменная\n",
    "# его использование имеет смысл только внутри функции\n",
    "# если оператор global использован с не определенной ранее переменной, переменная создается как глобальная"
   ]
  },
  {
   "cell_type": "code",
   "execution_count": 72,
   "id": "29d24c92-95cf-4e88-8877-28ee3d1e6e8a",
   "metadata": {},
   "outputs": [
    {
     "data": {
      "text/plain": [
       "(1, 110, 1)"
      ]
     },
     "execution_count": 72,
     "metadata": {},
     "output_type": "execute_result"
    }
   ],
   "source": [
    "x = 1; y = 100\n",
    "\n",
    "def f1():\n",
    "    x = 5\n",
    "    def f(): \n",
    "        nonlocal x  # переменная x будет нелокальной\n",
    "        x = 10 + y \n",
    "    f()\n",
    "    return x\n",
    "\n",
    "x, f1(), x\n",
    "\n",
    "# x = 1 \n",
    "# вызываю f1()\n",
    "# внутри f1() x = 5\n",
    "# внутри f1() вызываю f()\n",
    "# внутри f() x = 5 изменяю на x = 110\n",
    "# f1() возвращает x = 110"
   ]
  },
  {
   "cell_type": "markdown",
   "id": "09b83977-fc46-437e-b5de-85fae613d0ef",
   "metadata": {},
   "source": [
    "### Встроенная область видимости (Вuilt-in)"
   ]
  },
  {
   "cell_type": "code",
   "execution_count": 73,
   "id": "3e2fcea5-29a1-4142-b954-49304a194558",
   "metadata": {},
   "outputs": [
    {
     "data": {
      "text/plain": [
       "159"
      ]
     },
     "execution_count": 73,
     "metadata": {},
     "output_type": "execute_result"
    }
   ],
   "source": [
    "import builtins\n",
    "len(dir(builtins))\n",
    "\n",
    "# все переменные из встроенной области видимости определены в модуле builtins\n",
    "# это имена встроенных исключений, встроенные функции (например, abs, len, min), переменные (True, False, None, Ellipses, NotImplemented)"
   ]
  },
  {
   "cell_type": "code",
   "execution_count": 76,
   "id": "c86696a0-1c01-4e34-95cf-77f22bff6fae",
   "metadata": {},
   "outputs": [
    {
     "ename": "TypeError",
     "evalue": "'int' object is not callable",
     "output_type": "error",
     "traceback": [
      "\u001b[1;31m---------------------------------------------------------------------------\u001b[0m",
      "\u001b[1;31mTypeError\u001b[0m                                 Traceback (most recent call last)",
      "Input \u001b[1;32mIn [76]\u001b[0m, in \u001b[0;36m<cell line: 1>\u001b[1;34m()\u001b[0m\n\u001b[1;32m----> 1\u001b[0m \u001b[38;5;28mprint\u001b[39m(\u001b[38;5;28;43mabs\u001b[39;49m\u001b[43m(\u001b[49m\u001b[38;5;241;43m-\u001b[39;49m\u001b[38;5;241;43m5\u001b[39;49m\u001b[43m)\u001b[49m)\n\u001b[0;32m      2\u001b[0m \u001b[38;5;28mabs\u001b[39m \u001b[38;5;241m=\u001b[39m \u001b[38;5;241m1\u001b[39m\n",
      "\u001b[1;31mTypeError\u001b[0m: 'int' object is not callable"
     ]
    }
   ],
   "source": [
    "print(abs(-5))\n",
    "abs = 1\n",
    "\n",
    "# осторожно: при переопределении встроенного имени предупреждение будет выдаваться не всегда"
   ]
  },
  {
   "cell_type": "code",
   "execution_count": 78,
   "id": "88969bbc-97d0-469d-8ef9-d8ddc712c775",
   "metadata": {},
   "outputs": [
    {
     "data": {
      "text/plain": [
       "list"
      ]
     },
     "execution_count": 78,
     "metadata": {},
     "output_type": "execute_result"
    }
   ],
   "source": [
    "list1 = [1,2,3]\n",
    "list1.__class__ # переменная __class__ определена внутри области видимости объекта list1\n",
    "\n",
    "# когда для переменной явно указывается объект, которому переменная принадлежит, \n",
    "# например, object.X, значение переменной X извлекается из объекта object без поиска переменной X в областях видимости LEGB"
   ]
  },
  {
   "cell_type": "code",
   "execution_count": null,
   "id": "e7f1b226-ab8d-43ea-9aff-03433773440b",
   "metadata": {},
   "outputs": [],
   "source": []
  }
 ],
 "metadata": {
  "kernelspec": {
   "display_name": "Python 3 (ipykernel)",
   "language": "python",
   "name": "python3"
  },
  "language_info": {
   "codemirror_mode": {
    "name": "ipython",
    "version": 3
   },
   "file_extension": ".py",
   "mimetype": "text/x-python",
   "name": "python",
   "nbconvert_exporter": "python",
   "pygments_lexer": "ipython3",
   "version": "3.10.5"
  }
 },
 "nbformat": 4,
 "nbformat_minor": 5
}
