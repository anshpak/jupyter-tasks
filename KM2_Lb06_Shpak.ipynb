{
 "cells": [
  {
   "cell_type": "markdown",
   "id": "282ea4f4-b6c0-4f55-b8d6-cf84f3e93346",
   "metadata": {},
   "source": [
    "# Лабораторная работа 6\n",
    "# Функции в Python. Инструменты функционального программирования"
   ]
  },
  {
   "cell_type": "markdown",
   "id": "dd1a4646-61e9-4289-afb2-97d75fbd79f9",
   "metadata": {},
   "source": [
    "# Задание 6"
   ]
  },
  {
   "cell_type": "markdown",
   "id": "80aa3a29-327a-4f12-8224-6d568d07838e",
   "metadata": {},
   "source": [
    "Проработайте материал четырех лекций, представленный в файлах\n",
    "- 2022_KM2_T4_Functions.html,\n",
    "- 2022_KM2_T5_IterableObjects.html,\n",
    "- 2022_KM2_T6_FunctionalProgramming.html\n",
    "\n",
    "Перенесите в свой блокнот Jupyter Notebook информационную структуру лекций, с указанием номера и темы раздела.\n",
    "\n",
    "Дополните каждый пример из лекционного материала кратким комментарием к нему."
   ]
  },
  {
   "cell_type": "markdown",
   "id": "85b89e9c-03c7-4979-9d55-c910a6195006",
   "metadata": {},
   "source": [
    "## Реализация задания 6"
   ]
  },
  {
   "cell_type": "markdown",
   "id": "1c43cb9d-0eb1-4d8a-abcd-b61b5474d23d",
   "metadata": {},
   "source": [
    "# Тема 4. Функция. Область видимости переменной"
   ]
  },
  {
   "cell_type": "markdown",
   "id": "e8f7eaa2-9ba5-434e-ba9b-4839e608449b",
   "metadata": {},
   "source": [
    "## 4.1 Определение функции, вызов функции, объект функции"
   ]
  },
  {
   "cell_type": "markdown",
   "id": "bef1a5a0-be51-4f55-8b33-75bb7d8c7c39",
   "metadata": {},
   "source": [
    "### Определение функции"
   ]
  },
  {
   "cell_type": "code",
   "execution_count": 5,
   "id": "3106e8a5-c809-429f-abff-36fff4f3f8e1",
   "metadata": {},
   "outputs": [
    {
     "data": {
      "text/plain": [
       "(1, None)"
      ]
     },
     "execution_count": 5,
     "metadata": {},
     "output_type": "execute_result"
    }
   ],
   "source": [
    "def f(x):\n",
    "    return x\n",
    "\n",
    "def g(x):\n",
    "    x = 10\n",
    "\n",
    "f(1), g(1)\n",
    "\n",
    "# посредством оператора return посылается результат вызова функции: объект-значение\n",
    "# если оператор return отсутствует в теле функции, результатом вызова является объект None\\"
   ]
  },
  {
   "cell_type": "code",
   "execution_count": 7,
   "id": "2237bd4e-ac01-4649-b48a-d795b0f37115",
   "metadata": {},
   "outputs": [
    {
     "name": "stdout",
     "output_type": "stream",
     "text": [
      "last line of the function body\n"
     ]
    },
    {
     "data": {
      "text/plain": [
       "(1, None)"
      ]
     },
     "execution_count": 7,
     "metadata": {},
     "output_type": "execute_result"
    }
   ],
   "source": [
    "def f(x):\n",
    "    return x\n",
    "    x = \"new value\"\n",
    "\n",
    "def g(x):\n",
    "    x = 10\n",
    "    print(\"last line of the function body\")\n",
    "\n",
    "f(1), g(1)\n",
    "\n",
    "# выход из тела функции осуществляется сразу после выполнения оператора return\n",
    "# если же оператор return в теле функции отсутствует, то выод из тела функции осуществится при достижении конца тела функции и\n",
    "# вернется объект None"
   ]
  },
  {
   "cell_type": "code",
   "execution_count": 8,
   "id": "900e67d9-deb1-49ec-a403-ae54335d32f8",
   "metadata": {},
   "outputs": [
    {
     "data": {
      "text/plain": [
       "('Return value:', 1)"
      ]
     },
     "execution_count": 8,
     "metadata": {},
     "output_type": "execute_result"
    }
   ],
   "source": [
    "def f(x):\n",
    "    return \"Return value:\", x\n",
    "\n",
    "f(1)\n",
    "\n",
    "# если нужно вернуть несколько объектов-значений, их можно возвращать как элементы кортежа"
   ]
  },
  {
   "cell_type": "code",
   "execution_count": 9,
   "id": "1f67dfe9-0dc3-4dd4-b0cd-defe8ab6d49a",
   "metadata": {},
   "outputs": [
    {
     "name": "stdout",
     "output_type": "stream",
     "text": [
      "1 between 2 between 3\n"
     ]
    }
   ],
   "source": [
    "print(1, 2, 3, sep=' between ')\n",
    "\n",
    "# пример вызова функции с позиционными и ключевыми аргументами\n",
    "# позиционные указываются вначале, после уже идут ключевые\n",
    "# позиционные передаются в строгом виде - таком же, котором и были определены в заголовке функции"
   ]
  },
  {
   "cell_type": "markdown",
   "id": "089b85fb-981d-49ea-b0d0-e7eedd52678b",
   "metadata": {},
   "source": [
    "### Вызов функции"
   ]
  },
  {
   "cell_type": "code",
   "execution_count": 10,
   "id": "d34f5884-7482-410b-88e7-d71c377f38f8",
   "metadata": {},
   "outputs": [
    {
     "name": "stdout",
     "output_type": "stream",
     "text": [
      "1 2\n",
      "2 {1}\n",
      "first second\n",
      "3 4\n"
     ]
    }
   ],
   "source": [
    "def f(arg1, arg2):\n",
    "    print(arg1, arg2)\n",
    "\n",
    "f(1, 2)                   # все аргументы позиционные\n",
    "f(arg1=2, arg2={1})       # все аргументы ключевые\n",
    "f(arg2='second', arg1='first') # порядок ключевых аргументов не важен\n",
    "f(3, arg2=4)              # сначала позиционный аргумент, затем ключевой\n",
    "\n",
    "# в лекционных комментариях все очень хорошо описано, добавить нечего"
   ]
  },
  {
   "cell_type": "code",
   "execution_count": 12,
   "id": "d4d7d8a1-d156-4fea-91a7-8e1e9dbb7367",
   "metadata": {},
   "outputs": [],
   "source": [
    "# некорректные вызовы\n",
    "# f()                       должно быть два аргумента\n",
    "# f(arg1=2, {1})            позиционный аргумент должен указываться до ключевого аргумента\n",
    "# f('second', arg1='first') одному позиционному аргументу соответствуют два значения\n",
    "# f(3, arg3=4)              неизвестный ключевой аргумент"
   ]
  },
  {
   "cell_type": "markdown",
   "id": "28b6c8b5-21db-4686-a419-74355e2c3cb3",
   "metadata": {},
   "source": [
    "### Определение функции со значениями по умолчанию для аргументов"
   ]
  },
  {
   "cell_type": "code",
   "execution_count": 13,
   "id": "020681da-8985-4bb8-945e-00f8e2f6c493",
   "metadata": {},
   "outputs": [
    {
     "data": {
      "text/plain": [
       "((100, 2, 3, 4, 5), (100, 0, 3, 4, 5))"
      ]
     },
     "execution_count": 13,
     "metadata": {},
     "output_type": "execute_result"
    }
   ],
   "source": [
    "def f(arg1, arg2=2, arg3=3, arg4=4, arg5=5):\n",
    "    return arg1, arg2, arg3, arg4, arg5\n",
    "\n",
    "f(100), f(100, 0)\n",
    "\n",
    "# пример вызова функции со значениями по умолчанию или \n",
    "# стандартными значениями\n",
    "# аргументы, имеющие стандартные значения являются не обязательными и при отсутствии в выове функции заменяются"
   ]
  },
  {
   "cell_type": "code",
   "execution_count": 14,
   "id": "aa56ad5b-4ed6-470c-8f10-e3d937e3616c",
   "metadata": {},
   "outputs": [
    {
     "name": "stdout",
     "output_type": "stream",
     "text": [
      "100 2 3 4 5\n",
      "100 0 3 4 5\n"
     ]
    }
   ],
   "source": [
    "def f(arg1, arg2=2, arg3=3, arg4=4, arg5=5):\n",
    "    print(arg1, arg2, arg3, arg4, arg5)\n",
    "\n",
    "f(100)\n",
    "f(100, 0)\n",
    "\n",
    "# еще один пример с стандартными значениями\n",
    "# отмечу, что стандартные значения идут не вначале, а после указания обычных аргументов"
   ]
  },
  {
   "cell_type": "markdown",
   "id": "fb7624e6-1cf4-469f-9ee5-1a380281366a",
   "metadata": {},
   "source": [
    "### Определение функции с произвольным количеством аргументов"
   ]
  },
  {
   "cell_type": "code",
   "execution_count": 58,
   "id": "b911a582-71a1-4dea-9034-041831d8e721",
   "metadata": {},
   "outputs": [
    {
     "name": "stdout",
     "output_type": "stream",
     "text": [
      "(1, 2, 3)\n",
      "(1, 2, 3, 4, 5, 6)\n"
     ]
    }
   ],
   "source": [
    "def f(*pargs):\n",
    "    print(pargs)\n",
    "\n",
    "f(1,2,3)\n",
    "f(1,2,3,4,5,6)\n",
    "\n",
    "# указание символа * перед именем аргумента позволяет передавть произвольное количество позиционных аргументов в функцию\n",
    "# в теле функции все аргументы доступны как элементы кортежа (имя аргумента)"
   ]
  },
  {
   "cell_type": "code",
   "execution_count": 16,
   "id": "8cc592df-960e-4716-8988-557f88c564c3",
   "metadata": {},
   "outputs": [
    {
     "data": {
      "text/plain": [
       "(21, 'word1word2word3', [1, 2, 3, 4])"
      ]
     },
     "execution_count": 16,
     "metadata": {},
     "output_type": "execute_result"
    }
   ],
   "source": [
    "def adder(*pargs):\n",
    "    \"\"\" применяет операцию сложения ко всем аргументам и возвращает результат операции\"\"\"\n",
    "    s = pargs[0] \n",
    "    for i in pargs[1:]:\n",
    "        s += i \n",
    "    return(s)\n",
    "\n",
    "adder(1,2,3,4,5,6), adder('word1', 'word2', 'word3'), adder([1],[2],[3],[4])\n",
    "\n",
    "# пример функции с произвольным количеством аргументов"
   ]
  },
  {
   "cell_type": "code",
   "execution_count": 20,
   "id": "16d60cda-dbe4-461c-a7a4-cd4c0554f6b9",
   "metadata": {},
   "outputs": [
    {
     "name": "stdout",
     "output_type": "stream",
     "text": [
      "10 {'arg1': 1, 'arg2': 2, 'arg3': 3}\n",
      "1 {'x1': 2, 'x2': 3, 'x3': 4, 'x5': 5, 'x6': 6}\n"
     ]
    }
   ],
   "source": [
    "def f(x,**kargs):\n",
    "    print(x, kargs)\n",
    "\n",
    "f(10, arg1=1, arg2=2, arg3=3)\n",
    "f(1, x1=2, x2=3, x3=4, x5=5, x6=6)\n",
    "\n",
    "# указание символа ** перед именем аргумента позволяет передавть произвольное количество ключевых аргументов в функцию\n",
    "# в теле функции все аргументы доступны как элементы словаря (имя аргумента)"
   ]
  },
  {
   "cell_type": "markdown",
   "id": "9b4f87d6-c282-4e71-8a4f-2f60bf11bba3",
   "metadata": {},
   "source": [
    "### Определение функции. Порядок следования аргументов"
   ]
  },
  {
   "cell_type": "code",
   "execution_count": 24,
   "id": "5b320b82-d25f-4ff3-8495-421db56a4ee9",
   "metadata": {},
   "outputs": [
    {
     "name": "stdout",
     "output_type": "stream",
     "text": [
      "1 2 3\n"
     ]
    }
   ],
   "source": [
    "def f(a, *, b, c):\n",
    "    print(a, b, c)\n",
    "    \n",
    "f(1, b=2, c=3)\n",
    "\n",
    "# если при определении функции в заголовке оператора def указать символ * без аргумента, то \n",
    "# все следующие за ним аргументы должны быть заданы ключевыми"
   ]
  },
  {
   "cell_type": "code",
   "execution_count": 27,
   "id": "6620f514-29b7-47c6-9289-70e7892770f1",
   "metadata": {},
   "outputs": [
    {
     "data": {
      "text/plain": [
       "\u001b[1;31mInit signature:\u001b[0m\n",
       "\u001b[0mFuncAnimation\u001b[0m\u001b[1;33m(\u001b[0m\u001b[1;33m\n",
       "\u001b[0m    \u001b[0mfig\u001b[0m\u001b[1;33m,\u001b[0m\u001b[1;33m\n",
       "\u001b[0m    \u001b[0mfunc\u001b[0m\u001b[1;33m,\u001b[0m\u001b[1;33m\n",
       "\u001b[0m    \u001b[0mframes\u001b[0m\u001b[1;33m=\u001b[0m\u001b[1;32mNone\u001b[0m\u001b[1;33m,\u001b[0m\u001b[1;33m\n",
       "\u001b[0m    \u001b[0minit_func\u001b[0m\u001b[1;33m=\u001b[0m\u001b[1;32mNone\u001b[0m\u001b[1;33m,\u001b[0m\u001b[1;33m\n",
       "\u001b[0m    \u001b[0mfargs\u001b[0m\u001b[1;33m=\u001b[0m\u001b[1;32mNone\u001b[0m\u001b[1;33m,\u001b[0m\u001b[1;33m\n",
       "\u001b[0m    \u001b[0msave_count\u001b[0m\u001b[1;33m=\u001b[0m\u001b[1;32mNone\u001b[0m\u001b[1;33m,\u001b[0m\u001b[1;33m\n",
       "\u001b[0m    \u001b[1;33m*\u001b[0m\u001b[1;33m,\u001b[0m\u001b[1;33m\n",
       "\u001b[0m    \u001b[0mcache_frame_data\u001b[0m\u001b[1;33m=\u001b[0m\u001b[1;32mTrue\u001b[0m\u001b[1;33m,\u001b[0m\u001b[1;33m\n",
       "\u001b[0m    \u001b[1;33m**\u001b[0m\u001b[0mkwargs\u001b[0m\u001b[1;33m,\u001b[0m\u001b[1;33m\n",
       "\u001b[0m\u001b[1;33m)\u001b[0m\u001b[1;33m\u001b[0m\u001b[1;33m\u001b[0m\u001b[0m\n",
       "\u001b[1;31mDocstring:\u001b[0m     \n",
       "Makes an animation by repeatedly calling a function *func*.\n",
       "\n",
       ".. note::\n",
       "\n",
       "    You must store the created Animation in a variable that lives as long\n",
       "    as the animation should run. Otherwise, the Animation object will be\n",
       "    garbage-collected and the animation stops.\n",
       "\n",
       "Parameters\n",
       "----------\n",
       "fig : `~matplotlib.figure.Figure`\n",
       "    The figure object used to get needed events, such as draw or resize.\n",
       "\n",
       "func : callable\n",
       "    The function to call at each frame.  The first argument will\n",
       "    be the next value in *frames*.   Any additional positional\n",
       "    arguments can be supplied via the *fargs* parameter.\n",
       "\n",
       "    The required signature is::\n",
       "\n",
       "        def func(frame, *fargs) -> iterable_of_artists\n",
       "\n",
       "    If ``blit == True``, *func* must return an iterable of all artists\n",
       "    that were modified or created. This information is used by the blitting\n",
       "    algorithm to determine which parts of the figure have to be updated.\n",
       "    The return value is unused if ``blit == False`` and may be omitted in\n",
       "    that case.\n",
       "\n",
       "frames : iterable, int, generator function, or None, optional\n",
       "    Source of data to pass *func* and each frame of the animation\n",
       "\n",
       "    - If an iterable, then simply use the values provided.  If the\n",
       "      iterable has a length, it will override the *save_count* kwarg.\n",
       "\n",
       "    - If an integer, then equivalent to passing ``range(frames)``\n",
       "\n",
       "    - If a generator function, then must have the signature::\n",
       "\n",
       "         def gen_function() -> obj\n",
       "\n",
       "    - If *None*, then equivalent to passing ``itertools.count``.\n",
       "\n",
       "    In all of these cases, the values in *frames* is simply passed through\n",
       "    to the user-supplied *func* and thus can be of any type.\n",
       "\n",
       "init_func : callable, optional\n",
       "    A function used to draw a clear frame. If not given, the results of\n",
       "    drawing from the first item in the frames sequence will be used. This\n",
       "    function will be called once before the first frame.\n",
       "\n",
       "    The required signature is::\n",
       "\n",
       "        def init_func() -> iterable_of_artists\n",
       "\n",
       "    If ``blit == True``, *init_func* must return an iterable of artists\n",
       "    to be re-drawn. This information is used by the blitting algorithm to\n",
       "    determine which parts of the figure have to be updated.  The return\n",
       "    value is unused if ``blit == False`` and may be omitted in that case.\n",
       "\n",
       "fargs : tuple or None, optional\n",
       "    Additional arguments to pass to each call to *func*.\n",
       "\n",
       "save_count : int, default: 100\n",
       "    Fallback for the number of values from *frames* to cache. This is\n",
       "    only used if the number of frames cannot be inferred from *frames*,\n",
       "    i.e. when it's an iterator without length or a generator.\n",
       "\n",
       "interval : int, default: 200\n",
       "    Delay between frames in milliseconds.\n",
       "\n",
       "repeat_delay : int, default: 0\n",
       "    The delay in milliseconds between consecutive animation runs, if\n",
       "    *repeat* is True.\n",
       "\n",
       "repeat : bool, default: True\n",
       "    Whether the animation repeats when the sequence of frames is completed.\n",
       "\n",
       "blit : bool, default: False\n",
       "    Whether blitting is used to optimize drawing.  Note: when using\n",
       "    blitting, any animated artists will be drawn according to their zorder;\n",
       "    however, they will be drawn on top of any previous artists, regardless\n",
       "    of their zorder.\n",
       "\n",
       "cache_frame_data : bool, default: True\n",
       "    Whether frame data is cached.  Disabling cache might be helpful when\n",
       "    frames contain large objects.\n",
       "\u001b[1;31mFile:\u001b[0m           c:\\users\\andrey\\appdata\\local\\programs\\python\\python310\\lib\\site-packages\\matplotlib\\animation.py\n",
       "\u001b[1;31mType:\u001b[0m           type\n",
       "\u001b[1;31mSubclasses:\u001b[0m     \n"
      ]
     },
     "metadata": {},
     "output_type": "display_data"
    }
   ],
   "source": [
    "from matplotlib.animation import FuncAnimation\n",
    "FuncAnimation?\n",
    "\n",
    "# при определении функции сначала указываются поиционные аргументы, затем аргументы со стандартными значениями, \n",
    "# затем *pargs (просто *), затем аргументы с передачей только по ключу, затем **kargs"
   ]
  },
  {
   "cell_type": "code",
   "execution_count": 30,
   "id": "0685366e-df0d-4f23-bf95-7114a85c0f04",
   "metadata": {},
   "outputs": [
    {
     "name": "stdout",
     "output_type": "stream",
     "text": [
      "1 2 (3, 4, 5) 10 {'x': 1, 'y': 2}\n"
     ]
    }
   ],
   "source": [
    "def f(a, b=5, *pargs, c=50, **kargs):\n",
    "    print(a, b, pargs, c, kargs)\n",
    "\n",
    "f(1, 2, 3, 4, 5, c=10, x=1, y=2)\n",
    "\n",
    "# как видно, у аргумента с передачей по ключу тоже может быть стандартное значение"
   ]
  },
  {
   "cell_type": "code",
   "execution_count": 34,
   "id": "de7c6d19-954a-4959-a88a-6167502bd648",
   "metadata": {},
   "outputs": [
    {
     "name": "stdout",
     "output_type": "stream",
     "text": [
      "1 2 10 {'x': 1, 'y': 2}\n"
     ]
    }
   ],
   "source": [
    "def f(a, b=5, *, c=50, **kargs):\n",
    "    print(a, b, c, kargs)\n",
    "\n",
    "f(1, 2, c=10, x=1, y=2)\n",
    "\n",
    "# сначала я подумал, что просто символ * тоже позволяет передавать призвольное количество позиционных аргументов,\n",
    "# но это предположение ошибочное"
   ]
  },
  {
   "cell_type": "markdown",
   "id": "607ea5f2-dcd2-4b1c-beb1-b2b1d09291ba",
   "metadata": {},
   "source": [
    "### Объект функции"
   ]
  },
  {
   "cell_type": "code",
   "execution_count": 37,
   "id": "fc64298d-e85d-4faf-bdf2-8a5731fd6b82",
   "metadata": {},
   "outputs": [
    {
     "data": {
      "text/plain": [
       "<function __main__.f(x)>"
      ]
     },
     "execution_count": 37,
     "metadata": {},
     "output_type": "execute_result"
    }
   ],
   "source": [
    "def f(x):\n",
    "    ...\n",
    "    return \"function f is called\"\n",
    "f\n",
    "\n",
    "# имя функции становится ссылкой на объект функции благодаря автоматическому неявному присваиванию\n",
    "# объекта функции имени функции при выполнении оператора def"
   ]
  },
  {
   "cell_type": "code",
   "execution_count": 39,
   "id": "7e02bca1-807e-44af-be72-b71438a65ea6",
   "metadata": {},
   "outputs": [
    {
     "data": {
      "text/plain": [
       "('function f is called', [1, <function __main__.f(x)>, 'string'])"
      ]
     },
     "execution_count": 39,
     "metadata": {},
     "output_type": "execute_result"
    }
   ],
   "source": [
    "g = f; \n",
    "g(f), [1, f, \"string\"] \n",
    "\n",
    "# с объектами функций можно работать так же, как и с объектами встроенных  типов:\n",
    "# присваивать другим переменным\n",
    "# передавать другим функциям как аргумент\n",
    "# использовать в коллекциях  и так далее"
   ]
  },
  {
   "cell_type": "code",
   "execution_count": 42,
   "id": "f20bf097-b906-44a5-912b-e6d01504210c",
   "metadata": {},
   "outputs": [
    {
     "data": {
      "text/plain": [
       "(1, ('x',))"
      ]
     },
     "execution_count": 42,
     "metadata": {},
     "output_type": "execute_result"
    }
   ],
   "source": [
    "f.__code__.co_argcount, f.__code__.co_varnames\n",
    "\n",
    "# с помощью атрибута __code__ можно получить, в частности, информацию об аргументах функции"
   ]
  },
  {
   "cell_type": "markdown",
   "id": "b54100af-ac03-4599-bc82-a9c90ece5d23",
   "metadata": {},
   "source": [
    "### lambda-функция"
   ]
  },
  {
   "cell_type": "code",
   "execution_count": 43,
   "id": "612f8eb7-2142-4b05-9e4f-a1ba8099a569",
   "metadata": {},
   "outputs": [
    {
     "data": {
      "text/plain": [
       "<function __main__.<lambda>(x)>"
      ]
     },
     "execution_count": 43,
     "metadata": {},
     "output_type": "execute_result"
    }
   ],
   "source": [
    "def f(x):                # объект функции создан и неявно присвоен переменной f\n",
    "    return (x-5)**2\n",
    "\n",
    "lambda x: (x-5)**2       # объект функции создан\n",
    "\n",
    "# показывается разница между обычной функцией и lambda-функцией\n",
    "# выражение lambda-функции возвращает объект функции без присваивания объекта функции имени функции\n",
    "# тело lambda-функции является одиночным выражением и не может содержать операторы"
   ]
  },
  {
   "cell_type": "code",
   "execution_count": 44,
   "id": "27e12ae1-b9aa-49d5-ab1d-f07793a56337",
   "metadata": {},
   "outputs": [
    {
     "data": {
      "text/plain": [
       "[<function __main__.<lambda>(x)>, <function __main__.<lambda>(x)>]"
      ]
     },
     "execution_count": 44,
     "metadata": {},
     "output_type": "execute_result"
    }
   ],
   "source": [
    "[lambda x: (x-5)**2, lambda x: abs(x)]\n",
    "\n",
    "# lambda-функция является выражением, а не оператором\n",
    "# она может находиться в местах, где оператор def не разрешен синтаксисом языка Python, \n",
    "# например, внутри коллекций или в качестве аргументов при вызове функции"
   ]
  },
  {
   "cell_type": "code",
   "execution_count": 47,
   "id": "be7a8e06-6c34-41c6-a537-5cdf18cc7b66",
   "metadata": {},
   "outputs": [
    {
     "data": {
      "text/plain": [
       "[1, 2, 5, 10, 17, 26, 37, 50, 65, 82]"
      ]
     },
     "execution_count": 47,
     "metadata": {},
     "output_type": "execute_result"
    }
   ],
   "source": [
    "list(map((lambda x: x**2+1), range(10)))\n",
    "\n",
    "# еще один пример"
   ]
  },
  {
   "cell_type": "code",
   "execution_count": 51,
   "id": "423483cd-109d-4009-a7db-040e4a3ea9b8",
   "metadata": {},
   "outputs": [
    {
     "data": {
      "text/plain": [
       "(['BCA', 'abC', 'zzz'], ['abC', 'BCA', 'zzz'])"
      ]
     },
     "execution_count": 51,
     "metadata": {},
     "output_type": "execute_result"
    }
   ],
   "source": [
    "z = ['abC','BCA',\"zzz\"]\n",
    "sorted(z), sorted(z, key=lambda x: x.lower())\n",
    "\n",
    "# и еще один пример"
   ]
  },
  {
   "cell_type": "code",
   "execution_count": 50,
   "id": "068b809b-0b7c-4404-a013-e147ba36735a",
   "metadata": {},
   "outputs": [
    {
     "data": {
      "text/plain": [
       "[6, 7, 8, 9]"
      ]
     },
     "execution_count": 50,
     "metadata": {},
     "output_type": "execute_result"
    }
   ],
   "source": [
    "list(filter((lambda x: x>5), range(10)))\n",
    "\n",
    "# lambda-функция позволяет встраивать определение функции внутрь кода, где осуществляется применение функции"
   ]
  },
  {
   "cell_type": "markdown",
   "id": "f743cc3d-7714-4ff6-8be5-320a60c30d25",
   "metadata": {},
   "source": [
    "## 4.2 Передача значений аргументов при вызове функции"
   ]
  },
  {
   "cell_type": "code",
   "execution_count": 52,
   "id": "e761dfad-476c-464e-9feb-1f023f5a5000",
   "metadata": {},
   "outputs": [],
   "source": [
    "def f(arg1, arg2):\n",
    "    ...\n",
    "\n",
    "f(1, 2) # неявные присваивания arg1 = 1 и arg2 = 2\n",
    "\n",
    "# неявное присваивание происходит автоматически при вызове функции"
   ]
  },
  {
   "cell_type": "code",
   "execution_count": 54,
   "id": "b6716002-0307-4b08-b053-504f56ab7ac3",
   "metadata": {},
   "outputs": [
    {
     "name": "stdout",
     "output_type": "stream",
     "text": [
      "[1, 2] {2, 3}\n"
     ]
    }
   ],
   "source": [
    "def f(arg1):\n",
    "    arg1.pop()\n",
    "\n",
    "list1 = [1,2,3]; set1 = set(list1)    \n",
    "f(list1); f(set1)\n",
    "print(list1, set1)\n",
    "\n",
    "# изменяемые объекты, передаваемые в функцию, могут быть изменены внутри функции"
   ]
  },
  {
   "cell_type": "code",
   "execution_count": 55,
   "id": "122f2f37-bb06-45f6-9f01-652c3488d556",
   "metadata": {},
   "outputs": [
    {
     "name": "stdout",
     "output_type": "stream",
     "text": [
      "[1, 2, 3]\n"
     ]
    }
   ],
   "source": [
    "def f(arg1):\n",
    "    arg1 = arg1[:] # создание копии списка\n",
    "    arg1.pop()\n",
    "\n",
    "list1 = [1,2,3]   \n",
    "f(list1)           # вызов функции со списком в качестве аргумента\n",
    "print(list1) \n",
    "\n",
    "# работаю с копией, чтобы не изменять объект, передаваемый при вызове в функцию"
   ]
  },
  {
   "cell_type": "markdown",
   "id": "be01915b-6b51-4fbe-9283-3aa143df2508",
   "metadata": {},
   "source": [
    "### Режимы сопоставления объектов-значений и аргументов-переменных при вызове функции"
   ]
  },
  {
   "cell_type": "code",
   "execution_count": 56,
   "id": "2652e2a9-433f-4ea2-a620-53ddaf3855ed",
   "metadata": {},
   "outputs": [],
   "source": [
    "def f(arg1, arg2, arg3, arg4, arg5):\n",
    "    ...\n",
    "\n",
    "f(1, 2, 3, 4, 5) # arg1 = 1, arg2 = 2, arg3 = 3, arg4 = 4, arg5 = 5\n",
    "\n",
    "# позиционный режим сопоставления при вызове функции только с позиционными аргументами -\n",
    "# автоматическое неявное присваивание аргументам-переменным объектов-значений по позиции слева направо"
   ]
  },
  {
   "cell_type": "code",
   "execution_count": 57,
   "id": "e2681781-17e3-42a1-aff2-990fb6873722",
   "metadata": {},
   "outputs": [
    {
     "name": "stdout",
     "output_type": "stream",
     "text": [
      "1 2 3 4 5\n",
      "1 2 s t 5\n"
     ]
    }
   ],
   "source": [
    "def f(arg1, arg2, arg3, arg4, arg5):\n",
    "    print(arg1, arg2, arg3, arg4, arg5)\n",
    "\n",
    "f(*range(1,6)) # arg1 = 1, arg2 = 2, arg3 = 3, arg4 = 4, arg5 = 5\n",
    "# совмещение позиционных режимов с распаковкой и без распаковки\n",
    "f(1, 2, *\"st\", 5) \n",
    "\n",
    "# позиционный режим сопоставления с распаковкой последовательностей: \n",
    "# когда при вызове функции только с позиционными аргументами указывается символ * перед последовательностью с \n",
    "# объектами-значениями, то происходит распаковка последовательности на элементы и \n",
    "# автоматическое неявное присваивание объектов-значений из последовательности аргументам-переменным по позиции слева направо"
   ]
  },
  {
   "cell_type": "code",
   "execution_count": 59,
   "id": "f92c4abc-35e6-4103-8e94-a86dfb261798",
   "metadata": {},
   "outputs": [
    {
     "name": "stdout",
     "output_type": "stream",
     "text": [
      "3 4 2 5 1\n",
      "1 2 3 4 5\n"
     ]
    }
   ],
   "source": [
    "def f(arg1, arg2, arg3, arg4, arg5):\n",
    "    print(arg1, arg2, arg3, arg4, arg5)\n",
    "\n",
    "f(arg5=1, arg3=2, arg1=3, arg2=4, arg4=5) # arg1 = 3, arg2 = 4, arg3 = 2, arg4 = 5, arg5 = 1\n",
    "# совмещение ключевого и позиционного режимов\n",
    "f(1, 2, 3, arg5=5, arg4=4)\n",
    "\n",
    "# ключевой режим сопоставления, когда при вызове функции явно указывается связь \n",
    "# между аргументом и передаваемым значением аргумент = значение"
   ]
  },
  {
   "cell_type": "code",
   "execution_count": 60,
   "id": "bdfe3d61-18a2-4497-967b-e7fc9606a186",
   "metadata": {},
   "outputs": [
    {
     "name": "stdout",
     "output_type": "stream",
     "text": [
      "100 2 3 4 5\n"
     ]
    }
   ],
   "source": [
    "def f(arg1, arg2, arg3, arg4, arg5):\n",
    "    print(arg1, arg2, arg3, arg4, arg5)\n",
    "\n",
    "myDict = {'arg2':2,'arg3':3,'arg5':5,'arg4':4}\n",
    "\n",
    "f(**myDict, arg1=100)\n",
    "\n",
    "# ключевой режим сопоставления с распаковкой словарей: когда при вызове функции указывается ** \n",
    "# перед словарем с элементами аргумент: значение, то происходит автоматическое неявное \n",
    "# присваивание аргументам, указанным ключами словаря, соответствующих объектов-значений из словаря"
   ]
  },
  {
   "cell_type": "markdown",
   "id": "d8986556-9466-41d4-8467-13ad1a5e5d5b",
   "metadata": {},
   "source": [
    "## 4.3 Область видимости переменной"
   ]
  },
  {
   "cell_type": "markdown",
   "id": "049a1b55-7c8b-4254-990a-fc9ecd0e6b74",
   "metadata": {},
   "source": [
    "### Типы областей видимости"
   ]
  },
  {
   "cell_type": "code",
   "execution_count": 61,
   "id": "6bd4b117-4f70-4475-a637-e573f32a7dad",
   "metadata": {},
   "outputs": [
    {
     "ename": "NameError",
     "evalue": "name 'new_variable' is not defined",
     "output_type": "error",
     "traceback": [
      "\u001b[1;31m---------------------------------------------------------------------------\u001b[0m",
      "\u001b[1;31mNameError\u001b[0m                                 Traceback (most recent call last)",
      "Input \u001b[1;32mIn [61]\u001b[0m, in \u001b[0;36m<cell line: 1>\u001b[1;34m()\u001b[0m\n\u001b[1;32m----> 1\u001b[0m \u001b[43mnew_variable\u001b[49m\n",
      "\u001b[1;31mNameError\u001b[0m: name 'new_variable' is not defined"
     ]
    }
   ],
   "source": [
    "new_variable\n",
    "\n",
    "# ошибка, потому что переменную найти не удалось ни в одной из областей LEGB\n",
    "# локальная область видимости (Local)\n",
    "# областИ видимости объемлющих функций (Enclosing)\n",
    "# глобальная область видимости (Global)\n",
    "# встроенная область видимости (Built-in)"
   ]
  },
  {
   "cell_type": "markdown",
   "id": "aeca684b-d861-404c-b2c6-61a184e2db7e",
   "metadata": {},
   "source": [
    "### Локальная область видимости (Local)"
   ]
  },
  {
   "cell_type": "code",
   "execution_count": 64,
   "id": "eebc5cf4-ee33-42a5-858e-ff0d8e20628b",
   "metadata": {},
   "outputs": [
    {
     "data": {
      "text/plain": [
       "(2, 11)"
      ]
     },
     "execution_count": 64,
     "metadata": {},
     "output_type": "execute_result"
    }
   ],
   "source": [
    "x = 1\n",
    "x += 1 # поиск только в областях видимости G и В\n",
    "\n",
    "def f():    \n",
    "    x = 10 \n",
    "    x += 1 # локальная переменная x\n",
    "    return x \n",
    "\n",
    "x, f()\n",
    "\n",
    "# пример показывает, что локальная переменная не конфликтует с переменными за пределами области видимости\n",
    "# использование локальных переменных за пределами области видимости невозможно\n",
    "# локальные переменные существуют в памяти только в период, когда функция выполняется"
   ]
  },
  {
   "cell_type": "markdown",
   "id": "e2138dc2-b97d-4378-a306-71b745ff57fe",
   "metadata": {},
   "source": [
    "### Глобальная область видимости (Global)"
   ]
  },
  {
   "cell_type": "code",
   "execution_count": 66,
   "id": "9d019ead-0e39-4c62-bf67-eb78d96703b7",
   "metadata": {},
   "outputs": [
    {
     "data": {
      "text/plain": [
       "(2, 110)"
      ]
     },
     "execution_count": 66,
     "metadata": {},
     "output_type": "execute_result"
    }
   ],
   "source": [
    "x = 1; y = 100\n",
    "x += 1 \n",
    "\n",
    "def f():    \n",
    "    x = 10 + y # y расположена в глобальной области видимости\n",
    "    return x  \n",
    "x, f()\n",
    "\n",
    "# можно ссылаться на переменные из области видимости объемлющих функций \n",
    "# и из глобальной области видимости, но изменять их значения нельзя"
   ]
  },
  {
   "cell_type": "markdown",
   "id": "4a5e395d-c21d-45e5-a708-822c8b6bd348",
   "metadata": {},
   "source": [
    "### Операторы объявления global и nonlocal"
   ]
  },
  {
   "cell_type": "code",
   "execution_count": 70,
   "id": "4c8e5e3c-bc20-4c1f-bf91-59a17f0682bd",
   "metadata": {},
   "outputs": [
    {
     "data": {
      "text/plain": [
       "(2, 110, 110)"
      ]
     },
     "execution_count": 70,
     "metadata": {},
     "output_type": "execute_result"
    }
   ],
   "source": [
    "x = 1; y = 100\n",
    "x += 1 \n",
    "\n",
    "def f(): \n",
    "    global x, z  # переменная x будет глобальной\n",
    "    x = 10 + y \n",
    "    return x  \n",
    "\n",
    "x, f(), x\n",
    "\n",
    "# x - глобальная переменная\n",
    "# x поменял значение после вызова функции\n",
    "# такую возможность предоставляет оператор global\n",
    "# x был объявлен внутри функции как глобальная переменная\n",
    "# его использование имеет смысл только внутри функции\n",
    "# если оператор global использован с не определенной ранее переменной, переменная создается как глобальная"
   ]
  },
  {
   "cell_type": "code",
   "execution_count": 72,
   "id": "29d24c92-95cf-4e88-8877-28ee3d1e6e8a",
   "metadata": {},
   "outputs": [
    {
     "data": {
      "text/plain": [
       "(1, 110, 1)"
      ]
     },
     "execution_count": 72,
     "metadata": {},
     "output_type": "execute_result"
    }
   ],
   "source": [
    "x = 1; y = 100\n",
    "\n",
    "def f1():\n",
    "    x = 5\n",
    "    def f(): \n",
    "        nonlocal x  # переменная x будет нелокальной\n",
    "        x = 10 + y \n",
    "    f()\n",
    "    return x\n",
    "\n",
    "x, f1(), x\n",
    "\n",
    "# x = 1 \n",
    "# вызываю f1()\n",
    "# внутри f1() x = 5\n",
    "# внутри f1() вызываю f()\n",
    "# внутри f() x = 5 изменяю на x = 110\n",
    "# f1() возвращает x = 110"
   ]
  },
  {
   "cell_type": "markdown",
   "id": "09b83977-fc46-437e-b5de-85fae613d0ef",
   "metadata": {},
   "source": [
    "### Встроенная область видимости (Вuilt-in)"
   ]
  },
  {
   "cell_type": "code",
   "execution_count": 73,
   "id": "3e2fcea5-29a1-4142-b954-49304a194558",
   "metadata": {},
   "outputs": [
    {
     "data": {
      "text/plain": [
       "159"
      ]
     },
     "execution_count": 73,
     "metadata": {},
     "output_type": "execute_result"
    }
   ],
   "source": [
    "import builtins\n",
    "len(dir(builtins))\n",
    "\n",
    "# все переменные из встроенной области видимости определены в модуле builtins\n",
    "# это имена встроенных исключений, встроенные функции (например, abs, len, min), переменные (True, False, None, Ellipses, NotImplemented)"
   ]
  },
  {
   "cell_type": "code",
   "execution_count": 76,
   "id": "c86696a0-1c01-4e34-95cf-77f22bff6fae",
   "metadata": {},
   "outputs": [
    {
     "ename": "TypeError",
     "evalue": "'int' object is not callable",
     "output_type": "error",
     "traceback": [
      "\u001b[1;31m---------------------------------------------------------------------------\u001b[0m",
      "\u001b[1;31mTypeError\u001b[0m                                 Traceback (most recent call last)",
      "Input \u001b[1;32mIn [76]\u001b[0m, in \u001b[0;36m<cell line: 1>\u001b[1;34m()\u001b[0m\n\u001b[1;32m----> 1\u001b[0m \u001b[38;5;28mprint\u001b[39m(\u001b[38;5;28;43mabs\u001b[39;49m\u001b[43m(\u001b[49m\u001b[38;5;241;43m-\u001b[39;49m\u001b[38;5;241;43m5\u001b[39;49m\u001b[43m)\u001b[49m)\n\u001b[0;32m      2\u001b[0m \u001b[38;5;28mabs\u001b[39m \u001b[38;5;241m=\u001b[39m \u001b[38;5;241m1\u001b[39m\n",
      "\u001b[1;31mTypeError\u001b[0m: 'int' object is not callable"
     ]
    }
   ],
   "source": [
    "print(abs(-5))\n",
    "abs = 1\n",
    "\n",
    "# осторожно: при переопределении встроенного имени предупреждение будет выдаваться не всегда"
   ]
  },
  {
   "cell_type": "code",
   "execution_count": 78,
   "id": "88969bbc-97d0-469d-8ef9-d8ddc712c775",
   "metadata": {},
   "outputs": [
    {
     "data": {
      "text/plain": [
       "list"
      ]
     },
     "execution_count": 78,
     "metadata": {},
     "output_type": "execute_result"
    }
   ],
   "source": [
    "list1 = [1,2,3]\n",
    "list1.__class__ # переменная __class__ определена внутри области видимости объекта list1\n",
    "\n",
    "# когда для переменной явно указывается объект, которому переменная принадлежит, \n",
    "# например, object.X, значение переменной X извлекается из объекта object без поиска переменной X в областях видимости LEGB"
   ]
  },
  {
   "cell_type": "markdown",
   "id": "6853dde7-b919-4955-ac23-28bc39ca804c",
   "metadata": {},
   "source": [
    "## 4.4 Правила оформления строк документации"
   ]
  },
  {
   "cell_type": "code",
   "execution_count": 80,
   "id": "935a23ba-c17d-4871-af91-2d74b9a4ae42",
   "metadata": {},
   "outputs": [
    {
     "data": {
      "text/plain": [
       "\"int([x]) -> integer\\nint(x, base=10) -> integer\\n\\nConvert a number or string to an integer, or return 0 if no arguments\\nare given.  If x is a number, return x.__int__().  For floating point\\nnumbers, this truncates towards zero.\\n\\nIf x is not a number or if base is given, then x must be a string,\\nbytes, or bytearray instance representing an integer literal in the\\ngiven base.  The literal can be preceded by '+' or '-' and be surrounded\\nby whitespace.  The base defaults to 10.  Valid bases are 0 and 2-36.\\nBase 0 means to interpret the base from the string as an integer literal.\\n>>> int('0b100', base=0)\\n4\""
      ]
     },
     "execution_count": 80,
     "metadata": {},
     "output_type": "execute_result"
    }
   ],
   "source": [
    "abs.__doc__\n",
    "\n",
    "# строки документации записываются в атрибут __doc__ объекта функции при его создании\n",
    "# в функции же строки документации записывается в верхней части тела перед исполняемым кодом"
   ]
  },
  {
   "cell_type": "code",
   "execution_count": 82,
   "id": "11969b7e-0d0d-484a-a691-e004eb3cc457",
   "metadata": {},
   "outputs": [],
   "source": [
    "def f():\n",
    "    \"\"\"Do ... and return ...\"\"\"\n",
    "    ...\n",
    "    return ...\n",
    "\n",
    "# многострочные строковые литералы создаются с помощью утроенных кавычек, составленных из двойных кавычек"
   ]
  },
  {
   "cell_type": "code",
   "execution_count": 83,
   "id": "3a4ec476-dc83-4d92-89ce-7ca7ef311b92",
   "metadata": {},
   "outputs": [],
   "source": [
    "def f():\n",
    "    \"\"\"Do ... and return ...\"\"\"\n",
    "    ...\n",
    "    return ...\n",
    "\n",
    "# в примере показана рекомендованная форма для однострочных строк документации"
   ]
  },
  {
   "cell_type": "code",
   "execution_count": 85,
   "id": "0219dad7-5b68-4a7a-a285-c0107fd464c4",
   "metadata": {},
   "outputs": [
    {
     "name": "stdout",
     "output_type": "stream",
     "text": [
      "Help on function f in module __main__:\n",
      "\n",
      "f(t)\n",
      "    Do ... \n",
      "     \n",
      "    Arguments :\n",
      "    \n",
      "    t : ...\n",
      "    \n",
      "    Returns : ...\n",
      "\n"
     ]
    }
   ],
   "source": [
    "def f(t):\n",
    "    \"\"\"Do ... \n",
    "     \n",
    "    Arguments :\n",
    "    \n",
    "    t : ...\n",
    "    \n",
    "    Returns : ...\n",
    "    \"\"\"\n",
    "    ...\n",
    "    return ...\n",
    "\n",
    "help(f)\n",
    "\n",
    "# пример развернутого описания"
   ]
  },
  {
   "cell_type": "markdown",
   "id": "d37be6d5-7a2b-4434-86af-1a6d4531bdb6",
   "metadata": {},
   "source": [
    "# Тема 5. Механизм итераций в Python"
   ]
  },
  {
   "cell_type": "markdown",
   "id": "c7096223-5336-48e4-8f14-6fc9be2bea11",
   "metadata": {},
   "source": [
    "## 5.1 Итерируемый объект"
   ]
  },
  {
   "cell_type": "code",
   "execution_count": 91,
   "id": "78635369-00ef-481a-84c3-a68e4e91a2c4",
   "metadata": {},
   "outputs": [
    {
     "data": {
      "text/plain": [
       "[<str_iterator at 0x29275a33f10>,\n",
       " <list_iterator at 0x29275b9bf10>,\n",
       " <tuple_iterator at 0x29275b9bf70>,\n",
       " <dict_keyiterator at 0x2927e149ad0>,\n",
       " <set_iterator at 0x2927e14fd80>,\n",
       " <_io.TextIOWrapper name='tmp.txt' mode='rt' encoding='cp1251'>,\n",
       " <range_iterator at 0x2927e051d10>]"
      ]
     },
     "execution_count": 91,
     "metadata": {},
     "output_type": "execute_result"
    }
   ],
   "source": [
    "[obj.__iter__() for obj in [str(), list(), tuple(), dict(), set([1]), open(\"tmp.txt\",'rt'), range(5)]]\n",
    "\n",
    "# создание объекта итератора для итерируемого объекта осуществляется с помощью метода __iter__()"
   ]
  },
  {
   "cell_type": "code",
   "execution_count": 92,
   "id": "c6dd906f-b3c6-4b80-a95d-a343e01360cd",
   "metadata": {},
   "outputs": [
    {
     "data": {
      "text/plain": [
       "[<str_iterator at 0x2927e0971c0>,\n",
       " <list_iterator at 0x2927e095d80>,\n",
       " <tuple_iterator at 0x2927e0964d0>,\n",
       " <dict_keyiterator at 0x2927e137060>,\n",
       " <set_iterator at 0x2927e14ed80>,\n",
       " <_io.TextIOWrapper name='tmp.txt' mode='rt' encoding='cp1251'>,\n",
       " <range_iterator at 0x2927e052010>]"
      ]
     },
     "execution_count": 92,
     "metadata": {},
     "output_type": "execute_result"
    }
   ],
   "source": [
    "[iter(obj) for obj in [str(), list(), tuple(), dict(), set([1]), open(\"tmp.txt\",'rt'), range(5)]]\n",
    "\n",
    "# объект итератора для итерируемого объекта object создается также функцией iter(object)"
   ]
  },
  {
   "cell_type": "code",
   "execution_count": 93,
   "id": "54c6f63c-c9fb-4d71-8658-47e6ce7db3ca",
   "metadata": {},
   "outputs": [
    {
     "data": {
      "text/plain": [
       "True"
      ]
     },
     "execution_count": 93,
     "metadata": {},
     "output_type": "execute_result"
    }
   ],
   "source": [
    "f = open(\"tmp.txt\",'rt')\n",
    "f is iter(f)\n",
    "\n",
    "# файловый объект является объектом итератором\n",
    "# некоторые объекты являются объектами итераторами"
   ]
  },
  {
   "cell_type": "code",
   "execution_count": 106,
   "id": "cd0b3b1c-367e-4537-aef0-7467d79886ae",
   "metadata": {},
   "outputs": [
    {
     "data": {
      "text/plain": [
       "['t', 'e', 's', 't']"
      ]
     },
     "execution_count": 106,
     "metadata": {},
     "output_type": "execute_result"
    }
   ],
   "source": [
    "str1 = \"test\"\n",
    "iterator = iter(str1)\n",
    "[iterator.__next__() for _0_0_ in str1]\n",
    "\n",
    "# объект итератора - объект, который возвращает последовательно отдельные элементы итерируемого объекта с помощью метода __next__()"
   ]
  },
  {
   "cell_type": "code",
   "execution_count": 107,
   "id": "2a6bebdc-4e5f-4309-93f4-25d0db10bd19",
   "metadata": {},
   "outputs": [
    {
     "data": {
      "text/plain": [
       "[1, 3, 5, 7, 9]"
      ]
     },
     "execution_count": 107,
     "metadata": {},
     "output_type": "execute_result"
    }
   ],
   "source": [
    "rng = range(1, 10, 2)\n",
    "iterator = iter(rng)\n",
    "[next(iterator) for _ in rng]\n",
    "\n",
    "# с помощью функции next(iterator) осуществляется проход по элементам итерируемого объекта,\n",
    "# где iterator - объект итератора"
   ]
  },
  {
   "cell_type": "code",
   "execution_count": 108,
   "id": "bdba0867-45f9-4fa5-8147-267f606e48d4",
   "metadata": {},
   "outputs": [
    {
     "name": "stdout",
     "output_type": "stream",
     "text": [
      "[1, 3, 5, 7, 9]\n"
     ]
    },
    {
     "ename": "StopIteration",
     "evalue": "",
     "output_type": "error",
     "traceback": [
      "\u001b[1;31m---------------------------------------------------------------------------\u001b[0m",
      "\u001b[1;31mStopIteration\u001b[0m                             Traceback (most recent call last)",
      "Input \u001b[1;32mIn [108]\u001b[0m, in \u001b[0;36m<cell line: 4>\u001b[1;34m()\u001b[0m\n\u001b[0;32m      2\u001b[0m iterator \u001b[38;5;241m=\u001b[39m rng\u001b[38;5;241m.\u001b[39m\u001b[38;5;21m__iter__\u001b[39m()\n\u001b[0;32m      3\u001b[0m \u001b[38;5;28mprint\u001b[39m([\u001b[38;5;28mnext\u001b[39m(iterator) \u001b[38;5;28;01mfor\u001b[39;00m _ \u001b[38;5;129;01min\u001b[39;00m rng])\n\u001b[1;32m----> 4\u001b[0m \u001b[38;5;28;43mnext\u001b[39;49m\u001b[43m(\u001b[49m\u001b[43miterator\u001b[49m\u001b[43m)\u001b[49m\n",
      "\u001b[1;31mStopIteration\u001b[0m: "
     ]
    }
   ],
   "source": [
    "rng = range(1, 10, 2)\n",
    "iterator = rng.__iter__()\n",
    "print([next(iterator) for _ in rng])\n",
    "next(iterator)\n",
    "\n",
    "# при попытке перехода на значение за пределами итерируемого объекта,\n",
    "# объект итератора генерирует исключение StopIteration"
   ]
  },
  {
   "cell_type": "code",
   "execution_count": 109,
   "id": "033bd5ba-0bc6-448d-b715-6672ca124af8",
   "metadata": {},
   "outputs": [
    {
     "data": {
      "text/plain": [
       "('t', 'e', 's', 't')"
      ]
     },
     "execution_count": 109,
     "metadata": {},
     "output_type": "execute_result"
    }
   ],
   "source": [
    "str1 = \"test\"\n",
    "iterator = iter(str1)\n",
    "next(iterator), next(iterator), next(iterator), next(iterator)\n",
    "\n",
    "# проход по итерируемому объекту можно осуществлять как вручную, так и автоматически\n",
    "# с помощью методов __iter__ и __next__ для объекта\n",
    "# с помощью функций iter(obj) и next() от объекта"
   ]
  },
  {
   "cell_type": "code",
   "execution_count": 113,
   "id": "9c32eb60-46cc-4803-92c5-b788d48d4b37",
   "metadata": {},
   "outputs": [
    {
     "data": {
      "text/plain": [
       "(1, 2, 1)"
      ]
     },
     "execution_count": 113,
     "metadata": {},
     "output_type": "execute_result"
    }
   ],
   "source": [
    "obj = (1, 2, 3, 4)\n",
    "I1 = iter(obj); I2 = iter(obj)\n",
    "next(I1), next(I1), next(I2)\n",
    "\n",
    "# для одного итерируемого объекта можно создать несколько объектов итераторов "
   ]
  },
  {
   "cell_type": "code",
   "execution_count": 112,
   "id": "17545301-e020-48c3-b408-4a7daad01226",
   "metadata": {},
   "outputs": [
    {
     "data": {
      "text/plain": [
       "(0, 1, 0)"
      ]
     },
     "execution_count": 112,
     "metadata": {},
     "output_type": "execute_result"
    }
   ],
   "source": [
    "obj = range(5)\n",
    "I1 = iter(obj); I2 = iter(obj)\n",
    "next(I1), next(I1), next(I2)\n",
    "\n",
    "# аналогичное справедливо и для функции range"
   ]
  },
  {
   "cell_type": "code",
   "execution_count": 114,
   "id": "09298de3-baf2-4136-97ef-706685c83fa6",
   "metadata": {},
   "outputs": [
    {
     "data": {
      "text/plain": [
       "((0, 0), (1, 1), (2, 2))"
      ]
     },
     "execution_count": 114,
     "metadata": {},
     "output_type": "execute_result"
    }
   ],
   "source": [
    "obj = zip(range(3), range(3))\n",
    "I1 = iter(obj); I2 = iter(obj)\n",
    "next(I1), next(I1), next(I2)\n",
    "\n",
    "# для файлового объекта определен только один объект итератор\n",
    "# аналогичное справедливо также для генераторных объектов, кроме генераторного объекта, который возвращает функция range"
   ]
  },
  {
   "cell_type": "markdown",
   "id": "e429f87b-0eae-4640-b2f2-e951efc4573a",
   "metadata": {},
   "source": [
    "## 5.2 Итерационные инструменты. Протокол итерации"
   ]
  },
  {
   "cell_type": "code",
   "execution_count": 116,
   "id": "c1192619-9cbf-4602-96f7-68075dcc0863",
   "metadata": {},
   "outputs": [
    {
     "name": "stdout",
     "output_type": "stream",
     "text": [
      "A B C D "
     ]
    }
   ],
   "source": [
    "iterable = \"ABCD\"          # итерируемый объект\n",
    "\n",
    "for x in iterable:         # итерационный инструмент\n",
    "    print(x, end=\" \")\n",
    "\n",
    "# пример итерационного инмтрумента for, который создает объект итератора и использует его\n",
    "# для выполнения итерпционных процессов"
   ]
  },
  {
   "cell_type": "code",
   "execution_count": 119,
   "id": "a6c66b59-e40b-42a9-802f-9f076d523b4c",
   "metadata": {},
   "outputs": [
    {
     "name": "stdout",
     "output_type": "stream",
     "text": [
      "Итеративный проход по словарю\n",
      "1, 1, (1,), \n",
      " Итеративный проход по значениям словаря\n",
      "10, 20, (30,), \n",
      " Итеративный проход по элементам словаря\n",
      "1  ->  10, 1  ->  20, (1,)  ->  (30,), "
     ]
    }
   ],
   "source": [
    "dict1 = {1: 10, \"1\": \"20\", (1,): (30,)}\n",
    "print(\"Итеративный проход по словарю\")\n",
    "for x in dict1:         \n",
    "    print(x, end=\", \")\n",
    "\n",
    "print(\"\\n Итеративный проход по значениям словаря\")\n",
    "for x in dict1.values():         \n",
    "    print(x, end=\", \")\n",
    "\n",
    "print(\"\\n Итеративный проход по элементам словаря\")\n",
    "for i, x in dict1.items():         \n",
    "    print(i, \" -> \", x, end=\", \")\n",
    "    \n",
    "# еще один пример итерационного инструмента for для работы с словарем\n",
    "# кажется, все просто"
   ]
  },
  {
   "cell_type": "markdown",
   "id": "dae71c1a-56d8-4dc8-95a6-605c3a716968",
   "metadata": {},
   "source": [
    "### Протокол итераций"
   ]
  },
  {
   "cell_type": "code",
   "execution_count": 120,
   "id": "a49d25fb-838f-4527-94f4-848bb5a135de",
   "metadata": {},
   "outputs": [
    {
     "data": {
      "text/plain": [
       "False"
      ]
     },
     "execution_count": 120,
     "metadata": {},
     "output_type": "execute_result"
    }
   ],
   "source": [
    "'s' in 'String'\n",
    "\n",
    "# как работает итерационный инструмент\n",
    "# 1. для итерируемого объекта вызывает метод __iter__, то есть создает объект итератора\n",
    "# 2. вызывает метод __next__ для объекта итератора на каждой итерации\n",
    "# 3. в конце перехватывает исключение StopIteration для завершения итерационного процесса"
   ]
  },
  {
   "cell_type": "markdown",
   "id": "35b0b121-426c-44a4-8e25-b51ba40f1aa7",
   "metadata": {},
   "source": [
    "## 5.3 Генераторные объекты"
   ]
  },
  {
   "cell_type": "markdown",
   "id": "6ce71098-c125-41f5-ab70-a1e32e191c98",
   "metadata": {},
   "source": [
    "### Генераторные выражения"
   ]
  },
  {
   "cell_type": "code",
   "execution_count": 121,
   "id": "25b7774e-f087-4def-b909-bb8b0bbcf5a9",
   "metadata": {},
   "outputs": [
    {
     "data": {
      "text/plain": [
       "<generator object <genexpr> at 0x000002927E194120>"
      ]
     },
     "execution_count": 121,
     "metadata": {},
     "output_type": "execute_result"
    }
   ],
   "source": [
    "gen_obj = (x+'0' for x in \"string\")\n",
    "gen_obj\n",
    "\n",
    "# пример создания генераторного выражения как включения\n",
    "# шаблон (expr(element) for element in iterable)"
   ]
  },
  {
   "cell_type": "code",
   "execution_count": 122,
   "id": "d8c787e0-8516-4a80-b3c5-69f2f63e50d0",
   "metadata": {},
   "outputs": [
    {
     "name": "stdout",
     "output_type": "stream",
     "text": [
      "s0s0\n",
      "t0t0\n",
      "r0r0\n",
      "i0i0\n",
      "n0n0\n",
      "g0g0\n"
     ]
    }
   ],
   "source": [
    "for x in gen_obj:\n",
    "    print(x*2)\n",
    "    \n",
    "# результат выполнения генераторного выражения - это генераторный объект"
   ]
  },
  {
   "cell_type": "code",
   "execution_count": 123,
   "id": "62b99646-06d6-4b75-b3b3-4cfdc5dd2eb8",
   "metadata": {},
   "outputs": [
    {
     "data": {
      "text/plain": [
       "True"
      ]
     },
     "execution_count": 123,
     "metadata": {},
     "output_type": "execute_result"
    }
   ],
   "source": [
    "iter(gen_obj) is gen_obj\n",
    "\n",
    "# генераторный объект - это итерируемый объект, который еще и является объектом итератора\n",
    "# по генераторному объекту можно сделать только один проход по элементам"
   ]
  },
  {
   "cell_type": "code",
   "execution_count": 132,
   "id": "8ffb1c76-54b3-4e58-842b-c5897d409a4a",
   "metadata": {},
   "outputs": [
    {
     "data": {
      "text/plain": [
       "(0, 1, 4)"
      ]
     },
     "execution_count": 132,
     "metadata": {},
     "output_type": "execute_result"
    }
   ],
   "source": [
    "gen_obj = (x**2 for x in range(5))\n",
    "I1 = iter(gen_obj); I2 = iter(gen_obj)\n",
    "next(I1), next(I1), next(I2)\n",
    "\n",
    "# пример, показывающий, что объект итератора только один"
   ]
  },
  {
   "cell_type": "code",
   "execution_count": 133,
   "id": "7db48b49-d156-4b0e-821a-a3b5ce690771",
   "metadata": {},
   "outputs": [
    {
     "data": {
      "text/plain": [
       "14"
      ]
     },
     "execution_count": 133,
     "metadata": {},
     "output_type": "execute_result"
    }
   ],
   "source": [
    "sum((x**2 for x in range(4)))\n",
    "\n",
    "# если генераторное выражения является единственным элементом, который необходимо \n",
    "# дополнительно поместить в круглые скобки, то одну пару круглых скобок можно не указывать"
   ]
  },
  {
   "cell_type": "code",
   "execution_count": 134,
   "id": "935d1e83-8ac4-4d26-9923-46214fbb1014",
   "metadata": {},
   "outputs": [
    {
     "data": {
      "text/plain": [
       "14"
      ]
     },
     "execution_count": 134,
     "metadata": {},
     "output_type": "execute_result"
    }
   ],
   "source": [
    "sum(x**2 for x in range(4))\n",
    "\n",
    "# вот так"
   ]
  },
  {
   "cell_type": "markdown",
   "id": "6733275f-c564-4a31-ac54-99a015abb038",
   "metadata": {},
   "source": [
    "### Генераторные функции"
   ]
  },
  {
   "cell_type": "code",
   "execution_count": 135,
   "id": "eef6ba9d-7637-4bbd-b19c-2f6649f5d745",
   "metadata": {},
   "outputs": [],
   "source": [
    "def gen(n):\n",
    "    for i in range(n):\n",
    "        yield i**2\n",
    "        \n",
    "# пример определения генераторной функции\n",
    "# вместо оператора return используется оператор yield (с версии Python 2.4) или оператор yield from (с версии Python 3.3)"
   ]
  },
  {
   "cell_type": "code",
   "execution_count": 137,
   "id": "56d5a1c6-9d21-450b-aebd-66b127683e82",
   "metadata": {},
   "outputs": [
    {
     "data": {
      "text/plain": [
       "<generator object gen at 0x000002927E194CF0>"
      ]
     },
     "execution_count": 137,
     "metadata": {},
     "output_type": "execute_result"
    }
   ],
   "source": [
    "gen_obj = gen(10)\n",
    "gen_obj\n",
    "\n",
    "# результат вызова генераторной функции - генераторный объект, а не объект, возвращаемый при выполнении yield"
   ]
  },
  {
   "cell_type": "code",
   "execution_count": 138,
   "id": "798acd6f-6e5b-4edf-b7e1-06af22f7edb7",
   "metadata": {},
   "outputs": [
    {
     "name": "stdout",
     "output_type": "stream",
     "text": [
      "0 1\n"
     ]
    },
    {
     "data": {
      "text/plain": [
       "[4, 9, 16, 25, 36, 49, 64, 81]"
      ]
     },
     "execution_count": 138,
     "metadata": {},
     "output_type": "execute_result"
    }
   ],
   "source": [
    "print(gen_obj.__next__(), next(gen_obj))\n",
    "\n",
    "[x for x in gen_obj]\n",
    "\n",
    "# код тела функции не будет выполняться при вызове функции\n",
    "# для выполнения кода генераторной функции необходимо выполнить итерационный процесс\n",
    "# итерационный процесс генераторного объекта можно также реализовать ручным и автоматическим способами"
   ]
  },
  {
   "cell_type": "code",
   "execution_count": 139,
   "id": "a7d7f7d5-1a34-4b7e-a0a5-431e8d346958",
   "metadata": {},
   "outputs": [
    {
     "data": {
      "text/plain": [
       "[1, 2, 3]"
      ]
     },
     "execution_count": 139,
     "metadata": {},
     "output_type": "execute_result"
    }
   ],
   "source": [
    "def gen():\n",
    "    yield 1; yield 2; yield 3\n",
    "    \n",
    "[x for x in gen()]\n",
    "\n",
    "# при реализации итерационного процесса с применением генераторного объекта созданного на основе генераторной функции,\n",
    "# оператор yield выдает объект-значение вызывающему коду и приостанавливает \n",
    "# выполнение генераторной функции на операторе yield до следующей итерации"
   ]
  },
  {
   "cell_type": "code",
   "execution_count": 140,
   "id": "50b1d566-e205-4b7d-a7f5-5489a679d9c7",
   "metadata": {},
   "outputs": [
    {
     "data": {
      "text/plain": [
       "[1, 2]"
      ]
     },
     "execution_count": 140,
     "metadata": {},
     "output_type": "execute_result"
    }
   ],
   "source": [
    "def gen():\n",
    "    yield 1; yield 2\n",
    "    return 3; yield 4\n",
    "    \n",
    "[x for x in gen()]\n",
    "\n",
    "# окончание итерационного процесса генераторного объекта, созданного на основе генераторной функции, наступает\n",
    "# либо при полном выполненни кода функции\n",
    "# либо при выполнении оператора return"
   ]
  },
  {
   "cell_type": "code",
   "execution_count": 141,
   "id": "87eee170-9e86-483a-b15c-bd38ed9a39a3",
   "metadata": {},
   "outputs": [],
   "source": [
    "def gen(n):\n",
    "    for i in range(n):\n",
    "        yield i**2\n",
    "\n",
    "def gen(n):\n",
    "    yield from (i**2 for i in range(n)) \n",
    "    \n",
    "# альтернативой использования комбинации for+yield является использование yield from+генераторное выражение"
   ]
  },
  {
   "cell_type": "code",
   "execution_count": 142,
   "id": "f26e3152-c29b-4717-86b2-bcebe62a82c1",
   "metadata": {},
   "outputs": [],
   "source": [
    "def fib():\n",
    "    a, b = 0, 1\n",
    "    while True:\n",
    "        yield a\n",
    "        a, b = b, a+b\n",
    "        \n",
    "# бесконечный генератор чисел Фибоначчи"
   ]
  },
  {
   "cell_type": "code",
   "execution_count": 146,
   "id": "8fa5b32f-9826-4425-b487-8c8142f032e3",
   "metadata": {},
   "outputs": [
    {
     "data": {
      "text/plain": [
       "<generator object fib at 0x000002927E195540>"
      ]
     },
     "execution_count": 146,
     "metadata": {},
     "output_type": "execute_result"
    }
   ],
   "source": [
    "fib_gen = fib(); fib_gen\n",
    "\n",
    "# генераторный объект"
   ]
  },
  {
   "cell_type": "code",
   "execution_count": 144,
   "id": "02e42ef3-0986-4fa9-ac54-b02766dc2ef7",
   "metadata": {},
   "outputs": [
    {
     "data": {
      "text/plain": [
       "[0, 1, 1, 2, 3, 5, 8, 13, 21, 34, 55, 89, 144, 233, 377]"
      ]
     },
     "execution_count": 144,
     "metadata": {},
     "output_type": "execute_result"
    }
   ],
   "source": [
    "[next(fib_gen) for _ in range(15)]\n",
    "\n",
    "# реализация итерационного процесса"
   ]
  },
  {
   "cell_type": "code",
   "execution_count": 154,
   "id": "c2287ae5-e97e-4082-b911-62f6398a4a86",
   "metadata": {},
   "outputs": [],
   "source": [
    "iterables = (\"ABC\", [1,2,3], (4,5), {6:1, 7:2}, {8,9,10})\n",
    "\n",
    "def chain(iterables):\n",
    "    for iterable in iterables:\n",
    "        for x in iterable:\n",
    "            yield x    \n",
    "\n",
    "# вложенное итерирование по кортежу, состоящему из итерируемых объектов"
   ]
  },
  {
   "cell_type": "code",
   "execution_count": 152,
   "id": "d38463f1-8488-48f4-904a-87814ec7e21f",
   "metadata": {},
   "outputs": [
    {
     "data": {
      "text/plain": [
       "<generator object chain at 0x000002927E195A80>"
      ]
     },
     "execution_count": 152,
     "metadata": {},
     "output_type": "execute_result"
    }
   ],
   "source": [
    "generator = chain(iterables)\n",
    "generator\n",
    "\n",
    "# генераторный объект"
   ]
  },
  {
   "cell_type": "code",
   "execution_count": 153,
   "id": "825999a9-3cc1-4d37-92fa-7d55c863332f",
   "metadata": {},
   "outputs": [
    {
     "name": "stdout",
     "output_type": "stream",
     "text": [
      "A B C 1 2 3 4 5 6 7 8 9 10 "
     ]
    }
   ],
   "source": [
    "for x in generator:\n",
    "    print(x, end=\" \")\n",
    "    \n",
    "# итерационный процесс"
   ]
  },
  {
   "cell_type": "code",
   "execution_count": 156,
   "id": "7e605bf4-10a3-4349-8e0c-4cb740ff94ac",
   "metadata": {},
   "outputs": [
    {
     "data": {
      "text/plain": [
       "<generator object <genexpr> at 0x000002927E195FC0>"
      ]
     },
     "execution_count": 156,
     "metadata": {},
     "output_type": "execute_result"
    }
   ],
   "source": [
    "iterables = (\"ABC\", [1,2,3], (4,5), {6:1, 7:2}, {8,9,10})\n",
    "\n",
    "generator = (x for iterable in iterables for x in iterable)\n",
    "generator\n",
    "\n",
    "# вложенное итерирование по кортежу, состоящему из итерируемых объектов с помощью\n",
    "# генераторного выражения"
   ]
  },
  {
   "cell_type": "code",
   "execution_count": 157,
   "id": "6b75e4ed-c967-4409-b290-5d90b8f4fa0d",
   "metadata": {},
   "outputs": [
    {
     "name": "stdout",
     "output_type": "stream",
     "text": [
      "A B C 1 2 3 4 5 6 7 8 9 10 "
     ]
    }
   ],
   "source": [
    "for x in generator:\n",
    "    print(x, end=\" \")\n",
    "    \n",
    "# итерационный процесс"
   ]
  },
  {
   "cell_type": "markdown",
   "id": "23f78e82-ea46-40ee-855f-3e3a547a2c26",
   "metadata": {},
   "source": [
    "# Тема 6. Функциональное программирование в Python"
   ]
  },
  {
   "cell_type": "markdown",
   "id": "708bf544-a84e-4504-bbf2-a39117fe5b20",
   "metadata": {},
   "source": [
    "## 6.1 Функция map"
   ]
  },
  {
   "cell_type": "code",
   "execution_count": 161,
   "id": "592a0c39-b7f8-49bc-ad6b-7b6e0dc082f6",
   "metadata": {},
   "outputs": [
    {
     "data": {
      "text/plain": [
       "\u001b[1;31mInit signature:\u001b[0m \u001b[0mmap\u001b[0m\u001b[1;33m(\u001b[0m\u001b[0mself\u001b[0m\u001b[1;33m,\u001b[0m \u001b[1;33m/\u001b[0m\u001b[1;33m,\u001b[0m \u001b[1;33m*\u001b[0m\u001b[0margs\u001b[0m\u001b[1;33m,\u001b[0m \u001b[1;33m**\u001b[0m\u001b[0mkwargs\u001b[0m\u001b[1;33m)\u001b[0m\u001b[1;33m\u001b[0m\u001b[1;33m\u001b[0m\u001b[0m\n",
       "\u001b[1;31mDocstring:\u001b[0m     \n",
       "map(func, *iterables) --> map object\n",
       "\n",
       "Make an iterator that computes the function using arguments from\n",
       "each of the iterables.  Stops when the shortest iterable is exhausted.\n",
       "\u001b[1;31mType:\u001b[0m           type\n",
       "\u001b[1;31mSubclasses:\u001b[0m     \n"
      ]
     },
     "metadata": {},
     "output_type": "display_data"
    }
   ],
   "source": [
    "map?\n",
    "\n",
    "# информация о функци map"
   ]
  },
  {
   "cell_type": "code",
   "execution_count": 163,
   "id": "afbcd63d-51d3-4b89-a4bc-fcecdb4d8d45",
   "metadata": {},
   "outputs": [
    {
     "name": "stdout",
     "output_type": "stream",
     "text": [
      "<map object at 0x000002927E03B6A0> [97, 98, 99, 100]\n"
     ]
    }
   ],
   "source": [
    "gen_object = map(ord, 'abcd'); print(gen_object, list(gen_object))\n",
    "\n",
    "# map возвращает генераторный объект, который выдает результат вызова функции ord\n",
    "# со значениями аргументов итерируемого объекта 'abcd'"
   ]
  },
  {
   "cell_type": "code",
   "execution_count": 165,
   "id": "80cff637-13b1-482d-add7-de1ce3f542e6",
   "metadata": {},
   "outputs": [
    {
     "data": {
      "text/plain": [
       "(10, 11, 12, 13, 14, 15, 16, 17, 18, 19)"
      ]
     },
     "execution_count": 165,
     "metadata": {},
     "output_type": "execute_result"
    }
   ],
   "source": [
    "gen_object = map((lambda x: x+10), range(10)); tuple(gen_object)\n",
    "\n",
    "# map возвращает генераторный объект, который выдает результат вызова lambda-функции\n",
    "# со значениями аргументов итериркемого объекта range(10)"
   ]
  },
  {
   "cell_type": "code",
   "execution_count": 166,
   "id": "9f041531-af5a-4ee1-a626-fc971a86b401",
   "metadata": {},
   "outputs": [
    {
     "data": {
      "text/plain": [
       "{'Z', '[', '\\\\', ']', '^', '_', '`', 'a', 'b', 'c'}"
      ]
     },
     "execution_count": 166,
     "metadata": {},
     "output_type": "execute_result"
    }
   ],
   "source": [
    "def f(x): return chr(x)\n",
    "gen_object = map(f, range(90, 100)); set(gen_object)\n",
    "\n",
    "# map возвращает генераторный объект, который выдает результат вызова пользоватльской функции f\n",
    "# со значениями аргументов итериркемого объекта range(90, 100)"
   ]
  },
  {
   "cell_type": "code",
   "execution_count": 167,
   "id": "c2bf30a3-2727-4880-b8ce-2d4b7a4e3ae4",
   "metadata": {},
   "outputs": [
    {
     "data": {
      "text/plain": [
       "[1, 8]"
      ]
     },
     "execution_count": 167,
     "metadata": {},
     "output_type": "execute_result"
    }
   ],
   "source": [
    "list(map(pow, [1,2,3],(2,3)))\n",
    "\n",
    "# функция map заканчивает работу, когда выполнен проход элементов для наименьшего\n",
    "# по длине из итерируемых объектов, передаваемых в map"
   ]
  },
  {
   "cell_type": "code",
   "execution_count": 169,
   "id": "c7f71a15-bb2b-4ce6-b6b7-f17f4fb2db98",
   "metadata": {},
   "outputs": [
    {
     "data": {
      "text/plain": [
       "[1, 8]"
      ]
     },
     "execution_count": 169,
     "metadata": {},
     "output_type": "execute_result"
    }
   ],
   "source": [
    "iterables =  [1,2,3], (2,3)\n",
    "list(map((lambda x,y: pow(x,y)), *iterables))\n",
    "\n",
    "# тоже пример на этот пункт"
   ]
  },
  {
   "cell_type": "code",
   "execution_count": 170,
   "id": "166dade7-c12e-4612-a9ef-c1ef7f727955",
   "metadata": {},
   "outputs": [
    {
     "name": "stdout",
     "output_type": "stream",
     "text": [
      "([1, 2, 3], (2, 3))\n"
     ]
    },
    {
     "data": {
      "text/plain": [
       "[3, 5]"
      ]
     },
     "execution_count": 170,
     "metadata": {},
     "output_type": "execute_result"
    }
   ],
   "source": [
    "print(iterables)\n",
    "list(map((lambda x,y: x+y), *iterables))\n",
    "\n",
    "# первый аргумент func функции map должен поддерживать вызов с n аргументами при указании n итерируемых объектов"
   ]
  },
  {
   "cell_type": "code",
   "execution_count": 172,
   "id": "4d41c5ae-c2f8-44b6-a316-4991140a3039",
   "metadata": {},
   "outputs": [
    {
     "ename": "TypeError",
     "evalue": "'int' object is not callable",
     "output_type": "error",
     "traceback": [
      "\u001b[1;31m---------------------------------------------------------------------------\u001b[0m",
      "\u001b[1;31mTypeError\u001b[0m                                 Traceback (most recent call last)",
      "Input \u001b[1;32mIn [172]\u001b[0m, in \u001b[0;36m<cell line: 1>\u001b[1;34m()\u001b[0m\n\u001b[1;32m----> 1\u001b[0m \u001b[38;5;28;43mlist\u001b[39;49m\u001b[43m(\u001b[49m\u001b[38;5;28;43mmap\u001b[39;49m\u001b[43m(\u001b[49m\u001b[38;5;28;43mabs\u001b[39;49m\u001b[43m,\u001b[49m\u001b[43m \u001b[49m\u001b[38;5;241;43m*\u001b[39;49m\u001b[43miterables\u001b[49m\u001b[43m)\u001b[49m\u001b[43m)\u001b[49m\n",
      "\u001b[1;31mTypeError\u001b[0m: 'int' object is not callable"
     ]
    }
   ],
   "source": [
    "list(map(abs, *iterables))\n",
    "\n",
    "# ошибка, abs не поддерживает вызов с двумя аргументами"
   ]
  },
  {
   "cell_type": "code",
   "execution_count": 3,
   "id": "a8a4aa13-6d5e-4ea4-9728-80f653142038",
   "metadata": {},
   "outputs": [
    {
     "name": "stdout",
     "output_type": "stream",
     "text": [
      "123 ms ± 4 ms per loop (mean ± std. dev. of 7 runs, 10 loops each)\n"
     ]
    }
   ],
   "source": [
    "%timeit list(map(abs,range(-10**6,0)))\n",
    "\n",
    "# map выполняется со скоростью кода на языке С внутри интерпретатора, \n",
    "# которая выше, чем скорость выполнения байт-кода циклов for внутри PVM"
   ]
  },
  {
   "cell_type": "code",
   "execution_count": 4,
   "id": "ef93511f-dc4b-485b-9bdd-fb3e03a7bc5f",
   "metadata": {},
   "outputs": [
    {
     "name": "stdout",
     "output_type": "stream",
     "text": [
      "244 ms ± 37.4 ms per loop (mean ± std. dev. of 7 runs, 1 loop each)\n",
      "174 ms ± 19.9 ms per loop (mean ± std. dev. of 7 runs, 10 loops each)\n"
     ]
    }
   ],
   "source": [
    "res = []\n",
    "%timeit for x in range(-10**6,0): res.append(abs(x))\n",
    "\n",
    "%timeit [abs(x) for x in range(-10**6,0)]\n",
    "\n",
    "# вот так вот"
   ]
  },
  {
   "cell_type": "markdown",
   "id": "1374ee2a-0eae-4417-888e-fefbe87757c1",
   "metadata": {},
   "source": [
    "## 6.2 Функция filter"
   ]
  },
  {
   "cell_type": "code",
   "execution_count": 6,
   "id": "97651127-571b-4004-a982-3e74a59b2540",
   "metadata": {},
   "outputs": [
    {
     "data": {
      "text/plain": [
       "\u001b[1;31mInit signature:\u001b[0m \u001b[0mfilter\u001b[0m\u001b[1;33m(\u001b[0m\u001b[0mself\u001b[0m\u001b[1;33m,\u001b[0m \u001b[1;33m/\u001b[0m\u001b[1;33m,\u001b[0m \u001b[1;33m*\u001b[0m\u001b[0margs\u001b[0m\u001b[1;33m,\u001b[0m \u001b[1;33m**\u001b[0m\u001b[0mkwargs\u001b[0m\u001b[1;33m)\u001b[0m\u001b[1;33m\u001b[0m\u001b[1;33m\u001b[0m\u001b[0m\n",
       "\u001b[1;31mDocstring:\u001b[0m     \n",
       "filter(function or None, iterable) --> filter object\n",
       "\n",
       "Return an iterator yielding those items of iterable for which function(item)\n",
       "is true. If function is None, return the items that are true.\n",
       "\u001b[1;31mType:\u001b[0m           type\n",
       "\u001b[1;31mSubclasses:\u001b[0m     \n"
      ]
     },
     "metadata": {},
     "output_type": "display_data"
    }
   ],
   "source": [
    "filter?\n",
    "\n",
    "# вот такая вот функция (спецификация, информация)"
   ]
  },
  {
   "cell_type": "code",
   "execution_count": 10,
   "id": "f429fd98-08d4-4d06-b7a7-bb8599fb98a9",
   "metadata": {},
   "outputs": [
    {
     "name": "stdout",
     "output_type": "stream",
     "text": [
      "<filter object at 0x0000017F915D78E0> ['a', 'b']\n"
     ]
    }
   ],
   "source": [
    "gen_object = filter(str.isalpha, 'ab12'); print(gen_object, list(gen_object))\n",
    "\n",
    "# filter возвращает генераторный объект, который выдает только те элементы element \n",
    "# итерируемого объекта iterable, для которых вызов функции-предиката от элемента function(element) \n",
    "# возвращает значение True. Функция filter фильтрует элементы итерируемого объекта iterable на основе функции-предиката function\n",
    "# в данном случае\n",
    "# filter возвращает генераторный объект, который выдает только те элементы\n",
    "# итерируемого объекта 'ab12', для которых вызов функции-предиката от элемента isalpha\n",
    "# возвращает значение True"
   ]
  },
  {
   "cell_type": "code",
   "execution_count": 11,
   "id": "8dcfdcea-1404-49f4-a85e-718a7b2d575b",
   "metadata": {},
   "outputs": [
    {
     "data": {
      "text/plain": [
       "(1, 6, 11, 16, 21, 26, 31, 36, 41, 46, 51, 56, 61, 66, 71, 76, 81, 86, 91, 96)"
      ]
     },
     "execution_count": 11,
     "metadata": {},
     "output_type": "execute_result"
    }
   ],
   "source": [
    "gen_object = filter((lambda x: x%5==1), range(100)); tuple(gen_object)\n",
    "\n",
    "# filter возвращает генераторный объект, который выдает только те элементы\n",
    "# итерируемого объекта range(100), для которых вызов lambda-функции-предиката от элемента\n",
    "# возвращает значение True"
   ]
  },
  {
   "cell_type": "code",
   "execution_count": 12,
   "id": "2e217cfe-fa29-4c11-b01b-c21e1e93cd4a",
   "metadata": {},
   "outputs": [
    {
     "data": {
      "text/plain": [
       "{-5, -4, -3, -2, -1, 1, 2, 3, 4}"
      ]
     },
     "execution_count": 12,
     "metadata": {},
     "output_type": "execute_result"
    }
   ],
   "source": [
    "def f(x): return bool(x)\n",
    "gen_object = filter(f, range(-5,5)); set(gen_object)\n",
    "\n",
    "# filter возвращает генераторный объект, который выдает только те элементы\n",
    "# итерируемого объекта range(-5,5), для которых вызов пользовательской функции-предиката от элемента f\n",
    "# возвращает значение True"
   ]
  },
  {
   "cell_type": "code",
   "execution_count": 13,
   "id": "a726b0e0-cbee-48b2-955e-06444a05d041",
   "metadata": {},
   "outputs": [
    {
     "data": {
      "text/plain": [
       "[5]"
      ]
     },
     "execution_count": 13,
     "metadata": {},
     "output_type": "execute_result"
    }
   ],
   "source": [
    "list(filter(None, (None, 0, [], {}, 5, '')))\n",
    "\n",
    "# первый аргумент filter - объект None\n",
    "# в этом случае результатом будет генераторный объект, который выдает только те элементы \n",
    "# итерируемого объекта iterable, булевское значение которых равно True"
   ]
  },
  {
   "cell_type": "code",
   "execution_count": 14,
   "id": "7c080a44-e9c6-42e2-89db-cb6dc4cb99ac",
   "metadata": {},
   "outputs": [
    {
     "data": {
      "text/plain": [
       "[5]"
      ]
     },
     "execution_count": 14,
     "metadata": {},
     "output_type": "execute_result"
    }
   ],
   "source": [
    "list(filter(bool, (None, 0, [], {}, 5, '')))\n",
    "\n",
    "# альтернативный синтаксис с аналогичным результатом"
   ]
  },
  {
   "cell_type": "code",
   "execution_count": 15,
   "id": "c032464a-1015-4bb2-9a03-7ec780467829",
   "metadata": {},
   "outputs": [
    {
     "name": "stdout",
     "output_type": "stream",
     "text": [
      "700 ns ± 92.3 ns per loop (mean ± std. dev. of 7 runs, 1,000,000 loops each)\n",
      "828 ns ± 27.5 ns per loop (mean ± std. dev. of 7 runs, 1,000,000 loops each)\n"
     ]
    }
   ],
   "source": [
    "%timeit list(filter(str.isalpha, 'ab12'))\n",
    "%timeit [x for x in 'ab12' if str.isalpha(x)]\n",
    "\n",
    "# вместо filter можно использовать списковые включения с if\n",
    "# но filter быстрее\n",
    "# и реализуется протокол итераций для прохода по итерируемому объекту"
   ]
  },
  {
   "cell_type": "code",
   "execution_count": 16,
   "id": "ebb481e8-7971-4f4d-8a72-c743572c1f9c",
   "metadata": {},
   "outputs": [
    {
     "data": {
      "text/plain": [
       "(6, 7, 8, 9)"
      ]
     },
     "execution_count": 16,
     "metadata": {},
     "output_type": "execute_result"
    }
   ],
   "source": [
    "tuple(filter((lambda x: x>5), range(10)))\n",
    "tuple(x for x in range(10) if x>5)\n",
    "\n",
    "# одно и то же, но разными способами"
   ]
  },
  {
   "cell_type": "code",
   "execution_count": 18,
   "id": "26cb65fa-8ec3-4d22-912a-94d59fc1e5d3",
   "metadata": {},
   "outputs": [
    {
     "data": {
      "text/plain": [
       "{-5, -4, -3, -2, -1, 1, 2, 3, 4}"
      ]
     },
     "execution_count": 18,
     "metadata": {},
     "output_type": "execute_result"
    }
   ],
   "source": [
    "def f(x): return bool(x)\n",
    "set(filter(f, range(-5,5)))\n",
    "{x for x in range(-5,5) if bool(x)}\n",
    "\n",
    "# и опять одно и то же, но разными способами"
   ]
  },
  {
   "cell_type": "markdown",
   "id": "efd89e27-fb8f-42b4-99e7-7ad57a32b30a",
   "metadata": {},
   "source": [
    "## 6.3 Модуль functools"
   ]
  },
  {
   "cell_type": "code",
   "execution_count": 19,
   "id": "36c425dd-ce5e-4472-8f2c-7029ba44a1ba",
   "metadata": {},
   "outputs": [],
   "source": [
    "import functools\n",
    "\n",
    "# импортирую модуль"
   ]
  },
  {
   "cell_type": "code",
   "execution_count": 20,
   "id": "1efbca15-b65d-49df-b7ff-d1aaf3f0baf4",
   "metadata": {},
   "outputs": [
    {
     "data": {
      "text/plain": [
       "\u001b[1;31mType:\u001b[0m        module\n",
       "\u001b[1;31mString form:\u001b[0m <module 'functools' from 'C:\\\\Users\\\\Andrey\\\\AppData\\\\Local\\\\Programs\\\\Python\\\\Python310\\\\lib\\\\functools.py'>\n",
       "\u001b[1;31mFile:\u001b[0m        c:\\users\\andrey\\appdata\\local\\programs\\python\\python310\\lib\\functools.py\n",
       "\u001b[1;31mDocstring:\u001b[0m   functools.py - Tools for working with functions and callable objects\n"
      ]
     },
     "metadata": {},
     "output_type": "display_data"
    }
   ],
   "source": [
    "functools?\n",
    "\n",
    "# информация о модуле"
   ]
  },
  {
   "cell_type": "markdown",
   "id": "f32e2b1a-62a1-448a-b32c-d8a594982bd4",
   "metadata": {},
   "source": [
    "### Функция reduce из модуля functools"
   ]
  },
  {
   "cell_type": "code",
   "execution_count": 21,
   "id": "cc795272-66e4-4676-9509-5ae8fbc9de43",
   "metadata": {},
   "outputs": [
    {
     "data": {
      "text/plain": [
       "\u001b[1;31mDocstring:\u001b[0m\n",
       "reduce(function, iterable[, initial]) -> value\n",
       "\n",
       "Apply a function of two arguments cumulatively to the items of a sequence\n",
       "or iterable, from left to right, so as to reduce the iterable to a single\n",
       "value.  For example, reduce(lambda x, y: x+y, [1, 2, 3, 4, 5]) calculates\n",
       "((((1+2)+3)+4)+5).  If initial is present, it is placed before the items\n",
       "of the iterable in the calculation, and serves as a default when the\n",
       "iterable is empty.\n",
       "\u001b[1;31mType:\u001b[0m      builtin_function_or_method\n"
      ]
     },
     "metadata": {},
     "output_type": "display_data"
    }
   ],
   "source": [
    "functools.reduce?\n",
    "\n",
    "# информация про functools"
   ]
  },
  {
   "cell_type": "code",
   "execution_count": 22,
   "id": "b93f2138-611d-4a35-8a3e-b69cea9403e9",
   "metadata": {},
   "outputs": [
    {
     "data": {
      "text/plain": [
       "45"
      ]
     },
     "execution_count": 22,
     "metadata": {},
     "output_type": "execute_result"
    }
   ],
   "source": [
    "function = lambda x, y: x+y \n",
    "iterable = range(10)\n",
    "functools.reduce(function, iterable)\n",
    "\n",
    "# reduce вызывает функцию двух аргументов function последовательно для каждого элемента \n",
    "# итерируемого объекта iterable\n",
    "# при этом результат текущего вызова функции function используется в качестве \n",
    "# первого аргумента для последующего вызова function\n",
    "# аргумент initial является необязательным\n",
    "# значение аргумента initial задает первый аргумент при первом вызове функции function\n",
    "# в данном случае\n",
    "# reduce вызывает lambda-функцию двух аргументов function последовательно для каждого элемента \n",
    "# итерируемого объекта iterable = range(10)"
   ]
  },
  {
   "cell_type": "code",
   "execution_count": 23,
   "id": "57544fc7-8962-478e-8ba1-b3c2ae13b8a1",
   "metadata": {},
   "outputs": [
    {
     "data": {
      "text/plain": [
       "48"
      ]
     },
     "execution_count": 23,
     "metadata": {},
     "output_type": "execute_result"
    }
   ],
   "source": [
    "functools.reduce(lambda x, y: x*y, range(1,5), 2)\n",
    "\n",
    "# удобно вычислить факториал\n",
    "# function - lambds x, y: x*y\n",
    "# iterable - range(1,5)\n",
    "# initial = 2"
   ]
  },
  {
   "cell_type": "code",
   "execution_count": 24,
   "id": "04cea2f1-d449-4cb4-8cef-708da5d6976f",
   "metadata": {},
   "outputs": [
    {
     "data": {
      "text/plain": [
       "24"
      ]
     },
     "execution_count": 24,
     "metadata": {},
     "output_type": "execute_result"
    }
   ],
   "source": [
    "def my_reduce(function, iterable, initial=None):\n",
    "    it = iter(iterable)\n",
    "    \n",
    "    value = next(it) if initial is None else initial\n",
    "    \n",
    "    for x in it:\n",
    "        value = function(value, x)\n",
    "        \n",
    "    return value\n",
    "\n",
    "my_reduce(lambda x, y: x*y, range(1,5), 1)\n",
    "\n",
    "# реализация reduce с помощью пользовательской функции\n",
    "# reduce возвращает значение, а не объект, как это было с map, например"
   ]
  },
  {
   "cell_type": "markdown",
   "id": "00f8c791-fd42-4ae2-8291-feb6ba28ed43",
   "metadata": {},
   "source": [
    "## 6.4 Функция enumerate"
   ]
  },
  {
   "cell_type": "code",
   "execution_count": 26,
   "id": "21ca0d24-2313-4566-a17e-cc7de9aca038",
   "metadata": {},
   "outputs": [
    {
     "data": {
      "text/plain": [
       "\u001b[1;31mInit signature:\u001b[0m \u001b[0menumerate\u001b[0m\u001b[1;33m(\u001b[0m\u001b[0miterable\u001b[0m\u001b[1;33m,\u001b[0m \u001b[0mstart\u001b[0m\u001b[1;33m=\u001b[0m\u001b[1;36m0\u001b[0m\u001b[1;33m)\u001b[0m\u001b[1;33m\u001b[0m\u001b[1;33m\u001b[0m\u001b[0m\n",
       "\u001b[1;31mDocstring:\u001b[0m     \n",
       "Return an enumerate object.\n",
       "\n",
       "  iterable\n",
       "    an object supporting iteration\n",
       "\n",
       "The enumerate object yields pairs containing a count (from start, which\n",
       "defaults to zero) and a value yielded by the iterable argument.\n",
       "\n",
       "enumerate is useful for obtaining an indexed list:\n",
       "    (0, seq[0]), (1, seq[1]), (2, seq[2]), ...\n",
       "\u001b[1;31mType:\u001b[0m           type\n",
       "\u001b[1;31mSubclasses:\u001b[0m     \n"
      ]
     },
     "metadata": {},
     "output_type": "display_data"
    }
   ],
   "source": [
    "enumerate?\n",
    "\n",
    "# информация о функции"
   ]
  },
  {
   "cell_type": "code",
   "execution_count": 27,
   "id": "4de43b90-7e97-442c-96f5-41ae1398ea52",
   "metadata": {},
   "outputs": [
    {
     "data": {
      "text/plain": [
       "[(0, 'S'), (1, 't'), (2, 'r'), (3, 'i'), (4, 'n'), (5, 'g')]"
      ]
     },
     "execution_count": 27,
     "metadata": {},
     "output_type": "execute_result"
    }
   ],
   "source": [
    "list(enumerate(\"String\"))\n",
    "\n",
    "# функция enumerate возвращает генераторный объект содержащий кортежи с\n",
    "# индексом элемента итерируемого объекта, передаваемого в функцию и сам элемент\n",
    "# необязательный аргумент функции enumerate имеет стандартное значение start = 0\n",
    "# можно начать и не с нуля"
   ]
  },
  {
   "cell_type": "code",
   "execution_count": 28,
   "id": "bacdb8e2-0b85-4a46-ac02-281a15fe7b54",
   "metadata": {},
   "outputs": [
    {
     "data": {
      "text/plain": [
       "[(1, -3), (2, -2), (3, -1), (4, 0), (5, 1), (6, 2)]"
      ]
     },
     "execution_count": 28,
     "metadata": {},
     "output_type": "execute_result"
    }
   ],
   "source": [
    "list(enumerate(range(-3,3), start=1))\n",
    "\n",
    "# тоже пример, начинаю не с нуля\n",
    "# итерируемый объект - range(-3, 3)"
   ]
  },
  {
   "cell_type": "code",
   "execution_count": 30,
   "id": "9a503513-950b-4516-95b2-9dfe8560f231",
   "metadata": {},
   "outputs": [
    {
     "data": {
      "text/plain": [
       "(-1, 1)"
      ]
     },
     "execution_count": 30,
     "metadata": {},
     "output_type": "execute_result"
    }
   ],
   "source": [
    "s_y = list(range(-11, 10, 2))\n",
    "for (k, el) in enumerate(s_y):\n",
    "    if el*s_y[k+1]<=0:\n",
    "        break\n",
    "s_y[k], s_y[k+1]\n",
    "\n",
    "# определение времени, когда запущенное тело коснется земли, задание 1.4"
   ]
  },
  {
   "cell_type": "code",
   "execution_count": 31,
   "id": "493d8112-8836-4e0a-b21e-8f512219fba3",
   "metadata": {},
   "outputs": [],
   "source": [
    "def my_enumerate(sequence, start=0):\n",
    "    i = start\n",
    "    for elem in sequence:\n",
    "        yield i, elem\n",
    "        i += 1\n",
    "        \n",
    "gen_object = my_enumerate(range(-3,3))\n",
    "\n",
    "# реализация enumerate с помощью пользовательской функции"
   ]
  },
  {
   "cell_type": "code",
   "execution_count": 32,
   "id": "489dce57-234b-4380-929b-6269cdaed6bb",
   "metadata": {},
   "outputs": [
    {
     "data": {
      "text/plain": [
       "[(0, -3), (1, -2), (2, -1), (3, 0), (4, 1), (5, 2)]"
      ]
     },
     "execution_count": 32,
     "metadata": {},
     "output_type": "execute_result"
    }
   ],
   "source": [
    "list(gen_object)\n",
    "\n",
    "# тестирую"
   ]
  },
  {
   "cell_type": "markdown",
   "id": "afa74044-6425-4760-b85c-68ea53bc72ab",
   "metadata": {},
   "source": [
    "## 6.5 Функция zip"
   ]
  },
  {
   "cell_type": "code",
   "execution_count": 33,
   "id": "aefd56b3-f76a-4d0e-aa62-c53817a6b12c",
   "metadata": {},
   "outputs": [
    {
     "data": {
      "text/plain": [
       "\u001b[1;31mInit signature:\u001b[0m \u001b[0mzip\u001b[0m\u001b[1;33m(\u001b[0m\u001b[0mself\u001b[0m\u001b[1;33m,\u001b[0m \u001b[1;33m/\u001b[0m\u001b[1;33m,\u001b[0m \u001b[1;33m*\u001b[0m\u001b[0margs\u001b[0m\u001b[1;33m,\u001b[0m \u001b[1;33m**\u001b[0m\u001b[0mkwargs\u001b[0m\u001b[1;33m)\u001b[0m\u001b[1;33m\u001b[0m\u001b[1;33m\u001b[0m\u001b[0m\n",
       "\u001b[1;31mDocstring:\u001b[0m     \n",
       "zip(*iterables, strict=False) --> Yield tuples until an input is exhausted.\n",
       "\n",
       "   >>> list(zip('abcdefg', range(3), range(4)))\n",
       "   [('a', 0, 0), ('b', 1, 1), ('c', 2, 2)]\n",
       "\n",
       "The zip object yields n-length tuples, where n is the number of iterables\n",
       "passed as positional arguments to zip().  The i-th element in every tuple\n",
       "comes from the i-th iterable argument to zip().  This continues until the\n",
       "shortest argument is exhausted.\n",
       "\n",
       "If strict is true and one of the arguments is exhausted before the others,\n",
       "raise a ValueError.\n",
       "\u001b[1;31mType:\u001b[0m           type\n",
       "\u001b[1;31mSubclasses:\u001b[0m     \n"
      ]
     },
     "metadata": {},
     "output_type": "display_data"
    }
   ],
   "source": [
    "zip?\n",
    "\n",
    "# информация о функции"
   ]
  },
  {
   "cell_type": "code",
   "execution_count": 36,
   "id": "be7ec724-ad99-4947-8bf9-a727dae7031f",
   "metadata": {},
   "outputs": [
    {
     "name": "stdout",
     "output_type": "stream",
     "text": [
      "<zip object at 0x0000017FA1EB3480> [('S', 0), ('t', 1), ('r', 2), ('i', 3), ('n', 4), ('g', 5)]\n"
     ]
    }
   ],
   "source": [
    "gen_object = zip(\"String\", range(10)); print(gen_object, list(gen_object))\n",
    "\n",
    "# функция zip возвращает генераторный объект выдающий n кортежей из элементов передаваемых итерируемых объектов, где n -\n",
    "# количество этих самых объектов\n",
    "# zip закончит работу, когда завершится обход по наименьшему по длине передаваемому в функцию итерируемому объекту\n",
    "# реалиуется протокол итераций"
   ]
  },
  {
   "cell_type": "markdown",
   "id": "dc0f5505-e8c0-4fb5-8c8a-8744a3c1d0a7",
   "metadata": {},
   "source": [
    "### Использование функции zip для работы со словарями"
   ]
  },
  {
   "cell_type": "code",
   "execution_count": 37,
   "id": "7af6f016-ec72-427c-ba8b-aae7ef3e970b",
   "metadata": {},
   "outputs": [
    {
     "data": {
      "text/plain": [
       "{'a': 0, 'b': 1, 'c': 2}"
      ]
     },
     "execution_count": 37,
     "metadata": {},
     "output_type": "execute_result"
    }
   ],
   "source": [
    "D = dict(zip('abc',range(3)))\n",
    "D\n",
    "\n",
    "# создаю словарь из итерируемого объекта ключей и итерируемого объекта значений"
   ]
  },
  {
   "cell_type": "code",
   "execution_count": 38,
   "id": "5ed7b850-27e0-4a4e-ad9d-1c840bdbb4c0",
   "metadata": {},
   "outputs": [
    {
     "data": {
      "text/plain": [
       "{'a': 0, 'b': 1, 'c': 2}"
      ]
     },
     "execution_count": 38,
     "metadata": {},
     "output_type": "execute_result"
    }
   ],
   "source": [
    "D_copy = dict(zip(D.keys(),D.values()))\n",
    "D_copy\n",
    "\n",
    "# если необходимо получить копию, можно вот такой интересный способ рассмотреть"
   ]
  },
  {
   "cell_type": "markdown",
   "id": "daed7de6-24e0-41e8-9ade-74832cbccafc",
   "metadata": {},
   "source": [
    "### Использование функции zip в циклах for и включениях"
   ]
  },
  {
   "cell_type": "code",
   "execution_count": 40,
   "id": "5ef036ed-9156-42ca-ada9-4570228c9f2c",
   "metadata": {},
   "outputs": [
    {
     "name": "stdout",
     "output_type": "stream",
     "text": [
      "0\n",
      "3\n",
      "6\n",
      "0\n",
      "3\n",
      "6\n"
     ]
    },
    {
     "data": {
      "text/plain": [
       "[None, None, None]"
      ]
     },
     "execution_count": 40,
     "metadata": {},
     "output_type": "execute_result"
    }
   ],
   "source": [
    "for (x, y, z) in zip(range(3), range(3), range(3)):\n",
    "    print(x+y+z)\n",
    "    \n",
    "list(map(lambda x,y,z: print(x+y+z), range(3), range(3), range(3)))\n",
    "\n",
    "# ВОПРОС: почему вернулся [None, None, None]?\n",
    "# а так два примера, одно и тоже\n",
    "# но в первом итерации по генераторному объекту zip(range(3), range(3), range(3)\n",
    "# во втором с помощью map действую lambda функцией сразу на три генераторных объекта"
   ]
  },
  {
   "cell_type": "code",
   "execution_count": 41,
   "id": "b4d823cb-d905-4d2d-b75b-73a07603cd47",
   "metadata": {},
   "outputs": [
    {
     "data": {
      "text/plain": [
       "['a000', 'a111', 'a222']"
      ]
     },
     "execution_count": 41,
     "metadata": {},
     "output_type": "execute_result"
    }
   ],
   "source": [
    "['a{}{}{}'.format(x,y,z) for (x,y,z) in zip(range(3), range(3), range(3))]\n",
    "\n",
    "# пример использования функции zip для всатвки в строку с помощью format"
   ]
  },
  {
   "cell_type": "code",
   "execution_count": 48,
   "id": "fcc8a34f-3fb9-4717-a83b-6acce6278c64",
   "metadata": {},
   "outputs": [
    {
     "data": {
      "text/plain": [
       "(True, True)"
      ]
     },
     "execution_count": 48,
     "metadata": {},
     "output_type": "execute_result"
    }
   ],
   "source": [
    "a = tuple(range(5)); b = tuple(range(5))\n",
    "z = zip(a, b)\n",
    "A, B = zip(*z)\n",
    "A == a, B == b\n",
    "\n",
    "# list(zip(a, b))\n",
    "# пример использования zip с распаковкой\n",
    "# используя zip два раза получаю тот же самый результат"
   ]
  },
  {
   "cell_type": "markdown",
   "id": "bd132538-24ca-4346-806a-3fce79a24220",
   "metadata": {},
   "source": [
    "## 6.6 Функция-замыкание"
   ]
  },
  {
   "cell_type": "code",
   "execution_count": 49,
   "id": "952354e9-c895-4db6-91a6-9bc0357023fc",
   "metadata": {},
   "outputs": [],
   "source": [
    "def maker(n):\n",
    "    return lambda x: x**n\n",
    "\n",
    "# maker - объемлющая функция\n",
    "# lambda-функция - вложенная функция\n",
    "# maker называется фабричной функцией\n",
    "# результат вызова maker называется функцией-замыканием"
   ]
  },
  {
   "cell_type": "code",
   "execution_count": 50,
   "id": "89b7a2c5-de3f-4dbb-a522-9b92b14defc9",
   "metadata": {},
   "outputs": [
    {
     "data": {
      "text/plain": [
       "(<function __main__.maker.<locals>.<lambda>(x)>, function)"
      ]
     },
     "execution_count": 50,
     "metadata": {},
     "output_type": "execute_result"
    }
   ],
   "source": [
    "closure1, closure2 = maker(2), maker(3)\n",
    "closure1, type(closure1)\n",
    "\n",
    "# две функции-замыкания"
   ]
  },
  {
   "cell_type": "code",
   "execution_count": 51,
   "id": "c6b2fd50-d0e9-4804-860b-79de66d1678b",
   "metadata": {},
   "outputs": [
    {
     "data": {
      "text/plain": [
       "(9, 27)"
      ]
     },
     "execution_count": 51,
     "metadata": {},
     "output_type": "execute_result"
    }
   ],
   "source": [
    "closure1(3), closure2(3)\n",
    "\n",
    "# вызов функций-замыканий"
   ]
  },
  {
   "cell_type": "code",
   "execution_count": 52,
   "id": "fb1a61aa-5eee-4ae9-93c4-c45df19ff936",
   "metadata": {},
   "outputs": [],
   "source": [
    "# функция maker является фабричной функцией\n",
    "def maker(start):\n",
    "    n = start\n",
    "    def f(x): \n",
    "        nonlocal n # переменная n фабричной функции будет изменяться внутри функции-замыкания\n",
    "        n += 1\n",
    "        return n, x\n",
    "    return f\n",
    "\n",
    "# пример определения функции-замыкания со счетчиком вызовов функции"
   ]
  },
  {
   "cell_type": "code",
   "execution_count": 53,
   "id": "f19288a0-743e-420e-a215-6597f0c207bf",
   "metadata": {},
   "outputs": [
    {
     "data": {
      "text/plain": [
       "<function __main__.maker.<locals>.f(x)>"
      ]
     },
     "execution_count": 53,
     "metadata": {},
     "output_type": "execute_result"
    }
   ],
   "source": [
    "closure = maker(0)\n",
    "closure\n",
    "\n",
    "# функция-замыкание"
   ]
  },
  {
   "cell_type": "code",
   "execution_count": 54,
   "id": "47b9353e-9345-45b5-86e4-7d30f9edb95a",
   "metadata": {},
   "outputs": [
    {
     "data": {
      "text/plain": [
       "((1, 'first'), (2, 'second'))"
      ]
     },
     "execution_count": 54,
     "metadata": {},
     "output_type": "execute_result"
    }
   ],
   "source": [
    "closure('first'), closure('second')"
   ]
  },
  {
   "cell_type": "code",
   "execution_count": 55,
   "id": "7c773394-236b-4e82-aed9-7152c40708e2",
   "metadata": {},
   "outputs": [
    {
     "data": {
      "text/plain": [
       "(1, 'new')"
      ]
     },
     "execution_count": 55,
     "metadata": {},
     "output_type": "execute_result"
    }
   ],
   "source": [
    "closure_new = maker(0); closure_new('new')\n",
    "\n",
    "# новый вызов фабричной функции\n",
    "# новое пространство имен фабричной функции\n",
    "# переопределение счетчика"
   ]
  },
  {
   "cell_type": "markdown",
   "id": "395d453b-9220-4e36-a811-4a1f56299b9c",
   "metadata": {},
   "source": [
    "Пример фабричной функции одного аргумента <code>sin_diff(dx)</code>, которая для заданного значения приращения $dx$ переменной $x$ определяет функцию-замыкание для приближенного вычисления производной от функции $\\sin \\left( x \\right)$ по формуле:\n",
    "$$f' \\left( x \\right) \\approx \\dfrac{\\sin \\left( x + dx \\right) - \\sin \\left( x \\right)}{dx}$$"
   ]
  },
  {
   "cell_type": "code",
   "execution_count": 56,
   "id": "a5b3af73-d94d-4f15-aaa9-8ee8acdc3931",
   "metadata": {},
   "outputs": [],
   "source": [
    "import numpy as np \n",
    "def sin_diff(dx):\n",
    "    assert dx != 0, 'dx не должно быть нулем'\n",
    "    return lambda x: (np.sin(x+dx)-np.sin(x))/dx\n",
    "\n",
    "# определение фабричной функции"
   ]
  },
  {
   "cell_type": "code",
   "execution_count": 57,
   "id": "218bc9bd-ca1e-4723-9fa7-fdc9e81cc742",
   "metadata": {},
   "outputs": [],
   "source": [
    "closures = [sin_diff(dx) for dx in (0.1, 0.3, 0.5)]\n",
    "\n",
    "# Определение функций-замыканий для различных значений dx"
   ]
  },
  {
   "cell_type": "code",
   "execution_count": 58,
   "id": "6970c4bd-6d77-4e15-9cb8-2a44cbeb0911",
   "metadata": {},
   "outputs": [
    {
     "data": {
      "text/plain": [
       "<matplotlib.legend.Legend at 0x17fa30b5d80>"
      ]
     },
     "execution_count": 58,
     "metadata": {},
     "output_type": "execute_result"
    },
    {
     "data": {
      "image/png": "[encoded data removed]",
      "text/plain": [
       "<Figure size 432x288 with 1 Axes>"
      ]
     },
     "metadata": {
      "needs_background": "light"
     },
     "output_type": "display_data"
    }
   ],
   "source": [
    "import matplotlib.pyplot as plt \n",
    "\n",
    "x = np.arange(-np.pi/2, np.pi/2, 0.1)\n",
    "y = np.transpose(np.array([closure(x) for closure in closures]))\n",
    "\n",
    "plt.plot(x, np.cos(x))\n",
    "plt.plot(x, y)\n",
    "plt.legend(['$y = cos(x)$','$dx$ = 0.1','$dx$ = 0.3','$dx$ = 0.5'])\n",
    "\n",
    "# Изобразим в одной графической области графики функций приближений для производной от функции sin(x), а также функцию \n",
    "# cos(x)"
   ]
  },
  {
   "cell_type": "code",
   "execution_count": null,
   "id": "0d6c7ebb-109d-4900-a56d-ce0b12cd3396",
   "metadata": {},
   "outputs": [],
   "source": []
  }
 ],
 "metadata": {
  "kernelspec": {
   "display_name": "Python 3 (ipykernel)",
   "language": "python",
   "name": "python3"
  },
  "language_info": {
   "codemirror_mode": {
    "name": "ipython",
    "version": 3
   },
   "file_extension": ".py",
   "mimetype": "text/x-python",
   "name": "python",
   "nbconvert_exporter": "python",
   "pygments_lexer": "ipython3",
   "version": "3.10.5"
  }
 },
 "nbformat": 4,
 "nbformat_minor": 5
}
