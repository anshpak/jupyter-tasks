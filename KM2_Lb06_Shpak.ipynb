{
 "cells": [
  {
   "cell_type": "markdown",
   "id": "282ea4f4-b6c0-4f55-b8d6-cf84f3e93346",
   "metadata": {},
   "source": [
    "# Лабораторная работа 6\n",
    "# Функции в Python. Инструменты функционального программирования"
   ]
  },
  {
   "cell_type": "markdown",
   "id": "dd1a4646-61e9-4289-afb2-97d75fbd79f9",
   "metadata": {},
   "source": [
    "# Задание 6"
   ]
  },
  {
   "cell_type": "markdown",
   "id": "80aa3a29-327a-4f12-8224-6d568d07838e",
   "metadata": {},
   "source": [
    "Проработайте материал четырех лекций, представленный в файлах\n",
    "- 2022_KM2_T4_Functions.html,\n",
    "- 2022_KM2_T5_IterableObjects.html,\n",
    "- 2022_KM2_T6_FunctionalProgramming.html\n",
    "\n",
    "Перенесите в свой блокнот Jupyter Notebook информационную структуру лекций, с указанием номера и темы раздела.\n",
    "\n",
    "Дополните каждый пример из лекционного материала кратким комментарием к нему."
   ]
  },
  {
   "cell_type": "markdown",
   "id": "85b89e9c-03c7-4979-9d55-c910a6195006",
   "metadata": {},
   "source": [
    "## Реализация задания 6"
   ]
  },
  {
   "cell_type": "markdown",
   "id": "1c43cb9d-0eb1-4d8a-abcd-b61b5474d23d",
   "metadata": {},
   "source": [
    "# Тема 4. Функция. Область видимости переменной"
   ]
  },
  {
   "cell_type": "markdown",
   "id": "e8f7eaa2-9ba5-434e-ba9b-4839e608449b",
   "metadata": {},
   "source": [
    "## 4.1 Определение функции, вызов функции, объект функции"
   ]
  },
  {
   "cell_type": "markdown",
   "id": "bef1a5a0-be51-4f55-8b33-75bb7d8c7c39",
   "metadata": {},
   "source": [
    "### Определение функции"
   ]
  },
  {
   "cell_type": "code",
   "execution_count": 5,
   "id": "3106e8a5-c809-429f-abff-36fff4f3f8e1",
   "metadata": {},
   "outputs": [
    {
     "data": {
      "text/plain": [
       "(1, None)"
      ]
     },
     "execution_count": 5,
     "metadata": {},
     "output_type": "execute_result"
    }
   ],
   "source": [
    "def f(x):\n",
    "    return x\n",
    "\n",
    "def g(x):\n",
    "    x = 10\n",
    "\n",
    "f(1), g(1)\n",
    "\n",
    "# посредством оператора return посылается результат вызова функции: объект-значение\n",
    "# если оператор return отсутствует в теле функции, результатом вызова является объект None\\"
   ]
  },
  {
   "cell_type": "code",
   "execution_count": 7,
   "id": "2237bd4e-ac01-4649-b48a-d795b0f37115",
   "metadata": {},
   "outputs": [
    {
     "name": "stdout",
     "output_type": "stream",
     "text": [
      "last line of the function body\n"
     ]
    },
    {
     "data": {
      "text/plain": [
       "(1, None)"
      ]
     },
     "execution_count": 7,
     "metadata": {},
     "output_type": "execute_result"
    }
   ],
   "source": [
    "def f(x):\n",
    "    return x\n",
    "    x = \"new value\"\n",
    "\n",
    "def g(x):\n",
    "    x = 10\n",
    "    print(\"last line of the function body\")\n",
    "\n",
    "f(1), g(1)\n",
    "\n",
    "# выход из тела функции осуществляется сразу после выполнения оператора return\n",
    "# если же оператор return в теле функции отсутствует, то выод из тела функции осуществится при достижении конца тела функции и\n",
    "# вернется объект None"
   ]
  },
  {
   "cell_type": "code",
   "execution_count": 8,
   "id": "900e67d9-deb1-49ec-a403-ae54335d32f8",
   "metadata": {},
   "outputs": [
    {
     "data": {
      "text/plain": [
       "('Return value:', 1)"
      ]
     },
     "execution_count": 8,
     "metadata": {},
     "output_type": "execute_result"
    }
   ],
   "source": [
    "def f(x):\n",
    "    return \"Return value:\", x\n",
    "\n",
    "f(1)\n",
    "\n",
    "# если нужно вернуть несколько объектов-значений, их можно возвращать как элементы кортежа"
   ]
  },
  {
   "cell_type": "code",
   "execution_count": null,
   "id": "1f67dfe9-0dc3-4dd4-b0cd-defe8ab6d49a",
   "metadata": {},
   "outputs": [],
   "source": []
  }
 ],
 "metadata": {
  "kernelspec": {
   "display_name": "Python 3 (ipykernel)",
   "language": "python",
   "name": "python3"
  },
  "language_info": {
   "codemirror_mode": {
    "name": "ipython",
    "version": 3
   },
   "file_extension": ".py",
   "mimetype": "text/x-python",
   "name": "python",
   "nbconvert_exporter": "python",
   "pygments_lexer": "ipython3",
   "version": "3.10.5"
  }
 },
 "nbformat": 4,
 "nbformat_minor": 5
}
