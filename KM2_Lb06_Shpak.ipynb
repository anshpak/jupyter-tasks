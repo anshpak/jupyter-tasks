{
 "cells": [
  {
   "cell_type": "markdown",
   "id": "282ea4f4-b6c0-4f55-b8d6-cf84f3e93346",
   "metadata": {},
   "source": [
    "# Лабораторная работа 6\n",
    "# Функции в Python. Инструменты функционального программирования"
   ]
  },
  {
   "cell_type": "markdown",
   "id": "dd1a4646-61e9-4289-afb2-97d75fbd79f9",
   "metadata": {},
   "source": [
    "# Задание 6"
   ]
  },
  {
   "cell_type": "markdown",
   "id": "80aa3a29-327a-4f12-8224-6d568d07838e",
   "metadata": {},
   "source": [
    "Проработайте материал четырех лекций, представленный в файлах\n",
    "- 2022_KM2_T4_Functions.html,\n",
    "- 2022_KM2_T5_IterableObjects.html,\n",
    "- 2022_KM2_T6_FunctionalProgramming.html\n",
    "\n",
    "Перенесите в свой блокнот Jupyter Notebook информационную структуру лекций, с указанием номера и темы раздела.\n",
    "\n",
    "Дополните каждый пример из лекционного материала кратким комментарием к нему."
   ]
  },
  {
   "cell_type": "markdown",
   "id": "85b89e9c-03c7-4979-9d55-c910a6195006",
   "metadata": {},
   "source": [
    "## Реализация задания 6"
   ]
  },
  {
   "cell_type": "markdown",
   "id": "1c43cb9d-0eb1-4d8a-abcd-b61b5474d23d",
   "metadata": {},
   "source": [
    "# Тема 4. Функция. Область видимости переменной"
   ]
  },
  {
   "cell_type": "markdown",
   "id": "e8f7eaa2-9ba5-434e-ba9b-4839e608449b",
   "metadata": {},
   "source": [
    "## 4.1 Определение функции, вызов функции, объект функции"
   ]
  },
  {
   "cell_type": "markdown",
   "id": "bef1a5a0-be51-4f55-8b33-75bb7d8c7c39",
   "metadata": {},
   "source": [
    "### Определение функции"
   ]
  },
  {
   "cell_type": "code",
   "execution_count": 5,
   "id": "3106e8a5-c809-429f-abff-36fff4f3f8e1",
   "metadata": {},
   "outputs": [
    {
     "data": {
      "text/plain": [
       "(1, None)"
      ]
     },
     "execution_count": 5,
     "metadata": {},
     "output_type": "execute_result"
    }
   ],
   "source": [
    "def f(x):\n",
    "    return x\n",
    "\n",
    "def g(x):\n",
    "    x = 10\n",
    "\n",
    "f(1), g(1)\n",
    "\n",
    "# посредством оператора return посылается результат вызова функции: объект-значение\n",
    "# если оператор return отсутствует в теле функции, результатом вызова является объект None\\"
   ]
  },
  {
   "cell_type": "code",
   "execution_count": 7,
   "id": "2237bd4e-ac01-4649-b48a-d795b0f37115",
   "metadata": {},
   "outputs": [
    {
     "name": "stdout",
     "output_type": "stream",
     "text": [
      "last line of the function body\n"
     ]
    },
    {
     "data": {
      "text/plain": [
       "(1, None)"
      ]
     },
     "execution_count": 7,
     "metadata": {},
     "output_type": "execute_result"
    }
   ],
   "source": [
    "def f(x):\n",
    "    return x\n",
    "    x = \"new value\"\n",
    "\n",
    "def g(x):\n",
    "    x = 10\n",
    "    print(\"last line of the function body\")\n",
    "\n",
    "f(1), g(1)\n",
    "\n",
    "# выход из тела функции осуществляется сразу после выполнения оператора return\n",
    "# если же оператор return в теле функции отсутствует, то выод из тела функции осуществится при достижении конца тела функции и\n",
    "# вернется объект None"
   ]
  },
  {
   "cell_type": "code",
   "execution_count": 8,
   "id": "900e67d9-deb1-49ec-a403-ae54335d32f8",
   "metadata": {},
   "outputs": [
    {
     "data": {
      "text/plain": [
       "('Return value:', 1)"
      ]
     },
     "execution_count": 8,
     "metadata": {},
     "output_type": "execute_result"
    }
   ],
   "source": [
    "def f(x):\n",
    "    return \"Return value:\", x\n",
    "\n",
    "f(1)\n",
    "\n",
    "# если нужно вернуть несколько объектов-значений, их можно возвращать как элементы кортежа"
   ]
  },
  {
   "cell_type": "code",
   "execution_count": 9,
   "id": "1f67dfe9-0dc3-4dd4-b0cd-defe8ab6d49a",
   "metadata": {},
   "outputs": [
    {
     "name": "stdout",
     "output_type": "stream",
     "text": [
      "1 between 2 between 3\n"
     ]
    }
   ],
   "source": [
    "print(1, 2, 3, sep=' between ')\n",
    "\n",
    "# пример вызова функции с позиционными и ключевыми аргументами\n",
    "# позиционные указываются вначале, после уже идут ключевые\n",
    "# позиционные передаются в строгом виде - таком же, котором и были определены в заголовке функции"
   ]
  },
  {
   "cell_type": "markdown",
   "id": "089b85fb-981d-49ea-b0d0-e7eedd52678b",
   "metadata": {},
   "source": [
    "### Вызов функции"
   ]
  },
  {
   "cell_type": "code",
   "execution_count": 10,
   "id": "d34f5884-7482-410b-88e7-d71c377f38f8",
   "metadata": {},
   "outputs": [
    {
     "name": "stdout",
     "output_type": "stream",
     "text": [
      "1 2\n",
      "2 {1}\n",
      "first second\n",
      "3 4\n"
     ]
    }
   ],
   "source": [
    "def f(arg1, arg2):\n",
    "    print(arg1, arg2)\n",
    "\n",
    "f(1, 2)                   # все аргументы позиционные\n",
    "f(arg1=2, arg2={1})       # все аргументы ключевые\n",
    "f(arg2='second', arg1='first') # порядок ключевых аргументов не важен\n",
    "f(3, arg2=4)              # сначала позиционный аргумент, затем ключевой\n",
    "\n",
    "# в лекционных комментариях все очень хорошо описано, добавить нечего"
   ]
  },
  {
   "cell_type": "code",
   "execution_count": 12,
   "id": "d4d7d8a1-d156-4fea-91a7-8e1e9dbb7367",
   "metadata": {},
   "outputs": [],
   "source": [
    "# некорректные вызовы\n",
    "# f()                       должно быть два аргумента\n",
    "# f(arg1=2, {1})            позиционный аргумент должен указываться до ключевого аргумента\n",
    "# f('second', arg1='first') одному позиционному аргументу соответствуют два значения\n",
    "# f(3, arg3=4)              неизвестный ключевой аргумент"
   ]
  },
  {
   "cell_type": "markdown",
   "id": "28b6c8b5-21db-4686-a419-74355e2c3cb3",
   "metadata": {},
   "source": [
    "### Определение функции со значениями по умолчанию для аргументов"
   ]
  },
  {
   "cell_type": "code",
   "execution_count": 13,
   "id": "020681da-8985-4bb8-945e-00f8e2f6c493",
   "metadata": {},
   "outputs": [
    {
     "data": {
      "text/plain": [
       "((100, 2, 3, 4, 5), (100, 0, 3, 4, 5))"
      ]
     },
     "execution_count": 13,
     "metadata": {},
     "output_type": "execute_result"
    }
   ],
   "source": [
    "def f(arg1, arg2=2, arg3=3, arg4=4, arg5=5):\n",
    "    return arg1, arg2, arg3, arg4, arg5\n",
    "\n",
    "f(100), f(100, 0)\n",
    "\n",
    "# пример вызова функции со значениями по умолчанию или \n",
    "# стандартными значениями\n",
    "# аргументы, имеющие стандартные значения являются не обязательными и при отсутствии в выове функции заменяются"
   ]
  },
  {
   "cell_type": "code",
   "execution_count": 14,
   "id": "aa56ad5b-4ed6-470c-8f10-e3d937e3616c",
   "metadata": {},
   "outputs": [
    {
     "name": "stdout",
     "output_type": "stream",
     "text": [
      "100 2 3 4 5\n",
      "100 0 3 4 5\n"
     ]
    }
   ],
   "source": [
    "def f(arg1, arg2=2, arg3=3, arg4=4, arg5=5):\n",
    "    print(arg1, arg2, arg3, arg4, arg5)\n",
    "\n",
    "f(100)\n",
    "f(100, 0)\n",
    "\n",
    "# еще один пример с стандартными значениями\n",
    "# отмечу, что стандартные значения идут не вначале, а после указания обычных аргументов"
   ]
  },
  {
   "cell_type": "markdown",
   "id": "fb7624e6-1cf4-469f-9ee5-1a380281366a",
   "metadata": {},
   "source": [
    "### Определение функции с произвольным количеством аргументов"
   ]
  },
  {
   "cell_type": "code",
   "execution_count": 21,
   "id": "b911a582-71a1-4dea-9034-041831d8e721",
   "metadata": {},
   "outputs": [
    {
     "name": "stdout",
     "output_type": "stream",
     "text": [
      "(1, 2, 3)\n",
      "(1, 2, 3, 4, 5, 6)\n"
     ]
    }
   ],
   "source": [
    "def f(*pargs):\n",
    "    print(pargs)\n",
    "\n",
    "f(1,2,3)\n",
    "f(1,2,3,4,5,6)\n",
    "\n",
    "# указание символа * перед именем аргумента позволяет передавть произвольное количество позиционных аргументов в функцию\n",
    "# в теле функции все аргументы доступны как элементы кортежа ()имя аргумента)"
   ]
  },
  {
   "cell_type": "code",
   "execution_count": 16,
   "id": "8cc592df-960e-4716-8988-557f88c564c3",
   "metadata": {},
   "outputs": [
    {
     "data": {
      "text/plain": [
       "(21, 'word1word2word3', [1, 2, 3, 4])"
      ]
     },
     "execution_count": 16,
     "metadata": {},
     "output_type": "execute_result"
    }
   ],
   "source": [
    "def adder(*pargs):\n",
    "    \"\"\" применяет операцию сложения ко всем аргументам и возвращает результат операции\"\"\"\n",
    "    s = pargs[0] \n",
    "    for i in pargs[1:]:\n",
    "        s += i \n",
    "    return(s)\n",
    "\n",
    "adder(1,2,3,4,5,6), adder('word1', 'word2', 'word3'), adder([1],[2],[3],[4])\n",
    "\n",
    "# пример функции с произвольным количеством аргументов"
   ]
  },
  {
   "cell_type": "code",
   "execution_count": 20,
   "id": "16d60cda-dbe4-461c-a7a4-cd4c0554f6b9",
   "metadata": {},
   "outputs": [
    {
     "name": "stdout",
     "output_type": "stream",
     "text": [
      "10 {'arg1': 1, 'arg2': 2, 'arg3': 3}\n",
      "1 {'x1': 2, 'x2': 3, 'x3': 4, 'x5': 5, 'x6': 6}\n"
     ]
    }
   ],
   "source": [
    "def f(x,**kargs):\n",
    "    print(x, kargs)\n",
    "\n",
    "f(10, arg1=1, arg2=2, arg3=3)\n",
    "f(1, x1=2, x2=3, x3=4, x5=5, x6=6)\n",
    "\n",
    "# указание символа ** перед именем аргумента позволяет передавть произвольное количество ключевых аргументов в функцию\n",
    "# в теле функции все аргументы доступны как элементы словаря (имя аргумента)"
   ]
  },
  {
   "cell_type": "markdown",
   "id": "9b4f87d6-c282-4e71-8a4f-2f60bf11bba3",
   "metadata": {},
   "source": [
    "### Определение функции. Порядок следования аргументов"
   ]
  },
  {
   "cell_type": "code",
   "execution_count": 24,
   "id": "5b320b82-d25f-4ff3-8495-421db56a4ee9",
   "metadata": {},
   "outputs": [
    {
     "name": "stdout",
     "output_type": "stream",
     "text": [
      "1 2 3\n"
     ]
    }
   ],
   "source": [
    "def f(a, *, b, c):\n",
    "    print(a, b, c)\n",
    "    \n",
    "f(1, b=2, c=3)\n",
    "\n",
    "# если при определении функции в заголовке оператора def указать символ * без аргумента, то \n",
    "# все следующие за ним аргументы должны быть заданы ключевыми"
   ]
  },
  {
   "cell_type": "code",
   "execution_count": 27,
   "id": "6620f514-29b7-47c6-9289-70e7892770f1",
   "metadata": {},
   "outputs": [
    {
     "data": {
      "text/plain": [
       "\u001b[1;31mInit signature:\u001b[0m\n",
       "\u001b[0mFuncAnimation\u001b[0m\u001b[1;33m(\u001b[0m\u001b[1;33m\n",
       "\u001b[0m    \u001b[0mfig\u001b[0m\u001b[1;33m,\u001b[0m\u001b[1;33m\n",
       "\u001b[0m    \u001b[0mfunc\u001b[0m\u001b[1;33m,\u001b[0m\u001b[1;33m\n",
       "\u001b[0m    \u001b[0mframes\u001b[0m\u001b[1;33m=\u001b[0m\u001b[1;32mNone\u001b[0m\u001b[1;33m,\u001b[0m\u001b[1;33m\n",
       "\u001b[0m    \u001b[0minit_func\u001b[0m\u001b[1;33m=\u001b[0m\u001b[1;32mNone\u001b[0m\u001b[1;33m,\u001b[0m\u001b[1;33m\n",
       "\u001b[0m    \u001b[0mfargs\u001b[0m\u001b[1;33m=\u001b[0m\u001b[1;32mNone\u001b[0m\u001b[1;33m,\u001b[0m\u001b[1;33m\n",
       "\u001b[0m    \u001b[0msave_count\u001b[0m\u001b[1;33m=\u001b[0m\u001b[1;32mNone\u001b[0m\u001b[1;33m,\u001b[0m\u001b[1;33m\n",
       "\u001b[0m    \u001b[1;33m*\u001b[0m\u001b[1;33m,\u001b[0m\u001b[1;33m\n",
       "\u001b[0m    \u001b[0mcache_frame_data\u001b[0m\u001b[1;33m=\u001b[0m\u001b[1;32mTrue\u001b[0m\u001b[1;33m,\u001b[0m\u001b[1;33m\n",
       "\u001b[0m    \u001b[1;33m**\u001b[0m\u001b[0mkwargs\u001b[0m\u001b[1;33m,\u001b[0m\u001b[1;33m\n",
       "\u001b[0m\u001b[1;33m)\u001b[0m\u001b[1;33m\u001b[0m\u001b[1;33m\u001b[0m\u001b[0m\n",
       "\u001b[1;31mDocstring:\u001b[0m     \n",
       "Makes an animation by repeatedly calling a function *func*.\n",
       "\n",
       ".. note::\n",
       "\n",
       "    You must store the created Animation in a variable that lives as long\n",
       "    as the animation should run. Otherwise, the Animation object will be\n",
       "    garbage-collected and the animation stops.\n",
       "\n",
       "Parameters\n",
       "----------\n",
       "fig : `~matplotlib.figure.Figure`\n",
       "    The figure object used to get needed events, such as draw or resize.\n",
       "\n",
       "func : callable\n",
       "    The function to call at each frame.  The first argument will\n",
       "    be the next value in *frames*.   Any additional positional\n",
       "    arguments can be supplied via the *fargs* parameter.\n",
       "\n",
       "    The required signature is::\n",
       "\n",
       "        def func(frame, *fargs) -> iterable_of_artists\n",
       "\n",
       "    If ``blit == True``, *func* must return an iterable of all artists\n",
       "    that were modified or created. This information is used by the blitting\n",
       "    algorithm to determine which parts of the figure have to be updated.\n",
       "    The return value is unused if ``blit == False`` and may be omitted in\n",
       "    that case.\n",
       "\n",
       "frames : iterable, int, generator function, or None, optional\n",
       "    Source of data to pass *func* and each frame of the animation\n",
       "\n",
       "    - If an iterable, then simply use the values provided.  If the\n",
       "      iterable has a length, it will override the *save_count* kwarg.\n",
       "\n",
       "    - If an integer, then equivalent to passing ``range(frames)``\n",
       "\n",
       "    - If a generator function, then must have the signature::\n",
       "\n",
       "         def gen_function() -> obj\n",
       "\n",
       "    - If *None*, then equivalent to passing ``itertools.count``.\n",
       "\n",
       "    In all of these cases, the values in *frames* is simply passed through\n",
       "    to the user-supplied *func* and thus can be of any type.\n",
       "\n",
       "init_func : callable, optional\n",
       "    A function used to draw a clear frame. If not given, the results of\n",
       "    drawing from the first item in the frames sequence will be used. This\n",
       "    function will be called once before the first frame.\n",
       "\n",
       "    The required signature is::\n",
       "\n",
       "        def init_func() -> iterable_of_artists\n",
       "\n",
       "    If ``blit == True``, *init_func* must return an iterable of artists\n",
       "    to be re-drawn. This information is used by the blitting algorithm to\n",
       "    determine which parts of the figure have to be updated.  The return\n",
       "    value is unused if ``blit == False`` and may be omitted in that case.\n",
       "\n",
       "fargs : tuple or None, optional\n",
       "    Additional arguments to pass to each call to *func*.\n",
       "\n",
       "save_count : int, default: 100\n",
       "    Fallback for the number of values from *frames* to cache. This is\n",
       "    only used if the number of frames cannot be inferred from *frames*,\n",
       "    i.e. when it's an iterator without length or a generator.\n",
       "\n",
       "interval : int, default: 200\n",
       "    Delay between frames in milliseconds.\n",
       "\n",
       "repeat_delay : int, default: 0\n",
       "    The delay in milliseconds between consecutive animation runs, if\n",
       "    *repeat* is True.\n",
       "\n",
       "repeat : bool, default: True\n",
       "    Whether the animation repeats when the sequence of frames is completed.\n",
       "\n",
       "blit : bool, default: False\n",
       "    Whether blitting is used to optimize drawing.  Note: when using\n",
       "    blitting, any animated artists will be drawn according to their zorder;\n",
       "    however, they will be drawn on top of any previous artists, regardless\n",
       "    of their zorder.\n",
       "\n",
       "cache_frame_data : bool, default: True\n",
       "    Whether frame data is cached.  Disabling cache might be helpful when\n",
       "    frames contain large objects.\n",
       "\u001b[1;31mFile:\u001b[0m           c:\\users\\andrey\\appdata\\local\\programs\\python\\python310\\lib\\site-packages\\matplotlib\\animation.py\n",
       "\u001b[1;31mType:\u001b[0m           type\n",
       "\u001b[1;31mSubclasses:\u001b[0m     \n"
      ]
     },
     "metadata": {},
     "output_type": "display_data"
    }
   ],
   "source": [
    "from matplotlib.animation import FuncAnimation\n",
    "FuncAnimation?\n",
    "\n",
    "# при определении функции сначала указываются поиционные аргументы, затем аргументы со стандартными значениями, \n",
    "# затем *pargs (просто *), затем аргументы с передачей только по ключу, затем **kargs"
   ]
  },
  {
   "cell_type": "code",
   "execution_count": 30,
   "id": "0685366e-df0d-4f23-bf95-7114a85c0f04",
   "metadata": {},
   "outputs": [
    {
     "name": "stdout",
     "output_type": "stream",
     "text": [
      "1 2 (3, 4, 5) 10 {'x': 1, 'y': 2}\n"
     ]
    }
   ],
   "source": [
    "def f(a, b=5, *pargs, c=50, **kargs):\n",
    "    print(a, b, pargs, c, kargs)\n",
    "\n",
    "f(1, 2, 3, 4, 5, c=10, x=1, y=2)\n",
    "\n",
    "# как видно, у аргумента с передачей по ключу тоже может быть стандартное значение"
   ]
  },
  {
   "cell_type": "code",
   "execution_count": 34,
   "id": "de7c6d19-954a-4959-a88a-6167502bd648",
   "metadata": {},
   "outputs": [
    {
     "name": "stdout",
     "output_type": "stream",
     "text": [
      "1 2 10 {'x': 1, 'y': 2}\n"
     ]
    }
   ],
   "source": [
    "def f(a, b=5, *, c=50, **kargs):\n",
    "    print(a, b, c, kargs)\n",
    "\n",
    "f(1, 2, c=10, x=1, y=2)\n",
    "\n",
    "# сначала я подумал, что просто символ * тоже позволяет передавать призвольное количество позиционных аргументов,\n",
    "# но это предположение ошибочное"
   ]
  },
  {
   "cell_type": "markdown",
   "id": "607ea5f2-dcd2-4b1c-beb1-b2b1d09291ba",
   "metadata": {},
   "source": [
    "### Объект функции"
   ]
  },
  {
   "cell_type": "code",
   "execution_count": 37,
   "id": "fc64298d-e85d-4faf-bdf2-8a5731fd6b82",
   "metadata": {},
   "outputs": [
    {
     "data": {
      "text/plain": [
       "<function __main__.f(x)>"
      ]
     },
     "execution_count": 37,
     "metadata": {},
     "output_type": "execute_result"
    }
   ],
   "source": [
    "def f(x):\n",
    "    ...\n",
    "    return \"function f is called\"\n",
    "f\n",
    "\n",
    "# имя функции становится ссылкой на объект функции благодаря автоматическому неявному присваиванию\n",
    "# объекта функции имени функции при выполнении оператора def"
   ]
  },
  {
   "cell_type": "code",
   "execution_count": 39,
   "id": "7e02bca1-807e-44af-be72-b71438a65ea6",
   "metadata": {},
   "outputs": [
    {
     "data": {
      "text/plain": [
       "('function f is called', [1, <function __main__.f(x)>, 'string'])"
      ]
     },
     "execution_count": 39,
     "metadata": {},
     "output_type": "execute_result"
    }
   ],
   "source": [
    "g = f; \n",
    "g(f), [1, f, \"string\"] \n",
    "\n",
    "# с объектами функций можно работать так же, как и с объектами встроенных  типов:\n",
    "# присваивать другим переменным\n",
    "# передавать другим функциям как аргумент\n",
    "# использовать в коллекциях  и так далее"
   ]
  },
  {
   "cell_type": "code",
   "execution_count": 42,
   "id": "f20bf097-b906-44a5-912b-e6d01504210c",
   "metadata": {},
   "outputs": [
    {
     "data": {
      "text/plain": [
       "(1, ('x',))"
      ]
     },
     "execution_count": 42,
     "metadata": {},
     "output_type": "execute_result"
    }
   ],
   "source": [
    "f.__code__.co_argcount, f.__code__.co_varnames\n",
    "\n",
    "# с помощью атрибута __code__ можно получить, в частности, информацию об аргументах функции"
   ]
  },
  {
   "cell_type": "code",
   "execution_count": null,
   "id": "3a48449d-1909-4c5f-adc9-72e6cc1260ae",
   "metadata": {},
   "outputs": [],
   "source": []
  }
 ],
 "metadata": {
  "kernelspec": {
   "display_name": "Python 3 (ipykernel)",
   "language": "python",
   "name": "python3"
  },
  "language_info": {
   "codemirror_mode": {
    "name": "ipython",
    "version": 3
   },
   "file_extension": ".py",
   "mimetype": "text/x-python",
   "name": "python",
   "nbconvert_exporter": "python",
   "pygments_lexer": "ipython3",
   "version": "3.10.5"
  }
 },
 "nbformat": 4,
 "nbformat_minor": 5
}
