{
 "cells": [
  {
   "cell_type": "markdown",
   "id": "6e419218-39a5-44ed-a053-8d7e06e49f37",
   "metadata": {},
   "source": [
    "# Лабораторная работа 8\n",
    "# Построение бинарного дерева поиска. Подсчет количества элементов в дереве"
   ]
  },
  {
   "cell_type": "markdown",
   "id": "bf016381-f461-474b-be2a-b9fd09e4a43c",
   "metadata": {},
   "source": [
    "Шпак Андрей Валерьевич, 03.08.2022"
   ]
  },
  {
   "cell_type": "markdown",
   "id": "988428e1-5583-4e5b-89fb-3c5711e697c3",
   "metadata": {},
   "source": [
    "## Задание 8.1 (Определение классов)"
   ]
  },
  {
   "cell_type": "markdown",
   "id": "df788afa-16fb-49ab-ac0f-928a1345a921",
   "metadata": {},
   "source": [
    "Бинарное дерево поиска будем описывать с помощью трех классов: <code>BinaryTree</code>, <code>BinaryNode</code>, <code>EmptyNode</code>, связанных друг с друго на основе композиции. Проектирование классов представлено в лекции к теме $\\textit{Бинарное дерево поиска. Реализация на основе ООП.}$\n",
    "\n",
    "$\\color{red}{Напишите}$ базовое определение классов <code>BinaryTree</code>, <code>BinaryNode</code>, <code>EmptyNode</code> на основе лекционных материалов.\n",
    "\n",
    "Базовое определение класса <code>BinaryTree</code> содержит метод инициализации <code>\\_\\_init\\_\\_ (self)</code>, метод строкового представления <code>\\_\\_repr\\_\\_(self)</code>, метод вставки элемента в дерево <code>insert(self, value)</code>.\n",
    "\n",
    "Базовое определение класса <code>BinaryNode<code> содержит метод инициализации <code>\\_\\_init\\_\\_(self)<code> и метод строкового представления <code>\\_\\_repr\\_\\_(self)</code>\n",
    "\n",
    "Базовое определение класса <code>EmptyNode</code> содержит метод строкового представления <code>\\_\\_repr\\_\\_(self)</code> и метод вставки элемента в дерево <code>insert(self, value)</code>\n",
    "\n",
    "$\\color{red}{Напишите}$ комментарии для каждой строки кода в определении классов <code>BinaryTree</code>, <code>BinaryNode</code>, <code>EmptyNode</code>."
   ]
  },
  {
   "cell_type": "markdown",
   "id": "61c79d0b-9399-4ace-ae02-4de6cd58fa1c",
   "metadata": {},
   "source": [
    "### Теория"
   ]
  },
  {
   "cell_type": "markdown",
   "id": "9215d1af-3168-40aa-8eca-71d0066432d9",
   "metadata": {},
   "source": [
    "$\\textbf{Корневое дерево}$ &mdash; это дерево с одной выделенной вершиной, которая называется корнем дерева.\n",
    "\n",
    "$\\textbf{Бинарное дерево}$ &mdash; это корневое дерево, вершины которого, исключая корень, содержатся в двух непересекающихся множествах: $\\textit{левое поддерево}$ и $\\textit{правое поддерево}$. При этом каждое поддерево либо является пустым множеством, либо бинарным деревом.\n",
    "\n",
    "Каждая родительская вершина бинарного дерева может иметь не более двух $\\textit{вершин-потомков}$, левую и правую.\n",
    "\n",
    "$\\textbf{Бинарное дерево поиска}$ (binary search tree) — это бинарное дерево, каждая вершина которого имеет значения одного типа, для которых определены операции сравнения (например, <code>int</code>, <code>float</code>). При этом значения вершин непустого левого поддерева меньше ($<$), чем значение соответствующей родительской вершины, а значения вершин непустого правого поддерева больше либо равны ($≥$) значения соответствующей родительской вершины.\n",
    "\n",
    "$\\textbf{Бинарное дерево поиска}$ — упорядоченная динамическая структура данных, которая позволяет быстро производить поиск элементов, а также удалять и добавлять элементы."
   ]
  },
  {
   "cell_type": "markdown",
   "id": "d12c9bf1-ddf1-4a63-ae8f-19230b5271f2",
   "metadata": {},
   "source": [
    "### Представление бинарного дерева поиска"
   ]
  },
  {
   "cell_type": "markdown",
   "id": "f43b73b1-385d-4550-8d02-12d6f4b0ddc5",
   "metadata": {},
   "source": [
    "Проанализировав структуру бинарного дерева, можно прийти к выводу, что построение можно свести к умению строить $\\textbf{элемент дерева}$ (вершину) - сущность, имеющую значение и связанную с левым и правым поддеревьями, если они существуют.\n",
    "\n",
    "Уместно рекурсивное определение: $\\textbf{бинарное дерево}$ &mdash; это множество, которое либо пусто, либо содержит элемент (корень), связанный с двумя различными бинарными деревьями, которые называются левым и правым поддеревьями.\n",
    "\n",
    "В силу этого представление бинарного дерева сводится к представлению его элементов (корня) и установлению связей между ними.\n",
    "\n",
    "Элемент дерева будет представлен экземпляром класса <code>BinaryNode</code>.\n",
    "\n",
    "Бинарное дерево поиска будет представлено экземпляром класса <code>BinaryTree</code>.\n",
    "\n",
    "Пустое бинарное дерево поиска будет представлено экземпляром класса <code>EmptyNode</code>.\n",
    "\n",
    "Экземпляр класса <code>BinaryTree</code> будет содержать ссылку на корень дерева. Корень дерева будет представлен экземпляром класса <code>EmptyNode</code>, если дерево пустое, экземпляром класса <code>BinaryNode</code>, если не пустое.\n",
    "    \n",
    "Для связывания элементов дерева друг с другом, экземпляр класса <code>BinaryNode</code> будет содержать ссылки на левое и правое поддеревья.\n",
    "\n",
    "В частности лист дерева будет представлен экземпляром класса <code>BinaryNode</code>, а правое и левое поддеревья будут представлены экземплярами класса <code>EmptyNode</code>"
   ]
  },
  {
   "cell_type": "markdown",
   "id": "7fe7a7d6-df81-4962-a664-6283efa63267",
   "metadata": {},
   "source": [
    "### Проектирование классов"
   ]
  },
  {
   "cell_type": "markdown",
   "id": "93510432-1198-48ad-9431-feeb84357a55",
   "metadata": {},
   "source": [
    "Бинарное дерево поиска описываю с помощью классов <code>BinaryTree</code>, <code>BinaryNode</code>, <code>EmptyNode</code>.\n",
    "\n",
    "Класс <code>BinaryTree</code> является основным, он определяет шаблон для создания объекта, представляющего бинарное дерево поиска.\n",
    "\n",
    "Класс <code>BinaryNide</code> является вспомогательным, он представляет шаблон для создания объекта, представляющего корень (элемент) бинарного дерева поиска.\n",
    "\n",
    "Класс <code>EmptyNode</code> является вспомогательным, он представляет шаблон для создания объекта без значений, представляющего пустой элемент дерева и пустые ссылки на левое и правое поддеревья (без поддеревьев). Экземпляры класса будут использоваться для представления пустого дерева и пустых поддеревьев.\n",
    "\n",
    "Экземпляр класса <code>BinaryTree</code> содержит атрибут <code>root</code>, который представляет корень дерева и хранит ссылки на соответствующие экземпляры классов в зависимости от того, пустое дерево или нет.\n",
    "\n",
    "Экземпляр класса <code>BinaryNode</code> содержит атрибуты <code>left</code> и <code>right</code>, которые хранят ссылки на экземпляры классов <code>BinaryNode</code> или <code>EmptyNode</code>. Экземпляр класса <code>BinaryNode</code> является объектом-контейнером для двух экземпляров класса <code>BinaryNode</code> или <code>EmptyNode</code>, которые ссылаются на корневые вершины левого и правого поддеревьев."
   ]
  },
  {
   "cell_type": "markdown",
   "id": "19b63d88-41d0-476b-a419-e8ae2c66fe08",
   "metadata": {},
   "source": [
    "### Проектирование класса <code>BinaryTree</code>"
   ]
  },
  {
   "cell_type": "code",
   "execution_count": 11,
   "id": "95c46cd6-2b3a-4fe9-8400-88fe92de8cd2",
   "metadata": {},
   "outputs": [],
   "source": [
    "# определение класса BinaryTree содержит ТРИ метода: __init__, __repr__ и insert;\n",
    "\n",
    "# метод инициализации экземпляра класса __init__ вызывается без аргументов и \n",
    "# инициализирует единственный атрибут экземпляра класса root экземпляром класса EmptyNode;\n",
    "\n",
    "# назначение атрибута root - это хранение ссылки на корень дерева;\n",
    "\n",
    "# метод insert(value) является методом вставки в дерево НОВОГО элемента; \n",
    "# новый элемент является листом со значением value;\n",
    "\n",
    "# метод строкового представления экземпляра класса __repr__ возвращает строковое представление для корня дерева root\n",
    "\n",
    "class BinaryTree:\n",
    "    def __init__(self):\n",
    "        self.root = EmptyNode()\n",
    "    \n",
    "    def __repr__(self):\n",
    "        return repr(self.root)\n",
    "    \n",
    "    def insert(self, value):\n",
    "        self.root = self.root.insert(value)"
   ]
  },
  {
   "cell_type": "code",
   "execution_count": 2,
   "id": "dbc8b7a7-d637-4202-a202-ae6d68e6334b",
   "metadata": {},
   "outputs": [
    {
     "ename": "NameError",
     "evalue": "name 'EmptyNode' is not defined",
     "output_type": "error",
     "traceback": [
      "\u001b[1;31m---------------------------------------------------------------------------\u001b[0m",
      "\u001b[1;31mNameError\u001b[0m                                 Traceback (most recent call last)",
      "Input \u001b[1;32mIn [2]\u001b[0m, in \u001b[0;36m<cell line: 3>\u001b[1;34m()\u001b[0m\n\u001b[0;32m      1\u001b[0m \u001b[38;5;66;03m# создать экземпляр класса BinaryTree пока нельзя, так как не определен класс EmptyNode\u001b[39;00m\n\u001b[1;32m----> 3\u001b[0m tree \u001b[38;5;241m=\u001b[39m \u001b[43mBinaryTree\u001b[49m\u001b[43m(\u001b[49m\u001b[43m)\u001b[49m\n",
      "Input \u001b[1;32mIn [1]\u001b[0m, in \u001b[0;36mBinaryTree.__init__\u001b[1;34m(self)\u001b[0m\n\u001b[0;32m     14\u001b[0m \u001b[38;5;28;01mdef\u001b[39;00m \u001b[38;5;21m__init__\u001b[39m(\u001b[38;5;28mself\u001b[39m):\n\u001b[1;32m---> 15\u001b[0m     \u001b[38;5;28mself\u001b[39m\u001b[38;5;241m.\u001b[39mroot \u001b[38;5;241m=\u001b[39m \u001b[43mEmptyNode\u001b[49m()\n",
      "\u001b[1;31mNameError\u001b[0m: name 'EmptyNode' is not defined"
     ]
    }
   ],
   "source": [
    "# создать экземпляр класса BinaryTree пока нельзя, так как не определен класс EmptyNode\n",
    "\n",
    "tree = BinaryTree()"
   ]
  },
  {
   "cell_type": "markdown",
   "id": "73ac260d-3c8d-4179-b4d3-aa554e5ff1d6",
   "metadata": {},
   "source": [
    "### Проектирование класса <code>BinaryNode</code>"
   ]
  },
  {
   "cell_type": "code",
   "execution_count": 19,
   "id": "9f13a037-da38-4c0e-a54b-71b09bf989e8",
   "metadata": {},
   "outputs": [],
   "source": [
    "# определение класса BinaryNode содержит ТРИ метода: __init__, __repr__ и insert\n",
    "\n",
    "class BinaryNode():\n",
    "    def __init__(self, left, value, right): # (1)\n",
    "        self.left = left\n",
    "        self.value = value\n",
    "        self.right = right\n",
    "        \n",
    "    def __repr__(self): # (2)\n",
    "        return \"(%s, %s, %s)\" % (repr(self.left), repr(self.value), repr(self.right))\n",
    "    \n",
    "    def insert(self, value): #(3)\n",
    "        ...\n",
    "        \n",
    "# ВОПРОС: не понимаю, зачем используется repr()\n",
    "# без него нельзя просто передать значения сами по себе?\n",
    "# если я убираю repr, оставляя только знаечения, все остается как есть;\n",
    "# ОТВЕТ: repr используется, потому что он вызывается как перегруженный метод для объектов типа BinaryNode,\n",
    "# EmptyNode, то есть рекурсивно, если бы его не было, получил бы совершенно другой результат, типо информации об объекте\n",
    "\n",
    "# (3) - метод вставки нового элемента в дерево будет реализован далее;\n",
    "\n",
    "# (1) - метод инициализации вызывается с тремя аргументами: left, value, right,\n",
    "# для инициаллизации одноименных атрибутов класса;\n",
    "# left - ссылка на левое поддерево, value - значение вершины, rught - ссылка на правое поддерево;\n",
    "\n",
    "# (2) - метод, возвращающий строковое представление левого поддерева, значение вершины текущего элемента, строковое\n",
    "# представление правого поддерева;"
   ]
  },
  {
   "cell_type": "markdown",
   "id": "ab13b408-bb6a-4c48-a0b1-82be34c55779",
   "metadata": {},
   "source": [
    "Создадим экземпляр класса <code>BinaryNode</code>"
   ]
  },
  {
   "cell_type": "code",
   "execution_count": 4,
   "id": "d0342e1b-c6ba-439e-a622-120adfb02799",
   "metadata": {},
   "outputs": [],
   "source": [
    "node = BinaryNode(None, 5, None)"
   ]
  },
  {
   "cell_type": "markdown",
   "id": "3e72925f-ef39-4310-b6e5-1637253ed203",
   "metadata": {},
   "source": [
    "Сделаем вывод строкового представления для экземпляра класса <code>BinaryNode</code>"
   ]
  },
  {
   "cell_type": "code",
   "execution_count": 5,
   "id": "0a6bb987-bbc7-47b1-bb28-4fb52e6eb643",
   "metadata": {},
   "outputs": [
    {
     "name": "stdout",
     "output_type": "stream",
     "text": [
      "(None, 5, None)\n"
     ]
    }
   ],
   "source": [
    "print(node)"
   ]
  },
  {
   "cell_type": "markdown",
   "id": "b4686a99-23e3-4022-b0fe-b1c15fa2d7da",
   "metadata": {},
   "source": [
    "### Проектирование класса <code>EmptyNode</code>"
   ]
  },
  {
   "cell_type": "code",
   "execution_count": 3,
   "id": "804e7ed9-5f3a-472d-b276-ede413df10af",
   "metadata": {},
   "outputs": [],
   "source": [
    "# класс определяет шаблон для создания объекта, представляющего пустой элемент дерева, вершину без значения и без поддеревьев;\n",
    "\n",
    "# экземляры класса используются для представления пустого дерева и пустых поддеревьев;\n",
    "\n",
    "# класс определяется двумя методами: __repr__ и insert;\n",
    "\n",
    "# метод инициализации экземпляра класса отсутсвтует, так как экземпляры класса не хранят никаких данных;\n",
    "\n",
    "# собственно, объект класса EmptyNode:\n",
    "class EmptyNode:\n",
    "    def __repr__(self): # (1)\n",
    "        return \"*\"\n",
    "    \n",
    "    def insert(self, value): # (2)\n",
    "        return BinaryNode(self, value, self)\n",
    "    \n",
    "# (1) - метод строкового представления repr возвращает один символ '*';\n",
    "\n",
    "# (2) - метод insert(value) является методом вставки в пустую вершину новой вершины со значением value;\n",
    "# метод возвращает новый экземпляр класса BinaryNode со значением value и ссылками на пустые поддеревья (вершины);\n",
    "# при вставке нового элемента в бинарное дерево поиска ссылка на экземпляр класса EmptyNode будет заменяться на ссылку на \n",
    "# новый экземпляр класса BinaryNode;\n",
    "\n",
    "# экземпляр класса EmptyNode будет создан только один раз при создании экземпляра класса BinaryTree, а\n",
    "# каждое пустое поддерево будет ссылаться на этот единственный экземпляр класса EmptyNode;"
   ]
  },
  {
   "cell_type": "markdown",
   "id": "f7ffe2e7-9661-463a-91f4-78a088ffec49",
   "metadata": {},
   "source": [
    "Создадим экземпляр класса <code>EmptyNode</code>"
   ]
  },
  {
   "cell_type": "code",
   "execution_count": 7,
   "id": "7bc34b70-83cf-4bcb-830a-4da7cd6d2595",
   "metadata": {},
   "outputs": [],
   "source": [
    "empty_node = EmptyNode()"
   ]
  },
  {
   "cell_type": "markdown",
   "id": "9fd0f3c9-f1f5-4988-9abd-46919a64094d",
   "metadata": {},
   "source": [
    "Сделаем вывод строкового представления для экземпляра класса <code>EmptyNode</code>"
   ]
  },
  {
   "cell_type": "code",
   "execution_count": 8,
   "id": "d5e0393b-0bc3-46e8-9003-90b2744379a5",
   "metadata": {},
   "outputs": [
    {
     "name": "stdout",
     "output_type": "stream",
     "text": [
      "*\n"
     ]
    }
   ],
   "source": [
    "print(empty_node)"
   ]
  },
  {
   "cell_type": "code",
   "execution_count": 9,
   "id": "15bf50f6-4a53-4cc8-ae39-91624009a12c",
   "metadata": {},
   "outputs": [
    {
     "data": {
      "text/plain": [
       "'*'"
      ]
     },
     "execution_count": 9,
     "metadata": {},
     "output_type": "execute_result"
    }
   ],
   "source": [
    "repr(empty_node)"
   ]
  },
  {
   "cell_type": "markdown",
   "id": "a7e0776b-232b-46c8-9b5a-1e80e1143205",
   "metadata": {},
   "source": [
    "Создадим экземпляр класса <code>BinaryTree</code>"
   ]
  },
  {
   "cell_type": "code",
   "execution_count": 10,
   "id": "cc60faa7-e2be-4a82-b781-a254e963572c",
   "metadata": {},
   "outputs": [],
   "source": [
    "tree = BinaryTree()"
   ]
  },
  {
   "cell_type": "markdown",
   "id": "525e93c8-9fed-413c-a4bf-f83aecd62590",
   "metadata": {},
   "source": [
    "Бинарное дерево поиска пусто, корень представлен экземпляром класса <code>EmptyNode</code>. Пустое дерево выводится с помощью символа <code>*</code>"
   ]
  },
  {
   "cell_type": "code",
   "execution_count": 11,
   "id": "e78dd2e3-c5e0-4f71-b9ff-4780ccc70c18",
   "metadata": {},
   "outputs": [
    {
     "name": "stdout",
     "output_type": "stream",
     "text": [
      "*\n"
     ]
    }
   ],
   "source": [
    "print(tree)"
   ]
  },
  {
   "cell_type": "markdown",
   "id": "310a7ffa-9fe0-41b5-99bf-e15f2dbdd1b4",
   "metadata": {},
   "source": [
    "Вставим в дерево новый элемент со значением <code>10</code>"
   ]
  },
  {
   "cell_type": "code",
   "execution_count": 17,
   "id": "e34d7f19-6c36-4f0f-ae0c-cacb6cd762b9",
   "metadata": {},
   "outputs": [],
   "source": [
    "tree.insert(10)"
   ]
  },
  {
   "cell_type": "markdown",
   "id": "6a821967-a18a-4607-8adb-38c0238fa4e7",
   "metadata": {},
   "source": [
    "Сделаем вывод дерева"
   ]
  },
  {
   "cell_type": "code",
   "execution_count": 18,
   "id": "4b8d6d48-f8b7-4669-8e83-f52a6c1f8168",
   "metadata": {},
   "outputs": [
    {
     "name": "stdout",
     "output_type": "stream",
     "text": [
      "(*, 10, *)\n"
     ]
    }
   ],
   "source": [
    "print(tree)"
   ]
  },
  {
   "cell_type": "markdown",
   "id": "2a0ea348-18c7-4b05-bc09-f47853690bb7",
   "metadata": {},
   "source": [
    "Дальнейшая вставка элементов в дерево невозможна, так как не определен метод <code>insert</code> класса <code>BinaryNode</code>"
   ]
  },
  {
   "cell_type": "markdown",
   "id": "f2ddb54d-514e-41d9-a8b0-4ea0f3b62d86",
   "metadata": {},
   "source": [
    "## Задание 8.2 (Вставка элемента в бинарное дерево поиска)"
   ]
  },
  {
   "cell_type": "markdown",
   "id": "d3ba22ca-46cf-412b-8e7b-b1fe75e29e69",
   "metadata": {},
   "source": [
    "$\\color{red}{Переопределите}$ класс <code>BinaryNode</code> за счет определения метода вставки <code>insert(self, value)</code>. Рекомендации по выполнению представлены в лекции к теме $\\textit{Бинарное дерево поиска. Реализация на основе ООП.}$\n",
    "\n",
    "$\\color{red}{Протестируйте}$ корректность формирования бинарного дерева поиска на итерируемом объекте с элементами одного типа, для которых определены операции сравнения"
   ]
  },
  {
   "cell_type": "markdown",
   "id": "d739bc2c-39d2-4217-b86b-d4b3777c1cfa",
   "metadata": {},
   "source": [
    "Создадим экземпляр класса <code>BinaryTree</code>. Изначально дерево пусто, корень представлен экземпляром класса <code>EmptyNode</code>. Дерево выводится выводится с помощью символа <code>*</code>"
   ]
  },
  {
   "cell_type": "code",
   "execution_count": 12,
   "id": "914597fd-4f2d-45d8-a438-61c02bf0e7d7",
   "metadata": {},
   "outputs": [
    {
     "data": {
      "text/plain": [
       "*"
      ]
     },
     "execution_count": 12,
     "metadata": {},
     "output_type": "execute_result"
    }
   ],
   "source": [
    "tree = BinaryTree()\n",
    "tree"
   ]
  },
  {
   "cell_type": "markdown",
   "id": "a185de8e-ef33-4f24-9cd0-f253c95a6222",
   "metadata": {},
   "source": [
    "Пусть задан список числовых значений <code>source_data</code>, на основании которого будет строиться бинарное дерево поиска"
   ]
  },
  {
   "cell_type": "code",
   "execution_count": 7,
   "id": "1e36a3ee-007b-4e87-a120-6e93abbed038",
   "metadata": {},
   "outputs": [],
   "source": [
    "source_data = [5, 1, 10, 3, 4]"
   ]
  },
  {
   "cell_type": "code",
   "execution_count": 13,
   "id": "6aa50f41-744c-41b3-8033-6a6ee814903d",
   "metadata": {},
   "outputs": [
    {
     "data": {
      "text/plain": [
       "(*, 5, *)"
      ]
     },
     "execution_count": 13,
     "metadata": {},
     "output_type": "execute_result"
    }
   ],
   "source": [
    "# элементы списка source_data будут добавляться в бинарное дерево поиска последовательно: \n",
    "# сначала добавим значение 5, потом значение 1 и т.д.\n",
    "\n",
    "# сначала в дерево добавляется значение source_data[0] с помощью метода insert экземпляра класса tree;\n",
    "# метод insert класса BinaryTree вызывает метод insert для объекта, на который указывает атрибут self.root для корня;\n",
    "# на текущем шаге корень представлен экземпляром класса EmptyNode; \n",
    "# в результате создается экземпляр класса BinaryNode, который замещает пустую вершину в корне дерева\n",
    "\n",
    "tree.insert(source_data[0])\n",
    "tree"
   ]
  },
  {
   "cell_type": "markdown",
   "id": "45fffaec-4a64-4855-859d-70cbd1db59fb",
   "metadata": {},
   "source": [
    "Экземпляр класса <code>BinaryTree</code> не содержит поддеревьев, поэтому выводится в виде <code>(*, 5, *)</code>\n",
    "\n",
    "Далее в дерево добавляется значение <code>source_data[1]</code> с помощью метода <code>insert</code> экземпляра класса <code>tree</code>. Метод <code>insert</code> класса <code>BinaryTree</code> вызывает метод <code>insert</code> для корня. На текущем шаге корень не пустой, он представлен экземпляром класса <code>BinaryNode</code>.\n",
    "\n",
    "Алгоритм метода <code>insert(self, value)</code> класса <code>BinaryNode</code> следующий:\n",
    "\n",
    "- добавляемое значение <code>value</code> сравнивается со значением корня <code>self.value</code>;\n",
    "- если <code>value &lt; self.value</code>, то вызывается метод <code>insert(value)</code> для левого поддерева;\n",
    "- если <code>value >= self.value</code>, то вызывается метод <code>insert(value)</code> для правого поддерева."
   ]
  },
  {
   "cell_type": "code",
   "execution_count": 10,
   "id": "17a58a95-5da0-4866-afe9-963f583a2942",
   "metadata": {},
   "outputs": [],
   "source": [
    "class BinaryNode():\n",
    "    def __init__(self, left, value, right): \n",
    "        self.left = left\n",
    "        self.value = value\n",
    "        self.right = right\n",
    "        \n",
    "    def __repr__(self): \n",
    "        return \"(%s, %s, %s)\" % (repr(self.left), repr(self.value), repr(self.right))\n",
    "    \n",
    "    def insert(self, value):\n",
    "        if value < self.value:\n",
    "            self.left = self.left.insert(value)\n",
    "        else:\n",
    "            self.right = self.right.insert(value)\n",
    "        return self"
   ]
  },
  {
   "cell_type": "code",
   "execution_count": 14,
   "id": "4ac20ee9-fa23-4fcb-9baf-47b0dcf6e77a",
   "metadata": {},
   "outputs": [
    {
     "data": {
      "text/plain": [
       "((*, 1, *), 5, *)"
      ]
     },
     "execution_count": 14,
     "metadata": {},
     "output_type": "execute_result"
    }
   ],
   "source": [
    "tree.insert(source_data[1])\n",
    "tree"
   ]
  },
  {
   "cell_type": "code",
   "execution_count": 15,
   "id": "2c164b9c-2eff-425b-b62b-2ed00915ef79",
   "metadata": {},
   "outputs": [
    {
     "data": {
      "text/plain": [
       "((*, 1, *), 5, (*, 10, *))"
      ]
     },
     "execution_count": 15,
     "metadata": {},
     "output_type": "execute_result"
    }
   ],
   "source": [
    "tree.insert(source_data[2])\n",
    "tree"
   ]
  },
  {
   "cell_type": "code",
   "execution_count": null,
   "id": "f2993a02-aad7-48dc-aece-b2e97f555475",
   "metadata": {},
   "outputs": [],
   "source": []
  }
 ],
 "metadata": {
  "kernelspec": {
   "display_name": "Python 3 (ipykernel)",
   "language": "python",
   "name": "python3"
  },
  "language_info": {
   "codemirror_mode": {
    "name": "ipython",
    "version": 3
   },
   "file_extension": ".py",
   "mimetype": "text/x-python",
   "name": "python",
   "nbconvert_exporter": "python",
   "pygments_lexer": "ipython3",
   "version": "3.10.5"
  }
 },
 "nbformat": 4,
 "nbformat_minor": 5
}
