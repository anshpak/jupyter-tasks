{
 "cells": [
  {
   "cell_type": "markdown",
   "id": "6e419218-39a5-44ed-a053-8d7e06e49f37",
   "metadata": {},
   "source": [
    "# Лабораторная работа 8\n",
    "# Построение бинарного дерева поиска. Подсчет количества элементов в дереве"
   ]
  },
  {
   "cell_type": "markdown",
   "id": "bf016381-f461-474b-be2a-b9fd09e4a43c",
   "metadata": {},
   "source": [
    "Шпак Андрей Валерьевич, 03.08.2022"
   ]
  },
  {
   "cell_type": "code",
   "execution_count": null,
   "id": "923f46e1-0a8f-40bb-8adc-15a600a2beeb",
   "metadata": {},
   "outputs": [],
   "source": []
  }
 ],
 "metadata": {
  "kernelspec": {
   "display_name": "Python 3 (ipykernel)",
   "language": "python",
   "name": "python3"
  },
  "language_info": {
   "codemirror_mode": {
    "name": "ipython",
    "version": 3
   },
   "file_extension": ".py",
   "mimetype": "text/x-python",
   "name": "python",
   "nbconvert_exporter": "python",
   "pygments_lexer": "ipython3",
   "version": "3.10.5"
  }
 },
 "nbformat": 4,
 "nbformat_minor": 5
}
