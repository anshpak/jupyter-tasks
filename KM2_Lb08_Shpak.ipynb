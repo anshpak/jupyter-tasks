{
 "cells": [
  {
   "cell_type": "markdown",
   "id": "6e419218-39a5-44ed-a053-8d7e06e49f37",
   "metadata": {},
   "source": [
    "# Лабораторная работа 8\n",
    "# Построение бинарного дерева поиска. Подсчет количества элементов в дереве"
   ]
  },
  {
   "cell_type": "markdown",
   "id": "bf016381-f461-474b-be2a-b9fd09e4a43c",
   "metadata": {},
   "source": [
    "Шпак Андрей Валерьевич, 03.08.2022"
   ]
  },
  {
   "cell_type": "markdown",
   "id": "988428e1-5583-4e5b-89fb-3c5711e697c3",
   "metadata": {},
   "source": [
    "## Задание 8.1 (Определение классов)"
   ]
  },
  {
   "cell_type": "markdown",
   "id": "df788afa-16fb-49ab-ac0f-928a1345a921",
   "metadata": {},
   "source": [
    "Бинарное дерево поиска будем описывать с помощью трех классов: <code>BinaryTree</code>, <code>BinaryNode</code>, <code>EmptyNode</code>, связанных друг с друго на основе композиции. Проектирование классов представлено в лекции к теме $\\textit{Бинарное дерево поиска. Реализация на основе ООП.}$\n",
    "\n",
    "$\\color{red}{Напишите}$ базовое определение классов <code>BinaryTree</code>, <code>BinaryNode</code>, <code>EmptyNode</code> на основе лекционных материалов.\n",
    "\n",
    "Базовое определение класса <code>BinaryTree</code> содержит метод инициализации <code>\\_\\_init\\_\\_ (self)</code>, метод строкового представления <code>\\_\\_repr\\_\\_(self)</code>, метод вставки элемента в дерево <code>insert(self, value)</code>.\n",
    "\n",
    "Базовое определение класса <code>BinaryNode<code> содержит метод инициализации <code>\\_\\_init\\_\\_(self)<code> и метод строкового представления <code>\\_\\_repr\\_\\_(self)</code>\n",
    "\n",
    "Базовое определение класса <code>EmptyNode</code> содержит метод строкового представления <code>\\_\\_repr\\_\\_(self)</code> и метод вставки элемента в дерево <code>insert(self, value)</code>\n",
    "\n",
    "$\\color{red}{Напишите}$ комментарии для каждой строки кода в определении классов <code>BinaryTree</code>, <code>BinaryNode</code>, <code>EmptyNode</code>."
   ]
  },
  {
   "cell_type": "markdown",
   "id": "61c79d0b-9399-4ace-ae02-4de6cd58fa1c",
   "metadata": {},
   "source": [
    "### Теория"
   ]
  },
  {
   "cell_type": "markdown",
   "id": "9215d1af-3168-40aa-8eca-71d0066432d9",
   "metadata": {},
   "source": [
    "$\\textbf{Корневое дерево}$ &mdash; это дерево с одной выделенной вершиной, которая называется корнем дерева.\n",
    "\n",
    "$\\textbf{Бинарное дерево}$ &mdash; это корневое дерево, вершины которого, исключая корень, содержатся в двух непересекающихся множествах: $\\textit{левое поддерево}$ и $\\textit{правое поддерево}$. При этом каждое поддерево либо является пустым множеством, либо бинарным деревом.\n",
    "\n",
    "Каждая родительская вершина бинарного дерева может иметь не более двух $\\textit{вершин-потомков}$, левую и правую.\n",
    "\n",
    "$\\textbf{Бинарное дерево поиска}$ (binary search tree) — это бинарное дерево, каждая вершина которого имеет значения одного типа, для которых определены операции сравнения (например, <code>int</code>, <code>float</code>). При этом значения вершин непустого левого поддерева меньше ($<$), чем значение соответствующей родительской вершины, а значения вершин непустого правого поддерева больше либо равны ($≥$) значения соответствующей родительской вершины.\n",
    "\n",
    "$\\textbf{Бинарное дерево поиска}$ — упорядоченная динамическая структура данных, которая позволяет быстро производить поиск элементов, а также удалять и добавлять элементы."
   ]
  },
  {
   "cell_type": "markdown",
   "id": "d12c9bf1-ddf1-4a63-ae8f-19230b5271f2",
   "metadata": {},
   "source": [
    "### Представление бинарного дерева поиска"
   ]
  },
  {
   "cell_type": "markdown",
   "id": "f43b73b1-385d-4550-8d02-12d6f4b0ddc5",
   "metadata": {},
   "source": [
    "Проанализировав структуру бинарного дерева, можно прийти к выводу, что построение можно свести к умению строить $\\textbf{элемент дерева}$ (вершину) - сущность, имеющую значение и связанную с левым и правым поддеревьями, если они существуют.\n",
    "\n",
    "Уместно рекурсивное определение: $\\textbf{бинарное дерево}$ &mdash; это множество, которое либо пусто, либо содержит элемент (корень), связанный с двумя различными бинарными деревьями, которые называются левым и правым поддеревьями.\n",
    "\n",
    "В силу этого представление бинарного дерева сводится к представлению его элементов (корня) и установлению связей между ними.\n",
    "\n",
    "Элемент дерева будет представлен экземпляром класса <code>BinaryNode</code>.\n",
    "\n",
    "Бинарное дерево поиска будет представлено экземпляром класса <code>BinaryTree</code>.\n",
    "\n",
    "Пустое бинарное дерево поиска будет представлено экземпляром класса <code>EmptyNode</code>.\n",
    "\n",
    "Экземпляр класса <code>BinaryTree</code> будет содержать ссылку на корень дерева. Корень дерева будет представлен экземпляром класса <code>EmptyNode</code>, если дерево пустое, экземпляром класса <code>BinaryNode</code>, если не пустое.\n",
    "    \n",
    "Для связывания элементов дерева друг с другом, экземпляр класса <code>BinaryNode</code> будет содержать ссылки на левое и правое поддеревья.\n",
    "\n",
    "В частности лист дерева будет представлен экземпляром класса <code>BinaryNode</code>, а правое и левое поддеревья будут представлены экземплярами класса <code>EmptyNode</code>"
   ]
  },
  {
   "cell_type": "markdown",
   "id": "7fe7a7d6-df81-4962-a664-6283efa63267",
   "metadata": {},
   "source": [
    "### Проектирование классов"
   ]
  },
  {
   "cell_type": "markdown",
   "id": "93510432-1198-48ad-9431-feeb84357a55",
   "metadata": {},
   "source": [
    "Бинарное дерево поиска описываю с помощью классов <code>BinaryTree</code>, <code>BinaryNode</code>, <code>EmptyNode</code>.\n",
    "\n",
    "Класс <code>BinaryTree</code> является основным, он определяет шаблон для создания объекта, представляющего бинарное дерево поиска.\n",
    "\n",
    "Класс <code>BinaryNide</code> является вспомогательным, он представляет шаблон для создания объекта, представляющего корень (элемент) бинарного дерева поиска.\n",
    "\n",
    "Класс <code>EmptyNode</code> является вспомогательным, он представляет шаблон для создания объекта без значений, представляющего пустой элемент дерева и пустые ссылки на левое и правое поддеревья (без поддеревьев). Экземпляры класса будут использоваться для представления пустого дерева и пустых поддеревьев.\n",
    "\n",
    "Экземпляр класса <code>BinaryTree</code> содержит атрибут <code>root</code>, который представляет корень дерева и хранит ссылки на соответствующие экземпляры классов в зависимости от того, пустое дерево или нет.\n",
    "\n",
    "Экземпляр класса <code>BinaryNode</code> содержит атрибуты <code>left</code> и <code>right</code>, которые хранят ссылки на экземпляры классов <code>BinaryNode</code> или <code>EmptyNode</code>. Экземпляр класса <code>BinaryNode</code> является объектом-контейнером для двух экземпляров класса <code>BinaryNode</code> или <code>EmptyNode</code>, которые ссылаются на корневые вершины левого и правого поддеревьев."
   ]
  },
  {
   "cell_type": "markdown",
   "id": "19b63d88-41d0-476b-a419-e8ae2c66fe08",
   "metadata": {},
   "source": [
    "### Проектирование класса <code>BinaryTree</code>"
   ]
  },
  {
   "cell_type": "code",
   "execution_count": 1,
   "id": "95c46cd6-2b3a-4fe9-8400-88fe92de8cd2",
   "metadata": {},
   "outputs": [],
   "source": [
    "# определение класса BinaryTree содержит ТРИ метода: __init__, __repr__ и insert;\n",
    "\n",
    "# метод инициализации экземпляра класса __init__ вызывается без аргументов и \n",
    "# инициализирует единственный атрибут экземпляра класса root экземпляром класса EmptyNode;\n",
    "\n",
    "# назначение атрибута root - это хранение ссылки на корень дерева;\n",
    "\n",
    "# метод insert(value) является методом вставки в дерево НОВОГО элемента; \n",
    "# новый элемент является листом со значением value;\n",
    "\n",
    "# метод строкового представления экземпляра класса __repr__ возвращает строковое представление для корня дерева root\n",
    "\n",
    "class BinaryTree:\n",
    "    def __init__(self):\n",
    "        self.root = EmptyNode()\n",
    "    \n",
    "    def __repr__(self):\n",
    "        return repr(self.root)\n",
    "    \n",
    "    def insert(self, value):\n",
    "        self.root = self.root.insert(value)"
   ]
  },
  {
   "cell_type": "code",
   "execution_count": 2,
   "id": "dbc8b7a7-d637-4202-a202-ae6d68e6334b",
   "metadata": {},
   "outputs": [
    {
     "ename": "NameError",
     "evalue": "name 'EmptyNode' is not defined",
     "output_type": "error",
     "traceback": [
      "\u001b[1;31m---------------------------------------------------------------------------\u001b[0m",
      "\u001b[1;31mNameError\u001b[0m                                 Traceback (most recent call last)",
      "Input \u001b[1;32mIn [2]\u001b[0m, in \u001b[0;36m<cell line: 3>\u001b[1;34m()\u001b[0m\n\u001b[0;32m      1\u001b[0m \u001b[38;5;66;03m# создать экземпляр класса BinaryTree пока нельзя, так как не определен класс EmptyNode\u001b[39;00m\n\u001b[1;32m----> 3\u001b[0m tree \u001b[38;5;241m=\u001b[39m \u001b[43mBinaryTree\u001b[49m\u001b[43m(\u001b[49m\u001b[43m)\u001b[49m\n",
      "Input \u001b[1;32mIn [1]\u001b[0m, in \u001b[0;36mBinaryTree.__init__\u001b[1;34m(self)\u001b[0m\n\u001b[0;32m     14\u001b[0m \u001b[38;5;28;01mdef\u001b[39;00m \u001b[38;5;21m__init__\u001b[39m(\u001b[38;5;28mself\u001b[39m):\n\u001b[1;32m---> 15\u001b[0m     \u001b[38;5;28mself\u001b[39m\u001b[38;5;241m.\u001b[39mroot \u001b[38;5;241m=\u001b[39m \u001b[43mEmptyNode\u001b[49m()\n",
      "\u001b[1;31mNameError\u001b[0m: name 'EmptyNode' is not defined"
     ]
    }
   ],
   "source": [
    "# создать экземпляр класса BinaryTree пока нельзя, так как не определен класс EmptyNode\n",
    "\n",
    "tree = BinaryTree()"
   ]
  },
  {
   "cell_type": "markdown",
   "id": "73ac260d-3c8d-4179-b4d3-aa554e5ff1d6",
   "metadata": {},
   "source": [
    "### Проектирование класса <code>BinaryNode</code>"
   ]
  },
  {
   "cell_type": "code",
   "execution_count": 4,
   "id": "9f13a037-da38-4c0e-a54b-71b09bf989e8",
   "metadata": {},
   "outputs": [],
   "source": [
    "# определение класса BinaryNode содержит ТРИ метода: __init__, __repr__ и insert\n",
    "\n",
    "class BinaryNode():\n",
    "    def __init__(self, left, value, right): # (1)\n",
    "        self.left = left\n",
    "        self.value = value\n",
    "        self.right = right\n",
    "        \n",
    "    def __repr__(self): # (2)\n",
    "        return \"(%s, %s, %s)\" % (repr(self.left), repr(self.value), repr(self.right))\n",
    "    \n",
    "    def insert(self, value): #(3)\n",
    "        ...\n",
    "        \n",
    "# ВОПРОС: не понимаю, зачем используется repr()\n",
    "# без него нельзя просто передать значения сами по себе?\n",
    "# если я убираю repr, оставляя только знаечения, все остается как есть;\n",
    "# ОТВЕТ: repr используется, потому что он вызывается как перегруженный метод для объектов типа BinaryNode,\n",
    "# EmptyNode, то есть рекурсивно, если бы его не было, получил бы совершенно другой результат, типо информации об объекте\n",
    "\n",
    "# (3) - метод вставки нового элемента в дерево будет реализован далее;\n",
    "\n",
    "# (1) - метод инициализации вызывается с тремя аргументами: left, value, right,\n",
    "# для инициаллизации одноименных атрибутов класса;\n",
    "# left - ссылка на левое поддерево, value - значение вершины, rught - ссылка на правое поддерево;\n",
    "\n",
    "# (2) - метод, возвращающий строковое представление левого поддерева, значение вершины текущего элемента, строковое\n",
    "# представление правого поддерева;"
   ]
  },
  {
   "cell_type": "markdown",
   "id": "ab13b408-bb6a-4c48-a0b1-82be34c55779",
   "metadata": {},
   "source": [
    "Создадим экземпляр класса <code>BinaryNode</code>"
   ]
  },
  {
   "cell_type": "code",
   "execution_count": 5,
   "id": "d0342e1b-c6ba-439e-a622-120adfb02799",
   "metadata": {},
   "outputs": [],
   "source": [
    "node = BinaryNode(None, 5, None)"
   ]
  },
  {
   "cell_type": "markdown",
   "id": "3e72925f-ef39-4310-b6e5-1637253ed203",
   "metadata": {},
   "source": [
    "Сделаем вывод строкового представления для экземпляра класса <code>BinaryNode</code>"
   ]
  },
  {
   "cell_type": "code",
   "execution_count": 6,
   "id": "0a6bb987-bbc7-47b1-bb28-4fb52e6eb643",
   "metadata": {},
   "outputs": [
    {
     "name": "stdout",
     "output_type": "stream",
     "text": [
      "(None, 5, None)\n"
     ]
    }
   ],
   "source": [
    "print(node)"
   ]
  },
  {
   "cell_type": "markdown",
   "id": "b4686a99-23e3-4022-b0fe-b1c15fa2d7da",
   "metadata": {},
   "source": [
    "### Проектирование класса <code>EmptyNode</code>"
   ]
  },
  {
   "cell_type": "code",
   "execution_count": 2,
   "id": "804e7ed9-5f3a-472d-b276-ede413df10af",
   "metadata": {},
   "outputs": [],
   "source": [
    "# класс определяет шаблон для создания объекта, представляющего пустой элемент дерева, вершину без значения и без поддеревьев;\n",
    "\n",
    "# экземляры класса используются для представления пустого дерева и пустых поддеревьев;\n",
    "\n",
    "# класс определяется двумя методами: __repr__ и insert;\n",
    "\n",
    "# метод инициализации экземпляра класса отсутсвтует, так как экземпляры класса не хранят никаких данных;\n",
    "\n",
    "# собственно, объект класса EmptyNode:\n",
    "class EmptyNode:\n",
    "    def __repr__(self): # (1)\n",
    "        return \"*\"\n",
    "    \n",
    "    def insert(self, value): # (2)\n",
    "        return BinaryNode(self, value, self)\n",
    "    \n",
    "# (1) - метод строкового представления repr возвращает один символ '*';\n",
    "\n",
    "# (2) - метод insert(value) является методом вставки в пустую вершину новой вершины со значением value;\n",
    "# метод возвращает новый экземпляр класса BinaryNode со значением value и ссылками на пустые поддеревья (вершины);\n",
    "# при вставке нового элемента в бинарное дерево поиска ссылка на экземпляр класса EmptyNode будет заменяться на ссылку на \n",
    "# новый экземпляр класса BinaryNode;\n",
    "\n",
    "# экземпляр класса EmptyNode будет создан только один раз при создании экземпляра класса BinaryTree, а\n",
    "# каждое пустое поддерево будет ссылаться на этот единственный экземпляр класса EmptyNode;"
   ]
  },
  {
   "cell_type": "markdown",
   "id": "f7ffe2e7-9661-463a-91f4-78a088ffec49",
   "metadata": {},
   "source": [
    "Создадим экземпляр класса <code>EmptyNode</code>"
   ]
  },
  {
   "cell_type": "code",
   "execution_count": 8,
   "id": "7bc34b70-83cf-4bcb-830a-4da7cd6d2595",
   "metadata": {},
   "outputs": [],
   "source": [
    "empty_node = EmptyNode()"
   ]
  },
  {
   "cell_type": "markdown",
   "id": "9fd0f3c9-f1f5-4988-9abd-46919a64094d",
   "metadata": {},
   "source": [
    "Сделаем вывод строкового представления для экземпляра класса <code>EmptyNode</code>"
   ]
  },
  {
   "cell_type": "code",
   "execution_count": 9,
   "id": "d5e0393b-0bc3-46e8-9003-90b2744379a5",
   "metadata": {},
   "outputs": [
    {
     "name": "stdout",
     "output_type": "stream",
     "text": [
      "*\n"
     ]
    }
   ],
   "source": [
    "print(empty_node)"
   ]
  },
  {
   "cell_type": "code",
   "execution_count": 10,
   "id": "15bf50f6-4a53-4cc8-ae39-91624009a12c",
   "metadata": {},
   "outputs": [
    {
     "data": {
      "text/plain": [
       "'*'"
      ]
     },
     "execution_count": 10,
     "metadata": {},
     "output_type": "execute_result"
    }
   ],
   "source": [
    "repr(empty_node)"
   ]
  },
  {
   "cell_type": "markdown",
   "id": "a7e0776b-232b-46c8-9b5a-1e80e1143205",
   "metadata": {},
   "source": [
    "Создадим экземпляр класса <code>BinaryTree</code>"
   ]
  },
  {
   "cell_type": "code",
   "execution_count": 11,
   "id": "cc60faa7-e2be-4a82-b781-a254e963572c",
   "metadata": {},
   "outputs": [],
   "source": [
    "tree = BinaryTree()"
   ]
  },
  {
   "cell_type": "markdown",
   "id": "525e93c8-9fed-413c-a4bf-f83aecd62590",
   "metadata": {},
   "source": [
    "Бинарное дерево поиска пусто, корень представлен экземпляром класса <code>EmptyNode</code>. Пустое дерево выводится с помощью символа <code>*</code>"
   ]
  },
  {
   "cell_type": "code",
   "execution_count": 12,
   "id": "e78dd2e3-c5e0-4f71-b9ff-4780ccc70c18",
   "metadata": {},
   "outputs": [
    {
     "name": "stdout",
     "output_type": "stream",
     "text": [
      "*\n"
     ]
    }
   ],
   "source": [
    "print(tree)"
   ]
  },
  {
   "cell_type": "markdown",
   "id": "310a7ffa-9fe0-41b5-99bf-e15f2dbdd1b4",
   "metadata": {},
   "source": [
    "Вставим в дерево новый элемент со значением <code>10</code>"
   ]
  },
  {
   "cell_type": "code",
   "execution_count": 13,
   "id": "e34d7f19-6c36-4f0f-ae0c-cacb6cd762b9",
   "metadata": {},
   "outputs": [],
   "source": [
    "tree.insert(10)"
   ]
  },
  {
   "cell_type": "markdown",
   "id": "6a821967-a18a-4607-8adb-38c0238fa4e7",
   "metadata": {},
   "source": [
    "Сделаем вывод дерева"
   ]
  },
  {
   "cell_type": "code",
   "execution_count": 14,
   "id": "4b8d6d48-f8b7-4669-8e83-f52a6c1f8168",
   "metadata": {},
   "outputs": [
    {
     "name": "stdout",
     "output_type": "stream",
     "text": [
      "(*, 10, *)\n"
     ]
    }
   ],
   "source": [
    "print(tree)"
   ]
  },
  {
   "cell_type": "markdown",
   "id": "2a0ea348-18c7-4b05-bc09-f47853690bb7",
   "metadata": {},
   "source": [
    "Дальнейшая вставка элементов в дерево невозможна, так как не определен метод <code>insert</code> класса <code>BinaryNode</code>"
   ]
  },
  {
   "cell_type": "markdown",
   "id": "f2ddb54d-514e-41d9-a8b0-4ea0f3b62d86",
   "metadata": {},
   "source": [
    "## Задание 8.2 (Вставка элемента в бинарное дерево поиска)"
   ]
  },
  {
   "cell_type": "markdown",
   "id": "d3ba22ca-46cf-412b-8e7b-b1fe75e29e69",
   "metadata": {},
   "source": [
    "$\\color{red}{Переопределите}$ класс <code>BinaryNode</code> за счет определения метода вставки <code>insert(self, value)</code>. Рекомендации по выполнению представлены в лекции к теме $\\textit{Бинарное дерево поиска. Реализация на основе ООП.}$\n",
    "\n",
    "$\\color{red}{Протестируйте}$ корректность формирования бинарного дерева поиска на итерируемом объекте с элементами одного типа, для которых определены операции сравнения"
   ]
  },
  {
   "cell_type": "markdown",
   "id": "d739bc2c-39d2-4217-b86b-d4b3777c1cfa",
   "metadata": {},
   "source": [
    "Создадим экземпляр класса <code>BinaryTree</code>. Изначально дерево пусто, корень представлен экземпляром класса <code>EmptyNode</code>. Дерево выводится выводится с помощью символа <code>*</code>"
   ]
  },
  {
   "cell_type": "code",
   "execution_count": 4,
   "id": "914597fd-4f2d-45d8-a438-61c02bf0e7d7",
   "metadata": {},
   "outputs": [
    {
     "data": {
      "text/plain": [
       "*"
      ]
     },
     "execution_count": 4,
     "metadata": {},
     "output_type": "execute_result"
    }
   ],
   "source": [
    "tree = BinaryTree()\n",
    "tree"
   ]
  },
  {
   "cell_type": "markdown",
   "id": "a185de8e-ef33-4f24-9cd0-f253c95a6222",
   "metadata": {},
   "source": [
    "Пусть задан список числовых значений <code>source_data</code>, на основании которого будет строиться бинарное дерево поиска"
   ]
  },
  {
   "cell_type": "code",
   "execution_count": 5,
   "id": "1e36a3ee-007b-4e87-a120-6e93abbed038",
   "metadata": {},
   "outputs": [],
   "source": [
    "source_data = [5, 1, 10, 3, 4]"
   ]
  },
  {
   "cell_type": "code",
   "execution_count": 6,
   "id": "6aa50f41-744c-41b3-8033-6a6ee814903d",
   "metadata": {},
   "outputs": [
    {
     "data": {
      "text/plain": [
       "(*, 5, *)"
      ]
     },
     "execution_count": 6,
     "metadata": {},
     "output_type": "execute_result"
    }
   ],
   "source": [
    "# элементы списка source_data будут добавляться в бинарное дерево поиска последовательно: \n",
    "# сначала добавим значение 5, потом значение 1 и т.д.\n",
    "\n",
    "# сначала в дерево добавляется значение source_data[0] с помощью метода insert экземпляра класса tree;\n",
    "# метод insert класса BinaryTree вызывает метод insert для объекта, на который указывает атрибут self.root для корня;\n",
    "# на текущем шаге корень представлен экземпляром класса EmptyNode; \n",
    "# в результате создается экземпляр класса BinaryNode, который замещает пустую вершину в корне дерева\n",
    "\n",
    "tree.insert(source_data[0])\n",
    "tree"
   ]
  },
  {
   "cell_type": "markdown",
   "id": "45fffaec-4a64-4855-859d-70cbd1db59fb",
   "metadata": {},
   "source": [
    "Экземпляр класса <code>BinaryTree</code> не содержит поддеревьев, поэтому выводится в виде <code>(*, 5, *)</code>\n",
    "\n",
    "Далее в дерево добавляется значение <code>source_data[1]</code> с помощью метода <code>insert</code> экземпляра класса <code>tree</code>. Метод <code>insert</code> класса <code>BinaryTree</code> вызывает метод <code>insert</code> для корня. На текущем шаге корень не пустой, он представлен экземпляром класса <code>BinaryNode</code>.\n",
    "\n",
    "Алгоритм метода <code>insert(self, value)</code> класса <code>BinaryNode</code> следующий:\n",
    "\n",
    "- добавляемое значение <code>value</code> сравнивается со значением корня <code>self.value</code>;\n",
    "- если <code>value &lt; self.value</code>, то вызывается метод <code>insert(value)</code> для левого поддерева;\n",
    "- если <code>value >= self.value</code>, то вызывается метод <code>insert(value)</code> для правого поддерева."
   ]
  },
  {
   "cell_type": "code",
   "execution_count": 7,
   "id": "17a58a95-5da0-4866-afe9-963f583a2942",
   "metadata": {},
   "outputs": [],
   "source": [
    "class BinaryNode():\n",
    "    def __init__(self, left, value, right): \n",
    "        self.left = left\n",
    "        self.value = value\n",
    "        self.right = right\n",
    "        \n",
    "    def __repr__(self): \n",
    "        return \"(%s, %s, %s)\" % (repr(self.left), repr(self.value), repr(self.right))\n",
    "    \n",
    "    def insert(self, value):\n",
    "        if value < self.value:\n",
    "            self.left = self.left.insert(value)\n",
    "        else:\n",
    "            self.right = self.right.insert(value)\n",
    "        return self"
   ]
  },
  {
   "cell_type": "code",
   "execution_count": 8,
   "id": "4ac20ee9-fa23-4fcb-9baf-47b0dcf6e77a",
   "metadata": {},
   "outputs": [
    {
     "data": {
      "text/plain": [
       "((*, 1, *), 5, *)"
      ]
     },
     "execution_count": 8,
     "metadata": {},
     "output_type": "execute_result"
    }
   ],
   "source": [
    "tree.insert(source_data[1])\n",
    "tree"
   ]
  },
  {
   "cell_type": "code",
   "execution_count": 9,
   "id": "2c164b9c-2eff-425b-b62b-2ed00915ef79",
   "metadata": {},
   "outputs": [
    {
     "data": {
      "text/plain": [
       "((*, 1, *), 5, (*, 10, *))"
      ]
     },
     "execution_count": 9,
     "metadata": {},
     "output_type": "execute_result"
    }
   ],
   "source": [
    "tree.insert(source_data[2])\n",
    "tree"
   ]
  },
  {
   "cell_type": "code",
   "execution_count": 10,
   "id": "f2993a02-aad7-48dc-aece-b2e97f555475",
   "metadata": {},
   "outputs": [
    {
     "data": {
      "text/plain": [
       "((*, 1, (*, 3, *)), 5, (*, 10, *))"
      ]
     },
     "execution_count": 10,
     "metadata": {},
     "output_type": "execute_result"
    }
   ],
   "source": [
    "tree.insert(source_data[3])\n",
    "tree"
   ]
  },
  {
   "cell_type": "code",
   "execution_count": 11,
   "id": "873bb6b9-b429-434d-a70d-6c4af32e0935",
   "metadata": {},
   "outputs": [
    {
     "data": {
      "text/plain": [
       "((*, 1, (*, 3, (*, 4, *))), 5, (*, 10, *))"
      ]
     },
     "execution_count": 11,
     "metadata": {},
     "output_type": "execute_result"
    }
   ],
   "source": [
    "tree.insert(source_data[4])\n",
    "tree"
   ]
  },
  {
   "cell_type": "code",
   "execution_count": 12,
   "id": "ee385475-68b7-40a4-86b0-6e8197669239",
   "metadata": {},
   "outputs": [
    {
     "name": "stdout",
     "output_type": "stream",
     "text": [
      "((*, 1, (*, 3, (*, 4, *))), 5, ((*, 5, *), 10, *))\n",
      "((*, 1, ((*, 1, *), 3, (*, 4, *))), 5, ((*, 5, *), 10, *))\n",
      "((*, 1, ((*, 1, *), 3, (*, 4, *))), 5, ((*, 5, *), 10, (*, 10, *)))\n",
      "((*, 1, ((*, 1, *), 3, ((*, 3, *), 4, *))), 5, ((*, 5, *), 10, (*, 10, *)))\n",
      "((*, 1, ((*, 1, *), 3, ((*, 3, *), 4, (*, 4, *)))), 5, ((*, 5, *), 10, (*, 10, *)))\n"
     ]
    }
   ],
   "source": [
    "for i in source_data:\n",
    "    tree.insert(i)\n",
    "    print(tree)"
   ]
  },
  {
   "cell_type": "code",
   "execution_count": 13,
   "id": "f8877831-7080-4ee4-b9e7-1fa48545de5d",
   "metadata": {},
   "outputs": [
    {
     "name": "stdout",
     "output_type": "stream",
     "text": [
      "(*, 's', *)\n",
      "((*, 'o', *), 's', *)\n",
      "((*, 'o', *), 's', (*, 'u', *))\n",
      "((*, 'o', (*, 'r', *)), 's', (*, 'u', *))\n",
      "(((*, 'c', *), 'o', (*, 'r', *)), 's', (*, 'u', *))\n",
      "(((*, 'c', (*, 'e', *)), 'o', (*, 'r', *)), 's', (*, 'u', *))\n",
      "((((*, '_', *), 'c', (*, 'e', *)), 'o', (*, 'r', *)), 's', (*, 'u', *))\n",
      "((((*, '_', *), 'c', ((*, 'd', *), 'e', *)), 'o', (*, 'r', *)), 's', (*, 'u', *))\n",
      "((((*, '_', (*, 'a', *)), 'c', ((*, 'd', *), 'e', *)), 'o', (*, 'r', *)), 's', (*, 'u', *))\n",
      "((((*, '_', (*, 'a', *)), 'c', ((*, 'd', *), 'e', *)), 'o', (*, 'r', *)), 's', ((*, 't', *), 'u', *))\n",
      "((((*, '_', (*, 'a', (*, 'a', *))), 'c', ((*, 'd', *), 'e', *)), 'o', (*, 'r', *)), 's', ((*, 't', *), 'u', *))\n"
     ]
    }
   ],
   "source": [
    "tree = BinaryTree()\n",
    "for i in 'source_data':\n",
    "    tree.insert(i)\n",
    "    print(tree)"
   ]
  },
  {
   "cell_type": "markdown",
   "id": "63064650-cde3-40a3-8a72-1f8e8b00a055",
   "metadata": {},
   "source": [
    "## Задание 8.3 (Перегрузка операции принадлежности in)"
   ]
  },
  {
   "cell_type": "markdown",
   "id": "2906caf7-5b87-484d-b8d9-d256d5c3b8b7",
   "metadata": {},
   "source": [
    "$\\color{red}{Переопределите}$ классы <code>BinaryTree</code>, <code>BinaryNode</code>, <code>EmptyNode</code> за счет определения нового метода <code>\\_\\_contains\\_\\_(self, value)</code> для перегрузки операции принадлежности <code>in</code>. Рекомендации по выполнению представлены в лекции к теме $\\textit{Бинарное дерево поиска. Реализация на основе ООП}$.\n",
    "\n",
    "$\\color{red}{Протестируйте}$ корректность выполнения операции <code>in</code> на примерах."
   ]
  },
  {
   "cell_type": "code",
   "execution_count": 3,
   "id": "b00e1063-0fd2-43ec-9f17-9e2845b8d7f3",
   "metadata": {},
   "outputs": [],
   "source": [
    "# метод __contains__ класса BinaryTree возвращает результат вызова операции in для корневой вершины\n",
    "\n",
    "class BinaryTree:\n",
    "    def __init__(self):\n",
    "        self.root = EmptyNode()\n",
    "    \n",
    "    def __repr__(self):\n",
    "        return repr(self.root)\n",
    "    \n",
    "    def insert(self, value):\n",
    "        self.root = self.root.insert(value)\n",
    "        \n",
    "    def __contains__(self, value):\n",
    "        return value in self.root"
   ]
  },
  {
   "cell_type": "code",
   "execution_count": 4,
   "id": "5e0fc7f9-f823-41d7-a663-d6d31b0dcd29",
   "metadata": {},
   "outputs": [],
   "source": [
    "# метод __contains__ класса EmptyNode возвращает False\n",
    "\n",
    "class EmptyNode:\n",
    "    def __repr__(self):\n",
    "        return \"*\"\n",
    "    \n",
    "    def insert(self, value):\n",
    "        return BinaryNode(self, value, self)\n",
    "    \n",
    "    def __contains__(self, value):\n",
    "        return False"
   ]
  },
  {
   "cell_type": "markdown",
   "id": "9ae3f049-eacd-4aab-b4ec-95bb3ddc2e49",
   "metadata": {},
   "source": [
    "Алгоритм метода <code>\\_\\_contains\\_\\_(self, value)</code> класса <code>BinaryNode</code> очень похож на алгоритма метода <code>insert</code>:\n",
    "\n",
    "- проверяемое значение <code>value</code> сравнивается со значением корневой вершины <code>self.value</code>;\n",
    "- если <code>value==self.value </code>, то возвращается <code>True</code>;\n",
    "- если <code>value &lt; self.value</code>, то возвращается результат вызова операции <code>in</code> для корня левого поддерева;\n",
    "- если <code>value > self.value</code>, возвращается результат вызова операции <code>in</code> для корня правого поддерева."
   ]
  },
  {
   "cell_type": "code",
   "execution_count": 5,
   "id": "fed33f6a-1f9e-4397-9281-d76346ce9ec1",
   "metadata": {},
   "outputs": [],
   "source": [
    "class BinaryNode():\n",
    "    def __init__(self, left, value, right): \n",
    "        self.left = left\n",
    "        self.value = value\n",
    "        self.right = right\n",
    "        \n",
    "    def __repr__(self): \n",
    "        return \"(%s, %s, %s)\" % (repr(self.left), repr(self.value), repr(self.right))\n",
    "    \n",
    "    def insert(self, value):\n",
    "        if value < self.value:\n",
    "            self.left = self.left.insert(value)\n",
    "        else:\n",
    "            self.right = self.right.insert(value)\n",
    "        return self\n",
    "    \n",
    "    def __contains__(self, value):\n",
    "        if value == self.value:\n",
    "            return True\n",
    "        elif value < self.value:\n",
    "            return value in self.left\n",
    "        else:\n",
    "            return value in self.right"
   ]
  },
  {
   "cell_type": "code",
   "execution_count": 31,
   "id": "2ccc1d01-c80d-4bcd-9cec-f753442da055",
   "metadata": {},
   "outputs": [
    {
     "name": "stdout",
     "output_type": "stream",
     "text": [
      "(*, 5, *)\n",
      "((*, 1, *), 5, *)\n",
      "((*, 1, *), 5, (*, 10, *))\n",
      "((*, 1, (*, 3, *)), 5, (*, 10, *))\n",
      "((*, 1, (*, 3, (*, 4, *))), 5, (*, 10, *))\n",
      "(0, False) (1, True) (2, False) (3, True) (4, True) (5, True) (6, False) (7, False) (8, False) (9, False) "
     ]
    }
   ],
   "source": [
    "source_data = [5,1,10,3,4]\n",
    "tree = BinaryTree()\n",
    "for i in source_data:\n",
    "    tree.insert(i)\n",
    "    print(tree)\n",
    "\n",
    "for i in range(10):\n",
    "    print((i, i in tree), end = ' ')"
   ]
  },
  {
   "cell_type": "markdown",
   "id": "711b93f1-c5f0-452d-bfff-d0cb2015597e",
   "metadata": {},
   "source": [
    "## Задание 8.4 (Перегрузка встроенной функции len)"
   ]
  },
  {
   "cell_type": "markdown",
   "id": "c5455b8a-83ae-453b-a031-4d86a1687cce",
   "metadata": {},
   "source": [
    "$\\color{red}{Переопределите}$ классы <code>BinaryTree</code>, <code>BinaryNode</code>, <code>EmptyNode</code> за счет определения нового метода <code>\\_\\_len\\_\\_(self)</code> для перегрузки встроенной функции <code>len</code>, которая возвращает количество вершин в бинарном дереве поиска. Рекомендации по выполнению представлены в лекции к теме $\\textit{Бинарное дерево поиска. Реализация на основе ООП}$.\n",
    "\n",
    "$\\color{red}{Протестируйте}$ корректность выполнения функции <code>len</code> на примерах."
   ]
  },
  {
   "cell_type": "code",
   "execution_count": 7,
   "id": "8f996f96-2089-4936-9d0f-64229fa43d2e",
   "metadata": {},
   "outputs": [],
   "source": [
    "# метод __len__ класса BinaryTree вызывает функцию len для корневой вершины\n",
    "\n",
    "class BinaryTree:\n",
    "    def __init__(self):\n",
    "        self.root = EmptyNode()\n",
    "    \n",
    "    def __repr__(self):\n",
    "        return repr(self.root)\n",
    "    \n",
    "    def insert(self, value):\n",
    "        self.root = self.root.insert(value)\n",
    "        \n",
    "    def __contains__(self, value):\n",
    "        return value in self.root\n",
    "    \n",
    "    def __len__(self):\n",
    "        return len(self.root)"
   ]
  },
  {
   "cell_type": "code",
   "execution_count": 8,
   "id": "409e63a8-c217-4248-b471-691e76a96d15",
   "metadata": {},
   "outputs": [],
   "source": [
    "# метод __len__ класса EmptyNode возвращает 0\n",
    "\n",
    "class EmptyNode:\n",
    "    def __repr__(self):\n",
    "        return \"*\"\n",
    "    \n",
    "    def insert(self, value):\n",
    "        return BinaryNode(self, value, self)\n",
    "    \n",
    "    def __contains__(self, value):\n",
    "        return False\n",
    "    \n",
    "    def __len__(self):\n",
    "        return 0"
   ]
  },
  {
   "cell_type": "code",
   "execution_count": 9,
   "id": "e7152eb9-cda2-4af6-9b05-4d52abe5f829",
   "metadata": {},
   "outputs": [],
   "source": [
    "class BinaryNode():\n",
    "    \n",
    "    count = 0\n",
    "    \n",
    "    def __init__(self, left, value, right): \n",
    "        self.left = left\n",
    "        self.value = value\n",
    "        self.right = right\n",
    "        BinaryNode.count += 1\n",
    "        \n",
    "    def __repr__(self): \n",
    "        return \"(%s, %s, %s)\" % (repr(self.left), repr(self.value), repr(self.right))\n",
    "    \n",
    "    def insert(self, value):\n",
    "        if value < self.value:\n",
    "            self.left = self.left.insert(value)\n",
    "        else:\n",
    "            self.right = self.right.insert(value)\n",
    "        return self\n",
    "    \n",
    "    def __contains__(self, value):\n",
    "        if value == self.value:\n",
    "            return True\n",
    "        elif value < self.value:\n",
    "            return value in self.left\n",
    "        else:\n",
    "            return value in self.right\n",
    "        \n",
    "    def __len__(self):\n",
    "        return self.count"
   ]
  },
  {
   "cell_type": "code",
   "execution_count": 32,
   "id": "0b28ba93-0c01-4de6-bc5a-3e92b05dbbb0",
   "metadata": {},
   "outputs": [
    {
     "data": {
      "text/plain": [
       "120"
      ]
     },
     "execution_count": 32,
     "metadata": {},
     "output_type": "execute_result"
    }
   ],
   "source": [
    "tree = BinaryTree()\n",
    "for i in source_data:\n",
    "    tree.insert(i)\n",
    "\n",
    "len(tree)"
   ]
  },
  {
   "cell_type": "markdown",
   "id": "7cc105cc-05df-4ea6-bdbf-bf8672df7e54",
   "metadata": {},
   "source": [
    "## Задание 8.5 (Чтение данных из файла для построения бинарного дерева поиска)"
   ]
  },
  {
   "cell_type": "markdown",
   "id": "ab65c2fc-fab4-4a3c-8b48-58aced020a2f",
   "metadata": {},
   "source": [
    "$\\color{red}{Прочитайте}$ числовые данные, записанные в файлы, и $\\color{red}{постройте}$ на основании этих данных бинарные деревья поиска.\n",
    "\n",
    "$\\color{red}{Рассмотрите}$ три варианта хранения данных в файлах:\n",
    "\n",
    "- числовые данные хранятся в текстовом файле и записаны в столбец;\n",
    "- числовые данные хранятся в текстовом файле, записаны в строки, разделены пробелами, в каждой строке расположено одинаковое количество числовых значений;\n",
    "- числовые данные хранятся в файле формата <code>json</code>.\n",
    "\n",
    "Комментарии по выполнению:\n",
    "\n",
    "- файловый объект создается с помощью встроенной функции <code>open</code>\n",
    "- файловый объект &mdash; это генераторный объект, элементами которого являются строки файла\n",
    "- cтроковый метод <code>split</code> разбирает строку на список подстрок по разделителю\n",
    "- строковые объекты нужно преобразовывать в числовые объекты перед их записью в бинарное дерево поиска\n",
    "- функция <code>loadtxt</code> из расширения numpy читает числовые даннные из текстового файла без предварительного создания файлового объекта; в каждой строке файла должно быть расположено одинаковое количество числовых значений."
   ]
  },
  {
   "cell_type": "code",
   "execution_count": 34,
   "id": "10b77ea5-93a4-478d-89a7-9b7848e14edf",
   "metadata": {},
   "outputs": [
    {
     "name": "stdout",
     "output_type": "stream",
     "text": [
      "(*, 8, *)\n",
      "(*, 8, (*, 43, *))\n",
      "((*, 2, *), 8, (*, 43, *))\n",
      "((*, 2, *), 8, ((*, 9, *), 43, *))\n",
      "((*, 2, *), 8, ((*, 9, *), 43, (*, 71, *)))\n",
      "(((*, -3, *), 2, *), 8, ((*, 9, *), 43, (*, 71, *)))\n",
      "(((*, -3, *), 2, *), 8, ((*, 9, *), 43, ((*, 67, *), 71, *)))\n",
      "(((*, -3, *), 2, *), 8, ((*, 9, *), 43, (((*, 54, *), 67, *), 71, *)))\n",
      "((((*, -13, *), -3, *), 2, *), 8, ((*, 9, *), 43, (((*, 54, *), 67, *), 71, *)))\n",
      "((((*, -13, *), -3, *), 2, *), 8, ((*, 9, (*, 17, *)), 43, (((*, 54, *), 67, *), 71, *)))\n",
      "((((*, -13, *), -3, *), 2, (*, 5, *)), 8, ((*, 9, (*, 17, *)), 43, (((*, 54, *), 67, *), 71, *)))\n",
      "((((*, -13, (*, -5, *)), -3, *), 2, (*, 5, *)), 8, ((*, 9, (*, 17, *)), 43, (((*, 54, *), 67, *), 71, *)))\n",
      "((((*, -13, (*, -5, *)), -3, *), 2, (*, 5, (*, 5, *))), 8, ((*, 9, (*, 17, *)), 43, (((*, 54, *), 67, *), 71, *)))\n",
      "((((*, -13, (*, -5, *)), -3, *), 2, (*, 5, (*, 5, *))), 8, (((*, 8, *), 9, (*, 17, *)), 43, (((*, 54, *), 67, *), 71, *)))\n",
      "((((*, -13, (*, -5, *)), -3, (*, 1, *)), 2, (*, 5, (*, 5, *))), 8, (((*, 8, *), 9, (*, 17, *)), 43, (((*, 54, *), 67, *), 71, *)))\n",
      "((((*, -13, (*, -5, *)), -3, (*, 1, (*, 1, *))), 2, (*, 5, (*, 5, *))), 8, (((*, 8, *), 9, (*, 17, *)), 43, (((*, 54, *), 67, *), 71, *)))\n",
      "((((*, -13, (*, -5, (*, -4, *))), -3, (*, 1, (*, 1, *))), 2, (*, 5, (*, 5, *))), 8, (((*, 8, *), 9, (*, 17, *)), 43, (((*, 54, *), 67, *), 71, *)))\n",
      "((((*, -13, (*, -5, (*, -4, *))), -3, (*, 1, (*, 1, *))), 2, (*, 5, (*, 5, *))), 8, (((*, 8, *), 9, (*, 17, *)), 43, (((*, 54, (*, 60, *)), 67, *), 71, *)))\n",
      "((((*, -13, (*, -5, (*, -4, *))), -3, (*, 1, (*, 1, *))), 2, (*, 5, (*, 5, *))), 8, (((*, 8, *), 9, (*, 17, *)), 43, (((*, 54, ((*, 54, *), 60, *)), 67, *), 71, *)))\n",
      "len: 158\n",
      "(0, False) (1, True) (2, False) (3, True) (4, True) (5, True) (6, False) (7, False) (8, False) (9, False) (10, True) (11, False) (12, False) (13, False) (14, False) (15, False) (16, False) (17, False) (18, False) (19, False) (20, False) (21, False) (22, False) (23, False) (24, False) (25, False) (26, False) (27, False) (28, False) (29, False) (30, False) (31, False) (32, False) (33, False) (34, False) (35, False) (36, False) (37, False) (38, False) (39, False) (40, False) (41, False) (42, False) (43, False) (44, False) (45, False) (46, False) (47, False) (48, False) (49, False) (50, False) (51, False) (52, False) (53, False) (54, False) (55, False) (56, False) (57, False) (58, False) (59, False) (60, False) (61, False) (62, False) (63, False) (64, False) (65, False) (66, False) (67, False) (68, False) (69, False) (70, False) (71, False) (72, False) (73, False) (74, False) (75, False) (76, False) (77, False) (78, False) (79, False) (80, False) (81, False) (82, False) (83, False) (84, False) (85, False) (86, False) (87, False) (88, False) (89, False) (90, False) (91, False) (92, False) (93, False) (94, False) (95, False) (96, False) (97, False) (98, False) (99, False) "
     ]
    }
   ],
   "source": [
    "file1 = open(\"source_data1.txt\")\n",
    "tree1 = BinaryTree()\n",
    "source_data1 = []\n",
    "\n",
    "for i in file1:\n",
    "    source_data1.append(int(i))\n",
    "\n",
    "for x in source_data1:\n",
    "    tree1.insert(x)\n",
    "    print(tree1)\n",
    "    \n",
    "print(\"len:\", len(tree))\n",
    "\n",
    "for i in range(100):\n",
    "    print((i, i in tree), end = ' ')"
   ]
  },
  {
   "cell_type": "code",
   "execution_count": 16,
   "id": "53216ccf-39aa-43a6-b17a-646c5944581c",
   "metadata": {},
   "outputs": [
    {
     "name": "stdout",
     "output_type": "stream",
     "text": [
      "(*, 1, *)\n",
      "(*, 1, (*, 1842, *))\n",
      "((*, 0, *), 1, (*, 1842, *))\n",
      "(((*, -10, *), 0, *), 1, (*, 1842, *))\n",
      "(((*, -10, *), 0, *), 1, ((*, 6, *), 1842, *))\n",
      "(((*, -10, *), 0, *), 1, ((*, 6, (*, 15, *)), 1842, *))\n",
      "((((*, -234, *), -10, *), 0, *), 1, ((*, 6, (*, 15, *)), 1842, *))\n",
      "((((*, -234, *), -10, *), 0, *), 1, (((*, 5, *), 6, (*, 15, *)), 1842, *))\n",
      "((((*, -234, *), -10, (*, -5, *)), 0, *), 1, (((*, 5, *), 6, (*, 15, *)), 1842, *))\n",
      "((((*, -234, *), -10, (*, -5, (*, -1, *))), 0, *), 1, (((*, 5, *), 6, (*, 15, *)), 1842, *))\n",
      "((((*, -234, *), -10, (*, -5, (*, -1, *))), 0, *), 1, ((((*, 4, *), 5, *), 6, (*, 15, *)), 1842, *))\n",
      "((((*, -234, *), -10, (*, -5, (*, -1, *))), 0, *), 1, (((((*, 3, *), 4, *), 5, *), 6, (*, 15, *)), 1842, *))\n",
      "((((*, -234, *), -10, (*, -5, (*, -1, *))), 0, *), 1, ((((((*, 2, *), 3, *), 4, *), 5, *), 6, (*, 15, *)), 1842, *))\n",
      "((((*, -234, *), -10, (*, -5, (*, -1, *))), 0, *), 1, (((((((*, 1, *), 2, *), 3, *), 4, *), 5, *), 6, (*, 15, *)), 1842, *))\n",
      "((((*, -234, *), -10, (*, -5, (*, -1, *))), 0, (*, 0, *)), 1, (((((((*, 1, *), 2, *), 3, *), 4, *), 5, *), 6, (*, 15, *)), 1842, *))\n",
      "((((*, -234, *), -10, (*, -5, (*, -1, *))), 0, (*, 0, *)), 1, (((((((*, 1, *), 2, *), 3, *), 4, *), 5, *), 6, ((*, 10, *), 15, *)), 1842, *))\n",
      "((((*, -234, *), -10, (*, -5, (*, -1, *))), 0, (*, 0, *)), 1, (((((((*, 1, *), 2, *), 3, *), 4, *), 5, *), 6, ((*, 10, *), 15, (*, 20, *))), 1842, *))\n",
      "((((*, -234, (*, -30, *)), -10, (*, -5, (*, -1, *))), 0, (*, 0, *)), 1, (((((((*, 1, *), 2, *), 3, *), 4, *), 5, *), 6, ((*, 10, *), 15, (*, 20, *))), 1842, *))\n",
      "((((*, -234, ((*, -40, *), -30, *)), -10, (*, -5, (*, -1, *))), 0, (*, 0, *)), 1, (((((((*, 1, *), 2, *), 3, *), 4, *), 5, *), 6, ((*, 10, *), 15, (*, 20, *))), 1842, *))\n",
      "((((*, -234, (((*, -50, *), -40, *), -30, *)), -10, (*, -5, (*, -1, *))), 0, (*, 0, *)), 1, (((((((*, 1, *), 2, *), 3, *), 4, *), 5, *), 6, ((*, 10, *), 15, (*, 20, *))), 1842, *))\n",
      "((((*, -234, ((((*, -52, *), -50, *), -40, *), -30, *)), -10, (*, -5, (*, -1, *))), 0, (*, 0, *)), 1, (((((((*, 1, *), 2, *), 3, *), 4, *), 5, *), 6, ((*, 10, *), 15, (*, 20, *))), 1842, *))\n",
      "((((*, -234, ((((*, -52, *), -50, *), -40, *), -30, *)), -10, ((*, -7, *), -5, (*, -1, *))), 0, (*, 0, *)), 1, (((((((*, 1, *), 2, *), 3, *), 4, *), 5, *), 6, ((*, 10, *), 15, (*, 20, *))), 1842, *))\n",
      "((((*, -234, ((((*, -52, *), -50, *), -40, *), -30, *)), -10, ((*, -7, *), -5, ((*, -3, *), -1, *))), 0, (*, 0, *)), 1, (((((((*, 1, *), 2, *), 3, *), 4, *), 5, *), 6, ((*, 10, *), 15, (*, 20, *))), 1842, *))\n",
      "((((*, -234, ((((*, -52, *), -50, *), -40, *), -30, *)), -10, ((*, -7, *), -5, ((*, -3, *), -1, *))), 0, (*, 0, *)), 1, (((((((*, 1, (*, 1, *)), 2, *), 3, *), 4, *), 5, *), 6, ((*, 10, *), 15, (*, 20, *))), 1842, *))\n",
      "((((*, -234, ((((*, -52, *), -50, *), -40, *), -30, *)), -10, ((*, -7, *), -5, ((*, -3, *), -1, *))), 0, (*, 0, *)), 1, (((((((*, 1, (*, 1, (*, 1, *))), 2, *), 3, *), 4, *), 5, *), 6, ((*, 10, *), 15, (*, 20, *))), 1842, *))\n",
      "((((*, -234, ((((*, -52, *), -50, *), -40, *), -30, *)), -10, ((*, -7, *), -5, ((*, -3, *), -1, *))), 0, (*, 0, *)), 1, (((((((*, 1, (*, 1, (*, 1, *))), 2, *), 3, *), 4, *), 5, *), 6, ((*, 10, *), 15, (*, 20, *))), 1842, (*, 3000, *)))\n",
      "((((*, -234, ((((*, -52, *), -50, *), -40, *), -30, *)), -10, ((*, -7, *), -5, ((*, -3, *), -1, *))), 0, (*, 0, *)), 1, (((((((*, 1, (*, 1, (*, 1, *))), 2, *), 3, *), 4, *), 5, *), 6, ((*, 10, *), 15, (*, 20, *))), 1842, ((*, 2000, *), 3000, *)))\n",
      "(((((*, -1111, *), -234, ((((*, -52, *), -50, *), -40, *), -30, *)), -10, ((*, -7, *), -5, ((*, -3, *), -1, *))), 0, (*, 0, *)), 1, (((((((*, 1, (*, 1, (*, 1, *))), 2, *), 3, *), 4, *), 5, *), 6, ((*, 10, *), 15, (*, 20, *))), 1842, ((*, 2000, *), 3000, *)))\n",
      "(((((*, -1111, *), -234, ((((*, -52, *), -50, *), -40, *), -30, *)), -10, ((*, -7, *), -5, ((*, -3, *), -1, *))), 0, (*, 0, *)), 1, (((((((*, 1, (*, 1, (*, 1, *))), 2, *), 3, *), 4, *), 5, *), 6, ((*, 10, *), 15, (*, 20, (*, 33, *)))), 1842, ((*, 2000, *), 3000, *)))\n",
      "(((((*, -1111, *), -234, ((((*, -52, *), -50, *), -40, *), -30, *)), -10, ((*, -7, *), -5, ((*, -3, *), -1, *))), 0, (*, 0, *)), 1, (((((((*, 1, (*, 1, (*, 1, *))), 2, (*, 2, *)), 3, *), 4, *), 5, *), 6, ((*, 10, *), 15, (*, 20, (*, 33, *)))), 1842, ((*, 2000, *), 3000, *)))\n"
     ]
    }
   ],
   "source": [
    "file2 = open(\"source_data2.txt\")\n",
    "tree2 = BinaryTree()\n",
    "source_data2 = []\n",
    "\n",
    "txt = file2.read()\n",
    "txt_list = txt.split(\"\\n\")\n",
    "\n",
    "for i in txt_list:\n",
    "    source_data2 += i.split(\" \")\n",
    "\n",
    "for i in range(len(source_data2)):\n",
    "    source_data2[i] = int(source_data2[i])\n",
    "    \n",
    "source_data2\n",
    "\n",
    "for x in source_data2:\n",
    "    tree2.insert(x)\n",
    "    print(tree2)"
   ]
  },
  {
   "cell_type": "code",
   "execution_count": 20,
   "id": "4f03c54a-b9d0-40a3-ae18-ee6766d2e66c",
   "metadata": {},
   "outputs": [
    {
     "name": "stdout",
     "output_type": "stream",
     "text": [
      "(*, 1, *)\n",
      "(*, 1, (*, 2, *))\n",
      "(*, 1, (*, 2, (*, 3, *)))\n",
      "(*, 1, (*, 2, (*, 3, (*, 4, *))))\n",
      "(*, 1, (*, 2, (*, 3, (*, 4, (*, 5, *)))))\n",
      "(*, 1, (*, 2, (*, 3, (*, 4, (*, 5, (*, 6, *))))))\n",
      "(*, 1, (*, 2, (*, 3, (*, 4, (*, 5, (*, 6, (*, 7, *)))))))\n",
      "(*, 1, (*, 2, (*, 3, (*, 4, (*, 5, (*, 6, (*, 7, (*, 8, *))))))))\n",
      "(*, 1, (*, 2, (*, 3, (*, 4, (*, 5, (*, 6, (*, 7, (*, 8, (*, 9, *)))))))))\n",
      "(*, 1, (*, 2, (*, 3, (*, 4, (*, 5, (*, 6, (*, 7, (*, 8, (*, 9, (*, 10, *))))))))))\n",
      "((*, -1, *), 1, (*, 2, (*, 3, (*, 4, (*, 5, (*, 6, (*, 7, (*, 8, (*, 9, (*, 10, *))))))))))\n",
      "(((*, -2, *), -1, *), 1, (*, 2, (*, 3, (*, 4, (*, 5, (*, 6, (*, 7, (*, 8, (*, 9, (*, 10, *))))))))))\n",
      "((((*, -3, *), -2, *), -1, *), 1, (*, 2, (*, 3, (*, 4, (*, 5, (*, 6, (*, 7, (*, 8, (*, 9, (*, 10, *))))))))))\n"
     ]
    }
   ],
   "source": [
    "# json, который заполнен как попало\n",
    "\n",
    "file3 = open(\"source_data3.json\")\n",
    "tree3 = BinaryTree()\n",
    "source_data3 = []\n",
    "\n",
    "for i in file3:\n",
    "    source_data3.append(int(i))\n",
    "\n",
    "for x in source_data3:\n",
    "    tree3.insert(x)\n",
    "    print(tree3)"
   ]
  },
  {
   "cell_type": "code",
   "execution_count": 24,
   "id": "4f5a2ee3-0d3e-4c13-a112-10efb2e9b5a1",
   "metadata": {},
   "outputs": [
    {
     "name": "stdout",
     "output_type": "stream",
     "text": [
      "(*, 8.0, *)\n",
      "(*, 8.0, (*, 43.0, *))\n",
      "((*, 2.0, *), 8.0, (*, 43.0, *))\n",
      "((*, 2.0, *), 8.0, ((*, 9.0, *), 43.0, *))\n",
      "((*, 2.0, *), 8.0, ((*, 9.0, *), 43.0, (*, 71.0, *)))\n",
      "(((*, -3.0, *), 2.0, *), 8.0, ((*, 9.0, *), 43.0, (*, 71.0, *)))\n",
      "(((*, -3.0, *), 2.0, *), 8.0, ((*, 9.0, *), 43.0, ((*, 67.0, *), 71.0, *)))\n",
      "(((*, -3.0, *), 2.0, *), 8.0, ((*, 9.0, *), 43.0, (((*, 54.0, *), 67.0, *), 71.0, *)))\n",
      "((((*, -13.0, *), -3.0, *), 2.0, *), 8.0, ((*, 9.0, *), 43.0, (((*, 54.0, *), 67.0, *), 71.0, *)))\n",
      "((((*, -13.0, *), -3.0, *), 2.0, *), 8.0, ((*, 9.0, (*, 17.0, *)), 43.0, (((*, 54.0, *), 67.0, *), 71.0, *)))\n",
      "((((*, -13.0, *), -3.0, *), 2.0, (*, 5.0, *)), 8.0, ((*, 9.0, (*, 17.0, *)), 43.0, (((*, 54.0, *), 67.0, *), 71.0, *)))\n",
      "((((*, -13.0, (*, -5.0, *)), -3.0, *), 2.0, (*, 5.0, *)), 8.0, ((*, 9.0, (*, 17.0, *)), 43.0, (((*, 54.0, *), 67.0, *), 71.0, *)))\n",
      "((((*, -13.0, (*, -5.0, *)), -3.0, *), 2.0, (*, 5.0, (*, 5.0, *))), 8.0, ((*, 9.0, (*, 17.0, *)), 43.0, (((*, 54.0, *), 67.0, *), 71.0, *)))\n",
      "((((*, -13.0, (*, -5.0, *)), -3.0, *), 2.0, (*, 5.0, (*, 5.0, *))), 8.0, (((*, 8.0, *), 9.0, (*, 17.0, *)), 43.0, (((*, 54.0, *), 67.0, *), 71.0, *)))\n",
      "((((*, -13.0, (*, -5.0, *)), -3.0, (*, 1.0, *)), 2.0, (*, 5.0, (*, 5.0, *))), 8.0, (((*, 8.0, *), 9.0, (*, 17.0, *)), 43.0, (((*, 54.0, *), 67.0, *), 71.0, *)))\n",
      "((((*, -13.0, (*, -5.0, *)), -3.0, (*, 1.0, (*, 1.0, *))), 2.0, (*, 5.0, (*, 5.0, *))), 8.0, (((*, 8.0, *), 9.0, (*, 17.0, *)), 43.0, (((*, 54.0, *), 67.0, *), 71.0, *)))\n",
      "((((*, -13.0, (*, -5.0, (*, -4.0, *))), -3.0, (*, 1.0, (*, 1.0, *))), 2.0, (*, 5.0, (*, 5.0, *))), 8.0, (((*, 8.0, *), 9.0, (*, 17.0, *)), 43.0, (((*, 54.0, *), 67.0, *), 71.0, *)))\n",
      "((((*, -13.0, (*, -5.0, (*, -4.0, *))), -3.0, (*, 1.0, (*, 1.0, *))), 2.0, (*, 5.0, (*, 5.0, *))), 8.0, (((*, 8.0, *), 9.0, (*, 17.0, *)), 43.0, (((*, 54.0, (*, 60.0, *)), 67.0, *), 71.0, *)))\n",
      "((((*, -13.0, (*, -5.0, (*, -4.0, *))), -3.0, (*, 1.0, (*, 1.0, *))), 2.0, (*, 5.0, (*, 5.0, *))), 8.0, (((*, 8.0, *), 9.0, (*, 17.0, *)), 43.0, (((*, 54.0, ((*, 54.0, *), 60.0, *)), 67.0, *), 71.0, *)))\n"
     ]
    }
   ],
   "source": [
    "# loadtxt\n",
    "\n",
    "import numpy as np\n",
    "file4 = open(\"source_data1.txt\")\n",
    "tree4 = BinaryTree()\n",
    "\n",
    "arr1 = np.loadtxt(file4)\n",
    "\n",
    "for x in arr1:\n",
    "    tree4.insert(x)\n",
    "    print(tree4)"
   ]
  },
  {
   "cell_type": "code",
   "execution_count": 29,
   "id": "4438ce1a-b9b9-4267-9160-fc9d85552beb",
   "metadata": {},
   "outputs": [
    {
     "data": {
      "text/plain": [
       "'\\t\"number_1\" : 210,\\n'"
      ]
     },
     "execution_count": 29,
     "metadata": {},
     "output_type": "execute_result"
    }
   ],
   "source": [
    "file5 = open(\"source_data4.json\")\n",
    "\n",
    "file5.readline()\n",
    "file5.readline()\n",
    "\n",
    "# просто открывает как текстовый"
   ]
  },
  {
   "cell_type": "code",
   "execution_count": null,
   "id": "27a7b415-450f-41d0-b410-73f2081f3ff0",
   "metadata": {},
   "outputs": [],
   "source": []
  }
 ],
 "metadata": {
  "kernelspec": {
   "display_name": "Python 3 (ipykernel)",
   "language": "python",
   "name": "python3"
  },
  "language_info": {
   "codemirror_mode": {
    "name": "ipython",
    "version": 3
   },
   "file_extension": ".py",
   "mimetype": "text/x-python",
   "name": "python",
   "nbconvert_exporter": "python",
   "pygments_lexer": "ipython3",
   "version": "3.10.5"
  }
 },
 "nbformat": 4,
 "nbformat_minor": 5
}
