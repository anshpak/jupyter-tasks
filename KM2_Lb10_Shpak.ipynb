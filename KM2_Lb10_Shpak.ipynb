{
 "cells": [
  {
   "cell_type": "markdown",
   "id": "222cd7da-e906-4e0a-87ff-a9508684d877",
   "metadata": {},
   "source": [
    "# Лабораторная работа 10\n",
    "# Основы объектно-ориентированного программирования в Python. Проектирование классов"
   ]
  },
  {
   "cell_type": "markdown",
   "id": "fcf489f7-0aca-4832-a834-f7a2006d58b3",
   "metadata": {},
   "source": [
    "Шпак Андрей Валерьевич, 09.08.2022"
   ]
  },
  {
   "cell_type": "markdown",
   "id": "881459f7-4e85-4787-b6ab-4472bfa3d950",
   "metadata": {},
   "source": [
    "# Задание 1"
   ]
  },
  {
   "cell_type": "markdown",
   "id": "5e5a9a8b-e06c-4959-abc7-ae0f2931eb23",
   "metadata": {},
   "source": [
    "Проработайте материал лекции, представленный в файле $\\textrm{2022_KM2_T10_OOP_design.html}$."
   ]
  },
  {
   "cell_type": "markdown",
   "id": "7d340232-3a28-4772-be69-ea625af5aaba",
   "metadata": {},
   "source": [
    "## Задание 1.1"
   ]
  },
  {
   "cell_type": "markdown",
   "id": "b7a9d059-88fd-4d15-a971-601c31d6c085",
   "metadata": {},
   "source": [
    "Перенесите в свой блокнот Jupyter Notebook информационную структуру лекций, с указанием номера и темы раздела."
   ]
  },
  {
   "cell_type": "markdown",
   "id": "4f3995fd-aa2e-4c2e-803f-c06049dad626",
   "metadata": {},
   "source": [
    "# Тема 10. Проектирование классов"
   ]
  },
  {
   "cell_type": "markdown",
   "id": "73ebaaf9-a5e7-42fc-9e27-f0eb66c293f4",
   "metadata": {},
   "source": [
    "## 10.1 Композиция"
   ]
  },
  {
   "cell_type": "code",
   "execution_count": null,
   "id": "3497058c-7337-4391-96dc-4811d19a28da",
   "metadata": {},
   "outputs": [],
   "source": []
  },
  {
   "cell_type": "markdown",
   "id": "7347eb3a-b4da-4d4f-a227-bf401e54d00b",
   "metadata": {},
   "source": [
    "## 10.2 Делегирование"
   ]
  },
  {
   "cell_type": "code",
   "execution_count": null,
   "id": "b732f4e0-c16b-4fe5-9357-85b3080302bc",
   "metadata": {},
   "outputs": [],
   "source": []
  },
  {
   "cell_type": "markdown",
   "id": "fbcf9fe8-fc4a-42c5-8f67-6e6e7ed4d0bc",
   "metadata": {},
   "source": [
    "## 10.3 Абстрактный класс"
   ]
  },
  {
   "cell_type": "code",
   "execution_count": null,
   "id": "f5555a26-9857-4f0b-bbfc-42734fdfe7f1",
   "metadata": {},
   "outputs": [],
   "source": []
  },
  {
   "cell_type": "markdown",
   "id": "0a8f11e6-ed73-4b09-9e43-62641bf95f01",
   "metadata": {},
   "source": [
    "## 10.4 Шаблон проектирования: синглтон"
   ]
  },
  {
   "cell_type": "code",
   "execution_count": null,
   "id": "d27e6c75-e43f-4c79-b5e1-eb405577df9c",
   "metadata": {},
   "outputs": [],
   "source": []
  },
  {
   "cell_type": "markdown",
   "id": "1cb79abe-9ce3-41b3-9940-ab141ed0efe4",
   "metadata": {},
   "source": [
    "## 10.5 Классовые методы и статические методы"
   ]
  },
  {
   "cell_type": "code",
   "execution_count": null,
   "id": "6240b032-2ca3-4524-8052-a37c8f29ca84",
   "metadata": {},
   "outputs": [],
   "source": []
  },
  {
   "cell_type": "markdown",
   "id": "8aa17c4d-3a19-4860-a603-61b3fcd36b21",
   "metadata": {},
   "source": [
    "## 10.6 Особенности именования атрибутов и методов"
   ]
  },
  {
   "cell_type": "code",
   "execution_count": null,
   "id": "a1c3a9ce-c16d-486f-a2cc-2007598b0f39",
   "metadata": {},
   "outputs": [],
   "source": []
  },
  {
   "cell_type": "markdown",
   "id": "48d45042-ed45-41b7-8b62-85cab59eba47",
   "metadata": {},
   "source": [
    "## 10.7 Атрибут-свойство"
   ]
  },
  {
   "cell_type": "code",
   "execution_count": null,
   "id": "8e124c31-8caf-4b88-bc87-87d96ddc8de2",
   "metadata": {},
   "outputs": [],
   "source": []
  }
 ],
 "metadata": {
  "kernelspec": {
   "display_name": "Python 3 (ipykernel)",
   "language": "python",
   "name": "python3"
  },
  "language_info": {
   "codemirror_mode": {
    "name": "ipython",
    "version": 3
   },
   "file_extension": ".py",
   "mimetype": "text/x-python",
   "name": "python",
   "nbconvert_exporter": "python",
   "pygments_lexer": "ipython3",
   "version": "3.10.5"
  }
 },
 "nbformat": 4,
 "nbformat_minor": 5
}
