{
 "cells": [
  {
   "cell_type": "markdown",
   "id": "222cd7da-e906-4e0a-87ff-a9508684d877",
   "metadata": {},
   "source": [
    "# Лабораторная работа 10\n",
    "# Основы объектно-ориентированного программирования в Python. Проектирование классов"
   ]
  },
  {
   "cell_type": "markdown",
   "id": "fcf489f7-0aca-4832-a834-f7a2006d58b3",
   "metadata": {},
   "source": [
    "Шпак Андрей Валерьевич, 09.08.2022"
   ]
  },
  {
   "cell_type": "markdown",
   "id": "881459f7-4e85-4787-b6ab-4472bfa3d950",
   "metadata": {},
   "source": [
    "# Задание 1"
   ]
  },
  {
   "cell_type": "markdown",
   "id": "5e5a9a8b-e06c-4959-abc7-ae0f2931eb23",
   "metadata": {},
   "source": [
    "Проработайте материал лекции, представленный в файле $\\textrm{2022_KM2_T10_OOP_design.html}$."
   ]
  },
  {
   "cell_type": "markdown",
   "id": "7d340232-3a28-4772-be69-ea625af5aaba",
   "metadata": {},
   "source": [
    "## Задание 1.1"
   ]
  },
  {
   "cell_type": "markdown",
   "id": "b7a9d059-88fd-4d15-a971-601c31d6c085",
   "metadata": {},
   "source": [
    "Перенесите в свой блокнот Jupyter Notebook информационную структуру лекций, с указанием номера и темы раздела."
   ]
  },
  {
   "cell_type": "markdown",
   "id": "19833489-a7c0-4d75-8f63-62985006176a",
   "metadata": {},
   "source": [
    "## Задание 1.2"
   ]
  },
  {
   "cell_type": "markdown",
   "id": "c4cc319d-d17f-4ee7-9ebc-b642c51b62af",
   "metadata": {},
   "source": [
    "Дополните каждый пример из лекционного материала аналогичным собственный примером и кратким комментарием к нему."
   ]
  },
  {
   "cell_type": "markdown",
   "id": "4f3995fd-aa2e-4c2e-803f-c06049dad626",
   "metadata": {},
   "source": [
    "# Тема 10. Проектирование классов"
   ]
  },
  {
   "cell_type": "markdown",
   "id": "73ebaaf9-a5e7-42fc-9e27-f0eb66c293f4",
   "metadata": {},
   "source": [
    "## 10.1 Композиция"
   ]
  },
  {
   "cell_type": "code",
   "execution_count": 4,
   "id": "3497058c-7337-4391-96dc-4811d19a28da",
   "metadata": {},
   "outputs": [],
   "source": [
    "class Part:\n",
    "    def __init__(self, data):\n",
    "        self.data = data\n",
    "    \n",
    "    def __repr__(self):\n",
    "        return \"Part with data: %s\" % self.data\n",
    "    \n",
    "# определение класса на основе композиции\n",
    "\n",
    "class Whole:\n",
    "    def __init__(self, data1, data2):\n",
    "        self.part1 = Part(data1) # внедренный объект\n",
    "        self.part2 = Part(data2) # внедренный объект\n",
    "        \n",
    "    def __repr__(self):\n",
    "        return \"Whole contains %s and %s \" % (self.part1, self.part2)\n",
    "    \n",
    "    \n",
    "# ВОПРОС: в каком случае необходимо указывать скобки class Part() после имени класса? "
   ]
  },
  {
   "cell_type": "code",
   "execution_count": 5,
   "id": "09d0e5ec-5785-4cb3-9f33-f44b0fade73d",
   "metadata": {},
   "outputs": [
    {
     "data": {
      "text/plain": [
       "Whole contains Part with data: 1 and Part with data: 2 "
      ]
     },
     "execution_count": 5,
     "metadata": {},
     "output_type": "execute_result"
    }
   ],
   "source": [
    "I1 = Whole(1, 2)\n",
    "I1"
   ]
  },
  {
   "cell_type": "code",
   "execution_count": 54,
   "id": "11e4c9d0-9116-4733-bf3e-16d49c8a7fef",
   "metadata": {},
   "outputs": [],
   "source": [
    "# мой пример\n",
    "# получился список из котов\n",
    "# под влиянием бинарного дерева поиска из предыдущей лабораторной\n",
    "# пример для иллюстрации композиции - механизма связывания классов, не похожего на наследование\n",
    "# класс реализует композицию, если экземпляр класса содержит внедренные объекты других классов\n",
    "# объект-контейнер - экземпляр класса, который содержит внедренные объекты других классов\n",
    "# класс Basket при создании экземпляра, инициализирует атрибут экземпляра ссылкой на экземпляр класса EmptyNode\n",
    "# в дальнейшем при добавлении новых котов в корзину, будут создаваться экземпляры класса Cat\n",
    "\n",
    "class Cat:\n",
    "    def __init__(self, age, color, breed, next_cat_in_basket):\n",
    "        self.age = age\n",
    "        self.color = color\n",
    "        self.breed = breed\n",
    "        self.next_cat_in_basket = next_cat_in_basket\n",
    "        \n",
    "    def __repr__(self):\n",
    "        return \"I'm %s %s cat with %s color \\n%s\" % (self.breed, self.age, self.color, self.next_cat_in_basket)\n",
    "    \n",
    "    def add_new_cat(self, age, color, breed):\n",
    "        self.next_cat_in_basket = self.next_cat_in_basket.add_new_cat(age, color, breed)\n",
    "        return self\n",
    "    \n",
    "class Empty_basket:\n",
    "    def __repr__(self):\n",
    "        return \"Empty basket. Let's add a new cat!\"\n",
    "    \n",
    "    def add_new_cat(self, age, color, breed):\n",
    "        return Cat(age, color, breed, self)\n",
    "    \n",
    "class Basket_with_cats:\n",
    "    def __init__(self):\n",
    "        self.whats_the_cat = Empty_basket()\n",
    "    \n",
    "    def __repr__(self):\n",
    "        return repr(self.whats_the_cat)\n",
    "    \n",
    "    def add_new_cat(self, age, color, breed):\n",
    "        self.whats_the_cat = self.whats_the_cat.add_new_cat(age, color, breed) \n"
   ]
  },
  {
   "cell_type": "code",
   "execution_count": 47,
   "id": "4ad98ef7-5a06-42b1-b216-fc931f9a7a32",
   "metadata": {},
   "outputs": [
    {
     "data": {
      "text/plain": [
       "Empty basket. Let's add a new cat!"
      ]
     },
     "execution_count": 47,
     "metadata": {},
     "output_type": "execute_result"
    }
   ],
   "source": [
    "basket = Basket_with_cats()\n",
    "basket"
   ]
  },
  {
   "cell_type": "code",
   "execution_count": 48,
   "id": "a715001e-b68d-4a51-a39d-0d0b7055f9da",
   "metadata": {},
   "outputs": [],
   "source": [
    "basket.add_new_cat('kitty', 'british', 'blue')"
   ]
  },
  {
   "cell_type": "code",
   "execution_count": 49,
   "id": "7328f110-aeb5-473e-875e-563b043149d9",
   "metadata": {},
   "outputs": [
    {
     "data": {
      "text/plain": [
       "I'm blue kitty cat with british color \n",
       "Empty basket. Let's add a new cat!"
      ]
     },
     "execution_count": 49,
     "metadata": {},
     "output_type": "execute_result"
    }
   ],
   "source": [
    "basket"
   ]
  },
  {
   "cell_type": "code",
   "execution_count": 50,
   "id": "e65afbe5-ceeb-410c-83f5-8d2b981b6338",
   "metadata": {},
   "outputs": [],
   "source": [
    "basket.add_new_cat('old', 'scottish', 'yellow')"
   ]
  },
  {
   "cell_type": "code",
   "execution_count": 51,
   "id": "94aab374-0184-48d5-9651-d6291a75dd3d",
   "metadata": {},
   "outputs": [
    {
     "data": {
      "text/plain": [
       "I'm blue kitty cat with british color \n",
       "I'm yellow old cat with scottish color \n",
       "Empty basket. Let's add a new cat!"
      ]
     },
     "execution_count": 51,
     "metadata": {},
     "output_type": "execute_result"
    }
   ],
   "source": [
    "basket"
   ]
  },
  {
   "cell_type": "code",
   "execution_count": 52,
   "id": "08e5edab-50d4-4fdd-9732-c5ac33b8494a",
   "metadata": {},
   "outputs": [],
   "source": [
    "basket.add_new_cat('young', 'siberian', 'green')"
   ]
  },
  {
   "cell_type": "code",
   "execution_count": 53,
   "id": "bd646948-2c6c-4c0e-ab8c-6b0f11044178",
   "metadata": {},
   "outputs": [
    {
     "data": {
      "text/plain": [
       "I'm blue kitty cat with british color \n",
       "I'm yellow old cat with scottish color \n",
       "I'm green young cat with siberian color \n",
       "Empty basket. Let's add a new cat!"
      ]
     },
     "execution_count": 53,
     "metadata": {},
     "output_type": "execute_result"
    }
   ],
   "source": [
    "basket"
   ]
  },
  {
   "cell_type": "markdown",
   "id": "7347eb3a-b4da-4d4f-a227-bf401e54d00b",
   "metadata": {},
   "source": [
    "## 10.2 Делегирование"
   ]
  },
  {
   "cell_type": "code",
   "execution_count": 57,
   "id": "b732f4e0-c16b-4fe5-9357-85b3080302bc",
   "metadata": {},
   "outputs": [
    {
     "name": "stdout",
     "output_type": "stream",
     "text": [
      "Trace:  pop\n",
      "Trace:  append\n"
     ]
    },
    {
     "data": {
      "text/plain": [
       "[1, 2, 10]"
      ]
     },
     "execution_count": 57,
     "metadata": {},
     "output_type": "execute_result"
    }
   ],
   "source": [
    "class Wrapper:\n",
    "    def __init__(self, object):\n",
    "        self.wrapped = object\n",
    "    \n",
    "    def __getattr__(self, attrname):\n",
    "        print('Trace: ', attrname)\n",
    "        return getattr(self.wrapped, attrname)\n",
    "    \n",
    "x = Wrapper([1,2,3])\n",
    "x.pop(); x.append(10); x.wrapped\n",
    "\n",
    "# ВОПРОС: не понимаю, как тут перегружен __getattr__ и что он делает"
   ]
  },
  {
   "cell_type": "code",
   "execution_count": 81,
   "id": "3986d6da-826a-4d28-8388-ca21f8564f6d",
   "metadata": {},
   "outputs": [],
   "source": [
    "# мой пример\n",
    "# просто перегрузил метод __init__ в делегирующем классе\n",
    "# делегирование - разновидность композиции для создания класса-оболочки (Wrapper),\n",
    "# когда экземпляр класса-оболочки содержит единственный внедренный объект (wrapped)\n",
    "# большая часть интерфейса внедренного объекта сохраняется и дополняется\n",
    "\n",
    "class Hello_wrapper:\n",
    "    def __init__(self, object):\n",
    "        if isinstance(object, str):\n",
    "            self.wrapped = \"hello \" + object + \" world\"\n",
    "        elif isinstance(object, list):       \n",
    "            self.wrapped = [\"hello\"] + object + [\"world\"]\n",
    "        elif isinstance(object, dict):\n",
    "            object[\"hello\"] = \"world\"\n",
    "            self.wrapped = object\n",
    "        elif isinstance(object, set):\n",
    "            self.wrapped = object | {\"hello\", \"world\"}\n",
    "        else:\n",
    "            self.wrapped = \"Also hello for tuples and nums\""
   ]
  },
  {
   "cell_type": "code",
   "execution_count": 70,
   "id": "93dcbb89-a153-4f27-925f-7025980b6757",
   "metadata": {},
   "outputs": [
    {
     "data": {
      "text/plain": [
       "'hello 123 world'"
      ]
     },
     "execution_count": 70,
     "metadata": {},
     "output_type": "execute_result"
    }
   ],
   "source": [
    "hello1 = Hello_wrapper(\"123\")\n",
    "hello1.wrapped"
   ]
  },
  {
   "cell_type": "code",
   "execution_count": 71,
   "id": "bbc92c7e-f5e7-4ab4-bdd9-45d306bd9302",
   "metadata": {},
   "outputs": [
    {
     "data": {
      "text/plain": [
       "['hello', 123, 'world']"
      ]
     },
     "execution_count": 71,
     "metadata": {},
     "output_type": "execute_result"
    }
   ],
   "source": [
    "hello2 = Hello_wrapper([123])\n",
    "hello2.wrapped"
   ]
  },
  {
   "cell_type": "code",
   "execution_count": 77,
   "id": "6e9cc7b1-9335-47fc-ae6c-f8d8a8c7bd43",
   "metadata": {},
   "outputs": [
    {
     "data": {
      "text/plain": [
       "{'abc': 123, 'hello': 'world'}"
      ]
     },
     "execution_count": 77,
     "metadata": {},
     "output_type": "execute_result"
    }
   ],
   "source": [
    "hello3 = Hello_wrapper({\"abc\":123})\n",
    "hello3.wrapped"
   ]
  },
  {
   "cell_type": "code",
   "execution_count": 78,
   "id": "29b5d4fd-7969-4db8-a75c-eb6cea6d8d1a",
   "metadata": {},
   "outputs": [
    {
     "data": {
      "text/plain": [
       "{123, 'hello', 'world'}"
      ]
     },
     "execution_count": 78,
     "metadata": {},
     "output_type": "execute_result"
    }
   ],
   "source": [
    "hello4 = Hello_wrapper({123})\n",
    "hello4.wrapped"
   ]
  },
  {
   "cell_type": "code",
   "execution_count": 79,
   "id": "ac61e5a6-5f61-46c4-8ad2-1a736a86aa27",
   "metadata": {},
   "outputs": [
    {
     "data": {
      "text/plain": [
       "'Also hello for tuples and nums'"
      ]
     },
     "execution_count": 79,
     "metadata": {},
     "output_type": "execute_result"
    }
   ],
   "source": [
    "hello5 = Hello_wrapper(123)\n",
    "hello5.wrapped"
   ]
  },
  {
   "cell_type": "code",
   "execution_count": 80,
   "id": "53c643c8-2da9-4197-93d5-c1e1b8798574",
   "metadata": {},
   "outputs": [
    {
     "data": {
      "text/plain": [
       "'Also hello for tuples and nums'"
      ]
     },
     "execution_count": 80,
     "metadata": {},
     "output_type": "execute_result"
    }
   ],
   "source": [
    "hello5 = Hello_wrapper(123,)\n",
    "hello5.wrapped"
   ]
  },
  {
   "cell_type": "markdown",
   "id": "fbcf9fe8-fc4a-42c5-8f67-6e6e7ed4d0bc",
   "metadata": {},
   "source": [
    "## 10.3 Абстрактный класс"
   ]
  },
  {
   "cell_type": "code",
   "execution_count": 93,
   "id": "f5555a26-9857-4f0b-bbfc-42734fdfe7f1",
   "metadata": {},
   "outputs": [
    {
     "name": "stdout",
     "output_type": "stream",
     "text": [
      "Action in Provider\n"
     ]
    }
   ],
   "source": [
    "class Super:\n",
    "    def delegate(self):\n",
    "        self.action()\n",
    "        \n",
    "    # метод-заглушка с выдачей сообщения об ошибке, если метод не переопределен в подклассах\n",
    "    def action(self):\n",
    "        assert False, \"Action must be defined!\"\n",
    "        \n",
    "class Provider(Super):\n",
    "    def action(self):\n",
    "        print(\"Action in Provider\")\n",
    "\n",
    "x = Provider()\n",
    "x.delegate()\n",
    "\n",
    "# ВОПРОС: в чем смысл заглушки абстрактного класса, если она работает только при вызове этого метода у экземпляра абстрактного класса?\n",
    "# ВОПРОС: зачем в Provider'е в метод action был передан self?"
   ]
  },
  {
   "cell_type": "code",
   "execution_count": 94,
   "id": "04123101-75b6-469a-81d7-8f3eecd797ce",
   "metadata": {},
   "outputs": [],
   "source": [
    "# три подкласса Dog, Cat, Cow класса Animal определяют неопределенный метод абстрактного класса\n",
    "# подкласс Human нужен только чтобы посмотреть, что будет\n",
    "# абстрактный класс - это класс, который содержит абстрактный метод\n",
    "# в теле абстрактного метода вызывается метод, не определенный в дереве наследования: ни внутри самого класса, ни внутри его суперклассов\n",
    "# вызов абстрактного метода для экземпляра, созданного на основе абстрактного класса, приведет к ошибке.\n",
    "\n",
    "\n",
    "\n",
    "class Animal:\n",
    "    def delegate(self):\n",
    "        self.sound()\n",
    "        \n",
    "    def sound(self):\n",
    "        assert False, \"Sound is not defined\"\n",
    "        \n",
    "class Dog(Super):\n",
    "    def sound(self):\n",
    "        print(\"bark\")\n",
    "        \n",
    "class Cat(Super):\n",
    "    def sound(self):\n",
    "        print(\"meow\")\n",
    "        \n",
    "class Cow(Super):\n",
    "    def sound(self):\n",
    "        print(\"muuuu\")\n",
    "        \n",
    "class Human(Super):\n",
    "    def speech(self):\n",
    "        print(\"Hello world\")"
   ]
  },
  {
   "cell_type": "code",
   "execution_count": 86,
   "id": "5edddbc1-8b74-40a2-9bdc-5f171d35ef03",
   "metadata": {},
   "outputs": [
    {
     "name": "stdout",
     "output_type": "stream",
     "text": [
      "bark\n"
     ]
    }
   ],
   "source": [
    "dog = Dog()\n",
    "dog.sound()"
   ]
  },
  {
   "cell_type": "code",
   "execution_count": 88,
   "id": "0dda5a2d-53fc-4a8f-998a-40368126472e",
   "metadata": {},
   "outputs": [
    {
     "name": "stdout",
     "output_type": "stream",
     "text": [
      "meow\n"
     ]
    }
   ],
   "source": [
    "cat = Cat()\n",
    "cat.sound()"
   ]
  },
  {
   "cell_type": "code",
   "execution_count": 89,
   "id": "37d5087f-af03-4eab-9824-ae8f1fbdcadd",
   "metadata": {},
   "outputs": [
    {
     "name": "stdout",
     "output_type": "stream",
     "text": [
      "muuuu\n"
     ]
    }
   ],
   "source": [
    "cow = Cow()\n",
    "cow.sound()"
   ]
  },
  {
   "cell_type": "code",
   "execution_count": 90,
   "id": "c563f06a-62d4-481f-a90b-d3886ad8c842",
   "metadata": {},
   "outputs": [
    {
     "name": "stdout",
     "output_type": "stream",
     "text": [
      "Hello world\n"
     ]
    },
    {
     "ename": "AttributeError",
     "evalue": "'Human' object has no attribute 'sound'",
     "output_type": "error",
     "traceback": [
      "\u001b[1;31m---------------------------------------------------------------------------\u001b[0m",
      "\u001b[1;31mAttributeError\u001b[0m                            Traceback (most recent call last)",
      "Input \u001b[1;32mIn [90]\u001b[0m, in \u001b[0;36m<cell line: 3>\u001b[1;34m()\u001b[0m\n\u001b[0;32m      1\u001b[0m human \u001b[38;5;241m=\u001b[39m Human()\n\u001b[0;32m      2\u001b[0m human\u001b[38;5;241m.\u001b[39mspeech()\n\u001b[1;32m----> 3\u001b[0m \u001b[43mhuman\u001b[49m\u001b[38;5;241;43m.\u001b[39;49m\u001b[43msound\u001b[49m()\n",
      "\u001b[1;31mAttributeError\u001b[0m: 'Human' object has no attribute 'sound'"
     ]
    }
   ],
   "source": [
    "human = Human()\n",
    "human.speech()\n",
    "human.sound()"
   ]
  },
  {
   "cell_type": "code",
   "execution_count": 91,
   "id": "e0e8175a-ef5a-4f94-a6dc-84a36f61aa44",
   "metadata": {},
   "outputs": [
    {
     "ename": "AssertionError",
     "evalue": "Sound is not defined",
     "output_type": "error",
     "traceback": [
      "\u001b[1;31m---------------------------------------------------------------------------\u001b[0m",
      "\u001b[1;31mAssertionError\u001b[0m                            Traceback (most recent call last)",
      "Input \u001b[1;32mIn [91]\u001b[0m, in \u001b[0;36m<cell line: 2>\u001b[1;34m()\u001b[0m\n\u001b[0;32m      1\u001b[0m animal \u001b[38;5;241m=\u001b[39m Animal()\n\u001b[1;32m----> 2\u001b[0m \u001b[43manimal\u001b[49m\u001b[38;5;241;43m.\u001b[39;49m\u001b[43msound\u001b[49m\u001b[43m(\u001b[49m\u001b[43m)\u001b[49m\n",
      "Input \u001b[1;32mIn [84]\u001b[0m, in \u001b[0;36mAnimal.sound\u001b[1;34m(self)\u001b[0m\n\u001b[0;32m      5\u001b[0m \u001b[38;5;28;01mdef\u001b[39;00m \u001b[38;5;21msound\u001b[39m(\u001b[38;5;28mself\u001b[39m):\n\u001b[1;32m----> 6\u001b[0m     \u001b[38;5;28;01massert\u001b[39;00m \u001b[38;5;28;01mFalse\u001b[39;00m, \u001b[38;5;124m\"\u001b[39m\u001b[38;5;124mSound is not defined\u001b[39m\u001b[38;5;124m\"\u001b[39m\n",
      "\u001b[1;31mAssertionError\u001b[0m: Sound is not defined"
     ]
    }
   ],
   "source": [
    "animal = Animal()\n",
    "animal.sound()"
   ]
  },
  {
   "cell_type": "code",
   "execution_count": 95,
   "id": "4c7c646f-24e5-4711-ba2f-6db564b74ef0",
   "metadata": {},
   "outputs": [
    {
     "name": "stdout",
     "output_type": "stream",
     "text": [
      "['ABCMeta', 'Complex', 'Integral', 'Number', 'Rational', 'Real', '__all__', '__builtins__', '__cached__', '__doc__', '__file__', '__loader__', '__name__', '__package__', '__spec__', 'abstractmethod']\n"
     ]
    }
   ],
   "source": [
    "import numbers\n",
    "\n",
    "print(dir(numbers))"
   ]
  },
  {
   "cell_type": "code",
   "execution_count": 96,
   "id": "cc086175-1a7d-419e-9e93-d54a9ce503e0",
   "metadata": {},
   "outputs": [
    {
     "data": {
      "text/plain": [
       "\u001b[1;31mInit signature:\u001b[0m \u001b[0mnumbers\u001b[0m\u001b[1;33m.\u001b[0m\u001b[0mNumber\u001b[0m\u001b[1;33m(\u001b[0m\u001b[1;33m)\u001b[0m\u001b[1;33m\u001b[0m\u001b[1;33m\u001b[0m\u001b[0m\n",
       "\u001b[1;31mDocstring:\u001b[0m     \n",
       "All numbers inherit from this class.\n",
       "\n",
       "If you just want to check if an argument x is a number, without\n",
       "caring what kind, use isinstance(x, Number).\n",
       "\u001b[1;31mFile:\u001b[0m           c:\\users\\andrey\\appdata\\local\\programs\\python\\python310\\lib\\numbers.py\n",
       "\u001b[1;31mType:\u001b[0m           ABCMeta\n",
       "\u001b[1;31mSubclasses:\u001b[0m     Complex\n"
      ]
     },
     "metadata": {},
     "output_type": "display_data"
    }
   ],
   "source": [
    "numbers.Number?"
   ]
  },
  {
   "cell_type": "code",
   "execution_count": 97,
   "id": "5223126a-42b4-438d-b569-15a1c0ccd19e",
   "metadata": {},
   "outputs": [
    {
     "ename": "TypeError",
     "evalue": "Can't instantiate abstract class Complex with abstract methods __abs__, __add__, __complex__, __eq__, __mul__, __neg__, __pos__, __pow__, __radd__, __rmul__, __rpow__, __rtruediv__, __truediv__, conjugate, imag, real",
     "output_type": "error",
     "traceback": [
      "\u001b[1;31m---------------------------------------------------------------------------\u001b[0m",
      "\u001b[1;31mTypeError\u001b[0m                                 Traceback (most recent call last)",
      "Input \u001b[1;32mIn [97]\u001b[0m, in \u001b[0;36m<cell line: 1>\u001b[1;34m()\u001b[0m\n\u001b[1;32m----> 1\u001b[0m I1 \u001b[38;5;241m=\u001b[39m \u001b[43mnumbers\u001b[49m\u001b[38;5;241;43m.\u001b[39;49m\u001b[43mComplex\u001b[49m\u001b[43m(\u001b[49m\u001b[43m)\u001b[49m\n",
      "\u001b[1;31mTypeError\u001b[0m: Can't instantiate abstract class Complex with abstract methods __abs__, __add__, __complex__, __eq__, __mul__, __neg__, __pos__, __pow__, __radd__, __rmul__, __rpow__, __rtruediv__, __truediv__, conjugate, imag, real"
     ]
    }
   ],
   "source": [
    "I1 = numbers.Complex()"
   ]
  },
  {
   "cell_type": "code",
   "execution_count": 98,
   "id": "b869f0ea-ec6d-4564-910f-b1d561c406f8",
   "metadata": {},
   "outputs": [
    {
     "name": "stdout",
     "output_type": "stream",
     "text": [
      "['AsyncGenerator', 'AsyncIterable', 'AsyncIterator', 'Awaitable', 'ByteString', 'Callable', 'Collection', 'Container', 'Coroutine', 'Generator', 'Hashable', 'ItemsView', 'Iterable', 'Iterator', 'KeysView', 'Mapping', 'MappingView', 'MutableMapping', 'MutableSequence', 'MutableSet', 'Reversible', 'Sequence', 'Set', 'Sized', 'ValuesView', '_CallableGenericAlias', '__all__', '__builtins__', '__cached__', '__doc__', '__file__', '__loader__', '__name__', '__package__', '__spec__']\n"
     ]
    }
   ],
   "source": [
    "import collections.abc as abc\n",
    "\n",
    "print(dir(abc))"
   ]
  },
  {
   "cell_type": "code",
   "execution_count": 100,
   "id": "74a857f5-618f-4a3a-aa7a-83ff180698d7",
   "metadata": {},
   "outputs": [
    {
     "name": "stdout",
     "output_type": "stream",
     "text": [
      "Help on class Iterable in module collections.abc:\n",
      "\n",
      "class Iterable(builtins.object)\n",
      " |  Methods defined here:\n",
      " |  \n",
      " |  __iter__(self)\n",
      " |  \n",
      " |  ----------------------------------------------------------------------\n",
      " |  Class methods defined here:\n",
      " |  \n",
      " |  __class_getitem__ = GenericAlias(...) from abc.ABCMeta\n",
      " |      Represent a PEP 585 generic type\n",
      " |      \n",
      " |      E.g. for t = list[int], t.__origin__ is list and t.__args__ is (int,).\n",
      " |  \n",
      " |  __subclasshook__(C) from abc.ABCMeta\n",
      " |      Abstract classes can override this to customize issubclass().\n",
      " |      \n",
      " |      This is invoked early on by abc.ABCMeta.__subclasscheck__().\n",
      " |      It should return True, False or NotImplemented.  If it returns\n",
      " |      NotImplemented, the normal algorithm is used.  Otherwise, it\n",
      " |      overrides the normal algorithm (and the outcome is cached).\n",
      " |  \n",
      " |  ----------------------------------------------------------------------\n",
      " |  Data and other attributes defined here:\n",
      " |  \n",
      " |  __abstractmethods__ = frozenset({'__iter__'})\n",
      "\n"
     ]
    }
   ],
   "source": [
    "help(abc.Iterable)"
   ]
  },
  {
   "cell_type": "code",
   "execution_count": 104,
   "id": "af5a3e29-5d6d-434e-b8a5-095270931beb",
   "metadata": {},
   "outputs": [
    {
     "name": "stdout",
     "output_type": "stream",
     "text": [
      "Help on class Iterator in module collections.abc:\n",
      "\n",
      "class Iterator(Iterable)\n",
      " |  Method resolution order:\n",
      " |      Iterator\n",
      " |      Iterable\n",
      " |      builtins.object\n",
      " |  \n",
      " |  Methods defined here:\n",
      " |  \n",
      " |  __iter__(self)\n",
      " |  \n",
      " |  __next__(self)\n",
      " |      Return the next item from the iterator. When exhausted, raise StopIteration\n",
      " |  \n",
      " |  ----------------------------------------------------------------------\n",
      " |  Class methods defined here:\n",
      " |  \n",
      " |  __subclasshook__(C) from abc.ABCMeta\n",
      " |      Abstract classes can override this to customize issubclass().\n",
      " |      \n",
      " |      This is invoked early on by abc.ABCMeta.__subclasscheck__().\n",
      " |      It should return True, False or NotImplemented.  If it returns\n",
      " |      NotImplemented, the normal algorithm is used.  Otherwise, it\n",
      " |      overrides the normal algorithm (and the outcome is cached).\n",
      " |  \n",
      " |  ----------------------------------------------------------------------\n",
      " |  Data and other attributes defined here:\n",
      " |  \n",
      " |  __abstractmethods__ = frozenset({'__next__'})\n",
      " |  \n",
      " |  ----------------------------------------------------------------------\n",
      " |  Class methods inherited from Iterable:\n",
      " |  \n",
      " |  __class_getitem__ = GenericAlias(...) from abc.ABCMeta\n",
      " |      Represent a PEP 585 generic type\n",
      " |      \n",
      " |      E.g. for t = list[int], t.__origin__ is list and t.__args__ is (int,).\n",
      "\n"
     ]
    }
   ],
   "source": [
    "help(abc.Iterator)"
   ]
  },
  {
   "cell_type": "markdown",
   "id": "0a8f11e6-ed73-4b09-9e43-62641bf95f01",
   "metadata": {},
   "source": [
    "## 10.4 Шаблон проектирования: синглтон"
   ]
  },
  {
   "cell_type": "code",
   "execution_count": 116,
   "id": "d27e6c75-e43f-4c79-b5e1-eb405577df9c",
   "metadata": {},
   "outputs": [],
   "source": [
    "# сначала создается вспомогательный класс Singleton с единственным атрибутом класса _instance и \n",
    "# единственным методом __new__ для создания экземпляра класса Singleton\n",
    "\n",
    "# метод __new__ контролирует, чтобы был создан только один экземпляр класса\n",
    "# атрибут _instance хранит ссылку на единственный экземпляр класса\n",
    "\n",
    "class Singleton:\n",
    "    _instance = None\n",
    "    \n",
    "    def __new__(cls, *args, **kwargs):\n",
    "        if not isinstance(cls._instance, cls):\n",
    "            cls._instance = object.__new__(cls)\n",
    "        return cls._instance\n",
    "    \n",
    "# ВОПРОС: не понимаю этот метод"
   ]
  },
  {
   "cell_type": "code",
   "execution_count": 115,
   "id": "4616f2d8-a9f5-4539-badb-62628ee341aa",
   "metadata": {},
   "outputs": [],
   "source": [
    "# любой класс, который наследуется от Singleton\n",
    "# экземпляр этого класса - единственный объект\n",
    "# класс, на основе которого может быть создан только один экземпляр называется синглтон\n",
    "\n",
    "class Simple(Singleton):\n",
    "    def __init__(self, val1, val2):\n",
    "        self.field1 = val1\n",
    "        self.field2 = val2"
   ]
  },
  {
   "cell_type": "code",
   "execution_count": 114,
   "id": "c2e6d1d3-680f-4841-a453-084ec0e76e4a",
   "metadata": {},
   "outputs": [],
   "source": [
    "# два экземпляра класса Simple\n",
    "\n",
    "obj1 = Simple(2, 3); obj2 = Simple(3, 4)"
   ]
  },
  {
   "cell_type": "code",
   "execution_count": 113,
   "id": "19af4110-cd66-4b1a-a085-cf451fcc0cec",
   "metadata": {},
   "outputs": [
    {
     "data": {
      "text/plain": [
       "True"
      ]
     },
     "execution_count": 113,
     "metadata": {},
     "output_type": "execute_result"
    }
   ],
   "source": [
    "# два экземпляра ссылаются на одну область памяти\n",
    "obj1 is obj2"
   ]
  },
  {
   "cell_type": "code",
   "execution_count": 112,
   "id": "8750e0c3-25e1-495a-a22b-939071dcd293",
   "metadata": {},
   "outputs": [
    {
     "data": {
      "text/plain": [
       "(3, 4)"
      ]
     },
     "execution_count": 112,
     "metadata": {},
     "output_type": "execute_result"
    }
   ],
   "source": [
    "# значения атрибутов для двух экземпляров совпадают и определяются значениями экземпляра, созданного последним\n",
    "obj1.field1, obj1.field2"
   ]
  },
  {
   "cell_type": "code",
   "execution_count": 133,
   "id": "5dbf51c1-762e-43a5-b7ba-939ac1f2c4c7",
   "metadata": {},
   "outputs": [],
   "source": [
    "# класс, который наследуется от Singlton\n",
    "# у этого класса только единственный экземпляр\n",
    "\n",
    "class Cup(Singleton):\n",
    "    def __init__(self, content):\n",
    "        self.content = content\n",
    "        \n",
    "    def __repr__(self):\n",
    "        return \"I am a cup of \" + self.content"
   ]
  },
  {
   "cell_type": "code",
   "execution_count": 134,
   "id": "766b868b-1167-419b-855c-805ba26cbf70",
   "metadata": {},
   "outputs": [
    {
     "data": {
      "text/plain": [
       "I am a cup of coffie"
      ]
     },
     "execution_count": 134,
     "metadata": {},
     "output_type": "execute_result"
    }
   ],
   "source": [
    "# проверяю утыерждение\n",
    "\n",
    "cup1 = Cup('coffie')\n",
    "cup1"
   ]
  },
  {
   "cell_type": "code",
   "execution_count": 132,
   "id": "2cd7ecfc-e301-4048-9bb1-92a59cbd4b91",
   "metadata": {},
   "outputs": [
    {
     "data": {
      "text/plain": [
       "I am a cup of tea"
      ]
     },
     "execution_count": 132,
     "metadata": {},
     "output_type": "execute_result"
    }
   ],
   "source": [
    "cup2 = Cup('tea')\n",
    "cup1"
   ]
  },
  {
   "cell_type": "markdown",
   "id": "1cb79abe-9ce3-41b3-9940-ab141ed0efe4",
   "metadata": {},
   "source": [
    "## 10.5 Классовые методы и статические методы"
   ]
  },
  {
   "cell_type": "code",
   "execution_count": 3,
   "id": "6240b032-2ca3-4524-8052-a37c8f29ca84",
   "metadata": {},
   "outputs": [
    {
     "data": {
      "text/plain": [
       "(('Class1', object), ('Class2', __main__.Class1))"
      ]
     },
     "execution_count": 3,
     "metadata": {},
     "output_type": "execute_result"
    }
   ],
   "source": [
    "class Class1:\n",
    "    @classmethod\n",
    "    def name(cls):\n",
    "        return cls.__name__, cls.__base__\n",
    "    \n",
    "class Class2(Class1):\n",
    "    ...\n",
    "\n",
    "Class1.name(), Class2.name()\n",
    "\n",
    "# статический метод - метод, который вызывается как для объекта класса, так и для экземпляра класса, не связывается с объектом, на котором был вызван\n",
    "# не содержит автоматически заполняемого первого аргумента для связывания с объектом, на котором метод был вызван\n",
    "# это оббычная функция, которая располагается в пространстве имен класса\n",
    "# для определения статического метода используется декоратор @classmethod перед оператором def\n",
    "\n",
    "# ВОПРОС: а если не будет декоратора и автоматически запоняемого первого документа, то что это, метод или функция?"
   ]
  },
  {
   "cell_type": "code",
   "execution_count": 4,
   "id": "a280214d-0c4d-49d4-824e-497259510a8f",
   "metadata": {},
   "outputs": [
    {
     "data": {
      "text/plain": [
       "('static method', 'static method')"
      ]
     },
     "execution_count": 4,
     "metadata": {},
     "output_type": "execute_result"
    }
   ],
   "source": [
    "class Class1:\n",
    "    @staticmethod\n",
    "    def name():\n",
    "        return \"static method\"\n",
    "\n",
    "Class1.name(), Class1().name()"
   ]
  },
  {
   "cell_type": "code",
   "execution_count": 5,
   "id": "d21316f9-21a4-4894-8914-634dc08330e2",
   "metadata": {},
   "outputs": [],
   "source": [
    "# определение классов с различными способами создания экземпляров - одно из применений статических и классовых методов\n",
    "\n",
    "import time\n",
    "\n",
    "class Date():\n",
    "    def __init__(self, day, month, year):\n",
    "        self.day = day; self.month = month; self.year = year\n",
    "        \n",
    "    def __repr__(self):\n",
    "        return \"%s.%s.%s\" % (self.day, self.month, self.year)\n",
    "    \n",
    "    @staticmethod\n",
    "    def now():\n",
    "        t = time.localtime()\n",
    "        return Date(t.tm_mday, t.tm_mon, t.tm_year)"
   ]
  },
  {
   "cell_type": "code",
   "execution_count": 6,
   "id": "331f5abe-7ee7-4b70-bf4e-cde367f69c52",
   "metadata": {},
   "outputs": [
    {
     "data": {
      "text/plain": [
       "(10.11.2012, 10.8.2022)"
      ]
     },
     "execution_count": 6,
     "metadata": {},
     "output_type": "execute_result"
    }
   ],
   "source": [
    "date1 = Date(10,11,2012); date2 = Date.now()\n",
    "date1, date2"
   ]
  },
  {
   "cell_type": "code",
   "execution_count": 7,
   "id": "cc7948ef-de71-49c6-9481-2f46016df591",
   "metadata": {},
   "outputs": [],
   "source": [
    "# альтернативное определение класса можно реализовать с использованием классового метода\n",
    "\n",
    "class Date():\n",
    "    def __init__(self, day, month, year):\n",
    "        self.day = day; self.month = month; self.year = year\n",
    "        \n",
    "    def __repr__(self):\n",
    "        return \"%s.%s.%s\" % (self.day, self.month, self.year)\n",
    "    \n",
    "    @classmethod\n",
    "    def now(cls):\n",
    "        t = time.localtime()\n",
    "        return cls(t.tm_mday, t.tm_mon, t.tm_year)"
   ]
  },
  {
   "cell_type": "code",
   "execution_count": 8,
   "id": "5c3213b6-f076-4fb4-b85e-566a9009c0f7",
   "metadata": {},
   "outputs": [
    {
     "data": {
      "text/plain": [
       "(10.11.2012, 10.8.2022)"
      ]
     },
     "execution_count": 8,
     "metadata": {},
     "output_type": "execute_result"
    }
   ],
   "source": [
    "date1 = Date(10,11,2012); date2 = Date.now()\n",
    "date1, date2"
   ]
  },
  {
   "cell_type": "code",
   "execution_count": 26,
   "id": "1e999103-cc3e-4b29-bc83-c73a8ef5d5a5",
   "metadata": {
    "tags": []
   },
   "outputs": [
    {
     "data": {
      "text/plain": [
       "10 - 8 - 2022"
      ]
     },
     "execution_count": 26,
     "metadata": {},
     "output_type": "execute_result"
    }
   ],
   "source": [
    "# благодаря такому определению, метод now будет корректно отрабатывать для подклассов класса Date\n",
    "\n",
    "class MyDate(Date):\n",
    "    def __repr__(self):\n",
    "        return \"%s - %s - %s\" % (self.day, self.month, self.year)\n",
    "\n",
    "MyDate.now()"
   ]
  },
  {
   "cell_type": "code",
   "execution_count": 81,
   "id": "8fd4890c-f889-4c0d-8fa9-ed65dfb040b4",
   "metadata": {},
   "outputs": [],
   "source": [
    "import random as rnd\n",
    "\n",
    "class Rock:\n",
    "    def __init__(self, color, weight, minerals, durability_pers):\n",
    "        self.color = color\n",
    "        self.weight = weight\n",
    "        self.minerals = minerals\n",
    "        self.durability_pers = durability_pers\n",
    "        \n",
    "    def __repr__(self):\n",
    "        return \"It's a %s %s with %s gm weight\" % (self.color, self.durability(), self.weight)\n",
    "        \n",
    "    def durability(self):\n",
    "        if self.durability_pers < 10:\n",
    "            return \"sand\"\n",
    "        elif self.durability_pers < 30:\n",
    "            return \"moss dilapidated rock pieces \"\n",
    "        elif self.durability_pers < 70:\n",
    "            return \"cracked rock\"\n",
    "        else:\n",
    "            return \"nice rock\"\n",
    "        \n",
    "    def whats_inside_that_rock(self):\n",
    "        minerals = \"\"\n",
    "        for i in self.minerals:\n",
    "            minerals += i + \"\\n\"\n",
    "        return \"In this %s we can see the blotches of: \\n%s\" % (self.durability(), minerals)\n",
    "    \n",
    "    @staticmethod\n",
    "    def crashed_rock(color, weight, minerals):\n",
    "        return Rock(color, weight, minerals, rnd.randint(20, 70))"
   ]
  },
  {
   "cell_type": "code",
   "execution_count": 82,
   "id": "762532d8-0014-4f23-9bf5-11c74e775fda",
   "metadata": {},
   "outputs": [
    {
     "data": {
      "text/plain": [
       "It's a black cracked rock with 100 gm weight"
      ]
     },
     "execution_count": 82,
     "metadata": {},
     "output_type": "execute_result"
    }
   ],
   "source": [
    "rock1 = Rock(\"black\", 100, [\"quartz\", \"crystal clasters\", \"black biomite mica\"], 50)\n",
    "rock1"
   ]
  },
  {
   "cell_type": "code",
   "execution_count": 83,
   "id": "5f883d1f-f172-4f9c-ad45-6ee5b7b84b9a",
   "metadata": {},
   "outputs": [
    {
     "name": "stdout",
     "output_type": "stream",
     "text": [
      "In this cracked rock we can see the blotches of: \n",
      "quartz\n",
      "crystal clasters\n",
      "black biomite mica\n",
      "\n"
     ]
    }
   ],
   "source": [
    "print(rock1.whats_inside_that_rock())"
   ]
  },
  {
   "cell_type": "code",
   "execution_count": 58,
   "id": "0ad771d1-e240-46c5-8271-9fc596ebf637",
   "metadata": {},
   "outputs": [],
   "source": [
    "rock2 = Rock.crashed_rock(\"red\", 123, [\"hematite\", \"selenite\", \"apatite\"])"
   ]
  },
  {
   "cell_type": "code",
   "execution_count": 59,
   "id": "36ff037c-3ff4-4bc0-a77c-e3f43ae867cc",
   "metadata": {},
   "outputs": [
    {
     "data": {
      "text/plain": [
       "It's a red cracked rock with 123 gm weight"
      ]
     },
     "execution_count": 59,
     "metadata": {},
     "output_type": "execute_result"
    }
   ],
   "source": [
    "rock2"
   ]
  },
  {
   "cell_type": "code",
   "execution_count": 84,
   "id": "3286fccc-12e7-4421-aff2-8c7a801f1145",
   "metadata": {},
   "outputs": [],
   "source": [
    "class Rock:\n",
    "    def __init__(self, color, weight, minerals, durability_pers):\n",
    "        self.color = color\n",
    "        self.weight = weight\n",
    "        self.minerals = minerals\n",
    "        self.durability_pers = durability_pers\n",
    "        \n",
    "    def __repr__(self):\n",
    "        return \"It's a %s %s with %s gm weight\" % (self.color, self.durability(), self.weight)\n",
    "        \n",
    "    def durability(self):\n",
    "        if self.durability_pers < 10:\n",
    "            return \"sand\"\n",
    "        elif self.durability_pers < 30:\n",
    "            return \"moss dilapidated rock pieces \"\n",
    "        elif self.durability_pers < 70:\n",
    "            return \"cracked rock\"\n",
    "        else:\n",
    "            return \"nice rock\"\n",
    "        \n",
    "    def whats_inside_that_rock(self):\n",
    "        minerals = \"\"\n",
    "        for i in self.minerals:\n",
    "            minerals += i + \"\\n\"\n",
    "        return \"In this %s we can see the blotches of: \\n%s\" % (self.durability(), minerals)\n",
    "    \n",
    "    @classmethod\n",
    "    def crashed_rock(cls, color, weight, minerals):\n",
    "        return cls(color, weight, minerals, rnd.randint(20, 70))"
   ]
  },
  {
   "cell_type": "code",
   "execution_count": 86,
   "id": "5ed7c1ff-9e05-49f9-b40b-8b4a1fb6e999",
   "metadata": {},
   "outputs": [
    {
     "data": {
      "text/plain": [
       "Galena green cracked rock with 321 gm weight"
      ]
     },
     "execution_count": 86,
     "metadata": {},
     "output_type": "execute_result"
    }
   ],
   "source": [
    "class Galena(Rock):\n",
    "    def __repr__(self):\n",
    "        return \"Galena %s %s with %s gm weight\" % (self.color, self.durability(), self.weight)\n",
    "    \n",
    "rock3 = Galena.crashed_rock(\"green\", 321, [\"topaz\", \"fluorite\"])\n",
    "rock3"
   ]
  },
  {
   "cell_type": "code",
   "execution_count": null,
   "id": "bc897177-5afe-4d58-aac5-5923c8828d0b",
   "metadata": {},
   "outputs": [],
   "source": []
  },
  {
   "cell_type": "markdown",
   "id": "8aa17c4d-3a19-4860-a603-61b3fcd36b21",
   "metadata": {},
   "source": [
    "## 10.6 Особенности именования атрибутов и методов"
   ]
  },
  {
   "cell_type": "code",
   "execution_count": 10,
   "id": "a1c3a9ce-c16d-486f-a2cc-2007598b0f39",
   "metadata": {},
   "outputs": [
    {
     "ename": "AttributeError",
     "evalue": "'Class1' object has no attribute '__name'",
     "output_type": "error",
     "traceback": [
      "\u001b[1;31m---------------------------------------------------------------------------\u001b[0m",
      "\u001b[1;31mAttributeError\u001b[0m                            Traceback (most recent call last)",
      "Input \u001b[1;32mIn [10]\u001b[0m, in \u001b[0;36m<cell line: 8>\u001b[1;34m()\u001b[0m\n\u001b[0;32m      5\u001b[0m     __name \u001b[38;5;241m=\u001b[39m \u001b[38;5;28;01mNone\u001b[39;00m\n\u001b[0;32m      7\u001b[0m I1 \u001b[38;5;241m=\u001b[39m Class1()\n\u001b[1;32m----> 8\u001b[0m \u001b[43mI1\u001b[49m\u001b[38;5;241;43m.\u001b[39;49m\u001b[43m__name\u001b[49m\n",
      "\u001b[1;31mAttributeError\u001b[0m: 'Class1' object has no attribute '__name'"
     ]
    }
   ],
   "source": [
    "# имена атрибутов внутри оператора class, начинающиеся с двух операторов подчеркивания, но не заканчиваются ими, \n",
    "# автоматически расширяются, чтобы содержать впереди имя класса\n",
    "\n",
    "class Class1:\n",
    "    __name = None\n",
    "\n",
    "I1 = Class1()\n",
    "I1.__name"
   ]
  },
  {
   "cell_type": "code",
   "execution_count": 11,
   "id": "652946ce-60fb-4e5e-94e8-e44374de9316",
   "metadata": {},
   "outputs": [
    {
     "name": "stdout",
     "output_type": "stream",
     "text": [
      "['_Class1__name', '__class__', '__delattr__', '__dict__', '__dir__', '__doc__', '__eq__', '__format__', '__ge__', '__getattribute__', '__gt__', '__hash__', '__init__', '__init_subclass__', '__le__', '__lt__', '__module__', '__ne__', '__new__', '__reduce__', '__reduce_ex__', '__repr__', '__setattr__', '__sizeof__', '__str__', '__subclasshook__', '__weakref__']\n"
     ]
    }
   ],
   "source": [
    "print(dir(I1))"
   ]
  },
  {
   "cell_type": "code",
   "execution_count": 14,
   "id": "bad0b8f1-5454-4e9a-b3ec-a3c6cef42219",
   "metadata": {},
   "outputs": [
    {
     "name": "stdout",
     "output_type": "stream",
     "text": [
      "None\n"
     ]
    }
   ],
   "source": [
    "# такой механизм делает имена частными именами, уникальными и не конфликтующими с аналогичными именами других классов в дереве наследования\n",
    "\n",
    "class Flower:\n",
    "    __color = None\n",
    "    \n",
    "daisy = Flower()\n",
    "print(daisy._Flower__color)"
   ]
  },
  {
   "cell_type": "markdown",
   "id": "48d45042-ed45-41b7-8b62-85cab59eba47",
   "metadata": {},
   "source": [
    "## 10.7 Атрибут-свойство"
   ]
  },
  {
   "cell_type": "code",
   "execution_count": 15,
   "id": "8e124c31-8caf-4b88-bc87-87d96ddc8de2",
   "metadata": {},
   "outputs": [],
   "source": [
    "# при определении класса можно задать атрибут-свойство, связанный с атрибутом класса или атрибутом экземпляра класса\n",
    "# для определения атрибута-свойства используется класс property: attribute = property(fget, fset, fdel, doc)\n",
    "# для атрибута-свойства attribute можно определить три действия с помощью функций fget, fset, fdel: \n",
    "# доступ к атрибуту fget, изменение значения атрибута fset и удаление переменной атрибута fdel\n",
    "\n",
    "class Class1:\n",
    "    def __init__(self):\n",
    "        self._x = None\n",
    "\n",
    "    def getx(self):\n",
    "        return self._x\n",
    "\n",
    "    def setx(self, value):\n",
    "        self._x = value\n",
    "\n",
    "    def delx(self):\n",
    "        del self._x\n",
    "\n",
    "    x = property(getx, setx, delx, \"I'm the 'x' property.\")"
   ]
  },
  {
   "cell_type": "code",
   "execution_count": 16,
   "id": "c4149c1a-82be-4879-9daf-42272984aced",
   "metadata": {},
   "outputs": [
    {
     "name": "stdout",
     "output_type": "stream",
     "text": [
      "Help on property:\n",
      "\n",
      "    I'm the 'x' property.\n",
      "\n"
     ]
    },
    {
     "data": {
      "text/plain": [
       "5"
      ]
     },
     "execution_count": 16,
     "metadata": {},
     "output_type": "execute_result"
    }
   ],
   "source": [
    "# после создания экземпляра класса Class1 можно выполнить доступ к свойству класса x, \n",
    "# связанного с атрибутом класса _x, изменить значение свойства x и удалить атрибут, связанный со свойством класса x\n",
    "\n",
    "I1 = Class1()\n",
    "help(Class1.x)\n",
    "I1.x = 5\n",
    "I1.x"
   ]
  },
  {
   "cell_type": "code",
   "execution_count": 17,
   "id": "f726a7e9-4f4b-42c2-8254-a478feee3c82",
   "metadata": {},
   "outputs": [
    {
     "ename": "AttributeError",
     "evalue": "'Class1' object has no attribute '_x'",
     "output_type": "error",
     "traceback": [
      "\u001b[1;31m---------------------------------------------------------------------------\u001b[0m",
      "\u001b[1;31mAttributeError\u001b[0m                            Traceback (most recent call last)",
      "Input \u001b[1;32mIn [17]\u001b[0m, in \u001b[0;36m<cell line: 2>\u001b[1;34m()\u001b[0m\n\u001b[0;32m      1\u001b[0m \u001b[38;5;28;01mdel\u001b[39;00m I1\u001b[38;5;241m.\u001b[39mx\n\u001b[1;32m----> 2\u001b[0m \u001b[43mI1\u001b[49m\u001b[38;5;241;43m.\u001b[39;49m\u001b[43mx\u001b[49m\n",
      "Input \u001b[1;32mIn [15]\u001b[0m, in \u001b[0;36mClass1.getx\u001b[1;34m(self)\u001b[0m\n\u001b[0;32m     10\u001b[0m \u001b[38;5;28;01mdef\u001b[39;00m \u001b[38;5;21mgetx\u001b[39m(\u001b[38;5;28mself\u001b[39m):\n\u001b[1;32m---> 11\u001b[0m     \u001b[38;5;28;01mreturn\u001b[39;00m \u001b[38;5;28;43mself\u001b[39;49m\u001b[38;5;241;43m.\u001b[39;49m\u001b[43m_x\u001b[49m\n",
      "\u001b[1;31mAttributeError\u001b[0m: 'Class1' object has no attribute '_x'"
     ]
    }
   ],
   "source": [
    "del I1.x\n",
    "I1.x"
   ]
  },
  {
   "cell_type": "code",
   "execution_count": 19,
   "id": "f95b66da-7323-469a-a2e0-d61125d2ad8e",
   "metadata": {},
   "outputs": [],
   "source": [
    "# мой пример\n",
    "\n",
    "class Flat:\n",
    "    def __init__(self):\n",
    "        self._carpet = None\n",
    "        self._table = None\n",
    "        self._wardrobe = None\n",
    "        self._sofa = None\n",
    "        self._tv = None\n",
    "        self._curtains = None\n",
    "        \n",
    "    def get_carpet(self):\n",
    "        return self._carpet\n",
    "    \n",
    "    def get_table(self):\n",
    "        return self._table\n",
    "    \n",
    "    def get_wardrobe(self):\n",
    "        return self._wardrobe\n",
    "    \n",
    "    def get_sofa(self):\n",
    "        return self._sofa\n",
    "    \n",
    "    def get_tv(self):\n",
    "        return self._tv\n",
    "    \n",
    "    def get_curtains(self):\n",
    "        return self._curtains\n",
    "    \n",
    "    def set_carpet(self, value):\n",
    "        self._carpet = value\n",
    "        \n",
    "    def set_table(self, value):\n",
    "        self._table = value\n",
    "        \n",
    "    def set_wardrobe(self, value):\n",
    "        self._wardrobe = value\n",
    "        \n",
    "    def set_sofa(self, value):\n",
    "        self._sofa = value\n",
    "        \n",
    "    def set_tv(self, value):\n",
    "        self._tv = value\n",
    "        \n",
    "    def set_curtains(self, value):\n",
    "        self._curtains = value\n",
    "        \n",
    "    def del_carpet(self):\n",
    "        del _carpet\n",
    "        \n",
    "    def del_table(self):\n",
    "        del self._table\n",
    "        \n",
    "    def del_wardrobe(self):\n",
    "        del self._wardrobe\n",
    "        \n",
    "    def del_sofa(self):\n",
    "        del self._sofa\n",
    "        \n",
    "    def del_tv(self):\n",
    "        del self._tv\n",
    "        \n",
    "    def del_curtains(self):\n",
    "        del self._curtains\n",
    "        \n",
    "    carpet = property(get_carpet, set_carpet, del_carpet, \"The carpet of the flat\")\n",
    "    table = property(get_table, set_table, del_table, \"The table of the flat\")\n",
    "    wardrobe = property(get_wardrobe, set_wardrobe, del_wardrobe, \"The wardrobe of the flat\")\n",
    "    sofa = property(get_sofa, set_sofa, del_sofa, \"The sofa of the flat\")\n",
    "    tv = property(get_tv, set_tv, del_tv, \"The tv of the flat\")\n",
    "    curtains = property(get_curtains, set_curtains, del_curtains, \"The curtains of the flat\")    "
   ]
  },
  {
   "cell_type": "code",
   "execution_count": 20,
   "id": "3375af57-0f24-4c08-92e6-40795ab771d2",
   "metadata": {},
   "outputs": [],
   "source": [
    "flat = Flat()"
   ]
  },
  {
   "cell_type": "code",
   "execution_count": 22,
   "id": "4c1c6eda-cd19-47e1-8002-950d61ba723b",
   "metadata": {},
   "outputs": [
    {
     "data": {
      "text/plain": [
       "'Samsung'"
      ]
     },
     "execution_count": 22,
     "metadata": {},
     "output_type": "execute_result"
    }
   ],
   "source": [
    "flat.tv = \"Samsung\"\n",
    "flat.tv"
   ]
  },
  {
   "cell_type": "code",
   "execution_count": 23,
   "id": "d4674282-37e6-435a-af59-419f5fbb55f2",
   "metadata": {},
   "outputs": [
    {
     "data": {
      "text/plain": [
       "'red wood old Ikea table'"
      ]
     },
     "execution_count": 23,
     "metadata": {},
     "output_type": "execute_result"
    }
   ],
   "source": [
    "flat.table = \"red wood old Ikea table\"\n",
    "flat.table"
   ]
  },
  {
   "cell_type": "code",
   "execution_count": 24,
   "id": "94a02d08-ee03-491f-b3b7-73d5b856ecc5",
   "metadata": {},
   "outputs": [],
   "source": [
    "del flat.tv"
   ]
  },
  {
   "cell_type": "code",
   "execution_count": 25,
   "id": "352d703b-004e-4842-b3b2-b0af79b5a131",
   "metadata": {},
   "outputs": [
    {
     "ename": "AttributeError",
     "evalue": "'Flat' object has no attribute '_tv'",
     "output_type": "error",
     "traceback": [
      "\u001b[1;31m---------------------------------------------------------------------------\u001b[0m",
      "\u001b[1;31mAttributeError\u001b[0m                            Traceback (most recent call last)",
      "Input \u001b[1;32mIn [25]\u001b[0m, in \u001b[0;36m<cell line: 1>\u001b[1;34m()\u001b[0m\n\u001b[1;32m----> 1\u001b[0m \u001b[43mflat\u001b[49m\u001b[38;5;241;43m.\u001b[39;49m\u001b[43mtv\u001b[49m\n",
      "Input \u001b[1;32mIn [19]\u001b[0m, in \u001b[0;36mFlat.get_tv\u001b[1;34m(self)\u001b[0m\n\u001b[0;32m     24\u001b[0m \u001b[38;5;28;01mdef\u001b[39;00m \u001b[38;5;21mget_tv\u001b[39m(\u001b[38;5;28mself\u001b[39m):\n\u001b[1;32m---> 25\u001b[0m     \u001b[38;5;28;01mreturn\u001b[39;00m \u001b[38;5;28;43mself\u001b[39;49m\u001b[38;5;241;43m.\u001b[39;49m\u001b[43m_tv\u001b[49m\n",
      "\u001b[1;31mAttributeError\u001b[0m: 'Flat' object has no attribute '_tv'"
     ]
    }
   ],
   "source": [
    "flat.tv"
   ]
  },
  {
   "cell_type": "code",
   "execution_count": null,
   "id": "6233a0bc-09f7-47fc-b931-f821e72e0d7d",
   "metadata": {},
   "outputs": [],
   "source": []
  }
 ],
 "metadata": {
  "kernelspec": {
   "display_name": "Python 3 (ipykernel)",
   "language": "python",
   "name": "python3"
  },
  "language_info": {
   "codemirror_mode": {
    "name": "ipython",
    "version": 3
   },
   "file_extension": ".py",
   "mimetype": "text/x-python",
   "name": "python",
   "nbconvert_exporter": "python",
   "pygments_lexer": "ipython3",
   "version": "3.10.5"
  }
 },
 "nbformat": 4,
 "nbformat_minor": 5
}
