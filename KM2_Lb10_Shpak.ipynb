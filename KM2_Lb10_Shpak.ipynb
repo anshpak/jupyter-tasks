{
 "cells": [
  {
   "cell_type": "markdown",
   "id": "222cd7da-e906-4e0a-87ff-a9508684d877",
   "metadata": {},
   "source": [
    "# Лабораторная работа 10\n",
    "# Основы объектно-ориентированного программирования в Python. Проектирование классов"
   ]
  },
  {
   "cell_type": "markdown",
   "id": "fcf489f7-0aca-4832-a834-f7a2006d58b3",
   "metadata": {},
   "source": [
    "Шпак Андрей Валерьевич, 09.08.2022"
   ]
  },
  {
   "cell_type": "markdown",
   "id": "881459f7-4e85-4787-b6ab-4472bfa3d950",
   "metadata": {},
   "source": [
    "# Задание 1"
   ]
  },
  {
   "cell_type": "markdown",
   "id": "5e5a9a8b-e06c-4959-abc7-ae0f2931eb23",
   "metadata": {},
   "source": [
    "Проработайте материал лекции, представленный в файле $\\textrm{2022_KM2_T10_OOP_design.html}$."
   ]
  },
  {
   "cell_type": "markdown",
   "id": "7d340232-3a28-4772-be69-ea625af5aaba",
   "metadata": {},
   "source": [
    "## Задание 1.1"
   ]
  },
  {
   "cell_type": "markdown",
   "id": "b7a9d059-88fd-4d15-a971-601c31d6c085",
   "metadata": {},
   "source": [
    "Перенесите в свой блокнот Jupyter Notebook информационную структуру лекций, с указанием номера и темы раздела."
   ]
  },
  {
   "cell_type": "code",
   "execution_count": null,
   "id": "c9ba902a-c171-4c6f-87ee-ecff842905fa",
   "metadata": {},
   "outputs": [],
   "source": []
  }
 ],
 "metadata": {
  "kernelspec": {
   "display_name": "Python 3 (ipykernel)",
   "language": "python",
   "name": "python3"
  },
  "language_info": {
   "codemirror_mode": {
    "name": "ipython",
    "version": 3
   },
   "file_extension": ".py",
   "mimetype": "text/x-python",
   "name": "python",
   "nbconvert_exporter": "python",
   "pygments_lexer": "ipython3",
   "version": "3.10.5"
  }
 },
 "nbformat": 4,
 "nbformat_minor": 5
}
