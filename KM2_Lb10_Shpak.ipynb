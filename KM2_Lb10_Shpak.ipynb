{
 "cells": [
  {
   "cell_type": "markdown",
   "id": "222cd7da-e906-4e0a-87ff-a9508684d877",
   "metadata": {},
   "source": [
    "# Лабораторная работа 10\n",
    "# Основы объектно-ориентированного программирования в Python. Проектирование классов"
   ]
  },
  {
   "cell_type": "markdown",
   "id": "fcf489f7-0aca-4832-a834-f7a2006d58b3",
   "metadata": {},
   "source": [
    "Шпак Андрей Валерьевич, 09.08.2022"
   ]
  },
  {
   "cell_type": "markdown",
   "id": "881459f7-4e85-4787-b6ab-4472bfa3d950",
   "metadata": {},
   "source": [
    "# Задание 1"
   ]
  },
  {
   "cell_type": "markdown",
   "id": "5e5a9a8b-e06c-4959-abc7-ae0f2931eb23",
   "metadata": {},
   "source": [
    "Проработайте материал лекции, представленный в файле $\\textrm{2022_KM2_T10_OOP_design.html}$."
   ]
  },
  {
   "cell_type": "markdown",
   "id": "7d340232-3a28-4772-be69-ea625af5aaba",
   "metadata": {},
   "source": [
    "## Задание 1.1"
   ]
  },
  {
   "cell_type": "markdown",
   "id": "b7a9d059-88fd-4d15-a971-601c31d6c085",
   "metadata": {},
   "source": [
    "Перенесите в свой блокнот Jupyter Notebook информационную структуру лекций, с указанием номера и темы раздела."
   ]
  },
  {
   "cell_type": "markdown",
   "id": "19833489-a7c0-4d75-8f63-62985006176a",
   "metadata": {},
   "source": [
    "## Задание 1.2"
   ]
  },
  {
   "cell_type": "markdown",
   "id": "c4cc319d-d17f-4ee7-9ebc-b642c51b62af",
   "metadata": {},
   "source": [
    "Дополните каждый пример из лекционного материала аналогичным собственный примером и кратким комментарием к нему."
   ]
  },
  {
   "cell_type": "markdown",
   "id": "4f3995fd-aa2e-4c2e-803f-c06049dad626",
   "metadata": {},
   "source": [
    "# Тема 10. Проектирование классов"
   ]
  },
  {
   "cell_type": "markdown",
   "id": "73ebaaf9-a5e7-42fc-9e27-f0eb66c293f4",
   "metadata": {},
   "source": [
    "## 10.1 Композиция"
   ]
  },
  {
   "cell_type": "code",
   "execution_count": 4,
   "id": "3497058c-7337-4391-96dc-4811d19a28da",
   "metadata": {},
   "outputs": [],
   "source": [
    "class Part:\n",
    "    def __init__(self, data):\n",
    "        self.data = data\n",
    "    \n",
    "    def __repr__(self):\n",
    "        return \"Part with data: %s\" % self.data\n",
    "    \n",
    "# определение класса на основе композиции\n",
    "\n",
    "class Whole:\n",
    "    def __init__(self, data1, data2):\n",
    "        self.part1 = Part(data1) # внедренный объект\n",
    "        self.part2 = Part(data2) # внедренный объект\n",
    "        \n",
    "    def __repr__(self):\n",
    "        return \"Whole contains %s and %s \" % (self.part1, self.part2)\n",
    "    \n",
    "    \n",
    "# ВОПРОС: в каком случае необходимо указывать скобки class Part() после имени класса? "
   ]
  },
  {
   "cell_type": "code",
   "execution_count": 5,
   "id": "09d0e5ec-5785-4cb3-9f33-f44b0fade73d",
   "metadata": {},
   "outputs": [
    {
     "data": {
      "text/plain": [
       "Whole contains Part with data: 1 and Part with data: 2 "
      ]
     },
     "execution_count": 5,
     "metadata": {},
     "output_type": "execute_result"
    }
   ],
   "source": [
    "I1 = Whole(1, 2)\n",
    "I1"
   ]
  },
  {
   "cell_type": "code",
   "execution_count": 54,
   "id": "11e4c9d0-9116-4733-bf3e-16d49c8a7fef",
   "metadata": {},
   "outputs": [],
   "source": [
    "# мой пример\n",
    "# получился список из котов\n",
    "# под влиянием бинарного дерева поиска из предыдущей лабораторной\n",
    "# пример для иллюстрации композиции - механизма связывания классов, не похожего на наследование\n",
    "# класс реализует композицию, если экземпляр класса содержит внедренные объекты других классов\n",
    "# объект-контейнер - экземпляр класса, который содержит внедренные объекты других классов\n",
    "# класс Basket при создании экземпляра, инициализирует атрибут экземпляра ссылкой на экземпляр класса EmptyNode\n",
    "# в дальнейшем при добавлении новых котов в корзину, будут создаваться экземпляры класса Cat\n",
    "\n",
    "class Cat:\n",
    "    def __init__(self, age, color, breed, next_cat_in_basket):\n",
    "        self.age = age\n",
    "        self.color = color\n",
    "        self.breed = breed\n",
    "        self.next_cat_in_basket = next_cat_in_basket\n",
    "        \n",
    "    def __repr__(self):\n",
    "        return \"I'm %s %s cat with %s color \\n%s\" % (self.breed, self.age, self.color, self.next_cat_in_basket)\n",
    "    \n",
    "    def add_new_cat(self, age, color, breed):\n",
    "        self.next_cat_in_basket = self.next_cat_in_basket.add_new_cat(age, color, breed)\n",
    "        return self\n",
    "    \n",
    "class Empty_basket:\n",
    "    def __repr__(self):\n",
    "        return \"Empty basket. Let's add a new cat!\"\n",
    "    \n",
    "    def add_new_cat(self, age, color, breed):\n",
    "        return Cat(age, color, breed, self)\n",
    "    \n",
    "class Basket_with_cats:\n",
    "    def __init__(self):\n",
    "        self.whats_the_cat = Empty_basket()\n",
    "    \n",
    "    def __repr__(self):\n",
    "        return repr(self.whats_the_cat)\n",
    "    \n",
    "    def add_new_cat(self, age, color, breed):\n",
    "        self.whats_the_cat = self.whats_the_cat.add_new_cat(age, color, breed) \n"
   ]
  },
  {
   "cell_type": "code",
   "execution_count": 47,
   "id": "4ad98ef7-5a06-42b1-b216-fc931f9a7a32",
   "metadata": {},
   "outputs": [
    {
     "data": {
      "text/plain": [
       "Empty basket. Let's add a new cat!"
      ]
     },
     "execution_count": 47,
     "metadata": {},
     "output_type": "execute_result"
    }
   ],
   "source": [
    "basket = Basket_with_cats()\n",
    "basket"
   ]
  },
  {
   "cell_type": "code",
   "execution_count": 48,
   "id": "a715001e-b68d-4a51-a39d-0d0b7055f9da",
   "metadata": {},
   "outputs": [],
   "source": [
    "basket.add_new_cat('kitty', 'british', 'blue')"
   ]
  },
  {
   "cell_type": "code",
   "execution_count": 49,
   "id": "7328f110-aeb5-473e-875e-563b043149d9",
   "metadata": {},
   "outputs": [
    {
     "data": {
      "text/plain": [
       "I'm blue kitty cat with british color \n",
       "Empty basket. Let's add a new cat!"
      ]
     },
     "execution_count": 49,
     "metadata": {},
     "output_type": "execute_result"
    }
   ],
   "source": [
    "basket"
   ]
  },
  {
   "cell_type": "code",
   "execution_count": 50,
   "id": "e65afbe5-ceeb-410c-83f5-8d2b981b6338",
   "metadata": {},
   "outputs": [],
   "source": [
    "basket.add_new_cat('old', 'scottish', 'yellow')"
   ]
  },
  {
   "cell_type": "code",
   "execution_count": 51,
   "id": "94aab374-0184-48d5-9651-d6291a75dd3d",
   "metadata": {},
   "outputs": [
    {
     "data": {
      "text/plain": [
       "I'm blue kitty cat with british color \n",
       "I'm yellow old cat with scottish color \n",
       "Empty basket. Let's add a new cat!"
      ]
     },
     "execution_count": 51,
     "metadata": {},
     "output_type": "execute_result"
    }
   ],
   "source": [
    "basket"
   ]
  },
  {
   "cell_type": "code",
   "execution_count": 52,
   "id": "08e5edab-50d4-4fdd-9732-c5ac33b8494a",
   "metadata": {},
   "outputs": [],
   "source": [
    "basket.add_new_cat('young', 'siberian', 'green')"
   ]
  },
  {
   "cell_type": "code",
   "execution_count": 53,
   "id": "bd646948-2c6c-4c0e-ab8c-6b0f11044178",
   "metadata": {},
   "outputs": [
    {
     "data": {
      "text/plain": [
       "I'm blue kitty cat with british color \n",
       "I'm yellow old cat with scottish color \n",
       "I'm green young cat with siberian color \n",
       "Empty basket. Let's add a new cat!"
      ]
     },
     "execution_count": 53,
     "metadata": {},
     "output_type": "execute_result"
    }
   ],
   "source": [
    "basket"
   ]
  },
  {
   "cell_type": "markdown",
   "id": "7347eb3a-b4da-4d4f-a227-bf401e54d00b",
   "metadata": {},
   "source": [
    "## 10.2 Делегирование"
   ]
  },
  {
   "cell_type": "code",
   "execution_count": 57,
   "id": "b732f4e0-c16b-4fe5-9357-85b3080302bc",
   "metadata": {},
   "outputs": [
    {
     "name": "stdout",
     "output_type": "stream",
     "text": [
      "Trace:  pop\n",
      "Trace:  append\n"
     ]
    },
    {
     "data": {
      "text/plain": [
       "[1, 2, 10]"
      ]
     },
     "execution_count": 57,
     "metadata": {},
     "output_type": "execute_result"
    }
   ],
   "source": [
    "class Wrapper:\n",
    "    def __init__(self, object):\n",
    "        self.wrapped = object\n",
    "    \n",
    "    def __getattr__(self, attrname):\n",
    "        print('Trace: ', attrname)\n",
    "        return getattr(self.wrapped, attrname)\n",
    "    \n",
    "x = Wrapper([1,2,3])\n",
    "x.pop(); x.append(10); x.wrapped\n",
    "\n",
    "# ВОПРОС: не понимаю, как тут перегружен __getattr__ и что он делает"
   ]
  },
  {
   "cell_type": "code",
   "execution_count": 76,
   "id": "3986d6da-826a-4d28-8388-ca21f8564f6d",
   "metadata": {},
   "outputs": [],
   "source": [
    "# мой пример\n",
    "# просто перегрузил метод __init__ в делегирующем классе\n",
    "# делегирование - разновидность композиции для создания класса-оболочки (Wrapper),\n",
    "# когда экземпляр класса-оболочки содержит единственный внедренный объект (wrapped)\n",
    "# большая часть интерфейса внедренного объекта сохраняется и дополняется\n",
    "\n",
    "class Hello_wrapper:\n",
    "    def __init__(self, object):\n",
    "        if isinstance(object, str):\n",
    "            self.wrapped = \"hello \" + object + \" world\"\n",
    "        elif isinstance(object, list):       \n",
    "            self.wrapped = [\"hello\"] + object + [\"world\"]\n",
    "        elif isinstance(object, dict):\n",
    "            object[\"hello\"] = \"world\"\n",
    "            self.wrapped = object\n",
    "        elif isinstance(object, set):\n",
    "            self.wrapped = object | {\"hello\", \"world\"}\n",
    "        else:\n",
    "            self.wrapped = \"Also hello for tuples and nums\""
   ]
  },
  {
   "cell_type": "code",
   "execution_count": 70,
   "id": "93dcbb89-a153-4f27-925f-7025980b6757",
   "metadata": {},
   "outputs": [
    {
     "data": {
      "text/plain": [
       "'hello 123 world'"
      ]
     },
     "execution_count": 70,
     "metadata": {},
     "output_type": "execute_result"
    }
   ],
   "source": [
    "hello1 = Hello_wrapper(\"123\")\n",
    "hello1.wrapped"
   ]
  },
  {
   "cell_type": "code",
   "execution_count": 71,
   "id": "bbc92c7e-f5e7-4ab4-bdd9-45d306bd9302",
   "metadata": {},
   "outputs": [
    {
     "data": {
      "text/plain": [
       "['hello', 123, 'world']"
      ]
     },
     "execution_count": 71,
     "metadata": {},
     "output_type": "execute_result"
    }
   ],
   "source": [
    "hello2 = Hello_wrapper([123])\n",
    "hello2.wrapped"
   ]
  },
  {
   "cell_type": "code",
   "execution_count": 77,
   "id": "6e9cc7b1-9335-47fc-ae6c-f8d8a8c7bd43",
   "metadata": {},
   "outputs": [
    {
     "data": {
      "text/plain": [
       "{'abc': 123, 'hello': 'world'}"
      ]
     },
     "execution_count": 77,
     "metadata": {},
     "output_type": "execute_result"
    }
   ],
   "source": [
    "hello3 = Hello_wrapper({\"abc\":123})\n",
    "hello3.wrapped"
   ]
  },
  {
   "cell_type": "code",
   "execution_count": 78,
   "id": "29b5d4fd-7969-4db8-a75c-eb6cea6d8d1a",
   "metadata": {},
   "outputs": [
    {
     "data": {
      "text/plain": [
       "{123, 'hello', 'world'}"
      ]
     },
     "execution_count": 78,
     "metadata": {},
     "output_type": "execute_result"
    }
   ],
   "source": [
    "hello4 = Hello_wrapper({123})\n",
    "hello4.wrapped"
   ]
  },
  {
   "cell_type": "code",
   "execution_count": 79,
   "id": "ac61e5a6-5f61-46c4-8ad2-1a736a86aa27",
   "metadata": {},
   "outputs": [
    {
     "data": {
      "text/plain": [
       "'Also hello for tuples and nums'"
      ]
     },
     "execution_count": 79,
     "metadata": {},
     "output_type": "execute_result"
    }
   ],
   "source": [
    "hello5 = Hello_wrapper(123)\n",
    "hello5.wrapped"
   ]
  },
  {
   "cell_type": "code",
   "execution_count": 80,
   "id": "53c643c8-2da9-4197-93d5-c1e1b8798574",
   "metadata": {},
   "outputs": [
    {
     "data": {
      "text/plain": [
       "'Also hello for tuples and nums'"
      ]
     },
     "execution_count": 80,
     "metadata": {},
     "output_type": "execute_result"
    }
   ],
   "source": [
    "hello5 = Hello_wrapper(123,)\n",
    "hello5.wrapped"
   ]
  },
  {
   "cell_type": "markdown",
   "id": "fbcf9fe8-fc4a-42c5-8f67-6e6e7ed4d0bc",
   "metadata": {},
   "source": [
    "## 10.3 Абстрактный класс"
   ]
  },
  {
   "cell_type": "code",
   "execution_count": null,
   "id": "f5555a26-9857-4f0b-bbfc-42734fdfe7f1",
   "metadata": {},
   "outputs": [],
   "source": []
  },
  {
   "cell_type": "markdown",
   "id": "0a8f11e6-ed73-4b09-9e43-62641bf95f01",
   "metadata": {},
   "source": [
    "## 10.4 Шаблон проектирования: синглтон"
   ]
  },
  {
   "cell_type": "code",
   "execution_count": null,
   "id": "d27e6c75-e43f-4c79-b5e1-eb405577df9c",
   "metadata": {},
   "outputs": [],
   "source": []
  },
  {
   "cell_type": "markdown",
   "id": "1cb79abe-9ce3-41b3-9940-ab141ed0efe4",
   "metadata": {},
   "source": [
    "## 10.5 Классовые методы и статические методы"
   ]
  },
  {
   "cell_type": "code",
   "execution_count": null,
   "id": "6240b032-2ca3-4524-8052-a37c8f29ca84",
   "metadata": {},
   "outputs": [],
   "source": []
  },
  {
   "cell_type": "markdown",
   "id": "8aa17c4d-3a19-4860-a603-61b3fcd36b21",
   "metadata": {},
   "source": [
    "## 10.6 Особенности именования атрибутов и методов"
   ]
  },
  {
   "cell_type": "code",
   "execution_count": null,
   "id": "a1c3a9ce-c16d-486f-a2cc-2007598b0f39",
   "metadata": {},
   "outputs": [],
   "source": []
  },
  {
   "cell_type": "markdown",
   "id": "48d45042-ed45-41b7-8b62-85cab59eba47",
   "metadata": {},
   "source": [
    "## 10.7 Атрибут-свойство"
   ]
  },
  {
   "cell_type": "code",
   "execution_count": null,
   "id": "8e124c31-8caf-4b88-bc87-87d96ddc8de2",
   "metadata": {},
   "outputs": [],
   "source": []
  }
 ],
 "metadata": {
  "kernelspec": {
   "display_name": "Python 3 (ipykernel)",
   "language": "python",
   "name": "python3"
  },
  "language_info": {
   "codemirror_mode": {
    "name": "ipython",
    "version": 3
   },
   "file_extension": ".py",
   "mimetype": "text/x-python",
   "name": "python",
   "nbconvert_exporter": "python",
   "pygments_lexer": "ipython3",
   "version": "3.10.5"
  }
 },
 "nbformat": 4,
 "nbformat_minor": 5
}
