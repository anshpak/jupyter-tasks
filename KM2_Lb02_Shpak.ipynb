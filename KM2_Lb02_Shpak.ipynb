{
 "cells": [
  {
   "cell_type": "markdown",
   "id": "e08a2eb3-a426-4f79-9ff8-e582064873fa",
   "metadata": {},
   "source": [
    "# Лабораторная работа 1\n",
    "# Встроенные типы объектов в Python. Операции над объектами"
   ]
  },
  {
   "cell_type": "markdown",
   "id": "5958ea70-0963-4c69-b368-da6b0fbc8643",
   "metadata": {
    "tags": []
   },
   "source": [
    "## Задания 1 и 2. (Построение иерархии встроенных типов. Проработка примеров, представленных в лекционном файле)"
   ]
  },
  {
   "cell_type": "markdown",
   "id": "201a539c-ca10-4600-9254-767957e8d15b",
   "metadata": {},
   "source": [
    "Постройте и визуализируйте иерархическую модель типов встроенных объектов Python. Эта же модель должна отображать следующие свойства: упорядоченность либо нет элементов для объектов коллекций, изменяемость или неизменяемость объектов встроенных типов. Результат визуализации расположите в блокноте Jupyter Notebook, в ячейке, имеющей тип Markdown. \n",
    "    \n",
    "Проработайте материал лекций, представленный в файле 2022_KM2_T2_Types.html, разделы 2.1 – 2.6. Для визуализации иерархической модели типов используйте возможности пакета Mathematica. В частности, можно использовать функцию, которая отображает выражение в виде дерева. Лучше использовать пользовательскую функцию, которая была создана в первом семестре на занятиях по вычислительной практике.\n",
    "\n",
    "Проработайте материал лекций, представленный в файле 2022_KM2_T2_Types.html, разделы 2.1 – 2.11.\n",
    "\n",
    "Перенесите в свой блокнот Jupyter Notebook информационную структуру лекций, с указанием номера и темы раздела.\n",
    "\n",
    "Для ускорения процесса создания структурированного документа копируйте необходимый текст из файла 2022_KM2_T2_Types.html. Предварительно создайте ячейку типа Markdown, введите символы разметки текста для указания заголовка требуемого уровня, а затем вставьте скопированный текст. Для быстрой навигации по заголовкам разных уровней внутри блокнота JN удобно установить режим Table of Contents вертикального меню в JupyterLab (Edit|Show Left Sidebar).\n",
    "\n",
    "Дополните каждый пример из лекционного материала аналогичным собственным примером и кратким комментарием к нему.\n",
    "\n",
    "Копируйте текущий лекционный пример из файла 2022_KM2_T2_Types.html в ячейку кода, располагая его в той области документа, которая соответствует изучаемой теме. Выполните скопированный пример. Приведите аналогичный пример, выполните его и запишите краткий комментарий к нему."
   ]
  },
  {
   "cell_type": "markdown",
   "id": "016e478c-6f3a-4406-b712-84b44b2dd0a7",
   "metadata": {
    "tags": []
   },
   "source": [
    "## Реализация заданий 1 и 2"
   ]
  },
  {
   "cell_type": "markdown",
   "id": "c7af5223-9ac8-486b-a86f-454ee4570a94",
   "metadata": {},
   "source": [
    "## 2.1 Понятие объекта, атрибуты и методы объекта"
   ]
  },
  {
   "cell_type": "markdown",
   "id": "64e61742-25a0-4772-b37f-6e6a200e846c",
   "metadata": {},
   "source": [
    "$\\textbf{Объект}$ — это базовая сущность в Python\n",
    "\n",
    "В Python все является объектом: данные встроенных типов, файлы, функции, модули, классы, экземпляры классов и т.д.\n",
    "\n",
    "Внутренне объекты представляют собой области выделенной памяти с достаточным пространством\n",
    "\n",
    "У объекта всегда есть $\\textbf{атрибуты}$. Атрибуты — это имена/переменные, которые связаны с объектом и используются для получения информации об объекте, а также для совершения действий над этим объектом. Все атрибуты объекты определяют $\\textbf{пространство имен объекта}$.\n",
    "\n",
    "Доступ к атрибутам объекта производится с применением синтаксиса уточнения <code>object.attribute</code>"
   ]
  },
  {
   "cell_type": "code",
   "execution_count": 9,
   "id": "55e19d54-c420-4358-8848-d92c4b2f58c7",
   "metadata": {},
   "outputs": [
    {
     "name": "stdout",
     "output_type": "stream",
     "text": [
      "<class 'list'>\n",
      "<class 'tuple'>\n",
      "<class 'complex'>\n",
      "<class 'list'>\n",
      "<class 'str'>\n"
     ]
    }
   ],
   "source": [
    "list1 = [1, 2]\n",
    "print(list1.__class__)\n",
    "# мои примеры\n",
    "print((9, 3, 5, 6).__class__)\n",
    "print(3j.__class__)\n",
    "print(([0, 0, 0,]).__class__)\n",
    "print('text'.__class__)"
   ]
  },
  {
   "cell_type": "markdown",
   "id": "2b484f89-9f0b-4b2e-9b35-115af53f61ed",
   "metadata": {},
   "source": [
    "Доступ к атрибутам объекта является одной из самых распространенных операций в коде Python\n",
    "\n",
    "$\\textbf{Метод}$ — это атрибут объекта, являющийся функцией. Выражением вызова функции является указание круглых скобок после имени функции и перечисление аргументов функции внутри скобок"
   ]
  },
  {
   "cell_type": "code",
   "execution_count": 13,
   "id": "9bf4b045-eb86-4e9e-aafd-a6c1e53f04ea",
   "metadata": {},
   "outputs": [
    {
     "data": {
      "text/plain": [
       "[1, 2, 3, 3, 3, 3, 5, 4, 3, 2, 1, 0]"
      ]
     },
     "execution_count": 13,
     "metadata": {},
     "output_type": "execute_result"
    }
   ],
   "source": [
    "list1.append(3)\n",
    "list1\n",
    "# мои примеры\n",
    "list1.append(5)\n",
    "list1.append(4)\n",
    "list1.append(3)\n",
    "list1.append(2)\n",
    "list1.append(1)\n",
    "list1.append(0)\n",
    "list1"
   ]
  },
  {
   "cell_type": "markdown",
   "id": "acb9f97f-bdec-4fb2-90a4-a2a9fe5bf9f4",
   "metadata": {},
   "source": [
    "Просмотреть ВСЕ атрибуты объекта можно с помощью встроенной функции dir. Чтобы выяснить, какие атрибуты имеют объекты встроенных типов, вызовите $\\textbf{dir}$ для созданного объекта или для литерала"
   ]
  },
  {
   "cell_type": "code",
   "execution_count": 32,
   "id": "f807244a-b760-4927-ad6b-da9fedead7c7",
   "metadata": {},
   "outputs": [
    {
     "name": "stdout",
     "output_type": "stream",
     "text": [
      "['__add__', '__class__', '__class_getitem__', '__contains__', '__delattr__', '__delitem__', '__dir__', '__doc__', '__eq__', '__format__', '__ge__', '__getattribute__', '__getitem__', '__gt__', '__hash__', '__iadd__', '__imul__', '__init__', '__init_subclass__', '__iter__', '__le__', '__len__', '__lt__', '__mul__', '__ne__', '__new__', '__reduce__', '__reduce_ex__', '__repr__', '__reversed__', '__rmul__', '__setattr__', '__setitem__', '__sizeof__', '__str__', '__subclasshook__', 'append', 'clear', 'copy', 'count', 'extend', 'index', 'insert', 'pop', 'remove', 'reverse', 'sort']\n",
      "['__add__', '__class__', '__class_getitem__', '__contains__', '__delattr__', '__dir__', '__doc__', '__eq__', '__format__', '__ge__', '__getattribute__', '__getitem__', '__getnewargs__', '__gt__', '__hash__', '__init__', '__init_subclass__', '__iter__', '__le__', '__len__', '__lt__', '__mul__', '__ne__', '__new__', '__reduce__', '__reduce_ex__', '__repr__', '__rmul__', '__setattr__', '__sizeof__', '__str__', '__subclasshook__', 'count', 'index']\n"
     ]
    }
   ],
   "source": [
    "print(dir(list1))\n",
    "# мои примеры\n",
    "# print(dir(1))\n",
    "# print(dir('1'))\n",
    "# print(dir(3.4))\n",
    "# print(dir(6J))\n",
    "print(dir((5, 5, 5)))"
   ]
  },
  {
   "cell_type": "markdown",
   "id": "d0d1b64c-eb38-4ccd-b666-744a253f88e2",
   "metadata": {},
   "source": [
    "Атрибуты, которые начинаются и заканчиваются двумя подчеркиваниями, $\\textit{чаще всего}$ являются $\\textbf{методами, реализующими ОПЕРАЦИИ}$ над объектами"
   ]
  },
  {
   "cell_type": "code",
   "execution_count": 35,
   "id": "85cc00e0-22ef-4d4b-a592-075e0d896fd3",
   "metadata": {},
   "outputs": [
    {
     "name": "stdout",
     "output_type": "stream",
     "text": [
      "105\n",
      "1 5 61 -995 3125\n"
     ]
    }
   ],
   "source": [
    "a = 1\n",
    "a + 2, a.__add__(2)\n",
    "# мои примеры\n",
    "b = 5\n",
    "print(b.__add__(100))\n",
    "print(a, b, a.__add__(60), b.__add__(-1000), b.__pow__(5))"
   ]
  },
  {
   "cell_type": "code",
   "execution_count": 42,
   "id": "df8de04b-9b63-4df1-a6f9-5174dc76f19f",
   "metadata": {},
   "outputs": [
    {
     "name": "stdout",
     "output_type": "stream",
     "text": [
      "['__add__', '__class__', '__class_getitem__', '__contains__', '__delattr__', '__delitem__', '__dir__', '__doc__', '__eq__', '__format__', '__ge__', '__getattribute__', '__getitem__', '__gt__', '__hash__', '__iadd__', '__imul__', '__init__', '__init_subclass__', '__iter__', '__le__', '__len__', '__lt__', '__mul__', '__ne__', '__new__', '__reduce__', '__reduce_ex__', '__repr__', '__reversed__', '__rmul__', '__setattr__', '__setitem__', '__sizeof__', '__str__', '__subclasshook__']\n",
      "['__abs__', '__add__', '__and__', '__bool__', '__ceil__', '__class__', '__delattr__', '__dir__', '__divmod__', '__doc__', '__eq__', '__float__', '__floor__', '__floordiv__', '__format__', '__ge__', '__getattribute__', '__getnewargs__', '__gt__', '__hash__', '__index__', '__init__', '__init_subclass__', '__int__', '__invert__', '__le__', '__lshift__', '__lt__', '__mod__', '__mul__', '__ne__', '__neg__', '__new__', '__or__', '__pos__', '__pow__', '__radd__', '__rand__', '__rdivmod__', '__reduce__', '__reduce_ex__', '__repr__', '__rfloordiv__', '__rlshift__', '__rmod__', '__rmul__', '__ror__', '__round__', '__rpow__', '__rrshift__', '__rshift__', '__rsub__', '__rtruediv__', '__rxor__', '__setattr__', '__sizeof__', '__str__', '__sub__', '__subclasshook__', '__truediv__', '__trunc__', '__xor__']\n",
      "['as_integer_ratio']\n",
      "[]\n",
      "['clear', 'copy', 'count']\n"
     ]
    }
   ],
   "source": [
    "print([attr for attr in dir(list1) if attr.startswith('_')])\n",
    "# мои примеры\n",
    "print([(attr) for attr in dir(1) if attr.startswith('_')])\n",
    "print([(attr) for attr in dir(1) if attr.startswith('a')])\n",
    "print([(attr) for attr in dir('1') if attr.startswith('b')])\n",
    "print([(attr) for attr in dir([1]) if attr.startswith('c')])"
   ]
  },
  {
   "cell_type": "code",
   "execution_count": null,
   "id": "35db6383-c5e0-44e3-aacb-6afd029074e0",
   "metadata": {},
   "outputs": [],
   "source": []
  },
  {
   "cell_type": "code",
   "execution_count": null,
   "id": "3753cda1-41b9-42cf-8567-8fa488220f6e",
   "metadata": {},
   "outputs": [],
   "source": []
  },
  {
   "cell_type": "code",
   "execution_count": null,
   "id": "6c8d1321-de88-4bca-af71-37bfbfdd9c4d",
   "metadata": {},
   "outputs": [],
   "source": []
  },
  {
   "cell_type": "code",
   "execution_count": null,
   "id": "06ba32d8-3208-4d02-b2f6-2118eb1756ac",
   "metadata": {},
   "outputs": [],
   "source": []
  },
  {
   "cell_type": "code",
   "execution_count": null,
   "id": "11a5d6dd-db92-4afe-8b7f-ab1d5903705b",
   "metadata": {},
   "outputs": [],
   "source": []
  },
  {
   "cell_type": "code",
   "execution_count": null,
   "id": "11d02c7b-4a39-43cd-9792-7c3fe1dcb869",
   "metadata": {},
   "outputs": [],
   "source": []
  },
  {
   "cell_type": "markdown",
   "id": "f4f9168a-2747-446c-9547-b840cb5fbf22",
   "metadata": {
    "tags": []
   },
   "source": [
    "## Задание 3. (Выполнение уравжнений из книги М. Лутца)"
   ]
  },
  {
   "cell_type": "markdown",
   "id": "95c00a6a-f102-493b-86cb-0511a19da8a4",
   "metadata": {},
   "source": [
    "Выполните упражнения, представленные в [1, с. 340 – 342].\n",
    "\n",
    "Проверьте приобретенные знания, ответив на контрольные вопросы, которые находятся в [1, часть II], в конце каждой из глав 4 – 9. Выполните упражнения 1 – 11, представленные в [1, с. 340 – 342], в отдельной части Вашего документа. Содержимое этой части структурируйте. Выполнение сопровождайте краткими комментариями, располагая их или в ячейках кода, или в ячейках Markdown."
   ]
  },
  {
   "cell_type": "markdown",
   "id": "e2148648-8ed4-4a4e-b947-e0b1d6e9b8d0",
   "metadata": {
    "tags": []
   },
   "source": [
    "## Реалиация задания 3"
   ]
  }
 ],
 "metadata": {
  "kernelspec": {
   "display_name": "Python 3 (ipykernel)",
   "language": "python",
   "name": "python3"
  },
  "language_info": {
   "codemirror_mode": {
    "name": "ipython",
    "version": 3
   },
   "file_extension": ".py",
   "mimetype": "text/x-python",
   "name": "python",
   "nbconvert_exporter": "python",
   "pygments_lexer": "ipython3",
   "version": "3.10.5"
  }
 },
 "nbformat": 4,
 "nbformat_minor": 5
}
