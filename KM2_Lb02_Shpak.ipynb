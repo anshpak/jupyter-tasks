{
 "cells": [
  {
   "cell_type": "markdown",
   "id": "e08a2eb3-a426-4f79-9ff8-e582064873fa",
   "metadata": {},
   "source": [
    "# Лабораторная работа 1\n",
    "# Встроенные типы объектов в Python. Операции над объектами"
   ]
  },
  {
   "cell_type": "markdown",
   "id": "5958ea70-0963-4c69-b368-da6b0fbc8643",
   "metadata": {
    "tags": []
   },
   "source": [
    "# Задания 1 и 2. (Построение иерархии встроенных типов. Проработка примеров, представленных в лекционном файле)"
   ]
  },
  {
   "cell_type": "markdown",
   "id": "201a539c-ca10-4600-9254-767957e8d15b",
   "metadata": {},
   "source": [
    "Постройте и визуализируйте иерархическую модель типов встроенных объектов Python. Эта же модель должна отображать следующие свойства: упорядоченность либо нет элементов для объектов коллекций, изменяемость или неизменяемость объектов встроенных типов. Результат визуализации расположите в блокноте Jupyter Notebook, в ячейке, имеющей тип Markdown. \n",
    "    \n",
    "Проработайте материал лекций, представленный в файле 2022_KM2_T2_Types.html, разделы 2.1 – 2.6. Для визуализации иерархической модели типов используйте возможности пакета Mathematica. В частности, можно использовать функцию, которая отображает выражение в виде дерева. Лучше использовать пользовательскую функцию, которая была создана в первом семестре на занятиях по вычислительной практике.\n",
    "\n",
    "Проработайте материал лекций, представленный в файле 2022_KM2_T2_Types.html, разделы 2.1 – 2.11.\n",
    "\n",
    "Перенесите в свой блокнот Jupyter Notebook информационную структуру лекций, с указанием номера и темы раздела.\n",
    "\n",
    "Для ускорения процесса создания структурированного документа копируйте необходимый текст из файла 2022_KM2_T2_Types.html. Предварительно создайте ячейку типа Markdown, введите символы разметки текста для указания заголовка требуемого уровня, а затем вставьте скопированный текст. Для быстрой навигации по заголовкам разных уровней внутри блокнота JN удобно установить режим Table of Contents вертикального меню в JupyterLab (Edit|Show Left Sidebar).\n",
    "\n",
    "Дополните каждый пример из лекционного материала аналогичным собственным примером и кратким комментарием к нему.\n",
    "\n",
    "Копируйте текущий лекционный пример из файла 2022_KM2_T2_Types.html в ячейку кода, располагая его в той области документа, которая соответствует изучаемой теме. Выполните скопированный пример. Приведите аналогичный пример, выполните его и запишите краткий комментарий к нему."
   ]
  },
  {
   "cell_type": "markdown",
   "id": "016e478c-6f3a-4406-b712-84b44b2dd0a7",
   "metadata": {
    "tags": []
   },
   "source": [
    "## Реализация заданий 1 и 2"
   ]
  },
  {
   "cell_type": "markdown",
   "id": "c7af5223-9ac8-486b-a86f-454ee4570a94",
   "metadata": {},
   "source": [
    "# 2.1 Понятие объекта, атрибуты и методы объекта"
   ]
  },
  {
   "cell_type": "code",
   "execution_count": 73,
   "id": "55e19d54-c420-4358-8848-d92c4b2f58c7",
   "metadata": {},
   "outputs": [
    {
     "name": "stdout",
     "output_type": "stream",
     "text": [
      "<class 'list'>\n",
      "<class 'tuple'>\n",
      "<class 'complex'>\n",
      "<class 'list'>\n",
      "<class 'str'>\n",
      "<class 'int'>\n"
     ]
    }
   ],
   "source": [
    "# объект, атрибут, пространство имен\n",
    "list1 = [1, 2]\n",
    "a = 6\n",
    "print(list1.__class__)\n",
    "# мои примеры\n",
    "print((9, 3, 5, 6).__class__)\n",
    "print(3j.__class__)\n",
    "print(([0, 0, 0,]).__class__)\n",
    "print('text'.__class__)\n",
    "print(a.__class__)"
   ]
  },
  {
   "cell_type": "code",
   "execution_count": 74,
   "id": "9bf4b045-eb86-4e9e-aafd-a6c1e53f04ea",
   "metadata": {},
   "outputs": [
    {
     "data": {
      "text/plain": [
       "[1, 2, 3, 5, 4, 3, 2, 1, 0]"
      ]
     },
     "execution_count": 74,
     "metadata": {},
     "output_type": "execute_result"
    }
   ],
   "source": [
    "# метод\n",
    "list1.append(3)\n",
    "list1\n",
    "# мои примеры\n",
    "list1.append(5)\n",
    "list1.append(4)\n",
    "list1.append(3)\n",
    "list1.append(2)\n",
    "list1.append(1)\n",
    "list1.append(0)\n",
    "list1"
   ]
  },
  {
   "cell_type": "code",
   "execution_count": 75,
   "id": "f807244a-b760-4927-ad6b-da9fedead7c7",
   "metadata": {},
   "outputs": [
    {
     "name": "stdout",
     "output_type": "stream",
     "text": [
      "['__add__', '__class__', '__class_getitem__', '__contains__', '__delattr__', '__delitem__', '__dir__', '__doc__', '__eq__', '__format__', '__ge__', '__getattribute__', '__getitem__', '__gt__', '__hash__', '__iadd__', '__imul__', '__init__', '__init_subclass__', '__iter__', '__le__', '__len__', '__lt__', '__mul__', '__ne__', '__new__', '__reduce__', '__reduce_ex__', '__repr__', '__reversed__', '__rmul__', '__setattr__', '__setitem__', '__sizeof__', '__str__', '__subclasshook__', 'append', 'clear', 'copy', 'count', 'extend', 'index', 'insert', 'pop', 'remove', 'reverse', 'sort']\n",
      "['__add__', '__class__', '__class_getitem__', '__contains__', '__delattr__', '__dir__', '__doc__', '__eq__', '__format__', '__ge__', '__getattribute__', '__getitem__', '__getnewargs__', '__gt__', '__hash__', '__init__', '__init_subclass__', '__iter__', '__le__', '__len__', '__lt__', '__mul__', '__ne__', '__new__', '__reduce__', '__reduce_ex__', '__repr__', '__rmul__', '__setattr__', '__sizeof__', '__str__', '__subclasshook__', 'count', 'index']\n"
     ]
    }
   ],
   "source": [
    "# Чтобы выяснить, какие атрибуты имеют объекты встроенных типов, вызовите  𝐝𝐢𝐫  для созданного объекта или для литерала\n",
    "print(dir(list1))\n",
    "# мои примеры\n",
    "# print(dir(1))\n",
    "# print(dir('1'))\n",
    "# print(dir(3.4))\n",
    "# print(dir(6J))\n",
    "print(dir((5, 5, 5)))"
   ]
  },
  {
   "cell_type": "code",
   "execution_count": 16,
   "id": "85cc00e0-22ef-4d4b-a592-075e0d896fd3",
   "metadata": {},
   "outputs": [
    {
     "name": "stdout",
     "output_type": "stream",
     "text": [
      "105\n",
      "1 5 61 -995 3125\n"
     ]
    }
   ],
   "source": [
    "# атрибуты, которые начинаются и заканчиваются двумя подчеркиваниями,  чаще всего  являются  методами, \n",
    "# реализующими ОПЕРАЦИИ  над объектами\n",
    "a = 1\n",
    "a + 2, a.__add__(2)\n",
    "# мои примеры\n",
    "b = 5\n",
    "print(b.__add__(100))\n",
    "print(a, b, a.__add__(60), b.__add__(-1000), b.__pow__(5))"
   ]
  },
  {
   "cell_type": "code",
   "execution_count": 42,
   "id": "df8de04b-9b63-4df1-a6f9-5174dc76f19f",
   "metadata": {},
   "outputs": [
    {
     "name": "stdout",
     "output_type": "stream",
     "text": [
      "['__add__', '__class__', '__class_getitem__', '__contains__', '__delattr__', '__delitem__', '__dir__', '__doc__', '__eq__', '__format__', '__ge__', '__getattribute__', '__getitem__', '__gt__', '__hash__', '__iadd__', '__imul__', '__init__', '__init_subclass__', '__iter__', '__le__', '__len__', '__lt__', '__mul__', '__ne__', '__new__', '__reduce__', '__reduce_ex__', '__repr__', '__reversed__', '__rmul__', '__setattr__', '__setitem__', '__sizeof__', '__str__', '__subclasshook__']\n",
      "['__abs__', '__add__', '__and__', '__bool__', '__ceil__', '__class__', '__delattr__', '__dir__', '__divmod__', '__doc__', '__eq__', '__float__', '__floor__', '__floordiv__', '__format__', '__ge__', '__getattribute__', '__getnewargs__', '__gt__', '__hash__', '__index__', '__init__', '__init_subclass__', '__int__', '__invert__', '__le__', '__lshift__', '__lt__', '__mod__', '__mul__', '__ne__', '__neg__', '__new__', '__or__', '__pos__', '__pow__', '__radd__', '__rand__', '__rdivmod__', '__reduce__', '__reduce_ex__', '__repr__', '__rfloordiv__', '__rlshift__', '__rmod__', '__rmul__', '__ror__', '__round__', '__rpow__', '__rrshift__', '__rshift__', '__rsub__', '__rtruediv__', '__rxor__', '__setattr__', '__sizeof__', '__str__', '__sub__', '__subclasshook__', '__truediv__', '__trunc__', '__xor__']\n",
      "['as_integer_ratio']\n",
      "[]\n",
      "['clear', 'copy', 'count']\n"
     ]
    }
   ],
   "source": [
    "print([attr for attr in dir(list1) if attr.startswith('_')])\n",
    "# мои примеры\n",
    "print([(attr) for attr in dir(1) if attr.startswith('_')])\n",
    "print([(attr) for attr in dir(1) if attr.startswith('a')])\n",
    "print([(attr) for attr in dir('1') if attr.startswith('b')])\n",
    "print([(attr) for attr in dir([1]) if attr.startswith('c')])"
   ]
  },
  {
   "cell_type": "markdown",
   "id": "1903d2ad-74c9-467e-b88a-63cbd9451dd9",
   "metadata": {},
   "source": [
    "## Встроенные типы объектов"
   ]
  },
  {
   "cell_type": "code",
   "execution_count": 77,
   "id": "6c8d1321-de88-4bca-af71-37bfbfdd9c4d",
   "metadata": {},
   "outputs": [
    {
     "name": "stdout",
     "output_type": "stream",
     "text": [
      "<class 'list'>\n",
      "<class 'tuple'>\n",
      "<class 'complex'>\n",
      "<class 'list'>\n",
      "<class 'str'>\n"
     ]
    }
   ],
   "source": [
    "# type\n",
    "type(1), type(\"1\"), type([1])\n",
    "# мои примеры\n",
    "print(type(list1))\n",
    "print(type((9, 3, 5, 6)))\n",
    "print(type(3j))\n",
    "print((type([0, 0, 0,])))\n",
    "print(type('text'))\n",
    "# в Python 3 встроенные типы помечаются как классы"
   ]
  },
  {
   "cell_type": "markdown",
   "id": "dd9007da-3ba7-4934-b668-96d23a66af87",
   "metadata": {},
   "source": [
    "## Литерал"
   ]
  },
  {
   "cell_type": "code",
   "execution_count": 13,
   "id": "9319f5ae-666a-4588-9b83-eb2380f9d2e2",
   "metadata": {},
   "outputs": [
    {
     "name": "stdout",
     "output_type": "stream",
     "text": [
      "0 0.0 0j  [] () {} {1}\n",
      "10 6j\n"
     ]
    }
   ],
   "source": [
    "# имя функции-конструктора совпадает с названием типа создаваемого объекта\n",
    "print(int(), float(), complex(), str(), list(), tuple(), dict(), set([1]))\n",
    "# мои примеры \n",
    "print(int(0b01010), complex(6J))\n",
    "# ну что еще добавить....."
   ]
  },
  {
   "cell_type": "markdown",
   "id": "e6337328-90a6-4910-8a57-0530fcfc074e",
   "metadata": {},
   "source": [
    "# 2.2 Встроенные типы числовых объектов: int, float, complex"
   ]
  },
  {
   "cell_type": "code",
   "execution_count": 78,
   "id": "11a5d6dd-db92-4afe-8b7f-ab1d5903705b",
   "metadata": {},
   "outputs": [
    {
     "name": "stdout",
     "output_type": "stream",
     "text": [
      "1231244 31 423423423343445 0\n",
      "-0.143453515 30000000000.0 1e-11 234234.0\n",
      "(3+4j) 1j 11j\n"
     ]
    }
   ],
   "source": [
    "# литералы для создания числовых объектов\n",
    "1234, 0b11, int(),    3.1415, 3e-10, 1E-1, float(),    3+4j, 1J, complex()\n",
    "# мои примеры\n",
    "print(1231244, 0b11111, int(423423423343445), int())\n",
    "print(- 0.143453515, 3E10, 1e-11, float(234234))\n",
    "print(3 + 4j, 1J, complex(11j))"
   ]
  },
  {
   "cell_type": "code",
   "execution_count": 86,
   "id": "e275b261-3052-4db4-870a-346e0cebfbcc",
   "metadata": {},
   "outputs": [
    {
     "name": "stdout",
     "output_type": "stream",
     "text": [
      "(<class 'object'>,)\n",
      "(<class 'object'>,)\n",
      "(<class 'object'>,)\n",
      "(<class 'object'>,)\n",
      "(<class 'object'>,)\n",
      "(<class 'object'>,)\n",
      "(<class 'object'>,)\n",
      "(<class 'object'>,)\n",
      "(<class 'object'>,)\n"
     ]
    }
   ],
   "source": [
    "# bool унаследован от встроенного типа int\n",
    "bool.__bases__\n",
    "# мои примеры\n",
    "print(str.__bases__)\n",
    "print(list.__bases__)\n",
    "print(complex.__bases__)\n",
    "print(int.__bases__)\n",
    "print(float.__bases__)\n",
    "print(tuple.__bases__)\n",
    "print(list.__bases__)\n",
    "print(dict.__bases__)\n",
    "print(set.__bases__)"
   ]
  },
  {
   "cell_type": "code",
   "execution_count": 14,
   "id": "35f26300-2945-41e8-9783-778c0bb20708",
   "metadata": {},
   "outputs": [
    {
     "data": {
      "text/plain": [
       "(bool, bool)"
      ]
     },
     "execution_count": 14,
     "metadata": {},
     "output_type": "execute_result"
    }
   ],
   "source": [
    "# два объекта True и False имеют тип bool, они создаются в Python автоматически\n",
    "type(True), type(False)\n",
    "# мои примеры\n",
    "# ВОПРОС: какие различия между, напрмер 5 и True? имею в виду, почему не могу написать 5.__class__\n",
    "# 5.__class__\n",
    "True.__class__, False.__class__"
   ]
  },
  {
   "cell_type": "code",
   "execution_count": 15,
   "id": "9f9b0631-f17b-45ec-a063-163b69924bfc",
   "metadata": {},
   "outputs": [
    {
     "data": {
      "text/plain": [
       "False"
      ]
     },
     "execution_count": 15,
     "metadata": {},
     "output_type": "execute_result"
    }
   ],
   "source": [
    "# булевские объекты True и False по существу представляют собой целые числа 1 и 0 со специальной логикой отображения\n",
    "True == 1, False == 0 # значениями являются целые числа \n",
    "# мои примеры\n",
    "True == 14"
   ]
  },
  {
   "cell_type": "code",
   "execution_count": 106,
   "id": "9b9d77dd-f029-4083-9a49-66a9b38ed618",
   "metadata": {},
   "outputs": [
    {
     "name": "stdout",
     "output_type": "stream",
     "text": [
      "2 0\n",
      "1 100 0.2 1 3 -0.2j\n",
      "0 0 0.0 0 0 0j\n"
     ]
    }
   ],
   "source": [
    "print(True + 1, True * False) # значениями являются целые числа \n",
    "# мои примеры\n",
    "print(True * 1, True * 100, True / 5, True % 11, True * 0b11, True / 5J)\n",
    "print(False * 1, False * 100, False / 5, False % 11, False * 0b11, False / 5J)"
   ]
  },
  {
   "cell_type": "code",
   "execution_count": 114,
   "id": "1ad7e9a5-a357-4171-8ea6-63d963aa08c0",
   "metadata": {},
   "outputs": [
    {
     "name": "stdout",
     "output_type": "stream",
     "text": [
      "[False, True, False, True, False, True, False, True, False]\n",
      "True\n",
      "False\n"
     ]
    }
   ],
   "source": [
    "# КАЖДЫЙ объект в Python характеризуется своим булевским значением True или False:\n",
    "# числа, равные нулю, имеют булевское значение False и значение True в противном случае\n",
    "# пустые коллекции имеют булевское значение False и True в противном случае\n",
    "# объект None имеет булевское значение False\n",
    "print([bool(x) for x in [0, 10, \"\", \"a\", [], [1], {}, {1:1}, None]])\n",
    "# мои примеры\n",
    "print(bool('    '))\n",
    "print(bool(()))\n",
    "# ну что тут ещё добавить"
   ]
  },
  {
   "cell_type": "markdown",
   "id": "e908d060-0e24-4852-9fac-64c61bf2eb2d",
   "metadata": {},
   "source": [
    "## Некоторые арифметические операции"
   ]
  },
  {
   "cell_type": "code",
   "execution_count": 36,
   "id": "955b9c81-c922-46ba-862a-3f656b1727e4",
   "metadata": {},
   "outputs": [
    {
     "name": "stdout",
     "output_type": "stream",
     "text": [
      "7 7.0\n",
      "0 -3.0\n",
      "-1.0\n"
     ]
    }
   ],
   "source": [
    "# целочисленное деление с округлением в меньшую сторону (//) для типов int и float\n",
    "print(15 // 2, 15.2 // 2)\n",
    "# мои примеры\n",
    "print(20 // 21, -4.12 // 2)\n",
    "print(15.00 // -21.00)\n",
    "# почему в конце ответ именно такой? \n",
    "# разделить число a на b != 0 с остатком значит найти два q и r, удовлетворяющие следующим условиям:\n",
    "# a = q * b + r"
   ]
  },
  {
   "cell_type": "code",
   "execution_count": 37,
   "id": "07c87404-3c15-49e4-9242-1bf7c62da184",
   "metadata": {},
   "outputs": [
    {
     "name": "stdout",
     "output_type": "stream",
     "text": [
      "1 1.1999999999999993\n",
      "20 1.88\n",
      "-6.0\n",
      "0.0\n"
     ]
    }
   ],
   "source": [
    "# остаток от деления (%) для типов int и float\n",
    "print(15 % 2, 15.2 % 2)\n",
    "# мои примеры\n",
    "print(20 % 21, -4.12 % 2)\n",
    "print(15.00 % -21.00)\n",
    "print(15.00 % 3)"
   ]
  },
  {
   "cell_type": "code",
   "execution_count": 42,
   "id": "ef89a04c-7e77-43e7-8da3-2fc005035f92",
   "metadata": {},
   "outputs": [
    {
     "name": "stdout",
     "output_type": "stream",
     "text": [
      "225 225.0 (-224+30j)\n",
      "1 95367431640625.0 (-0.004385621426893257-0.000587360012530347j)\n",
      "0.01 0.0044444444444444444 (250876+725700j)\n"
     ]
    }
   ],
   "source": [
    "# возведение в степень (**) для типов int, float и complex\n",
    "print(15 ** 2, 15. ** 2., (1 + 15.J) ** 2)\n",
    "# мои примеры\n",
    "print(1 ** 20, 5. ** 20., (1 + 15.J) ** -2)\n",
    "print(10 ** - 2, 15. ** - 2., (1 + 15.J) ** 5)"
   ]
  },
  {
   "cell_type": "markdown",
   "id": "cc61256f-0219-46a8-a10b-0d024ff36e1f",
   "metadata": {},
   "source": [
    "## Некоторые встроенные функции для обработки чисел"
   ]
  },
  {
   "cell_type": "code",
   "execution_count": 65,
   "id": "349020bf-0622-4533-b40c-ba1ed6e371c2",
   "metadata": {},
   "outputs": [
    {
     "name": "stdout",
     "output_type": "stream",
     "text": [
      "10.5556 11 0b11 0o11 0xf\n",
      "11 5.0\n",
      "96 163.5999999999999\n",
      "-5 -400\n",
      "100 566.3\n",
      "10.0 11 -16 -15.53\n",
      "0b1011010 0o106 0x50\n"
     ]
    }
   ],
   "source": [
    "# abs, sum, min, max, округление (round); функции преобразования из десятичной системы счисления: \n",
    "# bin, oct, hex возвращают строковый объект\n",
    "print(round(10.555555, 4), round(10.51), bin(3), oct(9), hex(15))\n",
    "# мои примеры\n",
    "print(abs(- 11), abs(- 5.))\n",
    "print(sum([2, 3, - 4, 100, - 5]), sum([6.3, 566.3, - 9.0, - 400]))\n",
    "print(min([2, 3, - 4, 100, - 5]), min([6.3, 566.3, - 9.0, - 400]))\n",
    "print(max([2, 3, - 4, 100, - 5]), max([6.3, 566.3, - 9.0, - 400]))\n",
    "print(round(10., 4), round(11), round(-15.5323), round(-15.5323, 2))\n",
    "print(bin(90), oct(70), hex(80))"
   ]
  },
  {
   "cell_type": "markdown",
   "id": "c6016509-acf0-42d1-8e6d-eb4054424628",
   "metadata": {},
   "source": [
    "## Числовые выражения"
   ]
  },
  {
   "cell_type": "code",
   "execution_count": 71,
   "id": "909c8f32-591f-4071-bfdd-a08350e7b8b0",
   "metadata": {},
   "outputs": [
    {
     "name": "stdout",
     "output_type": "stream",
     "text": [
      "(499.75999999999993+44.8j)\n",
      "33.0\n",
      "9.0\n",
      "1840\n",
      "5600\n",
      "308.0\n"
     ]
    }
   ],
   "source": [
    "# операнды преобразуются к типу, который представляет наиболее широкое математическое множество, \n",
    "# а затем выполняется операция над операндами одинакового типа\n",
    "print((23.4 - 1 + 1J) ** 2 - 1)\n",
    "print(3. * 11)\n",
    "print(3. * 0b11)\n",
    "print(23 * 0x50)\n",
    "print(0o106 * 0x50)\n",
    "print(0o106 * 4.4)"
   ]
  },
  {
   "cell_type": "code",
   "execution_count": 87,
   "id": "e88cebc6-d96e-40f8-93c0-22a006e91164",
   "metadata": {},
   "outputs": [
    {
     "name": "stdout",
     "output_type": "stream",
     "text": [
      "False 4.440892098500626e-16\n",
      "-4.440892098500626e-16\n",
      "False\n"
     ]
    }
   ],
   "source": [
    "# числа с плавающей точкой не способны представлять определенные значения точно из-за ограниченного количества битов\n",
    "print(1.1 + 2.2 == 3.3, 1.1 + 2.2 - 3.3)\n",
    "# мои примеры\n",
    "print(1.4 + 2.3 - 3.7)\n",
    "print(1.4 + 2.3 == 3.7)"
   ]
  },
  {
   "cell_type": "markdown",
   "id": "cd8b936e-e5b7-4b1f-898a-888e5e2b05c6",
   "metadata": {},
   "source": [
    "## Типы числовых объектов, не встроенные в Python"
   ]
  },
  {
   "cell_type": "code",
   "execution_count": 88,
   "id": "9f6b7085-ce8d-444a-a60c-d39a38269b89",
   "metadata": {},
   "outputs": [],
   "source": [
    "import decimal\n",
    "import fractions"
   ]
  },
  {
   "cell_type": "markdown",
   "id": "1cd2b612-acec-4bc4-9820-5dc27e040144",
   "metadata": {},
   "source": [
    "## Модули стандартной библиотеки для работы с числами"
   ]
  },
  {
   "cell_type": "code",
   "execution_count": 89,
   "id": "d518fb7c-c2b0-457a-bbb4-1588fc25d5af",
   "metadata": {},
   "outputs": [],
   "source": [
    "import cmath\n",
    "import random"
   ]
  },
  {
   "cell_type": "markdown",
   "id": "b03b22cd-25e8-4f51-8acf-f0801d7bcfb6",
   "metadata": {},
   "source": [
    "# 2.3 Встроенные типы для объектов последовательностей: str, list, tuple"
   ]
  },
  {
   "cell_type": "code",
   "execution_count": 101,
   "id": "846dd374-1464-438a-9a8f-f4d1018cf6e1",
   "metadata": {},
   "outputs": [
    {
     "name": "stdout",
     "output_type": "stream",
     "text": [
      "spam Bob's 1\n",
      "12121\n",
      "\n",
      "''\n"
     ]
    },
    {
     "data": {
      "text/plain": [
       "('', '')"
      ]
     },
     "execution_count": 101,
     "metadata": {},
     "output_type": "execute_result"
    }
   ],
   "source": [
    "# примеры литералов для создания строковых объектов\n",
    "print('spam', \"Bob's\", str(1))\n",
    "# мои примеры\n",
    "print(str(12121))\n",
    "print(str())\n",
    "print(str(\"''\"))\n",
    "\"\", str()"
   ]
  },
  {
   "cell_type": "code",
   "execution_count": 111,
   "id": "6998ca8b-4114-4e8d-947d-7e317c6e77b3",
   "metadata": {},
   "outputs": [
    {
     "name": "stdout",
     "output_type": "stream",
     "text": [
      "b'a\\x01c' spÄm\n",
      "b'aaaaaaaa' приветос\n",
      "\\i\u000b",
      "\\e\t\\p\n"
     ]
    }
   ],
   "source": [
    "# для создания байтовых строк используется символ b или B перед открывающей кавычкой строки\n",
    "# для создания строк Unicode используется символ u или U перед открывающей кавычкой строки\n",
    "print(b'a\\x01c', u'sp\\xc4m')\n",
    "# мои примеры\n",
    "print(b'aaaaaaaa', u'приветос')\n",
    "print(b'\"\"', u'\\p\\r\\i\\v\\e\\t')"
   ]
  },
  {
   "cell_type": "code",
   "execution_count": 120,
   "id": "0425c4e9-b01c-4f0a-8efe-95e39f7cf068",
   "metadata": {},
   "outputs": [
    {
     "name": "stdout",
     "output_type": "stream",
     "text": [
      "1\n",
      "2\t\\\t\\c\t 1\\n2\\t\\\\\\t\\c\\t\n",
      "1\n",
      "\n",
      "23\t\t45 ''\\\\'\\'\\\"\n",
      "\\c\\d \\r\n"
     ]
    }
   ],
   "source": [
    "# два символа \\n обозначают символ перехода на новую строку. \\t заменяется символом табуляции\n",
    "print(\"1\\n2\\t\\\\\\t\\c\\t\", r\"1\\n2\\t\\\\\\t\\c\\t\")\n",
    "# мои примеры\n",
    "print(\"1\\n\\n23\\t\\t45\", r\"''\\\\'\\'\\\"\")\n",
    "print(\"\\c\\d\", r\"\\r\")"
   ]
  },
  {
   "cell_type": "code",
   "execution_count": 128,
   "id": "eefb9005-e860-4167-84f8-c9e791e50304",
   "metadata": {},
   "outputs": [
    {
     "data": {
      "text/plain": [
       "'\\n\\n44'"
      ]
     },
     "execution_count": 128,
     "metadata": {},
     "output_type": "execute_result"
    }
   ],
   "source": [
    "# многострочные строковые литералы\n",
    "\"\"\"\n",
    "1\n",
    "2\n",
    "3\n",
    "\"\"\"\n",
    "# мои примеры\n",
    "\"\"\"\n",
    "\n",
    "44\"\"\"\n",
    "# больше примеров не будет"
   ]
  },
  {
   "cell_type": "code",
   "execution_count": 149,
   "id": "d8ec22c0-6164-4d60-b92f-265ddc0602f9",
   "metadata": {},
   "outputs": [
    {
     "name": "stdout",
     "output_type": "stream",
     "text": [
      "[1, [2, 'three'], 4.5] ['t', 'h', 'r', 'e', 'e']\n",
      "[] [[], [[[[['h', 'e', 'l', 'l', 'o']]]]], []]\n",
      "[11, 12, 12]\n",
      "[0, 1, 2]\n"
     ]
    }
   ],
   "source": [
    "# примеры литералов для создания списков и кортежей\n",
    "print([1, [2, 'three'], 4.5], list(\"three\"))\n",
    "# мои примеры\n",
    "print([], [[], [[[[list('hello')]]]], []])\n",
    "print(list([11, 12, 12]))\n",
    "print(list(range(3)))"
   ]
  },
  {
   "cell_type": "code",
   "execution_count": 155,
   "id": "1406e5f4-68f8-4ea3-ab8c-d0df31128e4f",
   "metadata": {},
   "outputs": [
    {
     "name": "stdout",
     "output_type": "stream",
     "text": [
      "(1, (2, 'three'), 4.5) (1,) (0, 1, 2)\n",
      "1\n",
      "1 2 3\n",
      "(0, 1, 2, 3, 4, 5, 6, 7, 8, 9)\n",
      "(' ', '\"', ' ', '\"', ' ')\n"
     ]
    }
   ],
   "source": [
    "# примеры литералов для создания кортежей\n",
    "print((1, (2, 'three'), 4.5), (1,), tuple(range(3)))\n",
    "# примеры мои\n",
    "print(1,)\n",
    "print(1, 2, 3)\n",
    "print(tuple(range(10)))\n",
    "print(tuple(' \" \" '))"
   ]
  },
  {
   "cell_type": "markdown",
   "id": "5c096023-0946-4388-8f6b-c3459183f1c0",
   "metadata": {},
   "source": [
    "# Операция над последовательностями: Индексация"
   ]
  },
  {
   "cell_type": "code",
   "execution_count": 168,
   "id": "51dbc76d-20fd-4d72-b164-10ba9c038343",
   "metadata": {},
   "outputs": [
    {
     "name": "stdout",
     "output_type": "stream",
     "text": [
      "S\n",
      "3.3\n",
      "String\n",
      "r\n",
      "str\n",
      "[[2, 3.3, 'str'], [1, 2, 3, 4, 5], (1, 'String', [2, 3.3, 'str']), (11, 12, 13, 14, 15), 'String', 'abcde']\n",
      "[1, 2, 3, 4, 5]\n",
      "str\n"
     ]
    }
   ],
   "source": [
    "# последовательности поддерживают доступ по смещению (индексацию)\n",
    "str1 = \"String\"; \n",
    "print(str1[0])\n",
    "list1 = [2, 3.3, 'str']\n",
    "print(list1[1])\n",
    "tuple1 = (1, str1, list1); \n",
    "print(tuple1[1])\n",
    "# мои примеры\n",
    "print(tuple1[1][2])\n",
    "print(tuple1[2][2])\n",
    "list2 = [1, 2, 3, 4, 5]\n",
    "str2 = 'abcde'\n",
    "tuple2 = 11, 12, 13, 14, 15\n",
    "list3 = [list1, list2, tuple1, tuple2, str1, str2]\n",
    "print(list3)\n",
    "print(list3[1])\n",
    "print(list3[2][2][2])"
   ]
  },
  {
   "cell_type": "code",
   "execution_count": 187,
   "id": "bba8c7e5-f681-489d-ac6f-8617b22b2ff4",
   "metadata": {},
   "outputs": [
    {
     "name": "stdout",
     "output_type": "stream",
     "text": [
      "g\n",
      "3.3\n",
      "1\n",
      "a\n",
      "13\n",
      "14\n",
      "(1, 'String', [2, 3.3, 'str'])\n",
      "1\n",
      "n\n",
      "2\n"
     ]
    }
   ],
   "source": [
    "# возможна индексация элементов последовательностей отрицательными значениями\n",
    "print(str1[-1])\n",
    "print(list1[-2])\n",
    "print(tuple1[-3])\n",
    "# мои примеры\n",
    "print(str2[-5])\n",
    "print(tuple2[-3])\n",
    "print(list3[-3][-2])\n",
    "print(list3[-4])\n",
    "print(list3[-4][-3])\n",
    "print(list3[-4][-2][-2])\n",
    "print(list3[-4][-1][0])"
   ]
  },
  {
   "cell_type": "code",
   "execution_count": 207,
   "id": "1927be3b-7dc3-4062-969d-94958ec429af",
   "metadata": {},
   "outputs": [
    {
     "name": "stdout",
     "output_type": "stream",
     "text": [
      "String tr tring Str rin String\n",
      "Andrey nd ndrey And dre Andrey\n",
      "Andrey y ndre   \n",
      "String\n"
     ]
    }
   ],
   "source": [
    "# нарезание\n",
    "print(str1, str1[1:3], str1[1:], str1[:3], str1[2:-1], str1[:])\n",
    "# мои примеры\n",
    "str3 = 'Andrey'\n",
    "print(str3, str3[1:3], str3[1:], str3[:3], str3[2:-1], str3[:])\n",
    "print(str3, str3[-1:], str3[-5:-1], str3[-1:-2], str3[5:5], str3[6:5])\n",
    "print(str1[-100:100])"
   ]
  },
  {
   "cell_type": "code",
   "execution_count": 214,
   "id": "8ecb9c7e-7f8e-43ed-8de8-1240eb068837",
   "metadata": {},
   "outputs": [
    {
     "name": "stdout",
     "output_type": "stream",
     "text": [
      "String Srn tn gnirtS\n",
      "[1, 2, 3, 4, 5] [1, 3, 5] [2, 5] [5, 4, 3, 2, 1] [5, 3, 1]\n",
      "[[2, 3.3, 'str'], [1, 2, 3, 4, 5], (1, 'String', [2, 3.3, 'str']), (11, 12, 13, 14, 15), 'String', 'abcde']\n",
      "[1, 3, 5]\n"
     ]
    }
   ],
   "source": [
    "# расширенное нарезание\n",
    "print(str1, str1[::2], str1[1::3], str1[::-1])\n",
    "# мои примеры\n",
    "print(list2, list2[::2], list2[1::3], list2[::-1], list2[::-2])\n",
    "print(list3)\n",
    "print(list3[1][::2])"
   ]
  },
  {
   "cell_type": "markdown",
   "id": "00126a03-d531-4757-a295-5152d3536a7c",
   "metadata": {},
   "source": [
    "# Операция над последовательностями: Конкатенация"
   ]
  },
  {
   "cell_type": "code",
   "execution_count": 229,
   "id": "13f9cf5b-daaa-4466-b5d9-6c6e5d520881",
   "metadata": {},
   "outputs": [
    {
     "name": "stdout",
     "output_type": "stream",
     "text": [
      "StringString\n",
      "[2, 3.3, 'str', 2, 3.3, 'str']\n",
      "(1, 'String', [2, 3.3, 'str'], 1, 'String', [2, 3.3, 'str'])\n",
      "abcdeabcde\n",
      "abcdeabcde\n",
      "abcde abcde\n",
      "abcde\n",
      "abcde\n",
      "[2, 3.3, 'str', 2, 3.3, 'str']\n",
      "[2, 3.3, 'str', 3]\n",
      "(1, 'String', [2, 3.3, 'str'], 1, 'String', [2, 3.3, 'str'], 1)\n"
     ]
    }
   ],
   "source": [
    "print(str1 + str1)\n",
    "print(list1 + list1)\n",
    "print(tuple1 + tuple1)\n",
    "# мои примеры\n",
    "print(str2 + str2)\n",
    "print(str2 + '' + str2)\n",
    "print(str2 + ' ' + str2)\n",
    "print(str2 + '\\n' + str2)\n",
    "print(list1 + list1)\n",
    "print(list1 + [3])\n",
    "print(tuple1 + tuple1 + (1,))"
   ]
  },
  {
   "cell_type": "markdown",
   "id": "2dc6e2be-4e69-42ae-ae16-907411352b47",
   "metadata": {},
   "source": [
    "# Операция над последовательностями: Повторение"
   ]
  },
  {
   "cell_type": "code",
   "execution_count": 241,
   "id": "16332e1c-5875-451d-a0b3-0314d1b94d2a",
   "metadata": {},
   "outputs": [
    {
     "name": "stdout",
     "output_type": "stream",
     "text": [
      "StringStringString\n",
      "[2, 3.3, 'str', 2, 3.3, 'str', 2, 3.3, 'str', 2, 3.3, 'str']\n",
      "(1, 'String', [2, 3.3, 'str'], 1, 'String', [2, 3.3, 'str'])\n",
      "aaaaaaaaaa\n",
      "[1, 2, 3, 4, 5, 1, 2, 3, 4, 5, 1, 2, 3, 4, 5, 1, 2, 3, 4, 5]\n",
      "(11, 12, 13, 14, 15, 11, 12, 13, 14, 15)\n"
     ]
    }
   ],
   "source": [
    "print(str1 * 3)\n",
    "print(list1 * 4)\n",
    "print(2 * tuple1)\n",
    "# мои примеры\n",
    "print('a' * 10)\n",
    "print(2 * list2 * 2)\n",
    "print(2 * tuple2)"
   ]
  },
  {
   "cell_type": "markdown",
   "id": "c968ef8d-46c5-4391-a940-4a8ecaea9306",
   "metadata": {},
   "source": [
    "# Операция над последовательностями: Длина"
   ]
  },
  {
   "cell_type": "code",
   "execution_count": 243,
   "id": "2565bad6-c198-4626-97eb-98221d93d06f",
   "metadata": {},
   "outputs": [
    {
     "name": "stdout",
     "output_type": "stream",
     "text": [
      "5\n",
      "5\n",
      "3\n"
     ]
    }
   ],
   "source": [
    "len(str1)\n",
    "len(list1)\n",
    "len(tuple1)\n",
    "# мои примеры\n",
    "print(len(str2))\n",
    "print(len(list2))\n",
    "print(len(tuple1))"
   ]
  },
  {
   "cell_type": "markdown",
   "id": "79f3691d-5251-408b-bdeb-28201fed34fb",
   "metadata": {},
   "source": [
    "# Операция над последовательностями: проверка членства"
   ]
  },
  {
   "cell_type": "code",
   "execution_count": null,
   "id": "338b4bd3-f658-4f46-8f70-04c9b829617e",
   "metadata": {},
   "outputs": [],
   "source": []
  },
  {
   "cell_type": "markdown",
   "id": "ea648f39-9b0e-404a-be08-0067c57e44fb",
   "metadata": {},
   "source": [
    "# Встроенные функции для работы со строками"
   ]
  },
  {
   "cell_type": "code",
   "execution_count": null,
   "id": "3ed56a87-cda8-465c-a2f5-b41d33c009e4",
   "metadata": {},
   "outputs": [],
   "source": []
  },
  {
   "cell_type": "code",
   "execution_count": null,
   "id": "c2633146-9fbd-4283-bb38-62e7356a2b5f",
   "metadata": {},
   "outputs": [],
   "source": []
  },
  {
   "cell_type": "code",
   "execution_count": null,
   "id": "755884bf-2635-4785-b2b9-9121188dde88",
   "metadata": {},
   "outputs": [],
   "source": []
  },
  {
   "cell_type": "code",
   "execution_count": null,
   "id": "fe0d1bd5-6ef3-4a2f-8fe2-9dcdbfa74372",
   "metadata": {},
   "outputs": [],
   "source": []
  },
  {
   "cell_type": "code",
   "execution_count": null,
   "id": "324807cb-6767-4193-bd73-96d3dba664d5",
   "metadata": {},
   "outputs": [],
   "source": []
  },
  {
   "cell_type": "markdown",
   "id": "f4f9168a-2747-446c-9547-b840cb5fbf22",
   "metadata": {
    "tags": []
   },
   "source": [
    "# Задание 3. (Выполнение уравжнений из книги М. Лутца)"
   ]
  },
  {
   "cell_type": "markdown",
   "id": "95c00a6a-f102-493b-86cb-0511a19da8a4",
   "metadata": {},
   "source": [
    "Выполните упражнения, представленные в [1, с. 340 – 342].\n",
    "\n",
    "Проверьте приобретенные знания, ответив на контрольные вопросы, которые находятся в [1, часть II], в конце каждой из глав 4 – 9. Выполните упражнения 1 – 11, представленные в [1, с. 340 – 342], в отдельной части Вашего документа. Содержимое этой части структурируйте. Выполнение сопровождайте краткими комментариями, располагая их или в ячейках кода, или в ячейках Markdown."
   ]
  },
  {
   "cell_type": "markdown",
   "id": "e2148648-8ed4-4a4e-b947-e0b1d6e9b8d0",
   "metadata": {
    "tags": []
   },
   "source": [
    "## Реалиация задания 3"
   ]
  }
 ],
 "metadata": {
  "kernelspec": {
   "display_name": "Python 3 (ipykernel)",
   "language": "python",
   "name": "python3"
  },
  "language_info": {
   "codemirror_mode": {
    "name": "ipython",
    "version": 3
   },
   "file_extension": ".py",
   "mimetype": "text/x-python",
   "name": "python",
   "nbconvert_exporter": "python",
   "pygments_lexer": "ipython3",
   "version": "3.10.5"
  }
 },
 "nbformat": 4,
 "nbformat_minor": 5
}
