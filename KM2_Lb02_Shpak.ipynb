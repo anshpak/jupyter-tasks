{
 "cells": [
  {
   "cell_type": "markdown",
   "id": "e08a2eb3-a426-4f79-9ff8-e582064873fa",
   "metadata": {},
   "source": [
    "# Лабораторная работа 1\n",
    "# Встроенные типы объектов в Python. Операции над объектами"
   ]
  },
  {
   "cell_type": "markdown",
   "id": "5958ea70-0963-4c69-b368-da6b0fbc8643",
   "metadata": {
    "tags": []
   },
   "source": [
    "# Задание 1 (Построение иерархии встроенных типов)"
   ]
  },
  {
   "cell_type": "markdown",
   "id": "201a539c-ca10-4600-9254-767957e8d15b",
   "metadata": {},
   "source": [
    "$\\textbf{Постройте и визуализируйте иерархическую модель типов встроенных объектов Python.}$\n",
    "\n",
    "Эта же модель должна отображать следующие свойства: упорядоченность либо нет элементов для объектов коллекций, изменяемость или неизменяемость объектов встроенных типов. Результат визуализации расположите в блокноте Jupyter Notebook, в ячейке, имеющей тип Markdown. \n",
    "    \n",
    "Проработайте материал лекций, представленный в файле 2022_KM2_T2_Types.html, разделы 2.1 – 2.6. Для визуализации иерархической модели типов используйте возможности пакета Mathematica. В частности, можно использовать функцию, которая отображает выражение в виде дерева. Лучше использовать пользовательскую функцию, которая была создана в первом семестре на занятиях по вычислительной практике."
   ]
  },
  {
   "cell_type": "markdown",
   "id": "0e68a560-4a90-4441-af04-0024bfc2d8a4",
   "metadata": {},
   "source": [
    "# Реализация задания 1"
   ]
  },
  {
   "cell_type": "code",
   "execution_count": null,
   "id": "bf6ed646-4a59-4d9f-b9b8-0a302be1a4ba",
   "metadata": {},
   "outputs": [],
   "source": []
  },
  {
   "cell_type": "markdown",
   "id": "5bc9d51b-7076-4c62-b051-38d063dd1c94",
   "metadata": {},
   "source": [
    "# Задание 2 (Проработка примеров, представленных в лекционном файле)"
   ]
  },
  {
   "cell_type": "markdown",
   "id": "0c6a7b97-86e7-4262-950f-ad2eee8d2b4d",
   "metadata": {},
   "source": [
    "$\\textbf{Проработайте материал лекций, представленный в файле 2022_KM2_T2_Types.html, разделы 2.1 – 2.11.}$\n",
    "\n",
    "Перенесите в свой блокнот Jupyter Notebook информационную структуру лекций, с указанием номера и темы раздела.\n",
    "\n",
    "Дополните каждый пример из лекционного материала аналогичным собственным примером и кратким комментарием к нему.\n",
    "\n",
    "Копируйте текущий лекционный пример из файла 2022_KM2_T2_Types.html в ячейку кода, располагая его в той области документа, которая соответствует изучаемой теме. Выполните скопированный пример. Приведите аналогичный пример, выполните его и запишите краткий комментарий к нему."
   ]
  },
  {
   "cell_type": "markdown",
   "id": "016e478c-6f3a-4406-b712-84b44b2dd0a7",
   "metadata": {
    "tags": []
   },
   "source": [
    "# Реализация задания 2"
   ]
  },
  {
   "cell_type": "markdown",
   "id": "c7af5223-9ac8-486b-a86f-454ee4570a94",
   "metadata": {},
   "source": [
    "# 2.1 Понятие объекта, атрибуты и методы объекта"
   ]
  },
  {
   "cell_type": "code",
   "execution_count": 73,
   "id": "55e19d54-c420-4358-8848-d92c4b2f58c7",
   "metadata": {},
   "outputs": [
    {
     "name": "stdout",
     "output_type": "stream",
     "text": [
      "<class 'list'>\n",
      "<class 'tuple'>\n",
      "<class 'complex'>\n",
      "<class 'list'>\n",
      "<class 'str'>\n",
      "<class 'int'>\n"
     ]
    }
   ],
   "source": [
    "# объект, атрибут, пространство имен\n",
    "list1 = [1, 2]\n",
    "a = 6\n",
    "print(list1.__class__)\n",
    "# мои примеры\n",
    "print((9, 3, 5, 6).__class__)\n",
    "print(3j.__class__)\n",
    "print(([0, 0, 0,]).__class__)\n",
    "print('text'.__class__)\n",
    "print(a.__class__)"
   ]
  },
  {
   "cell_type": "code",
   "execution_count": 74,
   "id": "9bf4b045-eb86-4e9e-aafd-a6c1e53f04ea",
   "metadata": {},
   "outputs": [
    {
     "data": {
      "text/plain": [
       "[1, 2, 3, 5, 4, 3, 2, 1, 0]"
      ]
     },
     "execution_count": 74,
     "metadata": {},
     "output_type": "execute_result"
    }
   ],
   "source": [
    "# метод\n",
    "list1.append(3)\n",
    "list1\n",
    "# мои примеры\n",
    "list1.append(5)\n",
    "list1.append(4)\n",
    "list1.append(3)\n",
    "list1.append(2)\n",
    "list1.append(1)\n",
    "list1.append(0)\n",
    "list1"
   ]
  },
  {
   "cell_type": "code",
   "execution_count": 75,
   "id": "f807244a-b760-4927-ad6b-da9fedead7c7",
   "metadata": {},
   "outputs": [
    {
     "name": "stdout",
     "output_type": "stream",
     "text": [
      "['__add__', '__class__', '__class_getitem__', '__contains__', '__delattr__', '__delitem__', '__dir__', '__doc__', '__eq__', '__format__', '__ge__', '__getattribute__', '__getitem__', '__gt__', '__hash__', '__iadd__', '__imul__', '__init__', '__init_subclass__', '__iter__', '__le__', '__len__', '__lt__', '__mul__', '__ne__', '__new__', '__reduce__', '__reduce_ex__', '__repr__', '__reversed__', '__rmul__', '__setattr__', '__setitem__', '__sizeof__', '__str__', '__subclasshook__', 'append', 'clear', 'copy', 'count', 'extend', 'index', 'insert', 'pop', 'remove', 'reverse', 'sort']\n",
      "['__add__', '__class__', '__class_getitem__', '__contains__', '__delattr__', '__dir__', '__doc__', '__eq__', '__format__', '__ge__', '__getattribute__', '__getitem__', '__getnewargs__', '__gt__', '__hash__', '__init__', '__init_subclass__', '__iter__', '__le__', '__len__', '__lt__', '__mul__', '__ne__', '__new__', '__reduce__', '__reduce_ex__', '__repr__', '__rmul__', '__setattr__', '__sizeof__', '__str__', '__subclasshook__', 'count', 'index']\n"
     ]
    }
   ],
   "source": [
    "# Чтобы выяснить, какие атрибуты имеют объекты встроенных типов, вызовите  𝐝𝐢𝐫  для созданного объекта или для литерала\n",
    "print(dir(list1))\n",
    "# мои примеры\n",
    "# print(dir(1))\n",
    "# print(dir('1'))\n",
    "# print(dir(3.4))\n",
    "# print(dir(6J))\n",
    "print(dir((5, 5, 5)))"
   ]
  },
  {
   "cell_type": "code",
   "execution_count": 16,
   "id": "85cc00e0-22ef-4d4b-a592-075e0d896fd3",
   "metadata": {},
   "outputs": [
    {
     "name": "stdout",
     "output_type": "stream",
     "text": [
      "105\n",
      "1 5 61 -995 3125\n"
     ]
    }
   ],
   "source": [
    "# атрибуты, которые начинаются и заканчиваются двумя подчеркиваниями,  чаще всего  являются  методами, \n",
    "# реализующими ОПЕРАЦИИ  над объектами\n",
    "a = 1\n",
    "a + 2, a.__add__(2)\n",
    "# мои примеры\n",
    "b = 5\n",
    "print(b.__add__(100))\n",
    "print(a, b, a.__add__(60), b.__add__(-1000), b.__pow__(5))"
   ]
  },
  {
   "cell_type": "code",
   "execution_count": 42,
   "id": "df8de04b-9b63-4df1-a6f9-5174dc76f19f",
   "metadata": {},
   "outputs": [
    {
     "name": "stdout",
     "output_type": "stream",
     "text": [
      "['__add__', '__class__', '__class_getitem__', '__contains__', '__delattr__', '__delitem__', '__dir__', '__doc__', '__eq__', '__format__', '__ge__', '__getattribute__', '__getitem__', '__gt__', '__hash__', '__iadd__', '__imul__', '__init__', '__init_subclass__', '__iter__', '__le__', '__len__', '__lt__', '__mul__', '__ne__', '__new__', '__reduce__', '__reduce_ex__', '__repr__', '__reversed__', '__rmul__', '__setattr__', '__setitem__', '__sizeof__', '__str__', '__subclasshook__']\n",
      "['__abs__', '__add__', '__and__', '__bool__', '__ceil__', '__class__', '__delattr__', '__dir__', '__divmod__', '__doc__', '__eq__', '__float__', '__floor__', '__floordiv__', '__format__', '__ge__', '__getattribute__', '__getnewargs__', '__gt__', '__hash__', '__index__', '__init__', '__init_subclass__', '__int__', '__invert__', '__le__', '__lshift__', '__lt__', '__mod__', '__mul__', '__ne__', '__neg__', '__new__', '__or__', '__pos__', '__pow__', '__radd__', '__rand__', '__rdivmod__', '__reduce__', '__reduce_ex__', '__repr__', '__rfloordiv__', '__rlshift__', '__rmod__', '__rmul__', '__ror__', '__round__', '__rpow__', '__rrshift__', '__rshift__', '__rsub__', '__rtruediv__', '__rxor__', '__setattr__', '__sizeof__', '__str__', '__sub__', '__subclasshook__', '__truediv__', '__trunc__', '__xor__']\n",
      "['as_integer_ratio']\n",
      "[]\n",
      "['clear', 'copy', 'count']\n"
     ]
    }
   ],
   "source": [
    "print([attr for attr in dir(list1) if attr.startswith('_')])\n",
    "# мои примеры\n",
    "print([(attr) for attr in dir(1) if attr.startswith('_')])\n",
    "print([(attr) for attr in dir(1) if attr.startswith('a')])\n",
    "print([(attr) for attr in dir('1') if attr.startswith('b')])\n",
    "print([(attr) for attr in dir([1]) if attr.startswith('c')])"
   ]
  },
  {
   "cell_type": "markdown",
   "id": "1903d2ad-74c9-467e-b88a-63cbd9451dd9",
   "metadata": {},
   "source": [
    "## Встроенные типы объектов"
   ]
  },
  {
   "cell_type": "code",
   "execution_count": 77,
   "id": "6c8d1321-de88-4bca-af71-37bfbfdd9c4d",
   "metadata": {},
   "outputs": [
    {
     "name": "stdout",
     "output_type": "stream",
     "text": [
      "<class 'list'>\n",
      "<class 'tuple'>\n",
      "<class 'complex'>\n",
      "<class 'list'>\n",
      "<class 'str'>\n"
     ]
    }
   ],
   "source": [
    "# type\n",
    "type(1), type(\"1\"), type([1])\n",
    "# мои примеры\n",
    "print(type(list1))\n",
    "print(type((9, 3, 5, 6)))\n",
    "print(type(3j))\n",
    "print((type([0, 0, 0,])))\n",
    "print(type('text'))\n",
    "# в Python 3 встроенные типы помечаются как классы"
   ]
  },
  {
   "cell_type": "markdown",
   "id": "dd9007da-3ba7-4934-b668-96d23a66af87",
   "metadata": {},
   "source": [
    "## Литерал"
   ]
  },
  {
   "cell_type": "code",
   "execution_count": 13,
   "id": "9319f5ae-666a-4588-9b83-eb2380f9d2e2",
   "metadata": {},
   "outputs": [
    {
     "name": "stdout",
     "output_type": "stream",
     "text": [
      "0 0.0 0j  [] () {} {1}\n",
      "10 6j\n"
     ]
    }
   ],
   "source": [
    "# имя функции-конструктора совпадает с названием типа создаваемого объекта\n",
    "print(int(), float(), complex(), str(), list(), tuple(), dict(), set([1]))\n",
    "# мои примеры \n",
    "print(int(0b01010), complex(6J))\n",
    "# ну что еще добавить....."
   ]
  },
  {
   "cell_type": "markdown",
   "id": "e6337328-90a6-4910-8a57-0530fcfc074e",
   "metadata": {},
   "source": [
    "# 2.2 Встроенные типы числовых объектов: int, float, complex"
   ]
  },
  {
   "cell_type": "code",
   "execution_count": 78,
   "id": "11a5d6dd-db92-4afe-8b7f-ab1d5903705b",
   "metadata": {},
   "outputs": [
    {
     "name": "stdout",
     "output_type": "stream",
     "text": [
      "1231244 31 423423423343445 0\n",
      "-0.143453515 30000000000.0 1e-11 234234.0\n",
      "(3+4j) 1j 11j\n"
     ]
    }
   ],
   "source": [
    "# литералы для создания числовых объектов\n",
    "1234, 0b11, int(),    3.1415, 3e-10, 1E-1, float(),    3+4j, 1J, complex()\n",
    "# мои примеры\n",
    "print(1231244, 0b11111, int(423423423343445), int())\n",
    "print(- 0.143453515, 3E10, 1e-11, float(234234))\n",
    "print(3 + 4j, 1J, complex(11j))"
   ]
  },
  {
   "cell_type": "code",
   "execution_count": 86,
   "id": "e275b261-3052-4db4-870a-346e0cebfbcc",
   "metadata": {},
   "outputs": [
    {
     "name": "stdout",
     "output_type": "stream",
     "text": [
      "(<class 'object'>,)\n",
      "(<class 'object'>,)\n",
      "(<class 'object'>,)\n",
      "(<class 'object'>,)\n",
      "(<class 'object'>,)\n",
      "(<class 'object'>,)\n",
      "(<class 'object'>,)\n",
      "(<class 'object'>,)\n",
      "(<class 'object'>,)\n"
     ]
    }
   ],
   "source": [
    "# bool унаследован от встроенного типа int\n",
    "bool.__bases__\n",
    "# мои примеры\n",
    "print(str.__bases__)\n",
    "print(list.__bases__)\n",
    "print(complex.__bases__)\n",
    "print(int.__bases__)\n",
    "print(float.__bases__)\n",
    "print(tuple.__bases__)\n",
    "print(list.__bases__)\n",
    "print(dict.__bases__)\n",
    "print(set.__bases__)"
   ]
  },
  {
   "cell_type": "code",
   "execution_count": 14,
   "id": "35f26300-2945-41e8-9783-778c0bb20708",
   "metadata": {},
   "outputs": [
    {
     "data": {
      "text/plain": [
       "(bool, bool)"
      ]
     },
     "execution_count": 14,
     "metadata": {},
     "output_type": "execute_result"
    }
   ],
   "source": [
    "# два объекта True и False имеют тип bool, они создаются в Python автоматически\n",
    "type(True), type(False)\n",
    "# мои примеры\n",
    "# ВОПРОС: какие различия между, напрмер 5 и True? имею в виду, почему не могу написать 5.__class__\n",
    "# 5.__class__\n",
    "True.__class__, False.__class__"
   ]
  },
  {
   "cell_type": "code",
   "execution_count": 15,
   "id": "9f9b0631-f17b-45ec-a063-163b69924bfc",
   "metadata": {},
   "outputs": [
    {
     "data": {
      "text/plain": [
       "False"
      ]
     },
     "execution_count": 15,
     "metadata": {},
     "output_type": "execute_result"
    }
   ],
   "source": [
    "# булевские объекты True и False по существу представляют собой целые числа 1 и 0 со специальной логикой отображения\n",
    "True == 1, False == 0 # значениями являются целые числа \n",
    "# мои примеры\n",
    "True == 14"
   ]
  },
  {
   "cell_type": "code",
   "execution_count": 106,
   "id": "9b9d77dd-f029-4083-9a49-66a9b38ed618",
   "metadata": {},
   "outputs": [
    {
     "name": "stdout",
     "output_type": "stream",
     "text": [
      "2 0\n",
      "1 100 0.2 1 3 -0.2j\n",
      "0 0 0.0 0 0 0j\n"
     ]
    }
   ],
   "source": [
    "print(True + 1, True * False) # значениями являются целые числа \n",
    "# мои примеры\n",
    "print(True * 1, True * 100, True / 5, True % 11, True * 0b11, True / 5J)\n",
    "print(False * 1, False * 100, False / 5, False % 11, False * 0b11, False / 5J)"
   ]
  },
  {
   "cell_type": "code",
   "execution_count": 114,
   "id": "1ad7e9a5-a357-4171-8ea6-63d963aa08c0",
   "metadata": {},
   "outputs": [
    {
     "name": "stdout",
     "output_type": "stream",
     "text": [
      "[False, True, False, True, False, True, False, True, False]\n",
      "True\n",
      "False\n"
     ]
    }
   ],
   "source": [
    "# КАЖДЫЙ объект в Python характеризуется своим булевским значением True или False:\n",
    "# числа, равные нулю, имеют булевское значение False и значение True в противном случае\n",
    "# пустые коллекции имеют булевское значение False и True в противном случае\n",
    "# объект None имеет булевское значение False\n",
    "print([bool(x) for x in [0, 10, \"\", \"a\", [], [1], {}, {1:1}, None]])\n",
    "# мои примеры\n",
    "print(bool('    '))\n",
    "print(bool(()))\n",
    "# ну что тут ещё добавить"
   ]
  },
  {
   "cell_type": "markdown",
   "id": "e908d060-0e24-4852-9fac-64c61bf2eb2d",
   "metadata": {},
   "source": [
    "## Некоторые арифметические операции"
   ]
  },
  {
   "cell_type": "code",
   "execution_count": 36,
   "id": "955b9c81-c922-46ba-862a-3f656b1727e4",
   "metadata": {},
   "outputs": [
    {
     "name": "stdout",
     "output_type": "stream",
     "text": [
      "7 7.0\n",
      "0 -3.0\n",
      "-1.0\n"
     ]
    }
   ],
   "source": [
    "# целочисленное деление с округлением в меньшую сторону (//) для типов int и float\n",
    "print(15 // 2, 15.2 // 2)\n",
    "# мои примеры\n",
    "print(20 // 21, -4.12 // 2)\n",
    "print(15.00 // -21.00)\n",
    "# почему в конце ответ именно такой? \n",
    "# разделить число a на b != 0 с остатком значит найти два q и r, удовлетворяющие следующим условиям:\n",
    "# a = q * b + r"
   ]
  },
  {
   "cell_type": "code",
   "execution_count": 37,
   "id": "07c87404-3c15-49e4-9242-1bf7c62da184",
   "metadata": {},
   "outputs": [
    {
     "name": "stdout",
     "output_type": "stream",
     "text": [
      "1 1.1999999999999993\n",
      "20 1.88\n",
      "-6.0\n",
      "0.0\n"
     ]
    }
   ],
   "source": [
    "# остаток от деления (%) для типов int и float\n",
    "print(15 % 2, 15.2 % 2)\n",
    "# мои примеры\n",
    "print(20 % 21, -4.12 % 2)\n",
    "print(15.00 % -21.00)\n",
    "print(15.00 % 3)"
   ]
  },
  {
   "cell_type": "code",
   "execution_count": 42,
   "id": "ef89a04c-7e77-43e7-8da3-2fc005035f92",
   "metadata": {},
   "outputs": [
    {
     "name": "stdout",
     "output_type": "stream",
     "text": [
      "225 225.0 (-224+30j)\n",
      "1 95367431640625.0 (-0.004385621426893257-0.000587360012530347j)\n",
      "0.01 0.0044444444444444444 (250876+725700j)\n"
     ]
    }
   ],
   "source": [
    "# возведение в степень (**) для типов int, float и complex\n",
    "print(15 ** 2, 15. ** 2., (1 + 15.J) ** 2)\n",
    "# мои примеры\n",
    "print(1 ** 20, 5. ** 20., (1 + 15.J) ** -2)\n",
    "print(10 ** - 2, 15. ** - 2., (1 + 15.J) ** 5)"
   ]
  },
  {
   "cell_type": "markdown",
   "id": "cc61256f-0219-46a8-a10b-0d024ff36e1f",
   "metadata": {},
   "source": [
    "## Некоторые встроенные функции для обработки чисел"
   ]
  },
  {
   "cell_type": "code",
   "execution_count": 65,
   "id": "349020bf-0622-4533-b40c-ba1ed6e371c2",
   "metadata": {},
   "outputs": [
    {
     "name": "stdout",
     "output_type": "stream",
     "text": [
      "10.5556 11 0b11 0o11 0xf\n",
      "11 5.0\n",
      "96 163.5999999999999\n",
      "-5 -400\n",
      "100 566.3\n",
      "10.0 11 -16 -15.53\n",
      "0b1011010 0o106 0x50\n"
     ]
    }
   ],
   "source": [
    "# abs, sum, min, max, округление (round); функции преобразования из десятичной системы счисления: \n",
    "# bin, oct, hex возвращают строковый объект\n",
    "print(round(10.555555, 4), round(10.51), bin(3), oct(9), hex(15))\n",
    "# мои примеры\n",
    "print(abs(- 11), abs(- 5.))\n",
    "print(sum([2, 3, - 4, 100, - 5]), sum([6.3, 566.3, - 9.0, - 400]))\n",
    "print(min([2, 3, - 4, 100, - 5]), min([6.3, 566.3, - 9.0, - 400]))\n",
    "print(max([2, 3, - 4, 100, - 5]), max([6.3, 566.3, - 9.0, - 400]))\n",
    "print(round(10., 4), round(11), round(-15.5323), round(-15.5323, 2))\n",
    "print(bin(90), oct(70), hex(80))"
   ]
  },
  {
   "cell_type": "markdown",
   "id": "c6016509-acf0-42d1-8e6d-eb4054424628",
   "metadata": {},
   "source": [
    "## Числовые выражения"
   ]
  },
  {
   "cell_type": "code",
   "execution_count": 71,
   "id": "909c8f32-591f-4071-bfdd-a08350e7b8b0",
   "metadata": {},
   "outputs": [
    {
     "name": "stdout",
     "output_type": "stream",
     "text": [
      "(499.75999999999993+44.8j)\n",
      "33.0\n",
      "9.0\n",
      "1840\n",
      "5600\n",
      "308.0\n"
     ]
    }
   ],
   "source": [
    "# операнды преобразуются к типу, который представляет наиболее широкое математическое множество, \n",
    "# а затем выполняется операция над операндами одинакового типа\n",
    "print((23.4 - 1 + 1J) ** 2 - 1)\n",
    "print(3. * 11)\n",
    "print(3. * 0b11)\n",
    "print(23 * 0x50)\n",
    "print(0o106 * 0x50)\n",
    "print(0o106 * 4.4)"
   ]
  },
  {
   "cell_type": "code",
   "execution_count": 87,
   "id": "e88cebc6-d96e-40f8-93c0-22a006e91164",
   "metadata": {},
   "outputs": [
    {
     "name": "stdout",
     "output_type": "stream",
     "text": [
      "False 4.440892098500626e-16\n",
      "-4.440892098500626e-16\n",
      "False\n"
     ]
    }
   ],
   "source": [
    "# числа с плавающей точкой не способны представлять определенные значения точно из-за ограниченного количества битов\n",
    "print(1.1 + 2.2 == 3.3, 1.1 + 2.2 - 3.3)\n",
    "# мои примеры\n",
    "print(1.4 + 2.3 - 3.7)\n",
    "print(1.4 + 2.3 == 3.7)"
   ]
  },
  {
   "cell_type": "markdown",
   "id": "cd8b936e-e5b7-4b1f-898a-888e5e2b05c6",
   "metadata": {},
   "source": [
    "## Типы числовых объектов, не встроенные в Python"
   ]
  },
  {
   "cell_type": "code",
   "execution_count": 88,
   "id": "9f6b7085-ce8d-444a-a60c-d39a38269b89",
   "metadata": {},
   "outputs": [],
   "source": [
    "import decimal\n",
    "import fractions"
   ]
  },
  {
   "cell_type": "markdown",
   "id": "1cd2b612-acec-4bc4-9820-5dc27e040144",
   "metadata": {},
   "source": [
    "## Модули стандартной библиотеки для работы с числами"
   ]
  },
  {
   "cell_type": "code",
   "execution_count": 89,
   "id": "d518fb7c-c2b0-457a-bbb4-1588fc25d5af",
   "metadata": {},
   "outputs": [],
   "source": [
    "import cmath\n",
    "import random"
   ]
  },
  {
   "cell_type": "markdown",
   "id": "b03b22cd-25e8-4f51-8acf-f0801d7bcfb6",
   "metadata": {},
   "source": [
    "# 2.3 Встроенные типы для объектов последовательностей: str, list, tuple"
   ]
  },
  {
   "cell_type": "code",
   "execution_count": 101,
   "id": "846dd374-1464-438a-9a8f-f4d1018cf6e1",
   "metadata": {},
   "outputs": [
    {
     "name": "stdout",
     "output_type": "stream",
     "text": [
      "spam Bob's 1\n",
      "12121\n",
      "\n",
      "''\n"
     ]
    },
    {
     "data": {
      "text/plain": [
       "('', '')"
      ]
     },
     "execution_count": 101,
     "metadata": {},
     "output_type": "execute_result"
    }
   ],
   "source": [
    "# примеры литералов для создания строковых объектов\n",
    "print('spam', \"Bob's\", str(1))\n",
    "# мои примеры\n",
    "print(str(12121))\n",
    "print(str())\n",
    "print(str(\"''\"))\n",
    "\"\", str()"
   ]
  },
  {
   "cell_type": "code",
   "execution_count": 111,
   "id": "6998ca8b-4114-4e8d-947d-7e317c6e77b3",
   "metadata": {},
   "outputs": [
    {
     "name": "stdout",
     "output_type": "stream",
     "text": [
      "b'a\\x01c' spÄm\n",
      "b'aaaaaaaa' приветос\n",
      "\\i\u000b",
      "\\e\t\\p\n"
     ]
    }
   ],
   "source": [
    "# для создания байтовых строк используется символ b или B перед открывающей кавычкой строки\n",
    "# для создания строк Unicode используется символ u или U перед открывающей кавычкой строки\n",
    "print(b'a\\x01c', u'sp\\xc4m')\n",
    "# мои примеры\n",
    "print(b'aaaaaaaa', u'приветос')\n",
    "print(b'\"\"', u'\\p\\r\\i\\v\\e\\t')"
   ]
  },
  {
   "cell_type": "code",
   "execution_count": 120,
   "id": "0425c4e9-b01c-4f0a-8efe-95e39f7cf068",
   "metadata": {},
   "outputs": [
    {
     "name": "stdout",
     "output_type": "stream",
     "text": [
      "1\n",
      "2\t\\\t\\c\t 1\\n2\\t\\\\\\t\\c\\t\n",
      "1\n",
      "\n",
      "23\t\t45 ''\\\\'\\'\\\"\n",
      "\\c\\d \\r\n"
     ]
    }
   ],
   "source": [
    "# два символа \\n обозначают символ перехода на новую строку. \\t заменяется символом табуляции\n",
    "print(\"1\\n2\\t\\\\\\t\\c\\t\", r\"1\\n2\\t\\\\\\t\\c\\t\")\n",
    "# мои примеры\n",
    "print(\"1\\n\\n23\\t\\t45\", r\"''\\\\'\\'\\\"\")\n",
    "print(\"\\c\\d\", r\"\\r\")"
   ]
  },
  {
   "cell_type": "code",
   "execution_count": 128,
   "id": "eefb9005-e860-4167-84f8-c9e791e50304",
   "metadata": {},
   "outputs": [
    {
     "data": {
      "text/plain": [
       "'\\n\\n44'"
      ]
     },
     "execution_count": 128,
     "metadata": {},
     "output_type": "execute_result"
    }
   ],
   "source": [
    "# многострочные строковые литералы\n",
    "\"\"\"\n",
    "1\n",
    "2\n",
    "3\n",
    "\"\"\"\n",
    "# мои примеры\n",
    "\"\"\"\n",
    "\n",
    "44\"\"\"\n",
    "# больше примеров не будет"
   ]
  },
  {
   "cell_type": "code",
   "execution_count": 149,
   "id": "d8ec22c0-6164-4d60-b92f-265ddc0602f9",
   "metadata": {},
   "outputs": [
    {
     "name": "stdout",
     "output_type": "stream",
     "text": [
      "[1, [2, 'three'], 4.5] ['t', 'h', 'r', 'e', 'e']\n",
      "[] [[], [[[[['h', 'e', 'l', 'l', 'o']]]]], []]\n",
      "[11, 12, 12]\n",
      "[0, 1, 2]\n"
     ]
    }
   ],
   "source": [
    "# примеры литералов для создания списков и кортежей\n",
    "print([1, [2, 'three'], 4.5], list(\"three\"))\n",
    "# мои примеры\n",
    "print([], [[], [[[[list('hello')]]]], []])\n",
    "print(list([11, 12, 12]))\n",
    "print(list(range(3)))"
   ]
  },
  {
   "cell_type": "code",
   "execution_count": 155,
   "id": "1406e5f4-68f8-4ea3-ab8c-d0df31128e4f",
   "metadata": {},
   "outputs": [
    {
     "name": "stdout",
     "output_type": "stream",
     "text": [
      "(1, (2, 'three'), 4.5) (1,) (0, 1, 2)\n",
      "1\n",
      "1 2 3\n",
      "(0, 1, 2, 3, 4, 5, 6, 7, 8, 9)\n",
      "(' ', '\"', ' ', '\"', ' ')\n"
     ]
    }
   ],
   "source": [
    "# примеры литералов для создания кортежей\n",
    "print((1, (2, 'three'), 4.5), (1,), tuple(range(3)))\n",
    "# примеры мои\n",
    "print(1,)\n",
    "print(1, 2, 3)\n",
    "print(tuple(range(10)))\n",
    "print(tuple(' \" \" '))"
   ]
  },
  {
   "cell_type": "markdown",
   "id": "5c096023-0946-4388-8f6b-c3459183f1c0",
   "metadata": {},
   "source": [
    "## Операция над последовательностями: Индексация"
   ]
  },
  {
   "cell_type": "code",
   "execution_count": 168,
   "id": "51dbc76d-20fd-4d72-b164-10ba9c038343",
   "metadata": {},
   "outputs": [
    {
     "name": "stdout",
     "output_type": "stream",
     "text": [
      "S\n",
      "3.3\n",
      "String\n",
      "r\n",
      "str\n",
      "[[2, 3.3, 'str'], [1, 2, 3, 4, 5], (1, 'String', [2, 3.3, 'str']), (11, 12, 13, 14, 15), 'String', 'abcde']\n",
      "[1, 2, 3, 4, 5]\n",
      "str\n"
     ]
    }
   ],
   "source": [
    "# последовательности поддерживают доступ по смещению (индексацию)\n",
    "str1 = \"String\"; \n",
    "print(str1[0])\n",
    "list1 = [2, 3.3, 'str']\n",
    "print(list1[1])\n",
    "tuple1 = (1, str1, list1); \n",
    "print(tuple1[1])\n",
    "# мои примеры\n",
    "print(tuple1[1][2])\n",
    "print(tuple1[2][2])\n",
    "list2 = [1, 2, 3, 4, 5]\n",
    "str2 = 'abcde'\n",
    "tuple2 = 11, 12, 13, 14, 15\n",
    "list3 = [list1, list2, tuple1, tuple2, str1, str2]\n",
    "print(list3)\n",
    "print(list3[1])\n",
    "print(list3[2][2][2])"
   ]
  },
  {
   "cell_type": "code",
   "execution_count": 187,
   "id": "bba8c7e5-f681-489d-ac6f-8617b22b2ff4",
   "metadata": {},
   "outputs": [
    {
     "name": "stdout",
     "output_type": "stream",
     "text": [
      "g\n",
      "3.3\n",
      "1\n",
      "a\n",
      "13\n",
      "14\n",
      "(1, 'String', [2, 3.3, 'str'])\n",
      "1\n",
      "n\n",
      "2\n"
     ]
    }
   ],
   "source": [
    "# возможна индексация элементов последовательностей отрицательными значениями\n",
    "print(str1[-1])\n",
    "print(list1[-2])\n",
    "print(tuple1[-3])\n",
    "# мои примеры\n",
    "print(str2[-5])\n",
    "print(tuple2[-3])\n",
    "print(list3[-3][-2])\n",
    "print(list3[-4])\n",
    "print(list3[-4][-3])\n",
    "print(list3[-4][-2][-2])\n",
    "print(list3[-4][-1][0])"
   ]
  },
  {
   "cell_type": "code",
   "execution_count": 207,
   "id": "1927be3b-7dc3-4062-969d-94958ec429af",
   "metadata": {},
   "outputs": [
    {
     "name": "stdout",
     "output_type": "stream",
     "text": [
      "String tr tring Str rin String\n",
      "Andrey nd ndrey And dre Andrey\n",
      "Andrey y ndre   \n",
      "String\n"
     ]
    }
   ],
   "source": [
    "# нарезание\n",
    "print(str1, str1[1:3], str1[1:], str1[:3], str1[2:-1], str1[:])\n",
    "# мои примеры\n",
    "str3 = 'Andrey'\n",
    "print(str3, str3[1:3], str3[1:], str3[:3], str3[2:-1], str3[:])\n",
    "print(str3, str3[-1:], str3[-5:-1], str3[-1:-2], str3[5:5], str3[6:5])\n",
    "print(str1[-100:100])"
   ]
  },
  {
   "cell_type": "code",
   "execution_count": 214,
   "id": "8ecb9c7e-7f8e-43ed-8de8-1240eb068837",
   "metadata": {},
   "outputs": [
    {
     "name": "stdout",
     "output_type": "stream",
     "text": [
      "String Srn tn gnirtS\n",
      "[1, 2, 3, 4, 5] [1, 3, 5] [2, 5] [5, 4, 3, 2, 1] [5, 3, 1]\n",
      "[[2, 3.3, 'str'], [1, 2, 3, 4, 5], (1, 'String', [2, 3.3, 'str']), (11, 12, 13, 14, 15), 'String', 'abcde']\n",
      "[1, 3, 5]\n"
     ]
    }
   ],
   "source": [
    "# расширенное нарезание\n",
    "print(str1, str1[::2], str1[1::3], str1[::-1])\n",
    "# мои примеры\n",
    "print(list2, list2[::2], list2[1::3], list2[::-1], list2[::-2])\n",
    "print(list3)\n",
    "print(list3[1][::2])"
   ]
  },
  {
   "cell_type": "markdown",
   "id": "00126a03-d531-4757-a295-5152d3536a7c",
   "metadata": {},
   "source": [
    "## Операция над последовательностями: Конкатенация"
   ]
  },
  {
   "cell_type": "code",
   "execution_count": 229,
   "id": "13f9cf5b-daaa-4466-b5d9-6c6e5d520881",
   "metadata": {},
   "outputs": [
    {
     "name": "stdout",
     "output_type": "stream",
     "text": [
      "StringString\n",
      "[2, 3.3, 'str', 2, 3.3, 'str']\n",
      "(1, 'String', [2, 3.3, 'str'], 1, 'String', [2, 3.3, 'str'])\n",
      "abcdeabcde\n",
      "abcdeabcde\n",
      "abcde abcde\n",
      "abcde\n",
      "abcde\n",
      "[2, 3.3, 'str', 2, 3.3, 'str']\n",
      "[2, 3.3, 'str', 3]\n",
      "(1, 'String', [2, 3.3, 'str'], 1, 'String', [2, 3.3, 'str'], 1)\n"
     ]
    }
   ],
   "source": [
    "print(str1 + str1)\n",
    "print(list1 + list1)\n",
    "print(tuple1 + tuple1)\n",
    "# мои примеры\n",
    "print(str2 + str2)\n",
    "print(str2 + '' + str2)\n",
    "print(str2 + ' ' + str2)\n",
    "print(str2 + '\\n' + str2)\n",
    "print(list1 + list1)\n",
    "print(list1 + [3])\n",
    "print(tuple1 + tuple1 + (1,))"
   ]
  },
  {
   "cell_type": "markdown",
   "id": "2dc6e2be-4e69-42ae-ae16-907411352b47",
   "metadata": {},
   "source": [
    "## Операция над последовательностями: Повторение"
   ]
  },
  {
   "cell_type": "code",
   "execution_count": 241,
   "id": "16332e1c-5875-451d-a0b3-0314d1b94d2a",
   "metadata": {},
   "outputs": [
    {
     "name": "stdout",
     "output_type": "stream",
     "text": [
      "StringStringString\n",
      "[2, 3.3, 'str', 2, 3.3, 'str', 2, 3.3, 'str', 2, 3.3, 'str']\n",
      "(1, 'String', [2, 3.3, 'str'], 1, 'String', [2, 3.3, 'str'])\n",
      "aaaaaaaaaa\n",
      "[1, 2, 3, 4, 5, 1, 2, 3, 4, 5, 1, 2, 3, 4, 5, 1, 2, 3, 4, 5]\n",
      "(11, 12, 13, 14, 15, 11, 12, 13, 14, 15)\n"
     ]
    }
   ],
   "source": [
    "print(str1 * 3)\n",
    "print(list1 * 4)\n",
    "print(2 * tuple1)\n",
    "# мои примеры\n",
    "print('a' * 10)\n",
    "print(2 * list2 * 2)\n",
    "print(2 * tuple2)"
   ]
  },
  {
   "cell_type": "markdown",
   "id": "c968ef8d-46c5-4391-a940-4a8ecaea9306",
   "metadata": {},
   "source": [
    "## Операция над последовательностями: Длина"
   ]
  },
  {
   "cell_type": "code",
   "execution_count": 243,
   "id": "2565bad6-c198-4626-97eb-98221d93d06f",
   "metadata": {},
   "outputs": [
    {
     "name": "stdout",
     "output_type": "stream",
     "text": [
      "5\n",
      "5\n",
      "3\n"
     ]
    }
   ],
   "source": [
    "len(str1)\n",
    "len(list1)\n",
    "len(tuple1)\n",
    "# мои примеры\n",
    "print(len(str2))\n",
    "print(len(list2))\n",
    "print(len(tuple1))"
   ]
  },
  {
   "cell_type": "markdown",
   "id": "79f3691d-5251-408b-bdeb-28201fed34fb",
   "metadata": {},
   "source": [
    "## Операция над последовательностями: проверка членства"
   ]
  },
  {
   "cell_type": "code",
   "execution_count": 252,
   "id": "338b4bd3-f658-4f46-8f70-04c9b829617e",
   "metadata": {},
   "outputs": [
    {
     "name": "stdout",
     "output_type": "stream",
     "text": [
      "True\n",
      "True\n",
      "False\n"
     ]
    }
   ],
   "source": [
    "# print(\"ing\" in str1)\n",
    "# print(10 not in list1)\n",
    "# print(2 in tuple1)\n",
    "# мои примеры\n",
    "print('e' in str2)\n",
    "print(list2 in list3)\n",
    "print(1 not in list3[2])"
   ]
  },
  {
   "cell_type": "markdown",
   "id": "ea648f39-9b0e-404a-be08-0067c57e44fb",
   "metadata": {},
   "source": [
    "## Встроенные функции для работы со строками"
   ]
  },
  {
   "cell_type": "code",
   "execution_count": 261,
   "id": "3ed56a87-cda8-465c-a2f5-b41d33c009e4",
   "metadata": {},
   "outputs": [
    {
     "name": "stdout",
     "output_type": "stream",
     "text": [
      "1081 й\n",
      "Return the Unicode code point for a one-character string.\n",
      "97 a\n",
      "49 1\n",
      "10 \n",
      "\n",
      "47 /\n",
      "46 .\n"
     ]
    }
   ],
   "source": [
    "# ord преобразовывает односимвольную строку в целочисленный код символа в кодировочной таблице\n",
    "# chr выполняет обратное преобразование, принимая целочисленный код символа и возвращая символ, соответствующий коду\n",
    "print(ord(\"й\"), chr(1081))\n",
    "print(ord.__doc__)\n",
    "# мои примеры\n",
    "print(ord(\"a\"), chr(97))\n",
    "print(ord(\"1\"), chr(49))\n",
    "print(ord(\"\\n\"), chr(10))\n",
    "print(ord(\"/\"), chr(47))\n",
    "print(ord(\".\"), chr(46))"
   ]
  },
  {
   "cell_type": "markdown",
   "id": "1cb8f6aa-01be-453a-b6e9-f8cf92cb660b",
   "metadata": {},
   "source": [
    "# 2.4 Встроенный тип отображение: словарь (dict)"
   ]
  },
  {
   "cell_type": "code",
   "execution_count": 283,
   "id": "8b9fac35-de41-4c43-9f88-0eb5e20c0e70",
   "metadata": {},
   "outputs": [
    {
     "data": {
      "text/plain": [
       "{(1, 'str', '1', (1, 2, 3)): [[2, 3.3, 'str'],\n",
       "  [1, 2, 3, 4, 5],\n",
       "  (1, 'String', [2, 3.3, 'str']),\n",
       "  (11, 12, 13, 14, 15),\n",
       "  'String',\n",
       "  'abcde']}"
      ]
     },
     "execution_count": 283,
     "metadata": {},
     "output_type": "execute_result"
    }
   ],
   "source": [
    "# примеры литералов для создания словарей\n",
    "{'first': 1, \"second\": 2, 3: 3}, dict(one = 1, two = 2), dict(zip(['one', 'two'], [1, 2]))\n",
    "# мои примеры\n",
    "{1: [1, 2, 3]}\n",
    "{1: [1, 2, 3], 'str': str1}\n",
    "# куда пропадает a: 1?\n",
    "{1: [1, 2, 3], 'str': str1, a: 1}\n",
    "{1: [1, 2, 3], 'str': str1, 'a': 1, (1, \"\",): list2}\n",
    "tuple3 = 1, 'str', '1', (1, 2, 3) \n",
    "{tuple3: list3}"
   ]
  },
  {
   "cell_type": "code",
   "execution_count": 298,
   "id": "744a3d11-3706-43cb-96e4-a61db2111a45",
   "metadata": {},
   "outputs": [
    {
     "data": {
      "text/plain": [
       "{1: 1, '1': '1', (1,): (1,)}"
      ]
     },
     "execution_count": 298,
     "metadata": {},
     "output_type": "execute_result"
    }
   ],
   "source": [
    "dict(one = 1, two = 2)\n",
    "dict(a = '1', b = '2')\n",
    "\n",
    "dict(zip(['one', 'two'], [1, 2]))\n",
    "dict(zip([1, '/n'], [1]))\n",
    "{1: 1, \"1\": \"1\", (1,): (1,)}"
   ]
  },
  {
   "cell_type": "code",
   "execution_count": 307,
   "id": "eb71ced9-540b-47c4-84cd-5a44b261e26a",
   "metadata": {},
   "outputs": [
    {
     "name": "stdout",
     "output_type": "stream",
     "text": [
      "{'k': 0, 'e': 0, 'y': 0, 's': 0}\n",
      "{'k': 0, 1: 0}\n"
     ]
    }
   ],
   "source": [
    "# словарь можно создать с помощью метода словаря fromkeys, передавая \n",
    "# последовательность ключей и начальную величину для всех значений (по умолчанию для значений принимается None)\n",
    "dict1 = {}\n",
    "print(dict1.fromkeys(\"keys\", 0))\n",
    "# мои примеры\n",
    "print(dict1.fromkeys([\"k\", 1], 0))"
   ]
  },
  {
   "cell_type": "code",
   "execution_count": 310,
   "id": "0fb52d4d-142e-4702-9a5c-508c33b7cf56",
   "metadata": {},
   "outputs": [
    {
     "data": {
      "text/plain": [
       "{(1, 10, 100): 5, (100, 100, 100): 500, (0, 1, 2): '', ('', (1,), 100): 500}"
      ]
     },
     "execution_count": 310,
     "metadata": {},
     "output_type": "execute_result"
    }
   ],
   "source": [
    "matrix = {}\n",
    "matrix[(1, 10, 100)] = 5; matrix[(100, 100, 100)] = 500\n",
    "matrix\n",
    "# мои примеры\n",
    "matrix[(1, 10, 100)] = 5\n",
    "matrix[(100, 100, 100)] = 500\n",
    "matrix[(0, 1, 2)] = ''\n",
    "matrix[('', (1,), 100)] = 500\n",
    "matrix"
   ]
  },
  {
   "cell_type": "markdown",
   "id": "3444a051-bd5c-4283-b1e2-ad5cff0ae25e",
   "metadata": {},
   "source": [
    "## Операция над словарем: Индексация"
   ]
  },
  {
   "cell_type": "code",
   "execution_count": 322,
   "id": "4bc5f473-1f81-44be-832d-6f1b54146f2c",
   "metadata": {},
   "outputs": [
    {
     "name": "stdout",
     "output_type": "stream",
     "text": [
      "{'one': 11} 11\n",
      "[1, 2, 3]\n",
      "1\n",
      "[1, 2, 3, 4, 5]\n"
     ]
    },
    {
     "data": {
      "text/plain": [
       "{1: [1, 2, 3], 'str': 'String', 'a': '1', (1, ''): [1, 2, 3, 4, 5], 'b': '2'}"
      ]
     },
     "execution_count": 322,
     "metadata": {},
     "output_type": "execute_result"
    }
   ],
   "source": [
    "# индексируются по ключу\n",
    "dict1 = {'one': 1}\n",
    "\n",
    "dict1['one'] = 11 # индексация для изменения значения\n",
    "print(dict1, dict1['one']) #индексация для извлечения значения\n",
    "\n",
    "# мои примеры\n",
    "dict2 = {1: [1, 2, 3], 'str': str1, 'a': 1, (1, \"\",): list2}\n",
    "print(dict2[1])\n",
    "print(dict2[1][0])\n",
    "print(dict2[(1, \"\",)])\n",
    "dict2['a'] = '1'\n",
    "dict2\n",
    "dict1['two'] = 2 \n",
    "dict1\n",
    "dict2['b'] = '2'\n",
    "dict2"
   ]
  },
  {
   "cell_type": "code",
   "execution_count": 323,
   "id": "df62e1bb-9cb6-4634-97fd-e4175bc1e77b",
   "metadata": {},
   "outputs": [],
   "source": [
    "# операция конкатенации и повторения не работают для словарей"
   ]
  },
  {
   "cell_type": "markdown",
   "id": "8fc15557-55b5-482c-b96c-094b1ffb5f99",
   "metadata": {},
   "source": [
    "## Операция над словарем: Длина"
   ]
  },
  {
   "cell_type": "code",
   "execution_count": 327,
   "id": "64c8e07e-ae0e-4e14-b44a-c70068f25bc3",
   "metadata": {},
   "outputs": [
    {
     "data": {
      "text/plain": [
       "5"
      ]
     },
     "execution_count": 327,
     "metadata": {},
     "output_type": "execute_result"
    }
   ],
   "source": [
    "dict1, len(dict1)\n",
    "# мои примеры\n",
    "dict2, len(dict2)\n",
    "len(dict2[(1, '')])"
   ]
  },
  {
   "cell_type": "markdown",
   "id": "71c34737-a959-4d7c-9990-aafa1effcc2f",
   "metadata": {},
   "source": [
    "## Операция над словарем: проверка членства"
   ]
  },
  {
   "cell_type": "code",
   "execution_count": 334,
   "id": "5f6b610f-6a77-4963-9b44-eb7461948435",
   "metadata": {},
   "outputs": [
    {
     "data": {
      "text/plain": [
       "True"
      ]
     },
     "execution_count": 334,
     "metadata": {},
     "output_type": "execute_result"
    }
   ],
   "source": [
    "# in проверяет существование ключа в словаре и возвращает булевский результат True или False\n",
    "dict1, \"one\" in dict1, \"three\" not in dict1\n",
    "# мои примеры\n",
    "'a' in dict2\n",
    "'b' not in dict1\n",
    "1, '' in dict2\n",
    "(1, '') in dict2"
   ]
  },
  {
   "cell_type": "markdown",
   "id": "b3d6d83b-8110-4da6-8aa1-cb579066e807",
   "metadata": {},
   "source": [
    "# 2.5 Встроенный тип множество: set"
   ]
  },
  {
   "cell_type": "code",
   "execution_count": 350,
   "id": "e53f0e83-ea5c-4409-bd4e-378ef4d10d2c",
   "metadata": {},
   "outputs": [
    {
     "data": {
      "text/plain": [
       "{(1,), (2,), 3}"
      ]
     },
     "execution_count": 350,
     "metadata": {},
     "output_type": "execute_result"
    }
   ],
   "source": [
    "# примеры литералов для создания множеств, которые демонстрируют, что повторяющиеся элементы удаляются\n",
    "{1, 2, 3, 3, 1}, set('setset')\n",
    "# мои примеры\n",
    "set([1, 2, 3, 3, 4, 4, 5, 5])\n",
    "{(1, ), (2, ), 3,}"
   ]
  },
  {
   "cell_type": "markdown",
   "id": "993df93b-348c-4ca1-bf80-60ca29dbb3ca",
   "metadata": {},
   "source": [
    "## Операции над множествами"
   ]
  },
  {
   "cell_type": "code",
   "execution_count": 364,
   "id": "09cfe40f-badc-4b31-ac67-989751627cea",
   "metadata": {},
   "outputs": [
    {
     "data": {
      "text/plain": [
       "True"
      ]
     },
     "execution_count": 364,
     "metadata": {},
     "output_type": "execute_result"
    }
   ],
   "source": [
    "A = set(range(20))\n",
    "B = set(range(5, 25, 2))\n",
    "# пересечение множеств\n",
    "A & B\n",
    "# объединение множеств\n",
    "A | B\n",
    "# разность множеств\n",
    "A - B, B - A\n",
    "# вложенность множеств\n",
    "A < B\n",
    "B > A\n",
    "A <= B\n",
    "B >= A\n",
    "{1, 2, 3} < A"
   ]
  },
  {
   "cell_type": "markdown",
   "id": "8528d048-b2f1-4573-8bcc-8d7ef328cc4e",
   "metadata": {},
   "source": [
    "## Операция над множеством: Длина"
   ]
  },
  {
   "cell_type": "code",
   "execution_count": 366,
   "id": "2ddd0b47-564a-4039-85c6-6676e0348363",
   "metadata": {},
   "outputs": [
    {
     "data": {
      "text/plain": [
       "({5, 7, 9, 11, 13, 15, 17, 19, 21, 23}, 10)"
      ]
     },
     "execution_count": 366,
     "metadata": {},
     "output_type": "execute_result"
    }
   ],
   "source": [
    "A, len(A)\n",
    "B, len(B)"
   ]
  },
  {
   "cell_type": "markdown",
   "id": "ac9e42f4-8c3a-46d4-b32d-d7dd8bee21f5",
   "metadata": {},
   "source": [
    "## Операция над множеством: проверка членства"
   ]
  },
  {
   "cell_type": "code",
   "execution_count": 372,
   "id": "6da3fee6-c02c-43cf-9e6c-3aaa84e5e1a6",
   "metadata": {},
   "outputs": [
    {
     "data": {
      "text/plain": [
       "True"
      ]
     },
     "execution_count": 372,
     "metadata": {},
     "output_type": "execute_result"
    }
   ],
   "source": [
    "# in возвращает булевский результат True или False\n",
    "A not in B\n",
    "11 in B\n",
    "0 in A\n",
    "20 not in B"
   ]
  },
  {
   "cell_type": "code",
   "execution_count": 384,
   "id": "434388b0-ecd9-4d7d-a0b3-12dc39c818c8",
   "metadata": {},
   "outputs": [
    {
     "name": "stdout",
     "output_type": "stream",
     "text": [
      "[0, 1, 2, 3, 4, 5, 6, 7, 8, 9, 10, 11, 12, 13, 14, 15, 16, 17, 18, 19, 0, 1, 2, 3, 4, 5, 6, 7, 8, 9, 10, 11, 12, 13, 14, 15, 16, 17, 18, 19, 0, 1, 2, 3, 4, 5, 6, 7, 8, 9, 10, 11, 12, 13, 14, 15, 16, 17, 18, 19, 10, 11, 12, 13, 14, 15, 16, 17, 18, 19, 20, 21, 22, 23, 24, 25, 26, 27, 28, 29, 10, 11, 12, 13, 14, 15, 16, 17, 18, 19, 20, 21, 22, 23, 24, 25, 26, 27, 28, 29] \n",
      "\n",
      "[0, 1, 2, 3, 4, 5, 6, 7, 8, 9, 10, 11, 12, 13, 14, 15, 16, 17, 18, 19, 20, 21, 22, 23, 24, 25, 26, 27, 28, 29]\n"
     ]
    }
   ],
   "source": [
    "# удаление повторяющихся элементов последовательности с помощью множества\n",
    "C = list(range(20))\n",
    "D = list(range(10, 30))\n",
    "F = C * 3 + 2 * D\n",
    "print(F, '\\n')\n",
    "print(list(set(F)))"
   ]
  },
  {
   "cell_type": "code",
   "execution_count": 391,
   "id": "8d45f2f2-256e-445f-b9e7-8517864b0362",
   "metadata": {},
   "outputs": [
    {
     "data": {
      "text/plain": [
       "True"
      ]
     },
     "execution_count": 391,
     "metadata": {},
     "output_type": "execute_result"
    }
   ],
   "source": [
    "# трюк в Python для выполнения нейтральных к порядку проверок равенства без сортировки в последовательностях с помощью множества\n",
    "set(\"abcdef\") == set(\"fedcba\")\n",
    "# мои примеры\n",
    "set(\"abcdef\") == set(\"fedcbaaaa\")\n",
    "set({1: 1, 2: 1, 3: 1}) == set({1: 1, 2: 1})\n",
    "set({1: 1, 2: 1, 3: 1}) == set({1: 1, 2: 1, 3: 1, 3: 1})"
   ]
  },
  {
   "cell_type": "markdown",
   "id": "95c46f8d-0442-44c7-9eec-fcd523d65c6b",
   "metadata": {},
   "source": [
    "# 2.6 Изменяемые и неизменяемые встроенные типы объектов"
   ]
  },
  {
   "cell_type": "code",
   "execution_count": 405,
   "id": "73dcd21b-ef0d-449a-ab95-dd5dbe9bbdb4",
   "metadata": {},
   "outputs": [
    {
     "data": {
      "text/plain": [
       "['', 'b', 'c', 'd', 'e']"
      ]
     },
     "execution_count": 405,
     "metadata": {},
     "output_type": "execute_result"
    }
   ],
   "source": [
    "{1: [1], '1': [2], (1,):[3]}\n",
    "tuple1 = ([1],1); tuple1[0].append(2)\n",
    "tuple1\n",
    "# мои примеры\n",
    "# str2[1] = 'r' - не сработает\n",
    "# (3, 4, 5) = 1, - не работает\n",
    "# 451 = 1 - не работает\n",
    "# tuple3[1] = '' - не работает\n",
    "abc_list = list('abcde')\n",
    "abc_list[0] = ''\n",
    "abc_list"
   ]
  },
  {
   "cell_type": "markdown",
   "id": "375b86be-b5ac-45a2-b44d-75e804554a80",
   "metadata": {},
   "source": [
    "# 2.7 Операция спискового включения"
   ]
  },
  {
   "cell_type": "code",
   "execution_count": 417,
   "id": "f944e04b-c47f-45bd-a057-d818e65a0a53",
   "metadata": {},
   "outputs": [
    {
     "name": "stdout",
     "output_type": "stream",
     "text": [
      "['w', 'o', 'r', 'd', '1', 'w', 'o', 'r', 'd', '2', 'w', 'o', 'r', 'd', '3']\n"
     ]
    },
    {
     "data": {
      "text/plain": [
       "[0, 1, 2, 3, 4, 5, 6, 7, 8, 9, 0, 1, 2, 3, 4, 5, 6, 7, 8, 9]"
      ]
     },
     "execution_count": 417,
     "metadata": {},
     "output_type": "execute_result"
    }
   ],
   "source": [
    "# списковое включение\n",
    "[x + '0' for x in \"string\"]\n",
    "# [expr(element) for element in sequence if condition(element)]\n",
    "[x + '0' for x in \"string\" if x != 's']\n",
    "words = ['word1', 'word2', 'word3']  \n",
    "# внешний цикл проходит по словам, внутренний цикл по буквам в слове\n",
    "letters = [letter for word in words for letter in word]  \n",
    "print(letters)\n",
    "\n",
    "# мои примеры\n",
    "numbers = list(range(10))\n",
    "# [n * 2 for num in numbers for n in num] не сработает, так как только с последовательностями\n",
    "numbers_numbers = [list(range(10)), list(range(10, 20))]\n",
    "[i % 10 for nums in numbers_numbers for i in nums]"
   ]
  },
  {
   "cell_type": "code",
   "execution_count": 428,
   "id": "1f5764e5-8c17-4aec-ae05-3fc2e73a40fa",
   "metadata": {},
   "outputs": [
    {
     "data": {
      "text/plain": [
       "[['a11', 'a12', 'a13', 'a14', 'a15'],\n",
       " ['a21', 'a22', 'a23', 'a24', 'a25'],\n",
       " ['a31', 'a32', 'a33', 'a34', 'a35'],\n",
       " ['a41', 'a42', 'a43', 'a44', 'a45'],\n",
       " ['a51', 'a52', 'a53', 'a54', 'a55']]"
      ]
     },
     "execution_count": 428,
     "metadata": {},
     "output_type": "execute_result"
    }
   ],
   "source": [
    "rows = 3; columns = 5\n",
    "matrix = [['a%d%d'%(i,j) for j in range(columns)] for i in range(rows)]\n",
    "matrix\n",
    "\n",
    "# мои примеры\n",
    "n = 5; m = 5\n",
    "arr = []\n",
    "[j for j in range(1, m + 1)]\n",
    "'a%d%d'%(1.1, 2.2)\n",
    "['a%d%d' % (j, j) for j in range(1, m + 1)]\n",
    "arr = [['a%d%d' % (i, j) for j in range(1, m + 1)] for i in range(1, n + 1)]\n",
    "arr"
   ]
  },
  {
   "cell_type": "code",
   "execution_count": 1,
   "id": "6a99da79-880c-45bd-88fb-d888a85e2c3a",
   "metadata": {},
   "outputs": [
    {
     "name": "stdout",
     "output_type": "stream",
     "text": [
      "<generator object <genexpr> at 0x000002C2A5B27990>\n",
      "<zip object at 0x000002C2A5C41A40>\n"
     ]
    },
    {
     "data": {
      "text/plain": [
       "4"
      ]
     },
     "execution_count": 1,
     "metadata": {},
     "output_type": "execute_result"
    }
   ],
   "source": [
    "{x + '0' for x in \"string\" * 2}\n",
    "\n",
    "# почему?\n",
    "{x: x + '0' for x in \"string\" + \"gnirts\"}\n",
    "\n",
    "print((x + '0' for x in \"string\"))\n",
    "(x + '0' for x in \"string\")\n",
    "[pow(x, y) for (x, y) in zip([1, 2, 3], [2, 3, 4])]\n",
    "print(zip([1, 2, 3], [2, 3, 4]))\n",
    "[pow(x, y, z) for (x, y, z) in [(1, 2, 3), (2, 3, 4)]]\n",
    "# z - число, на которое произвожится деление по модулю\n",
    "# решил немного разобраться\n",
    "1 % 3\n",
    "1 // 3\n",
    "# a % b == a — a / b\n",
    "234234 % 111111111\n",
    "1234 // 10\n",
    "1234 % 10\n",
    "# a = b * q + r\n",
    "# q in Z, r in Z, 0 <= r < |b|\n",
    "# q - неполное частное, r - остаток от деления"
   ]
  },
  {
   "cell_type": "markdown",
   "id": "ea44a801-b5ba-48f0-8d0b-96f2fea79678",
   "metadata": {},
   "source": [
    "# 2.8 Переменные, значения переменных, ссылки"
   ]
  },
  {
   "cell_type": "markdown",
   "id": "2b92dc8d-f26f-4785-89b1-ad8c21ed3b4e",
   "metadata": {},
   "source": [
    "## Переменные ссылаются на объекты"
   ]
  },
  {
   "cell_type": "code",
   "execution_count": 15,
   "id": "8ef268a4-6887-42ea-927b-07f37db8732f",
   "metadata": {},
   "outputs": [
    {
     "data": {
      "text/plain": [
       "(3035028325312, 3035028325312, 3035028043264, 3035028266176)"
      ]
     },
     "execution_count": 15,
     "metadata": {},
     "output_type": "execute_result"
    }
   ],
   "source": [
    "a = 1 # создание переменной a\n",
    "# a, d - ошибка\n",
    "a = b = [1] # a и b ссылаются на один и тот же объект\n",
    "c = [1] # c ссылается на другой объект\n",
    "id(1), id([1]), id({1})\n",
    "\n",
    "# мои примеры\n",
    "# почему True??\n",
    "id(a) == id(1)\n",
    "a + b + c * 2\n",
    "id(a), id(b), id(c), id([1])"
   ]
  },
  {
   "cell_type": "markdown",
   "id": "78987ba2-8899-4315-ac28-3e74ea71c7bd",
   "metadata": {},
   "source": [
    "## Сравнение переменных"
   ]
  },
  {
   "cell_type": "code",
   "execution_count": 21,
   "id": "eb7dbd1e-6c8b-4f39-a4b0-60f2f802c0f9",
   "metadata": {},
   "outputs": [
    {
     "name": "stdout",
     "output_type": "stream",
     "text": [
      "3034950402288 3035028325312 3035028043264\n",
      "1 [1] [1]\n"
     ]
    },
    {
     "data": {
      "text/plain": [
       "True"
      ]
     },
     "execution_count": 21,
     "metadata": {},
     "output_type": "execute_result"
    }
   ],
   "source": [
    "print(id(a), id(b), id(c))\n",
    "a is b, a is not c\n",
    "print(a, b, c)\n",
    "a == b, a != c\n",
    "\n",
    "# мои примеры\n",
    "id([a, b, c]) is id([a, b, c])\n",
    "id(1) is id(1)\n",
    "a = 1\n",
    "id(a) is id(1)\n",
    "# почему True??\n",
    "id(a) == id(1)"
   ]
  },
  {
   "cell_type": "code",
   "execution_count": 26,
   "id": "51a58007-9d60-406a-8ac5-0706a6f03b29",
   "metadata": {},
   "outputs": [
    {
     "name": "stdout",
     "output_type": "stream",
     "text": [
      "3034950402576\n",
      "3034950402576\n",
      "3034950402416\n",
      "3034950402416\n",
      "3034951818800\n",
      "3034951818800\n"
     ]
    }
   ],
   "source": [
    "# небольшие целые числа и строки кэшируются и используются повторно\n",
    "a = 10; print(id(a))\n",
    "a = 1; b = 10; print(id(b))\n",
    "\n",
    "# мои примеры\n",
    "n = 5\n",
    "print(id(n))\n",
    "n = 6\n",
    "m = 5\n",
    "print(id(m))\n",
    "s1 = 'a'\n",
    "print(id(s1))\n",
    "s1 = 'b'\n",
    "s2 = 'a'\n",
    "print(id(s2))"
   ]
  },
  {
   "cell_type": "code",
   "execution_count": 35,
   "id": "12533bf6-2267-4c3d-a5d0-bd272eda53a6",
   "metadata": {},
   "outputs": [
    {
     "name": "stdout",
     "output_type": "stream",
     "text": [
      "140713010894840 140713010894840\n"
     ]
    },
    {
     "data": {
      "text/plain": [
       "[[1, 2, None],\n",
       " None,\n",
       " ('a', None, None),\n",
       " [[1, 2, None], None, ('a', None, None), [...]],\n",
       " [[1, 2, None], None, ('a', None, None), [...]],\n",
       " 'None']"
      ]
     },
     "execution_count": 35,
     "metadata": {},
     "output_type": "execute_result"
    }
   ],
   "source": [
    "x = None\n",
    "y = [None]*10\n",
    "x, y\n",
    "x is y[0]\n",
    "bool(None)\n",
    "\n",
    "# мои примеры\n",
    "a = None\n",
    "b = None\n",
    "print(id(a), id(b))\n",
    "list_of_none = [[1, 2, None], None, ('a', None, None)]\n",
    "list_of_none.append(list_of_none)\n",
    "list_of_none\n",
    "a = [list_of_none, 'None']\n",
    "list_of_none + a"
   ]
  },
  {
   "cell_type": "code",
   "execution_count": 36,
   "id": "93c659dd-4b3c-4940-9da1-8d25780871fa",
   "metadata": {},
   "outputs": [
    {
     "data": {
      "text/plain": [
       "[1, 2, [...]]"
      ]
     },
     "execution_count": 36,
     "metadata": {},
     "output_type": "execute_result"
    }
   ],
   "source": [
    "a = [1,2]; a.append(a)\n",
    "a"
   ]
  },
  {
   "cell_type": "markdown",
   "id": "993143ba-3009-4699-a4a7-75669ff25b5c",
   "metadata": {},
   "source": [
    "## Правила именования переменных"
   ]
  },
  {
   "cell_type": "code",
   "execution_count": 44,
   "id": "3a46e16d-4c3c-4129-b279-ffe1fba9cd59",
   "metadata": {},
   "outputs": [
    {
     "data": {
      "text/plain": [
       "4"
      ]
     },
     "execution_count": 44,
     "metadata": {},
     "output_type": "execute_result"
    }
   ],
   "source": [
    "import builtins\n",
    "# и с print сработало)\n",
    "len([reserved for reserved in dir(builtins) if not reserved.startswith('__')])\n",
    "\n",
    "# мои примеры\n",
    "# нет предупреждения? o_o\n",
    "bin = 4\n",
    "bin\n",
    "# True = 'true'\n",
    "# True - а тут ошибка\n",
    "chr = 4\n",
    "chr"
   ]
  },
  {
   "cell_type": "markdown",
   "id": "677cbd36-141c-4fad-9e50-fc81a621cdce",
   "metadata": {},
   "source": [
    "## Динамическая типизация переменных"
   ]
  },
  {
   "cell_type": "code",
   "execution_count": 48,
   "id": "f9b19b63-cc39-48db-864f-4f13d6ff1392",
   "metadata": {},
   "outputs": [
    {
     "name": "stdout",
     "output_type": "stream",
     "text": [
      "3035056658560\n",
      "3035027233088\n"
     ]
    },
    {
     "data": {
      "text/plain": [
       "str"
      ]
     },
     "execution_count": 48,
     "metadata": {},
     "output_type": "execute_result"
    }
   ],
   "source": [
    "a = b = c = d = [5]\n",
    "print(id(a))\n",
    "a.__class__\n",
    "\n",
    "# мои примеры\n",
    "a = b = c = d = [4]\n",
    "e = [5]\n",
    "print(id(e))\n",
    "c = 'True'\n",
    "c.__class__"
   ]
  },
  {
   "cell_type": "markdown",
   "id": "7dce38a4-8c8b-4c9b-b515-4bec832925ad",
   "metadata": {},
   "source": [
    "## Разделяемый объект, разделяемая ссылка"
   ]
  },
  {
   "cell_type": "code",
   "execution_count": null,
   "id": "32284e53-eddb-42ed-91e0-1a3bd32e3e91",
   "metadata": {},
   "outputs": [],
   "source": [
    "a = b = c = d = [5]    # [5] -- разделяемый объект\n",
    "id(a), id(d)           # разделяемая ссылка"
   ]
  },
  {
   "cell_type": "markdown",
   "id": "710cf922-7c81-47d0-9d48-a03f421a39ae",
   "metadata": {},
   "source": [
    "## Копирование объектов"
   ]
  },
  {
   "cell_type": "code",
   "execution_count": 50,
   "id": "31cb02ad-9007-4f4b-a8d2-718e113976c5",
   "metadata": {},
   "outputs": [
    {
     "name": "stdout",
     "output_type": "stream",
     "text": [
      "3034957824624 3035028283392 3035056264512\n",
      "3034957824624 3035056608704 3035056264512\n"
     ]
    }
   ],
   "source": [
    "# 1\n",
    "str1 = \"String\"; list1 = [1, 2, 3]; tuple1 = (4,5,6)\n",
    "str2 = str1[:]; list2 = list1[:]; tuple2 = tuple1[:]\n",
    "str2, list2, tuple2\n",
    "# мои примеры\n",
    "# id совпадают, потому что небольшие целые числа и строки кэшируются и используются повторно?\n",
    "print(id(str1), id(list1), id(tuple1))\n",
    "print(id(str2), id(list2), id(tuple2))"
   ]
  },
  {
   "cell_type": "code",
   "execution_count": 53,
   "id": "54cd633a-547d-4119-8e18-3052e8ab4f9c",
   "metadata": {},
   "outputs": [
    {
     "name": "stdout",
     "output_type": "stream",
     "text": [
      "3035048775168 3035028283392 3035056639552\n",
      "3035056733568 3035056661952 3035056637984\n"
     ]
    },
    {
     "data": {
      "text/plain": [
       "('String', [1, 2, 3], (4, 5, 6), {'a': 1, 'b': 2, 'c': 3})"
      ]
     },
     "execution_count": 53,
     "metadata": {},
     "output_type": "execute_result"
    }
   ],
   "source": [
    "# 2\n",
    "dict1 = {'a':1, 'b':2, 'c':3}; set1 = {1,4,'s',(5,)}\n",
    "list3 = list1.copy(); dict2 = dict1.copy(); set2 = set1.copy()\n",
    "print(id(dict1), id(list1), id(set1))\n",
    "print(id(dict2), id(list3), id(set2))\n",
    "\n",
    "# 3\n",
    "str3 = str(str1); list3 = list(list1); tuple3 = tuple(tuple1); dict3 = dict(dict1)\n",
    "str3, list3, tuple3, dict3"
   ]
  },
  {
   "cell_type": "markdown",
   "id": "dba8e919-2cc0-4f47-bbcb-bb59f01eb583",
   "metadata": {},
   "source": [
    "# 2.9 Операции и методы для встроенных типов объектов"
   ]
  },
  {
   "cell_type": "code",
   "execution_count": 58,
   "id": "88d121e8-1595-47d1-b032-9478da6faa94",
   "metadata": {},
   "outputs": [
    {
     "data": {
      "text/plain": [
       "(7, 7)"
      ]
     },
     "execution_count": 58,
     "metadata": {},
     "output_type": "execute_result"
    }
   ],
   "source": [
    "\"abcd\"[-1], [1,2,3][-1], (1,2,3)[-1]\n",
    "1 + 2, \"1\" + \"2\", [1] + [2]\n",
    "# нельзя смешивать в выражении объекты, различных типов\n",
    "# 1 + \"1\"\n",
    "# в языке Python определено фиксированное и неизменяемое отображение каждой операции на метод со специальным именем\n",
    "a, b = 1, 2\n",
    "a + b, a.__add__(b)\n",
    "a = [7]\n",
    "a[0], a.__getitem__(0)"
   ]
  },
  {
   "cell_type": "code",
   "execution_count": 60,
   "id": "1199e18f-8a7a-4112-8928-cb35ffec8584",
   "metadata": {},
   "outputs": [
    {
     "name": "stdout",
     "output_type": "stream",
     "text": [
      "[1, 2]\n",
      "[1]\n"
     ]
    }
   ],
   "source": [
    "# универсальные операции, охватывающие разные типы, выглядят как встроенные функции или выражения\n",
    "list1 = list(range(5))\n",
    "list1, len(list1), list1[-1]\n",
    "# операции, специфичные для типа, представляют собой вызовы методов\n",
    "a = [1]\n",
    "a.append(2)\n",
    "print(a)\n",
    "a.pop()\n",
    "print(a)\n",
    "# не знаю, какие тут можно добавить свои примеры, просто теория, все ясно и прозрачно\n",
    "# методы и встроенные функции я уже использовал много раз"
   ]
  },
  {
   "cell_type": "markdown",
   "id": "668603c9-5df2-43bf-bddf-3262b115dbd3",
   "metadata": {},
   "source": [
    "## Операции, специфичные для строк"
   ]
  },
  {
   "cell_type": "code",
   "execution_count": 64,
   "id": "a524ac03-ecf8-497e-ab5a-05c96310c78a",
   "metadata": {},
   "outputs": [
    {
     "name": "stdout",
     "output_type": "stream",
     "text": [
      "['capitalize', 'casefold', 'center', 'count', 'encode', 'endswith', 'expandtabs', 'find', 'format', 'format_map', 'index', 'isalnum', 'isalpha', 'isascii', 'isdecimal', 'isdigit', 'isidentifier', 'islower', 'isnumeric', 'isprintable', 'isspace', 'istitle', 'isupper', 'join', 'ljust', 'lower', 'lstrip', 'maketrans', 'partition', 'removeprefix', 'removesuffix', 'replace', 'rfind', 'rindex', 'rjust', 'rpartition', 'rsplit', 'rstrip', 'split', 'splitlines', 'startswith', 'strip', 'swapcase', 'title', 'translate', 'upper', 'zfill']\n"
     ]
    },
    {
     "data": {
      "text/plain": [
       "47"
      ]
     },
     "execution_count": 64,
     "metadata": {},
     "output_type": "execute_result"
    }
   ],
   "source": [
    "str_method = [attr for attr in dir(str) if not attr.startswith('_')]\n",
    "print(str_method)\n",
    "len(str_method)"
   ]
  },
  {
   "cell_type": "code",
   "execution_count": 65,
   "id": "3d89329a-b3ed-4378-b24c-e24c54d176d3",
   "metadata": {},
   "outputs": [],
   "source": [
    "# cтроковые методы никогда не изменяют строку на месте. Они всегда возвращают новый строковый объект\n",
    "# cтроковый метод find поиска подстроки\n",
    "# cтроковый метод replace замены подстроки\n",
    "# cтроковый метод split для разбора/разбиения строки на список подстрок по разделителю\n",
    "# cтроковые методы upper, lower для преобразования в прописные или строчные буквы; небуквенные символы остаются без изменений\n",
    "# cтроковые методы проверки содержимого isalpha, isdigit, и т.д. Всего 12 методов\n",
    "# cтроковый метод rstrip для удаления пробельных символов с правой стороны\n",
    "# cтроковые методы startswith, endswith проверки начала и конца строки\n",
    "# cтроковый метод join объединяет вместе строки из итерируемого объекта с заданными разделителями между элементами итерируемого объекта\n",
    "# операции выполняются слева направо, попутно создавая временный результат"
   ]
  },
  {
   "cell_type": "code",
   "execution_count": 83,
   "id": "81d049fd-7195-4ca0-9f99-598aa8cf3213",
   "metadata": {},
   "outputs": [
    {
     "data": {
      "text/plain": [
       "\"Hell***, I'm here, nice to meet you\""
      ]
     },
     "execution_count": 83,
     "metadata": {},
     "output_type": "execute_result"
    }
   ],
   "source": [
    "a = \"\"; \n",
    "(a + \"1\" + \" bs\" * 4).upper().split(' ')\n",
    "# мои примеры\n",
    "(a + \"1\" + \"bs\" * 4)\n",
    "# не влияет на числа\n",
    "(a + \"1\" + \"bs\" * 4).upper()\n",
    "(a + \"1\" + \"bs\" * 4).upper().split('B')\n",
    "\n",
    "# find\n",
    "str1 = \"Hello, I'm here, nice to meet you\"\n",
    "str2 = \"I'm\"\n",
    "str3 = \",\"\n",
    "str1.find(str2)\n",
    "str1.find(str3)\n",
    "\n",
    "# replace\n",
    "str4 = \"***\"\n",
    "str1.replace(str2, str4)\n",
    "str1.replace('o', '0')\n",
    "str1.replace('Hello', 'Andrey')\n",
    "str1.replace('Hello', 'Bye')\n",
    "str1.replace('o', str4)\n",
    "str1.replace('o', str4, 1)"
   ]
  },
  {
   "cell_type": "code",
   "execution_count": 102,
   "id": "b466d41a-2ba5-4039-9cda-9fc8568d0c55",
   "metadata": {},
   "outputs": [
    {
     "data": {
      "text/plain": [
       "'1 2 3 4 5'"
      ]
     },
     "execution_count": 102,
     "metadata": {},
     "output_type": "execute_result"
    }
   ],
   "source": [
    "# split\n",
    "str1.split(' ')\n",
    "str1.split('.')\n",
    "str1.split(' ', 1)\n",
    "\n",
    "# upper, lower\n",
    "str1.upper()\n",
    "str1.upper().lower()\n",
    "\n",
    "# isalpha, isdigit\n",
    "str1.isdigit()\n",
    "str1.isalpha()\n",
    "\n",
    "# rstrip\n",
    "\"     HELLOW      \".rstrip()\n",
    "\n",
    "# startswith, endswith\n",
    "str1.startswith(' ')\n",
    "str1.endswith('.')\n",
    "\n",
    "# join\n",
    "digits = ['1', '2', '3', '4', '5']\n",
    "' '.join(digits)"
   ]
  },
  {
   "cell_type": "markdown",
   "id": "bb814935-ee1a-4876-9722-5096926cd480",
   "metadata": {},
   "source": [
    "## Операции, специфичные для списков"
   ]
  },
  {
   "cell_type": "code",
   "execution_count": 103,
   "id": "9339e8ed-5717-4171-90c0-910b2f80a2f0",
   "metadata": {},
   "outputs": [
    {
     "name": "stdout",
     "output_type": "stream",
     "text": [
      "['append', 'clear', 'copy', 'count', 'extend', 'index', 'insert', 'pop', 'remove', 'reverse', 'sort']\n"
     ]
    },
    {
     "data": {
      "text/plain": [
       "11"
      ]
     },
     "execution_count": 103,
     "metadata": {},
     "output_type": "execute_result"
    }
   ],
   "source": [
    "list_method = [attr for attr in dir(list) if not attr.startswith('_')]\n",
    "print(list_method)\n",
    "len(list_method)"
   ]
  },
  {
   "cell_type": "code",
   "execution_count": 104,
   "id": "8e9f03fb-4184-47e8-bbca-dbdbe55f646b",
   "metadata": {},
   "outputs": [],
   "source": [
    "# cписковые методы добавления объектов: append одного объекта в конец списка (самый популярный списковый метод), \n",
    "# extend множества объектов в конец списка, insert в произвольную позицию. Выполняются быстрее, чем операция конкатенации\n",
    "# cписковые методы удаления объектов: pop по позиции, remove по значению\n",
    "# cписковый метод sоrt сортирует по возрастанию на месте\n",
    "# cписковый метод reverse обращает элементы на месте\n",
    "# cписковые методы изменяют объект на месте и возвращают None"
   ]
  },
  {
   "cell_type": "code",
   "execution_count": 140,
   "id": "01d3a2a8-0cb4-464a-961a-f622f64bd35a",
   "metadata": {},
   "outputs": [
    {
     "data": {
      "text/plain": [
       "[3, 3, 3, 2, 2, 2, 1, 1, 1]"
      ]
     },
     "execution_count": 140,
     "metadata": {},
     "output_type": "execute_result"
    }
   ],
   "source": [
    "# мои примеры\n",
    "# extend\n",
    "my_list = list()\n",
    "# my_list.extend(123) - нельзя\n",
    "# почему не кортеж?\n",
    "my_list.extend((1, 2, 3))\n",
    "my_list.extend([1, 2, 3])\n",
    "my_list.extend([1, 2, 3, '', (1,)])\n",
    "my_list\n",
    "\n",
    "# insert\n",
    "# почему, выполняя ячейку много раз, не добавляется много значений \"INSERTED\"\n",
    "# так же и с другими методами\n",
    "my_list.insert(2, \"INSERTED\")\n",
    "my_list.insert(-1, \"INSERTED\")\n",
    "my_list\n",
    "\n",
    "# pop, remove\n",
    "my_list.pop()\n",
    "my_list.remove(\"INSERTED\")\n",
    "my_list\n",
    "my_list.remove(\"INSERTED\")\n",
    "my_list\n",
    "# my_list.remove(\"INSERTED\") - ошибка\n",
    "\n",
    "# sort, reverse\n",
    "# my_list.sort() - ошибка\n",
    "my_list.pop()\n",
    "my_list.sort()\n",
    "my_list\n",
    "my_list.reverse()\n",
    "my_list"
   ]
  },
  {
   "cell_type": "markdown",
   "id": "06d39301-7015-49e3-b2a6-13de9b7bd6c3",
   "metadata": {},
   "source": [
    "## Операции, специфичные для кортежей"
   ]
  },
  {
   "cell_type": "code",
   "execution_count": 141,
   "id": "d89bc3ca-4fe3-4864-967e-53334006b628",
   "metadata": {},
   "outputs": [
    {
     "name": "stdout",
     "output_type": "stream",
     "text": [
      "['count', 'index']\n"
     ]
    }
   ],
   "source": [
    "tuple_method = [attr for attr in dir(tuple) if not attr.startswith('_')]\n",
    "print(tuple_method)"
   ]
  },
  {
   "cell_type": "code",
   "execution_count": 149,
   "id": "694eb81c-6b3e-466b-b33c-5f63761e41b0",
   "metadata": {},
   "outputs": [
    {
     "name": "stdout",
     "output_type": "stream",
     "text": [
      "3 2 0\n"
     ]
    },
    {
     "data": {
      "text/plain": [
       "4"
      ]
     },
     "execution_count": 149,
     "metadata": {},
     "output_type": "execute_result"
    }
   ],
   "source": [
    "# метод count подсчета повторяющихся объектов поддерживается всеми последовательностями\n",
    "# метод index поиска позиции объекта поддерживается всеми последовательностями\n",
    "\n",
    "print('sss'.count('s'), [1, 1].count(1), (0, 0).count(1))\n",
    "'sss'.index('s'), [1, 1].index(1), (0, 0).index(0)\n",
    "\n",
    "'abcdelllle'.index('e')\n",
    "# не будет примеров"
   ]
  },
  {
   "cell_type": "markdown",
   "id": "be6c1a7e-ab9d-4029-a6b7-f40eaf608dac",
   "metadata": {},
   "source": [
    "## Операции, специфичные для словарей"
   ]
  },
  {
   "cell_type": "code",
   "execution_count": 150,
   "id": "83da004c-9acc-4827-88a1-e613c7f44470",
   "metadata": {},
   "outputs": [
    {
     "name": "stdout",
     "output_type": "stream",
     "text": [
      "['clear', 'copy', 'fromkeys', 'get', 'items', 'keys', 'pop', 'popitem', 'setdefault', 'update', 'values']\n"
     ]
    },
    {
     "data": {
      "text/plain": [
       "11"
      ]
     },
     "execution_count": 150,
     "metadata": {},
     "output_type": "execute_result"
    }
   ],
   "source": [
    "dict_method = [attr for attr in dir(dict) if not attr.startswith('_')]\n",
    "print(dict_method)\n",
    "len(dict_method)"
   ]
  },
  {
   "cell_type": "code",
   "execution_count": 151,
   "id": "140bfe37-21b2-45c5-9af7-c648dc23d4e6",
   "metadata": {},
   "outputs": [],
   "source": [
    "# cловарный метод keys возвращает итерируемый объект c ключами элементов словаря\n",
    "# cловарный метод values возвращает итерируемый объект со значениями элементов словаря\n",
    "# cловарный метод items возвращает итерируемый объект c кортежами пар (ключ, значение) для элементов словаря"
   ]
  },
  {
   "cell_type": "code",
   "execution_count": 161,
   "id": "c57a7cc3-9daf-4bad-a815-f26bc281dabc",
   "metadata": {},
   "outputs": [
    {
     "name": "stdout",
     "output_type": "stream",
     "text": [
      "dict_keys(['a', 'b', 'c'])\n",
      "dict_values([1, 2, 3])\n",
      "dict_items([('a', 1), ('b', 2), ('c', 3)])\n"
     ]
    }
   ],
   "source": [
    "dict1 = dict(one = 1, two = 2)\n",
    "dict1.keys(), dict1.values(), dict1.items()\n",
    "\n",
    "# все понятно, не хочу пример, но ладно\n",
    "print(dict2.keys())\n",
    "print(dict2.values())\n",
    "print(dict2.items())"
   ]
  },
  {
   "cell_type": "code",
   "execution_count": 166,
   "id": "b27cec1f-5888-41c7-92f6-64c79c3d8fd7",
   "metadata": {},
   "outputs": [
    {
     "name": "stdout",
     "output_type": "stream",
     "text": [
      "one\n",
      "two\n",
      "a\n",
      "b\n",
      "c\n",
      "None\n",
      "1\n"
     ]
    }
   ],
   "source": [
    "for x in dict1:\n",
    "    print(x)\n",
    "for x in dict2:\n",
    "    print(x)\n",
    "# метод get возвращает значение, если ключ существует, или None\n",
    "print(dict1.get(\"three\"))\n",
    "print(dict2.get(\"a\"))"
   ]
  },
  {
   "cell_type": "code",
   "execution_count": 168,
   "id": "d94961d7-1805-4a47-9341-4346640c71fb",
   "metadata": {},
   "outputs": [
    {
     "data": {
      "text/plain": [
       "{'one': 1, 'two': 2, 'a': 1, 'b': 2, 'c': 3}"
      ]
     },
     "execution_count": 168,
     "metadata": {},
     "output_type": "execute_result"
    }
   ],
   "source": [
    "# метод update объединяет ключи и значения исходного словаря с ключами и значениями другого словаря, \n",
    "# обновляя значение ключа исходного словаря при совпадении ключей\n",
    "\n",
    "dict1.update(dict2)\n",
    "dict1"
   ]
  },
  {
   "cell_type": "markdown",
   "id": "ed5cf3ca-3669-4875-bd5f-36c9c8fd76a2",
   "metadata": {},
   "source": [
    "## Операции, специфичные для множеств"
   ]
  },
  {
   "cell_type": "code",
   "execution_count": 169,
   "id": "e02c2b99-ca78-4247-b04e-97743413e7f2",
   "metadata": {},
   "outputs": [
    {
     "name": "stdout",
     "output_type": "stream",
     "text": [
      "['add', 'clear', 'copy', 'difference', 'difference_update', 'discard', 'intersection', 'intersection_update', 'isdisjoint', 'issubset', 'issuperset', 'pop', 'remove', 'symmetric_difference', 'symmetric_difference_update', 'union', 'update']\n"
     ]
    },
    {
     "data": {
      "text/plain": [
       "17"
      ]
     },
     "execution_count": 169,
     "metadata": {},
     "output_type": "execute_result"
    }
   ],
   "source": [
    "set_method = [attr for attr in dir(set) if not attr.startswith('_')]\n",
    "print(set_method)\n",
    "len(set_method)"
   ]
  },
  {
   "cell_type": "markdown",
   "id": "f9e28f2c-c479-49a7-a68a-49f03f9d1d7d",
   "metadata": {},
   "source": [
    "## Создание строкового объекта на основе подстановок объектов других типов"
   ]
  },
  {
   "cell_type": "code",
   "execution_count": 179,
   "id": "2dfb383e-67fb-4acf-b258-bf4ef9bf3679",
   "metadata": {},
   "outputs": [
    {
     "data": {
      "text/plain": [
       "\"{'one': 1, 'two': 2, 'a': 1, 'b': 2, 'c': 3} and {'one': 1, 'two': 2, 'a': 1, 'b': 2, 'c': 3}\""
      ]
     },
     "execution_count": 179,
     "metadata": {},
     "output_type": "execute_result"
    }
   ],
   "source": [
    "\"int: %s, float: %s, complex: %s, list: %s, bool: %s\" % (1, 2.34, 1.1J, [5], True)\n",
    "\n",
    "# мои примеры\n",
    "\"%s\" % (1)\n",
    "\"%s\" % ('1')\n",
    "\"%s and %s\" % (dict1, dict1)"
   ]
  },
  {
   "cell_type": "code",
   "execution_count": 181,
   "id": "bb9b3db8-3d3d-4efd-99e5-f5ba4434d648",
   "metadata": {},
   "outputs": [
    {
     "data": {
      "text/plain": [
       "'int: 1, float: 2.34, complex: 1.1j, list: [5], bool: True'"
      ]
     },
     "execution_count": 181,
     "metadata": {},
     "output_type": "execute_result"
    }
   ],
   "source": [
    "\"int: {}, float: {}, complex: {}, list: {}, bool: {}\".format(1, 2.34, 1.1J, [5], True)\n",
    "\"int: {0}, float: {1}, complex: {c}, list: {l}, bool: {b}\".format(1, 2.34, c = 1.1J, l = [5], b = True)"
   ]
  },
  {
   "cell_type": "markdown",
   "id": "df173515-56ca-4b3e-adce-5884e8ebd44b",
   "metadata": {},
   "source": [
    "## Булевские операции"
   ]
  },
  {
   "cell_type": "code",
   "execution_count": 187,
   "id": "e3c8e7f3-c6c5-4a08-a444-fa496171f536",
   "metadata": {},
   "outputs": [
    {
     "data": {
      "text/plain": [
       "0"
      ]
     },
     "execution_count": 187,
     "metadata": {},
     "output_type": "execute_result"
    }
   ],
   "source": [
    "# and, or, not\n",
    "1<3 and 3<5, 1<3<5, True or False, not 1<3\n",
    "[] and {}, bool([]), bool({}) # первый операнд ложный; возвращается первый операнд; второй операнд не вычисляется\n",
    "1 and 3 and 5, bool(1), bool(3), bool(5)  # ложных операндов нет; возвращается последний операнд\n",
    "1 or 3, bool(1), bool(3)  # первый операнд истинный; возвращается первый операнд; второй операнд не вычисляется\n",
    "[] or {}, bool([]), bool({}) # истинных операндов нет; возвращается последний операнд\n",
    "\n",
    "# мои примеры\n",
    "({} or [] or 5 or \"str\") and ((4 or 5) and (6 and 0))\n",
    "# больше примеров не будет"
   ]
  },
  {
   "cell_type": "markdown",
   "id": "17bae854-781c-4ad5-ad4c-5043bb9ba63a",
   "metadata": {},
   "source": [
    "# 2.10 Файловый объект"
   ]
  },
  {
   "cell_type": "code",
   "execution_count": 191,
   "id": "adb68368-6f7a-45ec-9397-a555fbd36147",
   "metadata": {},
   "outputs": [
    {
     "name": "stdout",
     "output_type": "stream",
     "text": [
      "<_io.TextIOWrapper name='temp.txt' mode='rt' encoding='cp1251'>\n"
     ]
    }
   ],
   "source": [
    "file1 = open(\"temp.txt\",'rt'); print(file1)"
   ]
  },
  {
   "cell_type": "markdown",
   "id": "6846519d-0107-47b3-8497-c473293b5317",
   "metadata": {},
   "source": [
    "## Операции, специфичные для файловых объектов"
   ]
  },
  {
   "cell_type": "code",
   "execution_count": 192,
   "id": "07662839-98cf-4f78-864b-62b91b26f203",
   "metadata": {},
   "outputs": [
    {
     "name": "stdout",
     "output_type": "stream",
     "text": [
      "['buffer', 'close', 'closed', 'detach', 'encoding', 'errors', 'fileno', 'flush', 'isatty', 'line_buffering', 'mode', 'name', 'newlines', 'read', 'readable', 'readline', 'readlines', 'reconfigure', 'seek', 'seekable', 'tell', 'truncate', 'writable', 'write', 'write_through', 'writelines']\n"
     ]
    },
    {
     "data": {
      "text/plain": [
       "26"
      ]
     },
     "execution_count": 192,
     "metadata": {},
     "output_type": "execute_result"
    }
   ],
   "source": [
    "file_method = [attr for attr in dir(file1) if not attr.startswith('_')]\n",
    "print(file_method)\n",
    "len(file_method)"
   ]
  },
  {
   "cell_type": "code",
   "execution_count": 210,
   "id": "c04468d1-2617-40f3-8f33-87fe4b6a746e",
   "metadata": {},
   "outputs": [
    {
     "name": "stdout",
     "output_type": "stream",
     "text": [
      "1\n",
      "2\n",
      "4\n",
      "5"
     ]
    }
   ],
   "source": [
    "# методы чтения в одиночную строку: read весь файл, readline строку файла до символа '\\n' включительно\n",
    "# файловый метод чтения в список строк: readlines\n",
    "file2 = open(\"temp.txt\",'rb')\n",
    "file2.read()\n",
    "\n",
    "# мои примеры\n",
    "file2 = open(\"temp.txt\",'rb')\n",
    "file2.readline()\n",
    "file2.readline()\n",
    "file2.read()\n",
    "\n",
    "file2 = open(\"temp.txt\",'rt')\n",
    "for x in file2:\n",
    "    print(x, end = '')"
   ]
  },
  {
   "cell_type": "code",
   "execution_count": 216,
   "id": "56637e30-00c7-4b79-938c-5dea515fdf79",
   "metadata": {},
   "outputs": [
    {
     "data": {
      "text/plain": [
       "'1\\n2\\n4\\n5100\\n100\\n100\\n100\\n100\\n'"
      ]
     },
     "execution_count": 216,
     "metadata": {},
     "output_type": "execute_result"
    }
   ],
   "source": [
    "file1 = open(\"temp.txt\",'a')\n",
    "file1.write(str(100) + '\\n')\n",
    "file1 = open(\"temp.txt\",'r')\n",
    "# если открыт в текстовом режиме, почему читаются не строки?\n",
    "file1.read()"
   ]
  },
  {
   "cell_type": "markdown",
   "id": "63b3a7f7-66c7-4b82-8edc-af77c3bd0c43",
   "metadata": {},
   "source": [
    "# 2.11 Строки документации как атрибуты объектов"
   ]
  },
  {
   "cell_type": "code",
   "execution_count": 219,
   "id": "ab94c78a-b7e5-493b-8739-5bccdb51bd42",
   "metadata": {},
   "outputs": [
    {
     "data": {
      "text/plain": [
       "'My function'"
      ]
     },
     "execution_count": 219,
     "metadata": {},
     "output_type": "execute_result"
    }
   ],
   "source": [
    "def f():\n",
    "    \"My function\"\n",
    "    return None\n",
    "f.__doc__"
   ]
  },
  {
   "cell_type": "code",
   "execution_count": 220,
   "id": "e054a612-be8a-4f74-8de4-210dadd94cc0",
   "metadata": {},
   "outputs": [
    {
     "name": "stdout",
     "output_type": "stream",
     "text": [
      "Help on function f in module __main__:\n",
      "\n",
      "f()\n",
      "    My function\n",
      "\n"
     ]
    }
   ],
   "source": [
    "help(f)"
   ]
  },
  {
   "cell_type": "code",
   "execution_count": 221,
   "id": "61ea0af2-7f8e-42d5-8919-b32f2ae24426",
   "metadata": {},
   "outputs": [
    {
     "name": "stdout",
     "output_type": "stream",
     "text": [
      "Help on method_descriptor:\n",
      "\n",
      "upper(self, /)\n",
      "    Return a copy of the string converted to uppercase.\n",
      "\n"
     ]
    }
   ],
   "source": [
    "help(str.upper)"
   ]
  },
  {
   "cell_type": "code",
   "execution_count": 222,
   "id": "fabd5baa-9aa3-421f-bf85-5d782abfe702",
   "metadata": {},
   "outputs": [
    {
     "name": "stdout",
     "output_type": "stream",
     "text": [
      "Help on built-in module math:\n",
      "\n",
      "NAME\n",
      "    math\n",
      "\n",
      "DESCRIPTION\n",
      "    This module provides access to the mathematical functions\n",
      "    defined by the C standard.\n",
      "\n",
      "FUNCTIONS\n",
      "    acos(x, /)\n",
      "        Return the arc cosine (measured in radians) of x.\n",
      "        \n",
      "        The result is between 0 and pi.\n",
      "    \n",
      "    acosh(x, /)\n",
      "        Return the inverse hyperbolic cosine of x.\n",
      "    \n",
      "    asin(x, /)\n",
      "        Return the arc sine (measured in radians) of x.\n",
      "        \n",
      "        The result is between -pi/2 and pi/2.\n",
      "    \n",
      "    asinh(x, /)\n",
      "        Return the inverse hyperbolic sine of x.\n",
      "    \n",
      "    atan(x, /)\n",
      "        Return the arc tangent (measured in radians) of x.\n",
      "        \n",
      "        The result is between -pi/2 and pi/2.\n",
      "    \n",
      "    atan2(y, x, /)\n",
      "        Return the arc tangent (measured in radians) of y/x.\n",
      "        \n",
      "        Unlike atan(y/x), the signs of both x and y are considered.\n",
      "    \n",
      "    atanh(x, /)\n",
      "        Return the inverse hyperbolic tangent of x.\n",
      "    \n",
      "    ceil(x, /)\n",
      "        Return the ceiling of x as an Integral.\n",
      "        \n",
      "        This is the smallest integer >= x.\n",
      "    \n",
      "    comb(n, k, /)\n",
      "        Number of ways to choose k items from n items without repetition and without order.\n",
      "        \n",
      "        Evaluates to n! / (k! * (n - k)!) when k <= n and evaluates\n",
      "        to zero when k > n.\n",
      "        \n",
      "        Also called the binomial coefficient because it is equivalent\n",
      "        to the coefficient of k-th term in polynomial expansion of the\n",
      "        expression (1 + x)**n.\n",
      "        \n",
      "        Raises TypeError if either of the arguments are not integers.\n",
      "        Raises ValueError if either of the arguments are negative.\n",
      "    \n",
      "    copysign(x, y, /)\n",
      "        Return a float with the magnitude (absolute value) of x but the sign of y.\n",
      "        \n",
      "        On platforms that support signed zeros, copysign(1.0, -0.0)\n",
      "        returns -1.0.\n",
      "    \n",
      "    cos(x, /)\n",
      "        Return the cosine of x (measured in radians).\n",
      "    \n",
      "    cosh(x, /)\n",
      "        Return the hyperbolic cosine of x.\n",
      "    \n",
      "    degrees(x, /)\n",
      "        Convert angle x from radians to degrees.\n",
      "    \n",
      "    dist(p, q, /)\n",
      "        Return the Euclidean distance between two points p and q.\n",
      "        \n",
      "        The points should be specified as sequences (or iterables) of\n",
      "        coordinates.  Both inputs must have the same dimension.\n",
      "        \n",
      "        Roughly equivalent to:\n",
      "            sqrt(sum((px - qx) ** 2.0 for px, qx in zip(p, q)))\n",
      "    \n",
      "    erf(x, /)\n",
      "        Error function at x.\n",
      "    \n",
      "    erfc(x, /)\n",
      "        Complementary error function at x.\n",
      "    \n",
      "    exp(x, /)\n",
      "        Return e raised to the power of x.\n",
      "    \n",
      "    expm1(x, /)\n",
      "        Return exp(x)-1.\n",
      "        \n",
      "        This function avoids the loss of precision involved in the direct evaluation of exp(x)-1 for small x.\n",
      "    \n",
      "    fabs(x, /)\n",
      "        Return the absolute value of the float x.\n",
      "    \n",
      "    factorial(x, /)\n",
      "        Find x!.\n",
      "        \n",
      "        Raise a ValueError if x is negative or non-integral.\n",
      "    \n",
      "    floor(x, /)\n",
      "        Return the floor of x as an Integral.\n",
      "        \n",
      "        This is the largest integer <= x.\n",
      "    \n",
      "    fmod(x, y, /)\n",
      "        Return fmod(x, y), according to platform C.\n",
      "        \n",
      "        x % y may differ.\n",
      "    \n",
      "    frexp(x, /)\n",
      "        Return the mantissa and exponent of x, as pair (m, e).\n",
      "        \n",
      "        m is a float and e is an int, such that x = m * 2.**e.\n",
      "        If x is 0, m and e are both 0.  Else 0.5 <= abs(m) < 1.0.\n",
      "    \n",
      "    fsum(seq, /)\n",
      "        Return an accurate floating point sum of values in the iterable seq.\n",
      "        \n",
      "        Assumes IEEE-754 floating point arithmetic.\n",
      "    \n",
      "    gamma(x, /)\n",
      "        Gamma function at x.\n",
      "    \n",
      "    gcd(*integers)\n",
      "        Greatest Common Divisor.\n",
      "    \n",
      "    hypot(...)\n",
      "        hypot(*coordinates) -> value\n",
      "        \n",
      "        Multidimensional Euclidean distance from the origin to a point.\n",
      "        \n",
      "        Roughly equivalent to:\n",
      "            sqrt(sum(x**2 for x in coordinates))\n",
      "        \n",
      "        For a two dimensional point (x, y), gives the hypotenuse\n",
      "        using the Pythagorean theorem:  sqrt(x*x + y*y).\n",
      "        \n",
      "        For example, the hypotenuse of a 3/4/5 right triangle is:\n",
      "        \n",
      "            >>> hypot(3.0, 4.0)\n",
      "            5.0\n",
      "    \n",
      "    isclose(a, b, *, rel_tol=1e-09, abs_tol=0.0)\n",
      "        Determine whether two floating point numbers are close in value.\n",
      "        \n",
      "          rel_tol\n",
      "            maximum difference for being considered \"close\", relative to the\n",
      "            magnitude of the input values\n",
      "          abs_tol\n",
      "            maximum difference for being considered \"close\", regardless of the\n",
      "            magnitude of the input values\n",
      "        \n",
      "        Return True if a is close in value to b, and False otherwise.\n",
      "        \n",
      "        For the values to be considered close, the difference between them\n",
      "        must be smaller than at least one of the tolerances.\n",
      "        \n",
      "        -inf, inf and NaN behave similarly to the IEEE 754 Standard.  That\n",
      "        is, NaN is not close to anything, even itself.  inf and -inf are\n",
      "        only close to themselves.\n",
      "    \n",
      "    isfinite(x, /)\n",
      "        Return True if x is neither an infinity nor a NaN, and False otherwise.\n",
      "    \n",
      "    isinf(x, /)\n",
      "        Return True if x is a positive or negative infinity, and False otherwise.\n",
      "    \n",
      "    isnan(x, /)\n",
      "        Return True if x is a NaN (not a number), and False otherwise.\n",
      "    \n",
      "    isqrt(n, /)\n",
      "        Return the integer part of the square root of the input.\n",
      "    \n",
      "    lcm(*integers)\n",
      "        Least Common Multiple.\n",
      "    \n",
      "    ldexp(x, i, /)\n",
      "        Return x * (2**i).\n",
      "        \n",
      "        This is essentially the inverse of frexp().\n",
      "    \n",
      "    lgamma(x, /)\n",
      "        Natural logarithm of absolute value of Gamma function at x.\n",
      "    \n",
      "    log(...)\n",
      "        log(x, [base=math.e])\n",
      "        Return the logarithm of x to the given base.\n",
      "        \n",
      "        If the base not specified, returns the natural logarithm (base e) of x.\n",
      "    \n",
      "    log10(x, /)\n",
      "        Return the base 10 logarithm of x.\n",
      "    \n",
      "    log1p(x, /)\n",
      "        Return the natural logarithm of 1+x (base e).\n",
      "        \n",
      "        The result is computed in a way which is accurate for x near zero.\n",
      "    \n",
      "    log2(x, /)\n",
      "        Return the base 2 logarithm of x.\n",
      "    \n",
      "    modf(x, /)\n",
      "        Return the fractional and integer parts of x.\n",
      "        \n",
      "        Both results carry the sign of x and are floats.\n",
      "    \n",
      "    nextafter(x, y, /)\n",
      "        Return the next floating-point value after x towards y.\n",
      "    \n",
      "    perm(n, k=None, /)\n",
      "        Number of ways to choose k items from n items without repetition and with order.\n",
      "        \n",
      "        Evaluates to n! / (n - k)! when k <= n and evaluates\n",
      "        to zero when k > n.\n",
      "        \n",
      "        If k is not specified or is None, then k defaults to n\n",
      "        and the function returns n!.\n",
      "        \n",
      "        Raises TypeError if either of the arguments are not integers.\n",
      "        Raises ValueError if either of the arguments are negative.\n",
      "    \n",
      "    pow(x, y, /)\n",
      "        Return x**y (x to the power of y).\n",
      "    \n",
      "    prod(iterable, /, *, start=1)\n",
      "        Calculate the product of all the elements in the input iterable.\n",
      "        \n",
      "        The default start value for the product is 1.\n",
      "        \n",
      "        When the iterable is empty, return the start value.  This function is\n",
      "        intended specifically for use with numeric values and may reject\n",
      "        non-numeric types.\n",
      "    \n",
      "    radians(x, /)\n",
      "        Convert angle x from degrees to radians.\n",
      "    \n",
      "    remainder(x, y, /)\n",
      "        Difference between x and the closest integer multiple of y.\n",
      "        \n",
      "        Return x - n*y where n*y is the closest integer multiple of y.\n",
      "        In the case where x is exactly halfway between two multiples of\n",
      "        y, the nearest even value of n is used. The result is always exact.\n",
      "    \n",
      "    sin(x, /)\n",
      "        Return the sine of x (measured in radians).\n",
      "    \n",
      "    sinh(x, /)\n",
      "        Return the hyperbolic sine of x.\n",
      "    \n",
      "    sqrt(x, /)\n",
      "        Return the square root of x.\n",
      "    \n",
      "    tan(x, /)\n",
      "        Return the tangent of x (measured in radians).\n",
      "    \n",
      "    tanh(x, /)\n",
      "        Return the hyperbolic tangent of x.\n",
      "    \n",
      "    trunc(x, /)\n",
      "        Truncates the Real x to the nearest Integral toward 0.\n",
      "        \n",
      "        Uses the __trunc__ magic method.\n",
      "    \n",
      "    ulp(x, /)\n",
      "        Return the value of the least significant bit of the float x.\n",
      "\n",
      "DATA\n",
      "    e = 2.718281828459045\n",
      "    inf = inf\n",
      "    nan = nan\n",
      "    pi = 3.141592653589793\n",
      "    tau = 6.283185307179586\n",
      "\n",
      "FILE\n",
      "    (built-in)\n",
      "\n",
      "\n"
     ]
    }
   ],
   "source": [
    "help('math')"
   ]
  },
  {
   "cell_type": "code",
   "execution_count": 223,
   "id": "596e9fd6-d229-403e-9c9e-639139039ec9",
   "metadata": {},
   "outputs": [
    {
     "data": {
      "text/plain": [
       "\u001b[1;31mSignature:\u001b[0m   \u001b[0mhelp\u001b[0m\u001b[1;33m(\u001b[0m\u001b[1;33m*\u001b[0m\u001b[0margs\u001b[0m\u001b[1;33m,\u001b[0m \u001b[1;33m**\u001b[0m\u001b[0mkwds\u001b[0m\u001b[1;33m)\u001b[0m\u001b[1;33m\u001b[0m\u001b[1;33m\u001b[0m\u001b[0m\n",
       "\u001b[1;31mType:\u001b[0m        _Helper\n",
       "\u001b[1;31mString form:\u001b[0m Type help() for interactive help, or help(object) for help about object.\n",
       "\u001b[1;31mNamespace:\u001b[0m   Python builtin\n",
       "\u001b[1;31mFile:\u001b[0m        c:\\users\\andrey\\appdata\\local\\programs\\python\\python310\\lib\\_sitebuiltins.py\n",
       "\u001b[1;31mDocstring:\u001b[0m  \n",
       "Define the builtin 'help'.\n",
       "\n",
       "This is a wrapper around pydoc.help that provides a helpful message\n",
       "when 'help' is typed at the Python interactive prompt.\n",
       "\n",
       "Calling help() at the Python prompt starts an interactive help session.\n",
       "Calling help(thing) prints help for the python object 'thing'.\n"
      ]
     },
     "metadata": {},
     "output_type": "display_data"
    }
   ],
   "source": [
    "help?"
   ]
  },
  {
   "cell_type": "code",
   "execution_count": 224,
   "id": "0263cce7-acc9-4b92-9941-9ed1896db68c",
   "metadata": {},
   "outputs": [
    {
     "data": {
      "text/plain": [
       "\u001b[1;31mSignature:\u001b[0m \u001b[0mf\u001b[0m\u001b[1;33m(\u001b[0m\u001b[1;33m)\u001b[0m\u001b[1;33m\u001b[0m\u001b[1;33m\u001b[0m\u001b[0m\n",
       "\u001b[1;31mSource:\u001b[0m   \n",
       "\u001b[1;32mdef\u001b[0m \u001b[0mf\u001b[0m\u001b[1;33m(\u001b[0m\u001b[1;33m)\u001b[0m\u001b[1;33m:\u001b[0m\u001b[1;33m\n",
       "\u001b[0m    \u001b[1;34m\"My function\"\u001b[0m\u001b[1;33m\n",
       "\u001b[0m    \u001b[1;32mreturn\u001b[0m \u001b[1;32mNone\u001b[0m\u001b[1;33m\u001b[0m\u001b[1;33m\u001b[0m\u001b[0m\n",
       "\u001b[1;31mFile:\u001b[0m      c:\\users\\andrey\\appdata\\local\\temp\\ipykernel_4924\\2226375551.py\n",
       "\u001b[1;31mType:\u001b[0m      function\n"
      ]
     },
     "metadata": {},
     "output_type": "display_data"
    }
   ],
   "source": [
    "f??"
   ]
  },
  {
   "cell_type": "markdown",
   "id": "f4f9168a-2747-446c-9547-b840cb5fbf22",
   "metadata": {
    "tags": []
   },
   "source": [
    "# Задание 3. (Выполнение упражнений из книги М. Лутца)"
   ]
  },
  {
   "cell_type": "markdown",
   "id": "95c00a6a-f102-493b-86cb-0511a19da8a4",
   "metadata": {},
   "source": [
    "Выполните упражнения, представленные в [1, с. 340 – 342].\n",
    "\n",
    "Проверьте приобретенные знания, ответив на контрольные вопросы, которые находятся в [1, часть II], в конце каждой из глав 4 – 9. Выполните упражнения 1 – 11, представленные в [1, с. 340 – 342], в отдельной части Вашего документа. Содержимое этой части структурируйте. Выполнение сопровождайте краткими комментариями, располагая их или в ячейках кода, или в ячейках Markdown."
   ]
  },
  {
   "cell_type": "markdown",
   "id": "e2148648-8ed4-4a4e-b947-e0b1d6e9b8d0",
   "metadata": {
    "tags": []
   },
   "source": [
    "# Реалиация задания 3"
   ]
  },
  {
   "cell_type": "code",
   "execution_count": null,
   "id": "ef0f5993-1a90-479e-9df9-67d93842c382",
   "metadata": {},
   "outputs": [],
   "source": []
  }
 ],
 "metadata": {
  "kernelspec": {
   "display_name": "Python 3 (ipykernel)",
   "language": "python",
   "name": "python3"
  },
  "language_info": {
   "codemirror_mode": {
    "name": "ipython",
    "version": 3
   },
   "file_extension": ".py",
   "mimetype": "text/x-python",
   "name": "python",
   "nbconvert_exporter": "python",
   "pygments_lexer": "ipython3",
   "version": "3.10.5"
  }
 },
 "nbformat": 4,
 "nbformat_minor": 5
}
